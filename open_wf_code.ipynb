{
 "cells": [
  {
   "cell_type": "code",
   "execution_count": 14,
   "id": "ada3b9ab-a4ee-44c4-afef-56ae17784c90",
   "metadata": {},
   "outputs": [],
   "source": [
    "import numpy as np\n",
    "import matplotlib.pyplot as plt\n",
    "import pandas as pd\n",
    "import os\n",
    "import re\n",
    "\n",
    "# %matplotlib inline\n",
    "# Turn interactive plotting off\n",
    "# plt.ioff()"
   ]
  },
  {
   "cell_type": "code",
   "execution_count": 17,
   "metadata": {},
   "outputs": [],
   "source": [
    "percorso = os.getcwd()\n",
    "percorso\n",
    "\n",
    "#INPUT and OUTPUT FOLDERS\n",
    "test_dir_path = 'C:\\\\Users\\\\miche\\\\Documents\\\\Università\\\\PhD\\\\test_waveforms\\\\fw'\n",
    "indir_name = \"data_tsv_file\"\n",
    "indir_path = os.path.join(test_dir_path,indir_name)\n",
    "outdir_name = \"images\"\n",
    "outdir_path = os.path.join(test_dir_path,outdir_name)\n",
    "\n",
    "format = '.png'\n",
    "row_to_plot = 7\n",
    "remove_starting_noise = 0\n",
    "highlight_start = 0\n",
    "highlight_end = 0\n",
    "lim = 50\n",
    "\n",
    "### METADATA ###\n",
    "encoding = 'iso8859' #read greek letters             \n",
    "sampling = 50  #sampling frequency in MHz\n",
    "s_period = 1/sampling  \n",
    "length = 50  #acquisition window in microseconds\n",
    "\n",
    "\n",
    "time = np.arange(0,sampling,s_period)\n",
    "\n"
   ]
  },
  {
   "cell_type": "code",
   "execution_count": 21,
   "metadata": {},
   "outputs": [
    {
     "name": "stdout",
     "output_type": "stream",
     "text": [
      "19_21_kn.bscan.tsv\n",
      "[Time Scale]      | offset=0mus | scale=50mus | sample=2500 | sampling=0.02MHz\n",
      "\n"
     ]
    },
    {
     "ename": "IndexError",
     "evalue": "invalid index to scalar variable.",
     "output_type": "error",
     "traceback": [
      "\u001b[1;31m---------------------------------------------------------------------------\u001b[0m",
      "\u001b[1;31mIndexError\u001b[0m                                Traceback (most recent call last)",
      "Cell \u001b[1;32mIn[21], line 43\u001b[0m\n\u001b[0;32m     41\u001b[0m f \u001b[38;5;241m=\u001b[39m plt\u001b[38;5;241m.\u001b[39mfigure(figsize \u001b[38;5;241m=\u001b[39m (\u001b[38;5;241m13\u001b[39m,\u001b[38;5;241m4\u001b[39m))\n\u001b[0;32m     42\u001b[0m plt\u001b[38;5;241m.\u001b[39mtitle(outfile_name, fontsize \u001b[38;5;241m=\u001b[39m \u001b[38;5;241m14\u001b[39m) \n\u001b[1;32m---> 43\u001b[0m plt\u001b[38;5;241m.\u001b[39mplot(time[remove_starting_noise:], \u001b[43mdata\u001b[49m\u001b[43m[\u001b[49m\u001b[43mrow_to_plot\u001b[49m\u001b[43m]\u001b[49m\u001b[43m[\u001b[49m\u001b[43mremove_starting_noise\u001b[49m\u001b[43m:\u001b[49m\u001b[43m]\u001b[49m, color \u001b[38;5;241m=\u001b[39m \u001b[38;5;124m'\u001b[39m\u001b[38;5;124mcornflowerblue\u001b[39m\u001b[38;5;124m'\u001b[39m)\n\u001b[0;32m     44\u001b[0m plt\u001b[38;5;241m.\u001b[39mplot(time[highlight_start:highlight_end], data[row_to_plot][highlight_start:highlight_end], color \u001b[38;5;241m=\u001b[39m \u001b[38;5;124m'\u001b[39m\u001b[38;5;124mred\u001b[39m\u001b[38;5;124m'\u001b[39m)\n\u001b[0;32m     45\u001b[0m plt\u001b[38;5;241m.\u001b[39mxlabel(\u001b[38;5;124m'\u001b[39m\u001b[38;5;124mTime [$\u001b[39m\u001b[38;5;124m\\\u001b[39m\u001b[38;5;124mmu s$]\u001b[39m\u001b[38;5;124m'\u001b[39m, fontsize \u001b[38;5;241m=\u001b[39m \u001b[38;5;241m12\u001b[39m)\n",
      "\u001b[1;31mIndexError\u001b[0m: invalid index to scalar variable."
     ]
    },
    {
     "data": {
      "image/png": "[encoded data removed]",
      "text/plain": [
       "<Figure size 1300x400 with 1 Axes>"
      ]
     },
     "metadata": {},
     "output_type": "display_data"
    }
   ],
   "source": [
    "\n",
    "for infile_name in os.listdir(indir_path):\n",
    "    \n",
    "    print(infile_name)\n",
    "\n",
    "    ### IMPORT DATA ###\n",
    "    file_path = os.path.join(indir_path, infile_name)\n",
    "    # data = pd.read_csv(file_path, encoding = encoding, sep = '\\t', skiprows = 4, header = None).dropna()\n",
    "\n",
    "    with open(file_path,\"rb\") as infile:\n",
    "        general = next(infile).decode(encoding)\n",
    "        amplitude_scale = next(infile).decode(encoding)\n",
    "        time_scale = next(infile).decode(encoding)\n",
    "        print(time_scale)           # check what is going on below\n",
    "        stupid_scale = next(infile).decode(encoding)\n",
    "\n",
    "\n",
    "        # DEFINE TIME SCALE USING METADATA\n",
    "        time_info = re.findall(r\"\\d+\\.*\\d*\",time_scale)   # find all float in the string \"time_scale\" using regular expression:\n",
    "                                                    # the first argument of findall must be a \"regular expression\". It start with an r so\n",
    "                                                    # is an r-string, that means \"\\\" can be read as a normal character\n",
    "                                                    # The regular expression \"\\d+\\.*\\d*\" means \"match all the digits that are adiacent as\n",
    "                                                    # a single entry and, if they are followed by a dot and some other digits, they are still\n",
    "                                                    # the same numbers\". So it gets as a single number both 1, 10, 1.4, 10.42 etc.\n",
    "\n",
    "        time_info = [float(entry) for entry in time_info]           # just convert the needed info in float number\n",
    "        time = np.arange(time_info[0],time_info[1],time_info[3])    \n",
    "\n",
    "\n",
    "        data = np.genfromtxt(file_path, encoding=encoding , skip_header=4)\n",
    "        data = data[~np.isnan(data)]\n",
    "\n",
    "        \n",
    "        # CHOOSE THE FILE PATH OF THE OUTPUT\n",
    "        infile_name = infile_name.split('.')[0]    # remove extension\n",
    "\n",
    "\n",
    "        outfile_name = \"_\".join((\"waveform\",infile_name))\n",
    "        outfile_path = os.path.join(outdir_path, outfile_name)\n",
    "\n",
    "            ### PLOT DATA ###\n",
    "        f = plt.figure(figsize = (13,4))\n",
    "        plt.title(outfile_name, fontsize = 14) \n",
    "        plt.plot(time[remove_starting_noise:], data[row_to_plot][remove_starting_noise:], color = 'cornflowerblue')\n",
    "        plt.plot(time[highlight_start:highlight_end], data[row_to_plot][highlight_start:highlight_end], color = 'red')\n",
    "        plt.xlabel('Time [$\\mu s$]', fontsize = 12)\n",
    "        plt.ylabel('Amplitude [.]', fontsize = 12)\n",
    "        plt.ylim(-lim,lim)\n",
    "        plt.savefig(outfile_path + format, dpi = 300)\n",
    "        plt.close()\n",
    "                    \n",
    "        print(outfile_path)\n",
    "\n",
    "        \n",
    "        "
   ]
  },
  {
   "cell_type": "code",
   "execution_count": null,
   "metadata": {},
   "outputs": [],
   "source": []
  },
  {
   "cell_type": "code",
   "execution_count": null,
   "metadata": {},
   "outputs": [],
   "source": []
  }
 ],
 "metadata": {
  "kernelspec": {
   "display_name": "Python 3 (ipykernel)",
   "language": "python",
   "name": "python3"
  },
  "language_info": {
   "codemirror_mode": {
    "name": "ipython",
    "version": 3
   },
   "file_extension": ".py",
   "mimetype": "text/x-python",
   "name": "python",
   "nbconvert_exporter": "python",
   "pygments_lexer": "ipython3",
   "version": "3.10.9"
  }
 },
 "nbformat": 4,
 "nbformat_minor": 5
}
