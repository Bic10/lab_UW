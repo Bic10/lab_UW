{
 "cells": [
  {
   "cell_type": "code",
   "execution_count": 7,
   "metadata": {},
   "outputs": [],
   "source": [
    "import numpy as np\n",
    "from math import floor, ceil\n",
    "from random import randint, choice\n",
    "from scipy.stats import norm\n",
    "import matplotlib.pyplot as plt\n",
    "import pandas as pd\n",
    "import os\n",
    "import re\n",
    "from tqdm import tqdm\n",
    "from tqdm.autonotebook import tqdm\n",
    "import time as tm\n",
    "import multiprocessing as mp   \n",
    "from LAB_UW_functions import *"
   ]
  },
  {
   "cell_type": "code",
   "execution_count": 8,
   "metadata": {},
   "outputs": [
    {
     "name": "stdout",
     "output_type": "stream",
     "text": [
      "PROCESSING UW DATA IN /home/michele/Desktop/Dottorato/active_source_implementation/experiments_Brava_2/s0108/data_tsv_files/010_run_in_30MPa.bscan.tsv: \n",
      "Plot saved to /home/michele/Desktop/Dottorato/active_source_implementation/experiments_Brava_2/s0108/images/waveforms/010_run_in_30MPa0\n",
      "Plot saved to /home/michele/Desktop/Dottorato/active_source_implementation/experiments_Brava_2/s0108/images/waveforms/010_run_in_30MPa1\n",
      "Plot saved to /home/michele/Desktop/Dottorato/active_source_implementation/experiments_Brava_2/s0108/images/waveforms/010_run_in_30MPa2\n",
      "Plot saved to /home/michele/Desktop/Dottorato/active_source_implementation/experiments_Brava_2/s0108/images/amplitude_maps/010_run_in_30MPa\n",
      "Plot saved to /home/michele/Desktop/Dottorato/active_source_implementation/experiments_Brava_2/s0108/images/amplitude_spectrum_maps/010_run_in_30MPa\n",
      "Plot saved to /home/michele/Desktop/Dottorato/active_source_implementation/experiments_Brava_2/s0108/images/waveforms/010_run_in_30MPa_filtered0\n",
      "Plot saved to /home/michele/Desktop/Dottorato/active_source_implementation/experiments_Brava_2/s0108/images/waveforms/010_run_in_30MPa_filtered1\n",
      "Plot saved to /home/michele/Desktop/Dottorato/active_source_implementation/experiments_Brava_2/s0108/images/waveforms/010_run_in_30MPa_filtered2\n",
      "Plot saved to /home/michele/Desktop/Dottorato/active_source_implementation/experiments_Brava_2/s0108/images/amplitude_maps/010_run_in_30MPa_filtered\n",
      "Plot saved to /home/michele/Desktop/Dottorato/active_source_implementation/experiments_Brava_2/s0108/images/example_of_filtered_spectrum/010_run_in_30MPa\n",
      "Plot saved to /home/michele/Desktop/Dottorato/active_source_implementation/experiments_Brava_2/s0108/images/example_of_filtered_waveform/010_run_in_30MPa\n",
      "--- 14.185018062591553 seconds for processing 010_run_in_30MPa---\n"
     ]
    }
   ],
   "source": [
    "###### INPUT #######\n",
    "\n",
    "machine_name = \"Brava_2\"\n",
    "experiment_name = \"s0108\"\n",
    "data_type = \"data_tsv_files\"\n",
    "\n",
    "### Some plot features ###\n",
    "image_types = (\"waveforms\",\"amplitude_maps\",\"amplitude_spectrum_maps\", \"example_of_filtered_spectrum\",\"example_of_filtered_waveform\")\n",
    "formato = '.png'\n",
    "remove_initial_samples = 200    # number of samples to be removed at the beginning, to get rid of the noise burst.\n",
    "highlight_start = 0\n",
    "highlight_end = 0\n",
    "xlim_plot= 50\n",
    "ticks_steps_waveforms = 2 #[microseconds] plot ticks \n",
    "step_wf_to_plot = 100  # get one waveforms each step_wf_to_plot \n",
    "amp_scale = 300  #color map for amplitude scale\n",
    "freq_cut = 5   # [Hz] lowpass frequency threshold \n",
    "\n",
    "\n",
    "infile_path_list = make_infile_path_list(machine_name,experiment_name,  data_type = data_type)\n",
    "outdir_path_images = make_images_folders(machine_name, experiment_name, image_types)       \n",
    "\n",
    "for infile_path in sorted(infile_path_list):\n",
    "    print('PROCESSING UW DATA IN %s: ' %infile_path)\n",
    "\n",
    "    data,metadata = make_UW_data(infile_path)\n",
    "    data,metadata = remove_starting_noise(data, metadata, remove_initial_samples)\n",
    "\n",
    "    #CHOOSE THE FILE PATH OF THE OUTPUT. Add here a line for each type of images you want and call the relative plot function with the choosen path\n",
    "    outfile_name = os.path.basename(infile_path).split('.')[0]    # remove extension\n",
    "\n",
    "    outfile_path_waveforms = os.path.join(outdir_path_images[0], outfile_name)\n",
    "    outfile_path_amp_map = os.path.join(outdir_path_images[1], outfile_name)\n",
    "    outfile_path_spectrum_map = os.path.join(outdir_path_images[2], outfile_name)\n",
    "    outfile_path_example_filtered_spectrum = os.path.join(outdir_path_images[3], outfile_name)\n",
    "    outfile_path_example_original_vs_filtered = os.path.join(outdir_path_images[4], outfile_name)\n",
    "\n",
    "\n",
    "    ## PLOT DATA ###\n",
    "    start_time = tm.time()\n",
    "    uw_all_plot(data, metadata, step_wf_to_plot, highlight_start, highlight_end, \n",
    "                xlim_plot, ticks_steps_waveforms, outfile_path = outfile_path_waveforms, formato = formato)\n",
    "    amplitude_map(data,metadata, amp_scale, outfile_path=outfile_path_amp_map, formato = formato)\n",
    "\n",
    "    # FILTER WITH A LOWPASS AND PLOT THE AMPLITUDE MAP OF THE SPECTRUM\n",
    "    filtered_data, noise_recostructed = signal2noise_separation_lowpass(data, metadata, freq_cut=freq_cut, outfile_path= outfile_path_spectrum_map, formato=formato )\n",
    "\n",
    "    # PLOT THE FILTERED DATA IN THE SAME FOLDERS OF THE ORIGINAL DATA\n",
    "    uw_all_plot(filtered_data, metadata, step_wf_to_plot, highlight_start, highlight_end, \n",
    "                xlim_plot, ticks_steps_waveforms, outfile_path = outfile_path_waveforms + \"_filtered\", formato = formato)\n",
    "    amplitude_map(filtered_data,metadata, amp_scale,outfile_path = outfile_path_amp_map + \"_filtered\", formato = formato)\n",
    "\n",
    "    wave_chosed = randint(0,metadata['number_of_waveforms'])\n",
    "    single_waveform = data[wave_chosed,:]\n",
    "    filtered_single_waveform, filtered_noise_recostructed = signal2noise_separation_lowpass(single_waveform, metadata, freq_cut=freq_cut, outfile_path=outfile_path_example_filtered_spectrum)\n",
    "    signal_vs_filtered_signal_plot(single_waveform, filtered_single_waveform, metadata, freq_cut=freq_cut, outfile_path = outfile_path_example_original_vs_filtered, )\n",
    "\n",
    "\n",
    "    print(\"--- %s seconds for processing %s---\" % (tm.time() - start_time, outfile_name))\n",
    "\n",
    "        "
   ]
  },
  {
   "cell_type": "code",
   "execution_count": 9,
   "metadata": {},
   "outputs": [],
   "source": [
    "\n",
    "\n"
   ]
  },
  {
   "cell_type": "code",
   "execution_count": 10,
   "metadata": {},
   "outputs": [],
   "source": []
  },
  {
   "cell_type": "code",
   "execution_count": 11,
   "metadata": {},
   "outputs": [
    {
     "data": {
      "text/plain": [
       "['/home/michele/Desktop/Dottorato/active_source_implementation/experiments_Brava_2/s0108/images/waveforms',\n",
       " '/home/michele/Desktop/Dottorato/active_source_implementation/experiments_Brava_2/s0108/images/amplitude_maps',\n",
       " '/home/michele/Desktop/Dottorato/active_source_implementation/experiments_Brava_2/s0108/images/amplitude_spectrum_maps',\n",
       " '/home/michele/Desktop/Dottorato/active_source_implementation/experiments_Brava_2/s0108/images/example_of_filtered_spectrum',\n",
       " '/home/michele/Desktop/Dottorato/active_source_implementation/experiments_Brava_2/s0108/images/example_of_filtered_waveform']"
      ]
     },
     "execution_count": 11,
     "metadata": {},
     "output_type": "execute_result"
    }
   ],
   "source": [
    "outdir_path_images"
   ]
  }
 ],
 "metadata": {
  "kernelspec": {
   "display_name": "friction",
   "language": "python",
   "name": "python3"
  },
  "language_info": {
   "codemirror_mode": {
    "name": "ipython",
    "version": 3
   },
   "file_extension": ".py",
   "mimetype": "text/x-python",
   "name": "python",
   "nbconvert_exporter": "python",
   "pygments_lexer": "ipython3",
   "version": "3.11.3"
  }
 },
 "nbformat": 4,
 "nbformat_minor": 2
}
