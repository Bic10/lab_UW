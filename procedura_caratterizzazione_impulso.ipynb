{
 "cells": [
  {
   "cell_type": "code",
   "execution_count": 4,
   "metadata": {},
   "outputs": [],
   "source": [
    "import numpy as np\n",
    "import matplotlib.pyplot as plt\n",
    "import pandas as pd\n",
    "import os\n",
    "import re\n",
    "from tqdm import tqdm\n",
    "from tqdm.autonotebook import tqdm\n"
   ]
  },
  {
   "cell_type": "code",
   "execution_count": 16,
   "metadata": {},
   "outputs": [
    {
     "data": {
      "application/vnd.jupyter.widget-view+json": {
       "model_id": "5681674a646045809e501033390348fc",
       "version_major": 2,
       "version_minor": 0
      },
      "text/plain": [
       "Opening files:   0%|          | 0/10 [00:00<?, ?it/s]"
      ]
     },
     "metadata": {},
     "output_type": "display_data"
    }
   ],
   "source": [
    "percorso = os.getcwd()\n",
    "percorso\n",
    "\n",
    "#INPUT and OUTPUT FOLDERS\n",
    "test_dir_path = 'C:\\\\Users\\\\miche\\\\Documents\\\\Università\\\\PhD\\\\experiments_uw\\\\s0097\\\\data_tsv' \n",
    "\n",
    "outdir_name = \"images\"\n",
    "outdir_path = os.path.join(test_dir_path,outdir_name)\n",
    "\n",
    "if not os.path.exists(outdir_path):\n",
    "    os.mkdir(outdir_path)    \n",
    "\n",
    "format = '.png'\n",
    "\n",
    "### Some plot features ###\n",
    "row_to_plot = 200  #which waveform to plot\n",
    "remove_starting_noise = 0\n",
    "highlight_start = 0\n",
    "highlight_end = 0\n",
    "ylim_plot = 500\n",
    "ticks_steps = 1 #[microseconds] plot ticks \n",
    "### METADATA ###\n",
    "encoding = 'iso8859' #read greek letters             \n",
    "    \n",
    "for infile_name in tqdm(iterable=os.listdir(test_dir_path), desc='Opening files'):\n",
    "    extension = infile_name.split('.')[-1]\n",
    "    if extension == 'tsv': #DISCARD EUR AND INI FILES\n",
    "        #print(infile_name)\n",
    "        ### IMPORT DATA ###\n",
    "        file_path = os.path.join(test_dir_path, infile_name)\n",
    "        # data = pd.read_csv(file_path, encoding = encoding, sep = '\\t', skiprows = 4, header = None).dropna()\n",
    "        with open(file_path,\"rb\") as infile:\n",
    "            general = next(infile).decode(encoding)\n",
    "            amplitude_scale = next(infile).decode(encoding)\n",
    "            time_scale = next(infile).decode(encoding)\n",
    "           #  print(time_scale)           # check what is going on below\n",
    "            stupid_scale = next(infile).decode(encoding)\n",
    "            # DEFINE TIME SCALE USING METADATA\n",
    "            time_info = re.findall(r\"\\d+\\.*\\d*\",time_scale)   # find all float in the string \"time_scale\" using regular expression:\n",
    "                                                        # the first argument of findall must be a \"regular expression\". It start with an r so\n",
    "                                                        # is an r-string, that means \"\\\" can be read as a normal character\n",
    "                                                        # The regular expression \"\\d+\\.*\\d*\" means \"match all the digits that are adiacent as\n",
    "                                                        # a single entry and, if they are followed by a dot and some other digits, they are still\n",
    "                                                        # the same numbers\". So it gets as a single number both 1, 10, 1.4, 10.42 etc.\n",
    "            time_info = [float(entry) for entry in time_info]           # just convert the needed info in float number\n",
    "            time = np.arange(time_info[0],time_info[1],time_info[3])\n",
    "            number_of_samples = time_info[2]\n",
    "            time_ticks = np.arange(time[0], time[-1], ticks_steps)\n",
    "            \n",
    "            ### HANDLING EMPTY LINES###\n",
    "            data_list = []             \n",
    "            for line in infile:\n",
    "                line = line.decode(encoding)\n",
    "                line = line.split(\"\\t\")\n",
    "                if len(line) < number_of_samples:   #The empty lines are surely shorter than wf lines (determined by the number of samples)\n",
    "                    continue\n",
    "                data_list.append(line)\n",
    "            \n",
    "            data = np.array(data_list).astype(float)  #convert list in array\n",
    "                \n",
    "            \n",
    "            #CHOOSE THE FILE PATH OF THE OUTPUT\n",
    "            infile_name = infile_name.split('.')[0]    # remove extension\n",
    "            outfile_name = \"_\".join((\"waveform\",infile_name))\n",
    "            outfile_path = os.path.join(outdir_path, outfile_name)\n",
    "                ### PLOT DATA ###\n",
    "            try:\n",
    "                f = plt.figure(figsize = (13,4))\n",
    "                plt.title(outfile_name, fontsize = 14) \n",
    "                \n",
    "                for wf in range (0,len(data), 10):\n",
    "                    plt.plot(time[remove_starting_noise:], data[wf][remove_starting_noise:], color = 'black', linewidth = 0.8, alpha = 0.5)\n",
    "                plt.plot(time[highlight_start:highlight_end], data[wf][highlight_start:highlight_end], color = 'red')\n",
    "                plt.xlabel('Time [$\\mu s$]', fontsize = 12)\n",
    "                plt.ylabel('Amplitude [.]', fontsize = 12)\n",
    "                plt.xticks(time_ticks)\n",
    "                plt.ylim(-ylim_plot,ylim_plot)\n",
    "                plt.xlim(time[0], 20)\n",
    "                plt.grid(alpha = 0.1)\n",
    "                plt.savefig(outfile_path + format, dpi = 300)\n",
    "                plt.close()\n",
    "                #print(outfile_path)\n",
    "            except:\n",
    "                print(infile_name + \"diocane\")"
   ]
  },
  {
   "cell_type": "code",
   "execution_count": 33,
   "metadata": {},
   "outputs": [],
   "source": [
    "%matplotlib qt\n",
    "\n",
    "f = plt.figure(figsize = (12,8))\n",
    "\n",
    "for wf in range (0,len(data),10): \n",
    "    plt.plot(time, data[wf], c = 'k', linewidth = 0.9, alpha = 0.8)"
   ]
  },
  {
   "cell_type": "code",
   "execution_count": 24,
   "metadata": {},
   "outputs": [
    {
     "data": {
      "text/plain": [
       "2581"
      ]
     },
     "execution_count": 24,
     "metadata": {},
     "output_type": "execute_result"
    }
   ],
   "source": [
    "len(data)"
   ]
  }
 ],
 "metadata": {
  "kernelspec": {
   "display_name": "friction",
   "language": "python",
   "name": "python3"
  },
  "language_info": {
   "codemirror_mode": {
    "name": "ipython",
    "version": 3
   },
   "file_extension": ".py",
   "mimetype": "text/x-python",
   "name": "python",
   "nbconvert_exporter": "python",
   "pygments_lexer": "ipython3",
   "version": "3.11.3"
  }
 },
 "nbformat": 4,
 "nbformat_minor": 2
}
