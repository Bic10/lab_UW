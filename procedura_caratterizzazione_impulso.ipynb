{
 "cells": [
  {
   "cell_type": "code",
   "execution_count": 16,
   "metadata": {},
   "outputs": [
    {
     "name": "stderr",
     "output_type": "stream",
     "text": [
      "/tmp/ipykernel_52461/2021721994.py:7: TqdmExperimentalWarning: Using `tqdm.autonotebook.tqdm` in notebook mode. Use `tqdm.tqdm` instead to force console mode (e.g. in jupyter console)\n",
      "  from tqdm.autonotebook import tqdm\n"
     ]
    }
   ],
   "source": [
    "import numpy as np\n",
    "import matplotlib.pyplot as plt\n",
    "import pandas as pd\n",
    "import os\n",
    "import re\n",
    "from tqdm import tqdm\n",
    "from tqdm.autonotebook import tqdm\n"
   ]
  },
  {
   "cell_type": "markdown",
   "metadata": {},
   "source": [
    "### Functions ###"
   ]
  },
  {
   "cell_type": "code",
   "execution_count": 17,
   "metadata": {},
   "outputs": [],
   "source": [
    "def stacking_uw_plot(outfile_path: str, data: np.ndarray, step_wf_to_plot, time, remove_starting_noise, highlight_start, highlight_end, time_ticks_waveforms, ylim_plot, xlim_plot, formato):\n",
    "    outfile_name = outfile_path.split('\\\\')[-1]\n",
    "    f = plt.figure(figsize = (13,4))\n",
    "    plt.title(\"Stacked Waveforms of \" + outfile_name, fontsize = 12)\n",
    "    for wf in range(0,len(data), step_wf_to_plot):\n",
    "        plt.plot(time[remove_starting_noise:], data[wf][remove_starting_noise:], color = 'black', linewidth = 0.8, alpha = 0.5)\n",
    "    plt.plot(time[highlight_start:highlight_end], data[wf][highlight_start:highlight_end], color = 'red')\n",
    "    plt.xlabel('Time [$\\mu s$]', fontsize = 12)\n",
    "    plt.ylabel('Amplitude [.]', fontsize = 12)\n",
    "    plt.xticks(time_ticks_waveforms)\n",
    "    plt.ylim(-ylim_plot,ylim_plot)\n",
    "    plt.xlim(time[0], xlim_plot)\n",
    "    plt.grid(alpha = 0.1)\n",
    "    plt.savefig(outfile_path + formato, dpi = 300)\n",
    "    plt.close()\n",
    "    #print(outfile_path)\n",
    "    \n",
    "def amplitude_map(outfile_path,data, amp_scale, formato) -> None:\n",
    "    outfile_name = outfile_path.split('\\\\')[-1]\n",
    "    fig,ax1 = plt.subplots(ncols=2,figsize=(15,8))\n",
    "    ax1 = plt.subplot()\n",
    "    ax1.set_title('Amplitude Map of ' + outfile_name, fontsize = 12)\n",
    "    cmap = plt.get_cmap('seismic')\n",
    "    im = ax1.imshow(data, aspect='auto',origin='upper',interpolation='none',cmap = cmap, vmin = -amp_scale, vmax = amp_scale)\n",
    "    \n",
    "    cbar= fig.colorbar(im,pad=0.04)\n",
    "    cbar.set_label(\"Relative Amplitude\", fontsize = 14)\n",
    "\n",
    "    ax1.set_xlabel('Wf_time [$\\mu s$]', fontsize = 12)\n",
    "    ax1.set_ylabel('Wf_number ', fontsize = 12)\n",
    "    ax1.set_xscale\n",
    "\n",
    "    fig.tight_layout()\n",
    "    \n",
    "    plt.savefig(outfile_path + formato, dpi = 300)\n",
    "    plt.close()\n",
    "    \n",
    "def handling_empty_lines(infile, encoding, number_of_samples) -> list[list[str]]:\n",
    "    data_list = []             \n",
    "    for line in infile:\n",
    "        line = line.decode(encoding)\n",
    "        line = line.split(\"\\t\")\n",
    "        if len(line) < number_of_samples:   #The empty lines are surely shorter than wf lines (determined by the number of samples)\n",
    "            continue\n",
    "        data_list.append(line)\n",
    "    return data_list"
   ]
  },
  {
   "cell_type": "markdown",
   "metadata": {},
   "source": [
    "### Main code ###"
   ]
  },
  {
   "cell_type": "code",
   "execution_count": 21,
   "metadata": {},
   "outputs": [
    {
     "ename": "FileNotFoundError",
     "evalue": "[Errno 2] No such file or directory: '/home/michele/Desktop/Dottorato/active_source_implementation/experiments_Brava_2/s0097/data_tsv_files'",
     "output_type": "error",
     "traceback": [
      "\u001b[0;31m---------------------------------------------------------------------------\u001b[0m",
      "\u001b[0;31mFileNotFoundError\u001b[0m                         Traceback (most recent call last)",
      "\u001b[1;32m/home/michele/Desktop/Dottorato/active_source_implementation/lab_UW/procedura_caratterizzazione_impulso.ipynb Cell 5\u001b[0m line \u001b[0;36m3\n\u001b[1;32m     <a href='vscode-notebook-cell:/home/michele/Desktop/Dottorato/active_source_implementation/lab_UW/procedura_caratterizzazione_impulso.ipynb#W4sZmlsZQ%3D%3D?line=33'>34</a>\u001b[0m \u001b[39m### METADATA ###\u001b[39;00m\n\u001b[1;32m     <a href='vscode-notebook-cell:/home/michele/Desktop/Dottorato/active_source_implementation/lab_UW/procedura_caratterizzazione_impulso.ipynb#W4sZmlsZQ%3D%3D?line=34'>35</a>\u001b[0m encoding \u001b[39m=\u001b[39m \u001b[39m'\u001b[39m\u001b[39miso8859\u001b[39m\u001b[39m'\u001b[39m \u001b[39m#read greek letters             \u001b[39;00m\n\u001b[0;32m---> <a href='vscode-notebook-cell:/home/michele/Desktop/Dottorato/active_source_implementation/lab_UW/procedura_caratterizzazione_impulso.ipynb#W4sZmlsZQ%3D%3D?line=36'>37</a>\u001b[0m \u001b[39mfor\u001b[39;00m infile_name \u001b[39min\u001b[39;00m tqdm(iterable\u001b[39m=\u001b[39mos\u001b[39m.\u001b[39;49mlistdir(indir_path), desc\u001b[39m=\u001b[39m\u001b[39m'\u001b[39m\u001b[39mOpening files\u001b[39m\u001b[39m'\u001b[39m):\n\u001b[1;32m     <a href='vscode-notebook-cell:/home/michele/Desktop/Dottorato/active_source_implementation/lab_UW/procedura_caratterizzazione_impulso.ipynb#W4sZmlsZQ%3D%3D?line=37'>38</a>\u001b[0m \n\u001b[1;32m     <a href='vscode-notebook-cell:/home/michele/Desktop/Dottorato/active_source_implementation/lab_UW/procedura_caratterizzazione_impulso.ipynb#W4sZmlsZQ%3D%3D?line=38'>39</a>\u001b[0m     \u001b[39m### IMPORT DATA ###\u001b[39;00m\n\u001b[1;32m     <a href='vscode-notebook-cell:/home/michele/Desktop/Dottorato/active_source_implementation/lab_UW/procedura_caratterizzazione_impulso.ipynb#W4sZmlsZQ%3D%3D?line=39'>40</a>\u001b[0m     file_path \u001b[39m=\u001b[39m os\u001b[39m.\u001b[39mpath\u001b[39m.\u001b[39mjoin(indir_path, infile_name)\n\u001b[1;32m     <a href='vscode-notebook-cell:/home/michele/Desktop/Dottorato/active_source_implementation/lab_UW/procedura_caratterizzazione_impulso.ipynb#W4sZmlsZQ%3D%3D?line=40'>41</a>\u001b[0m     \u001b[39m# data = pd.read_csv(file_path, encoding = encoding, sep = '\\t', skiprows = 4, header = None).dropna()\u001b[39;00m\n",
      "\u001b[0;31mFileNotFoundError\u001b[0m: [Errno 2] No such file or directory: '/home/michele/Desktop/Dottorato/active_source_implementation/experiments_Brava_2/s0097/data_tsv_files'"
     ]
    }
   ],
   "source": [
    "#INPUT and OUTPUT FOLDERS: we must decide code-to-data relative path\n",
    "\n",
    "machine_name = \"Brava_2\"\n",
    "experiment_name = \"s0097\"\n",
    "outdir_name = \"images\"\n",
    "outdir_waveforms_plot = \"waveforms\"\n",
    "outdir_amplitude_plot = \"amplitude_maps\"\n",
    "\n",
    "code_path = os.getcwd()\n",
    "parent_folder = os.path.abspath(os.path.join(os.getcwd(), os.pardir))\n",
    "indir_path = os.path.join(parent_folder,\"experiments_\"+ machine_name, experiment_name, \"data_tsv_files\")\n",
    "outdir_path = indir_path.replace(\"data_tsv_files\",outdir_name)\n",
    "outdir_path_waveforms = os.path.join(outdir_path, outdir_waveforms_plot)\n",
    "outdir_path_amplitude = os.path.join(outdir_path, outdir_amplitude_plot)\n",
    "\n",
    "\n",
    "if not (os.path.exists(outdir_path_waveforms) or os.path.exists(outdir_path_amplitude)):\n",
    "    os.makedirs(outdir_path_waveforms)\n",
    "    os.makedirs(outdir_path_amplitude)    \n",
    "\n",
    "\n",
    "### Some plot features ###\n",
    "formato = '.png'\n",
    "row_to_plot = 200  #which waveform to plot\n",
    "remove_starting_noise = 0\n",
    "highlight_start = 0\n",
    "highlight_end = 0\n",
    "ylim_plot = 500\n",
    "xlim_plot= 20\n",
    "ticks_steps_waveforms = 1 #[microseconds] plot ticks \n",
    "step_wf_to_plot = 10  #more waveforms on the same plot\n",
    "amp_scale = 300  #color map for amplitude scale\n",
    "\n",
    "### METADATA ###\n",
    "encoding = 'iso8859' #read greek letters             \n",
    "    \n",
    "for infile_name in tqdm(iterable=os.listdir(indir_path), desc='Opening files'):\n",
    "\n",
    "    ### IMPORT DATA ###\n",
    "    file_path = os.path.join(indir_path, infile_name)\n",
    "    # data = pd.read_csv(file_path, encoding = encoding, sep = '\\t', skiprows = 4, header = None).dropna()\n",
    "    with open(file_path,\"rb\") as infile:\n",
    "        general = next(infile).decode(encoding)\n",
    "        amplitude_scale = next(infile).decode(encoding)\n",
    "        time_scale = next(infile).decode(encoding)\n",
    "        #  print(time_scale)           # check what is going on below\n",
    "        stupid_scale = next(infile).decode(encoding)\n",
    "        # DEFINE TIME SCALE USING METADATA\n",
    "        time_info = re.findall(r\"\\d+\\.*\\d*\",time_scale)   # find all float in the string \"time_scale\" using regular expression:\n",
    "                                                    # the first argument of findall must be a \"regular expression\". It start with an r so\n",
    "                                                    # is an r-string, that means \"\\\" can be read as a normal character\n",
    "                                                    # The regular expression \"\\d+\\.*\\d*\" means \"match all the digits that are adiacent as\n",
    "                                                    # a single entry and, if they are followed by a dot and some other digits, they are still\n",
    "                                                    # the same numbers\". So it gets as a single number both 1, 10, 1.4, 10.42 etc.\n",
    "        time_info = [float(entry) for entry in time_info]           # just convert the needed info in float number\n",
    "        time = np.arange(time_info[0],time_info[1],time_info[3])\n",
    "        number_of_samples = time_info[2]\n",
    "        time_ticks_waveforms = np.arange(time[0], time[-1], ticks_steps_waveforms)\n",
    "        \n",
    "        data_list = handling_empty_lines(infile, encoding, number_of_samples)\n",
    "        \n",
    "        data = np.array(data_list).astype(float)  #convert list in array\n",
    "            \n",
    "        \n",
    "        #CHOOSE THE FILE PATH OF THE OUTPUT\n",
    "        infile_name = infile_name.split('.')[0]    # remove extension\n",
    "        outfile_path_waveforms = os.path.join(outdir_path_waveforms, infile_name)\n",
    "        outfile_path_amplitude = os.path.join(outdir_path_amplitude, infile_name)\n",
    "\n",
    "            ### PLOT DATA ###\n",
    "        # stacking_uw_plot(outfile_path_waveforms, data, step_wf_to_plot, time, remove_starting_noise, highlight_start, highlight_end, time_ticks_waveforms, ylim_plot, xlim_plot, formato)\n",
    "        # amplitude_map(outfile_path_amplitude,data, amp_scale, formato)\n",
    "        try:\n",
    "            stacking_uw_plot(outfile_path_waveforms, data, step_wf_to_plot, time, remove_starting_noise, highlight_start, highlight_end, time_ticks_waveforms, ylim_plot, xlim_plot, formato)\n",
    "            amplitude_map(outfile_path_amplitude,data, amp_scale, formato)\n",
    "        except:\n",
    "            print(infile_name + \"diocane\")"
   ]
  },
  {
   "cell_type": "code",
   "execution_count": 19,
   "metadata": {},
   "outputs": [
    {
     "data": {
      "text/plain": [
       "'/home/michele/Desktop/Dottorato/active_source_implementation'"
      ]
     },
     "execution_count": 19,
     "metadata": {},
     "output_type": "execute_result"
    }
   ],
   "source": [
    "os.path.abspath(os.path.join(os.getcwd(), os.pardir))\n"
   ]
  }
 ],
 "metadata": {
  "kernelspec": {
   "display_name": "friction",
   "language": "python",
   "name": "python3"
  },
  "language_info": {
   "codemirror_mode": {
    "name": "ipython",
    "version": 3
   },
   "file_extension": ".py",
   "mimetype": "text/x-python",
   "name": "python",
   "nbconvert_exporter": "python",
   "pygments_lexer": "ipython3",
   "version": "3.11.3"
  }
 },
 "nbformat": 4,
 "nbformat_minor": 2
}
