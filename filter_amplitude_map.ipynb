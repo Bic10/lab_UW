{
 "cells": [
  {
   "cell_type": "code",
   "execution_count": 1,
   "metadata": {},
   "outputs": [],
   "source": [
    "import pandas as pd\n",
    "import numpy as np\n",
    "import matplotlib.pyplot as plt"
   ]
  },
  {
   "cell_type": "markdown",
   "metadata": {},
   "source": [
    "### Import mechanical data ###"
   ]
  },
  {
   "cell_type": "code",
   "execution_count": 2,
   "metadata": {},
   "outputs": [],
   "source": [
    "data = pd.read_csv('s0068sa03cal5_data_rp', skiprows = [1], sep = '\\t') "
   ]
  },
  {
   "cell_type": "markdown",
   "metadata": {},
   "source": [
    "### Plot mechanical data vs sync ###"
   ]
  },
  {
   "cell_type": "code",
   "execution_count": 4,
   "metadata": {},
   "outputs": [],
   "source": [
    "%matplotlib qt\n",
    "\n",
    "\n",
    "### SETUP FIGURE ###\n",
    "fig, ax = plt.subplots(figsize = (17,8))\n",
    "fig.subplots_adjust(right=0.7)\n",
    "\n",
    "ax.set_title('exp. s0068sa03cal5', fontsize = 16)\n",
    "\n",
    "twin1 = ax.twinx()\n",
    "twin2 = ax.twinx()\n",
    "\n",
    "twin2.spines.right.set_position((\"axes\", 1.1))\n",
    "\n",
    "\n",
    "### PLOT Normal stress, H-displacement and trigger sync (Arduino pulses) ###\n",
    "\n",
    "p1, = ax.plot(data.records_na[4400:444000],data.normal_stress_MPa[4400:444000], c = 'cornflowerblue')\n",
    "p2, = twin1.plot(data.records_na[4400:444000],-data.lt_ec_mm1[4400:444000], c = 'firebrick')\n",
    "p3, = twin2.plot(data.records_na[4400:444000],data.sync[4400:444000], c = 'grey')\n",
    "\n",
    "ax.set_xlabel(\"Time [s]\", fontsize = 14)\n",
    "ax.set_ylabel(\"Normal stress [MPa]\", fontsize = 14)\n",
    "twin1.set_ylabel('H-displacement [mm]', fontsize = 14)\n",
    "twin2.set_ylabel('Trigger sync [V]', fontsize = 14)\n",
    "\n",
    "ax.yaxis.label.set_color(p1.get_color())\n",
    "twin1.yaxis.label.set_color(p2.get_color())\n",
    "twin2.yaxis.label.set_color(p3.get_color())\n",
    "\n",
    "tkw = dict(size=4, width=1.5)\n",
    "ax.tick_params(axis='y', colors=p1.get_color(), **tkw)\n",
    "twin1.tick_params(axis='y', colors=p2.get_color(), **tkw)\n",
    "twin2.tick_params(axis='y', colors=p3.get_color(), **tkw)\n",
    "ax.tick_params(axis='x', **tkw)\n",
    "\n",
    "#plt.savefig('ns_sync_test.pdf', dpi = 300)\n",
    "plt.show();\n",
    "\n"
   ]
  },
  {
   "cell_type": "code",
   "execution_count": 2,
   "metadata": {},
   "outputs": [],
   "source": [
    "data_w = pd.read_csv('C:\\\\Users\\\\miche\\\\Documents\\\\Università\\\\PhD\\\\test_waveforms\\\\fw\\\\data_tsv_file\\\\27_25_kn.bscan.tsv', encoding = 'iso8859', sep = '\\t', skiprows = 4, header = None).dropna()\n"
   ]
  },
  {
   "cell_type": "code",
   "execution_count": 8,
   "metadata": {},
   "outputs": [
    {
     "name": "stderr",
     "output_type": "stream",
     "text": [
      "C:\\Users\\miche\\AppData\\Local\\Temp\\ipykernel_9056\\1831881189.py:37: ComplexWarning: Casting complex values to real discards the imaginary part\n",
      "  filtered_data_w[wf_number, :] = filtered_signal\n",
      "c:\\Users\\miche\\anaconda3\\envs\\friction\\Lib\\site-packages\\matplotlib\\cbook\\__init__.py:1335: ComplexWarning: Casting complex values to real discards the imaginary part\n",
      "  return np.asarray(x, float)\n"
     ]
    },
    {
     "data": {
      "text/plain": [
       "[<matplotlib.lines.Line2D at 0x251500c46d0>]"
      ]
     },
     "execution_count": 8,
     "metadata": {},
     "output_type": "execute_result"
    }
   ],
   "source": [
    "%matplotlib qt\n",
    "\n",
    "winlen = 1000\n",
    "noise_cut = 200\n",
    "wf_number = 5\n",
    "fs = 50\n",
    "time_length = 50\n",
    "time = np.arange(0, time_length, 1/fs)\n",
    "\n",
    "filtered_data_w = np.zeros((len(data_w), len(time)-noise_cut))\n",
    "\n",
    "for wf_number in range(0,len(data_w)):\n",
    "    data_w_cut = data_w.iloc[wf_number][noise_cut:]\n",
    "    time_length = time[noise_cut:]\n",
    "\n",
    "    amp_spectrum = np.abs(np.fft.fft(data_w_cut))\n",
    "    phase_spectrum = np.angle(np.fft.fft(data_w_cut))\n",
    "\n",
    "\n",
    "    signal_freqs = np.fft.fftfreq(len(amp_spectrum), 1 / fs)\n",
    "    pos_freq = signal_freqs > 0\n",
    "\n",
    "    spectrum_han = np.hanning(winlen)\n",
    "    spectrum_han_start = spectrum_han[round(winlen/2):]\n",
    "    spectrum_han_end = spectrum_han[:round(winlen/2)]\n",
    "\n",
    "\n",
    "    filter = np.zeros(len(amp_spectrum))\n",
    "    filter[0:len(spectrum_han_start)] = spectrum_han_start\n",
    "    filter[len(amp_spectrum)-len(spectrum_han_end):] = spectrum_han_end\n",
    "\n",
    "    filtered_amp_spectrum = filter * amp_spectrum\n",
    "\n",
    "    filtered_fourier = filtered_amp_spectrum*np.exp(1j*phase_spectrum)\n",
    "    filtered_signal = (np.fft.ifft(filtered_fourier))\n",
    "\n",
    "    filtered_data_w[wf_number, :] = filtered_signal\n",
    "\n",
    "\n",
    "\n",
    "#plt.plot(time_length, data_w_cut)\n",
    "\n",
    "\n",
    "#plt.plot(time_length, filtered_signal)\n",
    "\n",
    "#plt.plot(filter)\n",
    "#plt.plot(spectrum_han_start)\n",
    "#plt.plot(spectrum_han_end)\n",
    "\n",
    "\n",
    "\n",
    "#plt.plot(signal_freqs, spectrum, marker = 'o')"
   ]
  },
  {
   "cell_type": "code",
   "execution_count": 4,
   "metadata": {},
   "outputs": [],
   "source": [
    "conc = np.concatenate((np.arange(0,50), np.arange(15000,15050)))"
   ]
  },
  {
   "cell_type": "code",
   "execution_count": 9,
   "metadata": {},
   "outputs": [
    {
     "name": "stderr",
     "output_type": "stream",
     "text": [
      "C:\\Users\\miche\\AppData\\Local\\Temp\\ipykernel_9056\\248298553.py:2: MatplotlibDeprecationWarning: Auto-removal of overlapping axes is deprecated since 3.6 and will be removed two minor releases later; explicitly call ax.remove() as needed.\n",
      "  ax1 = plt.subplot()\n"
     ]
    }
   ],
   "source": [
    "fig,ax1 = plt.subplots(ncols=2,figsize=(15,8))\n",
    "ax1 = plt.subplot()\n",
    "cmap = plt.get_cmap('seismic')\n",
    "im = ax1.imshow(filtered_data_w[conc], aspect='auto',origin='upper',interpolation='none',cmap = cmap, extent=[0, 50,100,0])\n",
    "\n",
    "cbar= fig.colorbar(im,pad=0.1)\n",
    "cbar.set_label(\"Relative Amplitude\", fontsize = 14)\n",
    "\n",
    "ax1.set_xlabel('Wf_time [$\\mu s$]', fontsize = 12)\n",
    "ax1.set_ylabel('Wf_number [$\\mu s$]', fontsize = 12)\n",
    "\n",
    "\n",
    "\n",
    "fig.tight_layout()"
   ]
  },
  {
   "cell_type": "code",
   "execution_count": null,
   "metadata": {},
   "outputs": [],
   "source": []
  }
 ],
 "metadata": {
  "kernelspec": {
   "display_name": "friction",
   "language": "python",
   "name": "python3"
  },
  "language_info": {
   "codemirror_mode": {
    "name": "ipython",
    "version": 3
   },
   "file_extension": ".py",
   "mimetype": "text/x-python",
   "name": "python",
   "nbconvert_exporter": "python",
   "pygments_lexer": "ipython3",
   "version": "3.11.3"
  }
 },
 "nbformat": 4,
 "nbformat_minor": 2
}
