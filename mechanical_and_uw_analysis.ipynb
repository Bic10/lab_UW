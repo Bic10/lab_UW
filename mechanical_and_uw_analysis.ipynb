{
 "cells": [
  {
   "cell_type": "code",
   "execution_count": 1,
   "metadata": {},
   "outputs": [],
   "source": [
    "import numpy as np\n",
    "import matplotlib.pyplot as plt\n",
    "import pandas as pd\n",
    "from LAB_UW_functions import *\n",
    "from scipy.signal import find_peaks\n",
    "import os\n",
    "import glob\n",
    "import json"
   ]
  },
  {
   "cell_type": "code",
   "execution_count": 2,
   "metadata": {},
   "outputs": [],
   "source": [
    "\n",
    "def find_mechanical_data(file_path_list, pattern):\n",
    "    \"\"\"\n",
    "    Trova un file specifico all'interno di una lista di percorsi dei file utilizzando un pattern.\n",
    "    \n",
    "    Args:\n",
    "        file_path_list (list): Lista di percorsi dei file in cui cercare il file.\n",
    "        pattern (str): Pattern per il nome del file da cercare.\n",
    "    \n",
    "    Returns:\n",
    "        str: Percorso completo del file trovato, o None se non viene trovato nessun file corrispondente.\n",
    "    \"\"\"\n",
    "    for file_path in file_path_list:\n",
    "        if glob.fnmatch.fnmatch(file_path, pattern):\n",
    "            print(\"MECHANICAL DATA CHOOSE:\", file_path)\n",
    "            return file_path\n",
    "    return None  # Nessun file trovato nella lista\n",
    "    \n",
    "\n",
    "def find_sync_values(mech_data_path):\n",
    "    \"\"\"\n",
    "    Trova i valori di picco sincronizzazione all'interno di un file di dati meccanici.\n",
    "\n",
    "    Questa funzione legge un file CSV contenente dati meccanici, estrae la colonna\n",
    "    relativa alla sincronizzazione e individua i picchi di sincronizzazione in base\n",
    "    ai parametri specificati.\n",
    "\n",
    "    Args:\n",
    "        mech_data_path (str): Percorso del file CSV contenente i dati meccanici.\n",
    "\n",
    "    Returns:\n",
    "        numpy.ndarray: Un array NumPy contenente gli indici dei picchi di sincronizzazione\n",
    "                       trovati nei dati meccanici.\n",
    "    \"\"\"\n",
    "    mech_data = pd.read_csv(mech_data_path, sep=',', skiprows=[1])\n",
    "    sync_data = mech_data.sync\n",
    "    \n",
    "    # Trova i picchi di sincronizzazione nei dati sincronizzazione\n",
    "    sync_peaks, _ = find_peaks(sync_data, prominence=4.2, height=4)\n",
    "    print(sync_peaks)\n",
    "    return mech_data, sync_data, sync_peaks\n",
    "\n",
    "def plot_sync_peaks(sync_data, sync_peaks, experiment_name):\n",
    "    \"\"\"\n",
    "    Visualizza i picchi di sincronizzazione su un grafico dei dati di sincronizzazione.\n",
    "\n",
    "    Questa funzione prende i dati di sincronizzazione e gli indici dei picchi di sincronizzazione,\n",
    "    quindi crea un grafico per visualizzare sia i dati di sincronizzazione che i picchi di sincronizzazione\n",
    "    evidenziati in rosso.\n",
    "\n",
    "    Args:\n",
    "        sync_data (numpy.ndarray): Array NumPy contenente i dati di sincronizzazione.\n",
    "        sync_peaks (numpy.ndarray): Array NumPy contenente gli indici dei picchi di sincronizzazione.\n",
    "        experiment_name (str): Nome dell'esperimento o della prova da visualizzare nel titolo del grafico.\n",
    "    \"\"\"\n",
    "    %matplotlib inline\n",
    "    \n",
    "    plt.figure(figsize=(10, 4))\n",
    "    plt.title(f'Sync Peaks {experiment_name}')\n",
    "    \n",
    "\n",
    "    # Plot dei picchi di sincronizzazione evidenziati in rosso\n",
    "    plt.scatter(np.arange(0, len(sync_data))[sync_peaks], sync_data[sync_peaks], c='r', s = 10, zorder = 2, alpha = 0.8)\n",
    "    \n",
    "    # Plot dei dati di sincronizzazione\n",
    "    plt.plot(sync_data, zorder = 1, c = 'k', linewidth = 0.8)\n",
    "    \n",
    "    plt.ylabel('Arduino voltage [V]', fontsize=12)\n",
    "    plt.xlabel('records #', fontsize=12)\n",
    "    \n",
    "    plt.show()\n",
    "    \n",
    "\n",
    "def save_sync_values(machine_name, experiment_name, data_type, sync_peaks):\n",
    "    \"\"\"\n",
    "    Save synchronization peak values into a text file.\n",
    "\n",
    "    This function takes synchronization peak values and saves them into a text file\n",
    "    specified in the experiments directory.\n",
    "\n",
    "    Args:\n",
    "        machine_name (str): Name of the machine or device.\n",
    "        experiment_name (str): Name of the experiment or trial.\n",
    "        data_type (str): Type of data (e.g., \"mechanical_data\").\n",
    "        sync_peaks (numpy.ndarray): NumPy array containing the indices of synchronization peaks.\n",
    "    \"\"\"\n",
    "    code_path = os.getcwd()\n",
    "    parent_folder = os.path.abspath(os.path.join(code_path, os.pardir))\n",
    "    outdir_path = os.path.join(parent_folder, \"experiments_\" + machine_name, experiment_name, data_type)\n",
    "    outfile_name = 'sync_peaks.txt'\n",
    "    outfile_path = os.path.join(outdir_path, outfile_name)\n",
    "    \n",
    "    # Save synchronization peak values into the text file\n",
    "    np.savetxt(outfile_path, sync_peaks)\n",
    "    \n",
    "    # Print a confirmation message\n",
    "    print(f'Saving synchronization peaks of {experiment_name} at: {outfile_path}')\n",
    "    \n",
    "def extract_layer_thickness(sync_peaks, mech_data, infile_path_list_uw):\n",
    "    for sync_rec, uw_path in zip(range (0, len(sync_peaks), 2), infile_path_list_uw):\n",
    "        gouge_1_lt = mech_data.rgt_lt_mm[sync_peaks[sync_rec]:sync_peaks[sync_rec+1]]\n",
    "        gouge_2_lt = mech_data.rgt_lt_mm[sync_peaks[sync_rec]:sync_peaks[sync_rec+1]]\n",
    "    \n",
    "    return gouge_1_lt, gouge_2_lt\n",
    "\n",
    "def load_waveform_json(infile_path):\n",
    "    '''\n",
    "    # given an infile path, load data and metadata that have been serialized to be stored in a json file\n",
    "    # such file could be the basis of all our data analysis files\n",
    "    '''\n",
    "    with open(infile_path, \"r\") as json_file:\n",
    "        data_dict = json.load(json_file)\n",
    "\n",
    "    # Retrieve metadata and data from the loaded dictionary\n",
    "    data = np.array(data_dict[\"data\"])\n",
    "    metadata = data_dict[\"metadata\"]\n",
    "\n",
    "    return data,metadata\n",
    "\n",
    "def compute_max_and_min_travel_time(side_block_1, x_transmitter, c_steel, gouge_1, c_min, c_max, central_block):\n",
    "    \"\"\"\n",
    "    Compute the maximum and minimum travel times for a signal transmitted through the sample assembly (DDS).\n",
    "\n",
    "    Parameters:\n",
    "        side_block_1 (float): Thickness of the side blocks used in the DDS configuration in [cm]\n",
    "        x_transmitter (float): thickness of the trasnmitter PZT [cm]\n",
    "        c_steel (float): Speed of wave propagation in steel (units: distance per time).\n",
    "        gouge_1 (float): The thickness of the gouge layer.\n",
    "        c_min (float): Minimum speed of signal propagation in the gouge layer.\n",
    "        c_max (float): Maximum speed of signal propagation in the gouge layer.\n",
    "        central_block (float): The thickness of the central block.\n",
    "\n",
    "    Returns:\n",
    "        tuple: A tuple containing the maximum and minimum travel times.\n",
    "\n",
    "    The function computes the maximum and minimum travel times for a signal transmitted through\n",
    "    a DDS configurations (2 side blocks, 1 central block, 2 gouge layers), where the signal\n",
    "    travels from a transmitter located within the side block to a receiver located in the other.\n",
    "    The travel times are calculated based on the given parameters such as\n",
    "    distances, material properties, and signal propagation speeds.\n",
    "\n",
    "    The maximum travel time is calculated considering the minimum speed of propagation in the gouge layer,\n",
    "    while the minimum travel time is calculated considering the maximum speed of propagation in the gouge layer.\n",
    "    \"\"\"\n",
    "\n",
    "    # Compute the maximum travel time\n",
    "    max_travel_time = 2 * (side_block_1 - x_transmitter) / c_steel + 2 * gouge_1 / c_min + central_block / c_steel\n",
    "    # Compute the minimum travel time\n",
    "    min_travel_time = 2 * (side_block_1 - x_transmitter) / c_steel + 2 * gouge_1 / c_max + central_block / c_steel\n",
    "\n",
    "    return max_travel_time.values, min_travel_time.values\n",
    "\n",
    "\n",
    "def compute_observed_pulse_interval(max_travel_time, t_OBS, min_travel_time, time_span, data_OBS, plot=False):\n",
    "    \"\"\"\n",
    "    Compute the observed pulse interval based on synchronization peaks and travel time intervals.\n",
    "\n",
    "    Parameters:\n",
    "        sync_peaks (array-like): An array containing synchronization peak indices.\n",
    "        max_travel_time (array-like): An array containing maximum travel times for each peak.\n",
    "        t_OBS (array-like): An array containing observed wf time [microseconds].\n",
    "        min_travel_time (array-like): An array containing minimum travel times for each peak.\n",
    "        time_span (float): Time span.\n",
    "        data_OBS (array-like): An array containing observed waveforms.\n",
    "        plot (bool, optional): If True, plot the observed pulse window. Defaults to False.\n",
    "\n",
    "    Returns:\n",
    "        tuple: A tuple containing indices corresponding to the observed pulse interval.\n",
    "\n",
    "    This function computes the observed pulse interval based on synchronization peaks and travel time intervals.\n",
    "    It calculates the real index of the experiment based on the initial index and synchronizes it with the observation time.\n",
    "    Then, it computes the pulse window within the specified time span.\n",
    "    The function returns indices corresponding to the observed pulse interval.\n",
    "    \"\"\"\n",
    "\n",
    "    for tt in range(0, len(max_travel_time)):\n",
    "      interval = np.where((t_OBS > min_travel_time[tt]) & (t_OBS < max_travel_time[tt] + time_span))  # calculate the pulse window\n",
    "\n",
    "    if plot:\n",
    "        \n",
    "        f2 = plt.figure(figsize=(8, 6))\n",
    "        plt.plot(t_OBS,data_OBS[2], c = 'k')\n",
    "        plt.plot(t_OBS[interval], data_OBS[2][interval], c = 'r')\n",
    "        plt.xlabel('Wf_time [$\\mu s$]')\n",
    "        plt.ylabel('Relative amplitude [a.u.]')\n",
    "        plt.show()\n",
    "        \n",
    "        f = plt.figure(figsize=(8, 6))\n",
    "        plt.title('Observed Pulse Window')\n",
    "        plt.plot(t_OBS[interval], data_OBS[2][interval], c='r')\n",
    "        plt.xlabel('Wf_time [$\\mu s$]')\n",
    "        plt.ylabel('Relative amplitude [a.u.]')\n",
    "        plt.show()\n",
    "        \n",
    "\n",
    "\n",
    "    return interval\n",
    "\n"
   ]
  },
  {
   "cell_type": "code",
   "execution_count": 3,
   "metadata": {},
   "outputs": [
    {
     "name": "stdout",
     "output_type": "stream",
     "text": [
      "MECHANICAL DATA CHOOSE: c:\\Users\\miche\\Documents\\Università\\PhD\\ACTIVE_SOURCE\\experiments_Brava_2\\s0103\\mechanical_data\\s0103sw06mont1020_data_rp\n",
      "[  4833   8929  10846  19949  21747  25821  31188  65233  74894 118942\n",
      " 154601 156625 161550 167109 168462 173290 174740 212394 226240 264730\n",
      " 297994 392907 411811 462252]\n"
     ]
    },
    {
     "data": {
      "image/png": "[encoded data removed]",
      "text/plain": [
       "<Figure size 1000x400 with 1 Axes>"
      ]
     },
     "metadata": {},
     "output_type": "display_data"
    }
   ],
   "source": [
    "machine_name = 'Brava_2'\n",
    "experiment_name = 's0103'\n",
    "data_type_mech = 'mechanical_data'\n",
    "sync_file_pattern = '*s*_data_rp' #pattern to find specific experiment in mechanical data\n",
    "\n",
    "data_type_uw = 'data_tsv_files'\n",
    "remove_initial_samples = 50\n",
    "\n",
    "#MAKE MECHANICAL AND UW PATH LIST\n",
    "infile_path_list_mech = make_infile_path_list(machine_name, experiment_name, data_type=data_type_mech)\n",
    "infile_path_list_uw = sorted(make_infile_path_list(machine_name,experiment_name, data_type=data_type_uw))\n",
    "\n",
    "#LOAD MECHANICAL DATA\n",
    "mech_data_path= find_mechanical_data(infile_path_list_mech, sync_file_pattern)\n",
    "    \n",
    "mech_data, sync_data, sync_peaks = find_sync_values(mech_data_path)\n",
    "plot_sync_peaks(sync_data, sync_peaks, experiment_name)"
   ]
  },
  {
   "cell_type": "code",
   "execution_count": 15,
   "metadata": {},
   "outputs": [
    {
     "name": "stdout",
     "output_type": "stream",
     "text": [
      "PROCESSING UW DATA IN c:\\Users\\miche\\Documents\\Università\\PhD\\ACTIVE_SOURCE\\experiments_Brava_2\\s0103\\data_tsv_files\\009_step_1_100_1_20MPa.bscan.tsv: \n"
     ]
    }
   ],
   "source": [
    "# LOAD OBSERVED WAVEFORM DATA\n",
    "waveform_file_path = infile_path_list_uw[9]  #choose one waveform in infile path list \n",
    "print('PROCESSING UW DATA IN %s: ' %waveform_file_path)\n",
    "data_OBS,metadata = make_UW_data(waveform_file_path)\n",
    "t_OBS = metadata['time_ax_waveform']"
   ]
  },
  {
   "cell_type": "code",
   "execution_count": 16,
   "metadata": {},
   "outputs": [
    {
     "data": {
      "text/plain": [
       "[<matplotlib.lines.Line2D at 0x29aa6497210>]"
      ]
     },
     "execution_count": 16,
     "metadata": {},
     "output_type": "execute_result"
    }
   ],
   "source": [
    "%matplotlib qt\n",
    "plt.plot(data_OBS[200])"
   ]
  },
  {
   "cell_type": "code",
   "execution_count": 5,
   "metadata": {},
   "outputs": [
    {
     "data": {
      "image/png": "[encoded data removed]",
      "text/plain": [
       "<Figure size 640x480 with 1 Axes>"
      ]
     },
     "metadata": {},
     "output_type": "display_data"
    }
   ],
   "source": [
    "### INPUT DATA ###\n",
    "\n",
    "side_block_1 = 2               # [cm] width of first side block\n",
    "side_block_2 = 2               # [cm] width of first gouge layer\n",
    "central_block = 4.8\n",
    "#gouge_1, gouge_2 = gouge_layer_thickness(mech_data, sync_peaks)\n",
    "gouge_1 = (mech_data.rgt_lt_mm[sync_peaks[4\n",
    "                                          ]: sync_peaks[5]])/10 #Choose layer thickness from mechanical data using sync peaks indexes\n",
    "\n",
    "gouge_2 = (mech_data.rgt_lt_mm[sync_peaks[4]: sync_peaks[5]])/10  #the velocities are in cm/mus, layer thickness in mm. Divided by ten!!!\n",
    "\n",
    "sample_dimensions = [side_block_1,gouge_1,central_block,gouge_1,side_block_2]  # [cm] total length of the sample\n",
    "\n",
    "# TRASMISSION AT 0 ANGLE: ONE RECEIVER, ONE TRASMITTER\n",
    "x_trasmitter = 0.95                              # [cm] position of the trasmitter from the beginning of the sample\n",
    "x_receiver = sum(sample_dimensions) -0.95        # [cm] position of the receiver from the end of the sample\n",
    "pzt_width = 0.1                                  # [cm] its important!\n",
    "pmma_width = 0.1                                 # [cm] plate supporting the pzt\n",
    "\n",
    "# GUESSED VELOCITY MODEL OF THE SAMPLE\n",
    "csteel = 3250 * (1e2/1e6)      # [cm/mus]   steel s-velocity\n",
    "# cair = 330 * (1e2/1e6)       # [cm/mus]   around air p-velocity. Could S-velocity in granular media be less then that?\n",
    "                             # https://www.sciencedirect.com/science/article/pii/S0041624X15003042\n",
    "                             # It seems so, but let play easy for now.\n",
    "\n",
    "cmin = 1000 * (1e2/1e6)\n",
    "cmax = 2000 * (1e2/1e6) #get from literature\n",
    "\n",
    "\n",
    "# Load the pulse waveform: it is going to be our time source function\n",
    "machine_name_pulse = \"on_bench\"\n",
    "experiment_name = \"glued_pzt\"\n",
    "data_type = \"data_analysis/pulses_from_glued_pzt\"\n",
    "infile_path_list_pulse  = make_infile_path_list(machine_name=machine_name_pulse,experiment_name=experiment_name,data_type=data_type)\n",
    "\n",
    "pulse_list = []\n",
    "pulse_metadata_list = []\n",
    "t_pulse_list = []\n",
    "time_span = []\n",
    "for pulse_path in sorted(infile_path_list_pulse): \n",
    "    pulse, pulse_metadata = load_waveform_json(pulse_path)\n",
    "    t_pulse = pulse_metadata['time_ax_waveform']\n",
    "    time_span.append(np.ptp(t_pulse))\n",
    "    pulse_list.append(pulse)\n",
    "    pulse_metadata_list.append(pulse_metadata)\n",
    "    t_pulse_list.append(t_pulse)\n",
    "    plt.plot(t_pulse, pulse)\n",
    "\n",
    "time_span = min(time_span)\n"
   ]
  },
  {
   "cell_type": "code",
   "execution_count": 13,
   "metadata": {},
   "outputs": [],
   "source": [
    "%matplotlib qt\n",
    "max_travel_time, min_travel_time = compute_max_and_min_travel_time(side_block_1, x_trasmitter, csteel, gouge_1, cmin, cmax, central_block)\n",
    "interval = compute_observed_pulse_interval(max_travel_time, t_OBS, min_travel_time, time_span, data_OBS, plot = True)"
   ]
  },
  {
   "cell_type": "code",
   "execution_count": 18,
   "metadata": {},
   "outputs": [
    {
     "data": {
      "text/plain": [
       "[<matplotlib.lines.Line2D at 0x2704ce8de90>]"
      ]
     },
     "execution_count": 18,
     "metadata": {},
     "output_type": "execute_result"
    }
   ],
   "source": [
    "plt.plot(data_OBS[200])"
   ]
  },
  {
   "cell_type": "code",
   "execution_count": 14,
   "metadata": {},
   "outputs": [],
   "source": [
    "%matplotlib qt\n",
    "\n",
    "time = mech_data.time_s[sync_peaks[-2]:sync_peaks[-1]]\n",
    "time = time - time[sync_peaks[-2]]"
   ]
  },
  {
   "cell_type": "code",
   "execution_count": 15,
   "metadata": {},
   "outputs": [],
   "source": [
    "fig, axs = plt.subplots(2, 1, figsize=(6, 6))\n",
    "\n",
    "# Inizializza una lista vuota per salvare i valori di ptp\n",
    "ptp = []\n",
    "\n",
    "for wave in range(0, len(data_OBS),10):\n",
    "    massimo = np.max(data_OBS[wave][interval])\n",
    "    minimo = np.min(data_OBS[wave][interval])\n",
    "    ptp.append(massimo - minimo)\n",
    "    axs[0].scatter(np.argmax(data_OBS[wave][interval]), massimo, c='r', zorder=2)\n",
    "    axs[0].scatter(np.argmin(data_OBS[wave][interval]), minimo, c='b', zorder=2)\n",
    "axs[0].plot(data_OBS[200][interval], c='k', alpha=0.5, zorder=1)\n",
    "\n",
    "# Converti ptp in un array numpy\n",
    "ptp = np.array(ptp)\n",
    "\n",
    "# Plotta mech_data.friction_na nel primo subplot\n",
    "plt.plot(time, mech_data.normal_stress_MPa[sync_peaks[-2]:sync_peaks[-1]])\n",
    "plt.twinx()\n",
    "plt.twiny()\n",
    "plt.plot(ptp, c = 'r')\n",
    "plt.ylim(180,340)\n",
    "\n",
    "\n",
    "# Plotta ptp nel secondo subplot\n",
    "\n",
    "axs[1].set_title('Peak-to-Peak Values')\n",
    "\n",
    "plt.tight_layout()\n",
    "plt.show()\n"
   ]
  },
  {
   "cell_type": "code",
   "execution_count": null,
   "metadata": {},
   "outputs": [],
   "source": [
    "#for sync_rec, uw_path in zip(range (0, len(sync_peaks), 2), infile_path_list_uw):\n",
    "#    friction = mech_data.friction_na[sync_peaks[sync_rec]:sync_peaks[sync_rec+1]]\n",
    "#    time = mech_data.time_s[sync_peaks[sync_rec]:sync_peaks[sync_rec+1]]\n",
    "#    time = time - time[sync_peaks[sync_rec]]\n",
    "#    displacement = mech_data.lp_disp_mm[sync_peaks[sync_rec]:sync_peaks[sync_rec+1]]    \n"
   ]
  },
  {
   "cell_type": "code",
   "execution_count": null,
   "metadata": {},
   "outputs": [],
   "source": []
  }
 ],
 "metadata": {
  "kernelspec": {
   "display_name": "friction",
   "language": "python",
   "name": "python3"
  },
  "language_info": {
   "codemirror_mode": {
    "name": "ipython",
    "version": 3
   },
   "file_extension": ".py",
   "mimetype": "text/x-python",
   "name": "python",
   "nbconvert_exporter": "python",
   "pygments_lexer": "ipython3",
   "version": "3.10.12"
  }
 },
 "nbformat": 4,
 "nbformat_minor": 2
}
