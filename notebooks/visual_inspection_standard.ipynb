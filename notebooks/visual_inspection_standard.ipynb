{
 "cells": [
  {
   "cell_type": "code",
   "execution_count": 1,
   "metadata": {},
   "outputs": [],
   "source": [
    "from random import randint\n",
    "import os\n",
    "import time as tm\n",
    "import multiprocessing as mp   \n",
    "\n",
    "import sys\n",
    "sys.path.insert(0, os.path.abspath('../src'))\n",
    "\n",
    "from file_io import *\n",
    "from plotting import *\n",
    "from helpers import *\n",
    "from synthetic_data import *\n",
    "from signal_processing import *\n",
    "from LAB_UW_forward_modeling import *"
   ]
  },
  {
   "cell_type": "code",
   "execution_count": 2,
   "metadata": {},
   "outputs": [
    {
     "name": "stdout",
     "output_type": "stream",
     "text": [
      "PROCESSING UW DATA IN /home/michele/Desktop/Dottorato/active_source_implementation/experiments_Brava_2/s0176/data_tsv_files/0_compaction_sv1_sh1.bscan.tsv: \n"
     ]
    },
    {
     "name": "stderr",
     "output_type": "stream",
     "text": [
      "The PostScript backend does not support transparency; partially transparent artists will be rendered opaque.\n"
     ]
    },
    {
     "name": "stdout",
     "output_type": "stream",
     "text": [
      "Plot saved to /home/michele/Desktop/Dottorato/active_source_implementation/experiments_Brava_2/s0176/images/waveforms/0_compaction_sv1_sh1\n",
      "number_of_samples\n",
      "sampling_rate\n",
      "time_ax_waveform\n",
      "number_of_waveforms\n",
      "acquisition_frequency\n",
      "time_ax_acquisition\n",
      "Plot saved to /home/michele/Desktop/Dottorato/active_source_implementation/experiments_Brava_2/s0176/images/amplitude_maps/0_compaction_sv1_sh1\n"
     ]
    },
    {
     "name": "stderr",
     "output_type": "stream",
     "text": [
      "The PostScript backend does not support transparency; partially transparent artists will be rendered opaque.\n"
     ]
    },
    {
     "name": "stdout",
     "output_type": "stream",
     "text": [
      "Plot saved to /home/michele/Desktop/Dottorato/active_source_implementation/experiments_Brava_2/s0176/images/waveforms/0_compaction_sv1_sh1_filtered\n",
      "number_of_samples\n",
      "sampling_rate\n",
      "time_ax_waveform\n",
      "number_of_waveforms\n",
      "acquisition_frequency\n",
      "time_ax_acquisition\n"
     ]
    },
    {
     "name": "stderr",
     "output_type": "stream",
     "text": [
      "The PostScript backend does not support transparency; partially transparent artists will be rendered opaque.\n"
     ]
    },
    {
     "name": "stdout",
     "output_type": "stream",
     "text": [
      "Plot saved to /home/michele/Desktop/Dottorato/active_source_implementation/experiments_Brava_2/s0176/images/amplitude_maps/0_compaction_sv1_sh1_filtered\n",
      "Plot saved to /home/michele/Desktop/Dottorato/active_source_implementation/experiments_Brava_2/s0176/images/example_of_filtered_waveform/0_compaction_sv1_sh1_0\n"
     ]
    },
    {
     "name": "stderr",
     "output_type": "stream",
     "text": [
      "The PostScript backend does not support transparency; partially transparent artists will be rendered opaque.\n",
      "The PostScript backend does not support transparency; partially transparent artists will be rendered opaque.\n"
     ]
    },
    {
     "name": "stdout",
     "output_type": "stream",
     "text": [
      "Plot saved to /home/michele/Desktop/Dottorato/active_source_implementation/experiments_Brava_2/s0176/images/example_of_filtered_waveform/0_compaction_sv1_sh1_98\n",
      "Plot saved to /home/michele/Desktop/Dottorato/active_source_implementation/experiments_Brava_2/s0176/images/example_of_filtered_waveform/0_compaction_sv1_sh1_196\n"
     ]
    },
    {
     "name": "stderr",
     "output_type": "stream",
     "text": [
      "The PostScript backend does not support transparency; partially transparent artists will be rendered opaque.\n",
      "The PostScript backend does not support transparency; partially transparent artists will be rendered opaque.\n"
     ]
    },
    {
     "name": "stdout",
     "output_type": "stream",
     "text": [
      "Plot saved to /home/michele/Desktop/Dottorato/active_source_implementation/experiments_Brava_2/s0176/images/example_of_filtered_waveform/0_compaction_sv1_sh1_294\n",
      "Plot saved to /home/michele/Desktop/Dottorato/active_source_implementation/experiments_Brava_2/s0176/images/example_of_filtered_waveform/0_compaction_sv1_sh1_392\n"
     ]
    },
    {
     "name": "stderr",
     "output_type": "stream",
     "text": [
      "The PostScript backend does not support transparency; partially transparent artists will be rendered opaque.\n",
      "The PostScript backend does not support transparency; partially transparent artists will be rendered opaque.\n"
     ]
    },
    {
     "name": "stdout",
     "output_type": "stream",
     "text": [
      "Plot saved to /home/michele/Desktop/Dottorato/active_source_implementation/experiments_Brava_2/s0176/images/example_of_filtered_waveform/0_compaction_sv1_sh1_490\n",
      "Plot saved to /home/michele/Desktop/Dottorato/active_source_implementation/experiments_Brava_2/s0176/images/example_of_filtered_waveform/0_compaction_sv1_sh1_588\n"
     ]
    },
    {
     "name": "stderr",
     "output_type": "stream",
     "text": [
      "The PostScript backend does not support transparency; partially transparent artists will be rendered opaque.\n",
      "The PostScript backend does not support transparency; partially transparent artists will be rendered opaque.\n"
     ]
    },
    {
     "name": "stdout",
     "output_type": "stream",
     "text": [
      "Plot saved to /home/michele/Desktop/Dottorato/active_source_implementation/experiments_Brava_2/s0176/images/example_of_filtered_waveform/0_compaction_sv1_sh1_686\n",
      "Plot saved to /home/michele/Desktop/Dottorato/active_source_implementation/experiments_Brava_2/s0176/images/example_of_filtered_waveform/0_compaction_sv1_sh1_784\n"
     ]
    },
    {
     "name": "stderr",
     "output_type": "stream",
     "text": [
      "The PostScript backend does not support transparency; partially transparent artists will be rendered opaque.\n",
      "The PostScript backend does not support transparency; partially transparent artists will be rendered opaque.\n"
     ]
    },
    {
     "name": "stdout",
     "output_type": "stream",
     "text": [
      "Plot saved to /home/michele/Desktop/Dottorato/active_source_implementation/experiments_Brava_2/s0176/images/example_of_filtered_waveform/0_compaction_sv1_sh1_882\n",
      "Plot saved to /home/michele/Desktop/Dottorato/active_source_implementation/experiments_Brava_2/s0176/images/example_of_filtered_waveform/0_compaction_sv1_sh1_980\n"
     ]
    },
    {
     "name": "stderr",
     "output_type": "stream",
     "text": [
      "The PostScript backend does not support transparency; partially transparent artists will be rendered opaque.\n",
      "The PostScript backend does not support transparency; partially transparent artists will be rendered opaque.\n"
     ]
    },
    {
     "name": "stdout",
     "output_type": "stream",
     "text": [
      "Plot saved to /home/michele/Desktop/Dottorato/active_source_implementation/experiments_Brava_2/s0176/images/example_of_filtered_waveform/0_compaction_sv1_sh1_1078\n"
     ]
    },
    {
     "name": "stderr",
     "output_type": "stream",
     "text": [
      "The PostScript backend does not support transparency; partially transparent artists will be rendered opaque.\n"
     ]
    },
    {
     "name": "stdout",
     "output_type": "stream",
     "text": [
      "Plot saved to /home/michele/Desktop/Dottorato/active_source_implementation/experiments_Brava_2/s0176/images/example_of_filtered_waveform/0_compaction_sv1_sh1_1176\n"
     ]
    },
    {
     "name": "stderr",
     "output_type": "stream",
     "text": [
      "The PostScript backend does not support transparency; partially transparent artists will be rendered opaque.\n"
     ]
    },
    {
     "name": "stdout",
     "output_type": "stream",
     "text": [
      "Plot saved to /home/michele/Desktop/Dottorato/active_source_implementation/experiments_Brava_2/s0176/images/example_of_filtered_waveform/0_compaction_sv1_sh1_1274\n"
     ]
    },
    {
     "name": "stderr",
     "output_type": "stream",
     "text": [
      "The PostScript backend does not support transparency; partially transparent artists will be rendered opaque.\n"
     ]
    },
    {
     "name": "stdout",
     "output_type": "stream",
     "text": [
      "Plot saved to /home/michele/Desktop/Dottorato/active_source_implementation/experiments_Brava_2/s0176/images/example_of_filtered_waveform/0_compaction_sv1_sh1_1372\n"
     ]
    },
    {
     "name": "stderr",
     "output_type": "stream",
     "text": [
      "The PostScript backend does not support transparency; partially transparent artists will be rendered opaque.\n"
     ]
    },
    {
     "name": "stdout",
     "output_type": "stream",
     "text": [
      "Plot saved to /home/michele/Desktop/Dottorato/active_source_implementation/experiments_Brava_2/s0176/images/example_of_filtered_waveform/0_compaction_sv1_sh1_1470\n"
     ]
    },
    {
     "name": "stderr",
     "output_type": "stream",
     "text": [
      "The PostScript backend does not support transparency; partially transparent artists will be rendered opaque.\n"
     ]
    },
    {
     "name": "stdout",
     "output_type": "stream",
     "text": [
      "Plot saved to /home/michele/Desktop/Dottorato/active_source_implementation/experiments_Brava_2/s0176/images/example_of_filtered_waveform/0_compaction_sv1_sh1_1568\n",
      "Plot saved to /home/michele/Desktop/Dottorato/active_source_implementation/experiments_Brava_2/s0176/images/example_of_filtered_waveform/0_compaction_sv1_sh1_1666\n"
     ]
    },
    {
     "name": "stderr",
     "output_type": "stream",
     "text": [
      "The PostScript backend does not support transparency; partially transparent artists will be rendered opaque.\n"
     ]
    },
    {
     "name": "stdout",
     "output_type": "stream",
     "text": [
      "Plot saved to /home/michele/Desktop/Dottorato/active_source_implementation/experiments_Brava_2/s0176/images/example_of_filtered_waveform/0_compaction_sv1_sh1_1764\n"
     ]
    },
    {
     "name": "stderr",
     "output_type": "stream",
     "text": [
      "The PostScript backend does not support transparency; partially transparent artists will be rendered opaque.\n"
     ]
    },
    {
     "name": "stdout",
     "output_type": "stream",
     "text": [
      "Plot saved to /home/michele/Desktop/Dottorato/active_source_implementation/experiments_Brava_2/s0176/images/example_of_filtered_waveform/0_compaction_sv1_sh1_1862\n"
     ]
    },
    {
     "name": "stderr",
     "output_type": "stream",
     "text": [
      "The PostScript backend does not support transparency; partially transparent artists will be rendered opaque.\n"
     ]
    },
    {
     "name": "stdout",
     "output_type": "stream",
     "text": [
      "Plot saved to /home/michele/Desktop/Dottorato/active_source_implementation/experiments_Brava_2/s0176/images/example_of_filtered_waveform/0_compaction_sv1_sh1_1960\n"
     ]
    },
    {
     "name": "stderr",
     "output_type": "stream",
     "text": [
      "The PostScript backend does not support transparency; partially transparent artists will be rendered opaque.\n"
     ]
    },
    {
     "name": "stdout",
     "output_type": "stream",
     "text": [
      "Plot saved to /home/michele/Desktop/Dottorato/active_source_implementation/experiments_Brava_2/s0176/images/example_of_filtered_waveform/0_compaction_sv1_sh1_2058\n"
     ]
    },
    {
     "name": "stderr",
     "output_type": "stream",
     "text": [
      "The PostScript backend does not support transparency; partially transparent artists will be rendered opaque.\n"
     ]
    },
    {
     "name": "stdout",
     "output_type": "stream",
     "text": [
      "Plot saved to /home/michele/Desktop/Dottorato/active_source_implementation/experiments_Brava_2/s0176/images/example_of_filtered_waveform/0_compaction_sv1_sh1_2156\n"
     ]
    },
    {
     "name": "stderr",
     "output_type": "stream",
     "text": [
      "The PostScript backend does not support transparency; partially transparent artists will be rendered opaque.\n",
      "The PostScript backend does not support transparency; partially transparent artists will be rendered opaque.\n"
     ]
    },
    {
     "name": "stdout",
     "output_type": "stream",
     "text": [
      "Plot saved to /home/michele/Desktop/Dottorato/active_source_implementation/experiments_Brava_2/s0176/images/example_of_filtered_waveform/0_compaction_sv1_sh1_2254\n",
      "Plot saved to /home/michele/Desktop/Dottorato/active_source_implementation/experiments_Brava_2/s0176/images/example_of_filtered_waveform/0_compaction_sv1_sh1_2352\n"
     ]
    },
    {
     "name": "stderr",
     "output_type": "stream",
     "text": [
      "The PostScript backend does not support transparency; partially transparent artists will be rendered opaque.\n"
     ]
    },
    {
     "name": "stdout",
     "output_type": "stream",
     "text": [
      "Plot saved to /home/michele/Desktop/Dottorato/active_source_implementation/experiments_Brava_2/s0176/images/example_of_filtered_waveform/0_compaction_sv1_sh1_2450\n"
     ]
    },
    {
     "name": "stderr",
     "output_type": "stream",
     "text": [
      "The PostScript backend does not support transparency; partially transparent artists will be rendered opaque.\n"
     ]
    },
    {
     "name": "stdout",
     "output_type": "stream",
     "text": [
      "Plot saved to /home/michele/Desktop/Dottorato/active_source_implementation/experiments_Brava_2/s0176/images/example_of_filtered_waveform/0_compaction_sv1_sh1_2548\n"
     ]
    },
    {
     "name": "stderr",
     "output_type": "stream",
     "text": [
      "The PostScript backend does not support transparency; partially transparent artists will be rendered opaque.\n"
     ]
    },
    {
     "name": "stdout",
     "output_type": "stream",
     "text": [
      "Plot saved to /home/michele/Desktop/Dottorato/active_source_implementation/experiments_Brava_2/s0176/images/example_of_filtered_waveform/0_compaction_sv1_sh1_2646\n"
     ]
    },
    {
     "name": "stderr",
     "output_type": "stream",
     "text": [
      "The PostScript backend does not support transparency; partially transparent artists will be rendered opaque.\n"
     ]
    },
    {
     "name": "stdout",
     "output_type": "stream",
     "text": [
      "Plot saved to /home/michele/Desktop/Dottorato/active_source_implementation/experiments_Brava_2/s0176/images/example_of_filtered_waveform/0_compaction_sv1_sh1_2744\n"
     ]
    },
    {
     "name": "stderr",
     "output_type": "stream",
     "text": [
      "The PostScript backend does not support transparency; partially transparent artists will be rendered opaque.\n"
     ]
    },
    {
     "name": "stdout",
     "output_type": "stream",
     "text": [
      "Plot saved to /home/michele/Desktop/Dottorato/active_source_implementation/experiments_Brava_2/s0176/images/example_of_filtered_waveform/0_compaction_sv1_sh1_2842\n"
     ]
    },
    {
     "name": "stderr",
     "output_type": "stream",
     "text": [
      "The PostScript backend does not support transparency; partially transparent artists will be rendered opaque.\n"
     ]
    },
    {
     "name": "stdout",
     "output_type": "stream",
     "text": [
      "Plot saved to /home/michele/Desktop/Dottorato/active_source_implementation/experiments_Brava_2/s0176/images/example_of_filtered_waveform/0_compaction_sv1_sh1_2940\n",
      "--- 15.000116348266602 seconds for processing 0_compaction_sv1_sh1---\n",
      "PROCESSING UW DATA IN /home/michele/Desktop/Dottorato/active_source_implementation/experiments_Brava_2/s0176/data_tsv_files/0_compaction_sv1_sh2.bscan.tsv: \n",
      "PROCESSING UW DATA IN /home/michele/Desktop/Dottorato/active_source_implementation/experiments_Brava_2/s0176/data_tsv_files/0_compaction_sv1_sv1.bscan.tsv: \n"
     ]
    },
    {
     "name": "stderr",
     "output_type": "stream",
     "text": [
      "The PostScript backend does not support transparency; partially transparent artists will be rendered opaque.\n"
     ]
    },
    {
     "name": "stdout",
     "output_type": "stream",
     "text": [
      "Plot saved to /home/michele/Desktop/Dottorato/active_source_implementation/experiments_Brava_2/s0176/images/waveforms/0_compaction_sv1_sv1\n",
      "number_of_samples\n",
      "sampling_rate\n",
      "time_ax_waveform\n",
      "number_of_waveforms\n",
      "acquisition_frequency\n",
      "time_ax_acquisition\n",
      "Plot saved to /home/michele/Desktop/Dottorato/active_source_implementation/experiments_Brava_2/s0176/images/amplitude_maps/0_compaction_sv1_sv1\n"
     ]
    },
    {
     "name": "stderr",
     "output_type": "stream",
     "text": [
      "The PostScript backend does not support transparency; partially transparent artists will be rendered opaque.\n"
     ]
    },
    {
     "name": "stdout",
     "output_type": "stream",
     "text": [
      "Plot saved to /home/michele/Desktop/Dottorato/active_source_implementation/experiments_Brava_2/s0176/images/waveforms/0_compaction_sv1_sv1_filtered\n",
      "number_of_samples\n",
      "sampling_rate\n",
      "time_ax_waveform\n",
      "number_of_waveforms\n",
      "acquisition_frequency\n",
      "time_ax_acquisition\n"
     ]
    },
    {
     "name": "stderr",
     "output_type": "stream",
     "text": [
      "The PostScript backend does not support transparency; partially transparent artists will be rendered opaque.\n"
     ]
    },
    {
     "name": "stdout",
     "output_type": "stream",
     "text": [
      "Plot saved to /home/michele/Desktop/Dottorato/active_source_implementation/experiments_Brava_2/s0176/images/amplitude_maps/0_compaction_sv1_sv1_filtered\n"
     ]
    },
    {
     "name": "stderr",
     "output_type": "stream",
     "text": [
      "The PostScript backend does not support transparency; partially transparent artists will be rendered opaque.\n"
     ]
    },
    {
     "name": "stdout",
     "output_type": "stream",
     "text": [
      "Plot saved to /home/michele/Desktop/Dottorato/active_source_implementation/experiments_Brava_2/s0176/images/example_of_filtered_waveform/0_compaction_sv1_sv1_0\n"
     ]
    },
    {
     "name": "stderr",
     "output_type": "stream",
     "text": [
      "The PostScript backend does not support transparency; partially transparent artists will be rendered opaque.\n"
     ]
    },
    {
     "name": "stdout",
     "output_type": "stream",
     "text": [
      "Plot saved to /home/michele/Desktop/Dottorato/active_source_implementation/experiments_Brava_2/s0176/images/example_of_filtered_waveform/0_compaction_sv1_sv1_98\n"
     ]
    },
    {
     "name": "stderr",
     "output_type": "stream",
     "text": [
      "The PostScript backend does not support transparency; partially transparent artists will be rendered opaque.\n"
     ]
    },
    {
     "name": "stdout",
     "output_type": "stream",
     "text": [
      "Plot saved to /home/michele/Desktop/Dottorato/active_source_implementation/experiments_Brava_2/s0176/images/example_of_filtered_waveform/0_compaction_sv1_sv1_196\n"
     ]
    },
    {
     "name": "stderr",
     "output_type": "stream",
     "text": [
      "The PostScript backend does not support transparency; partially transparent artists will be rendered opaque.\n"
     ]
    },
    {
     "name": "stdout",
     "output_type": "stream",
     "text": [
      "Plot saved to /home/michele/Desktop/Dottorato/active_source_implementation/experiments_Brava_2/s0176/images/example_of_filtered_waveform/0_compaction_sv1_sv1_294\n"
     ]
    },
    {
     "name": "stderr",
     "output_type": "stream",
     "text": [
      "The PostScript backend does not support transparency; partially transparent artists will be rendered opaque.\n"
     ]
    },
    {
     "name": "stdout",
     "output_type": "stream",
     "text": [
      "Plot saved to /home/michele/Desktop/Dottorato/active_source_implementation/experiments_Brava_2/s0176/images/example_of_filtered_waveform/0_compaction_sv1_sv1_392\n"
     ]
    },
    {
     "name": "stderr",
     "output_type": "stream",
     "text": [
      "The PostScript backend does not support transparency; partially transparent artists will be rendered opaque.\n"
     ]
    },
    {
     "name": "stdout",
     "output_type": "stream",
     "text": [
      "Plot saved to /home/michele/Desktop/Dottorato/active_source_implementation/experiments_Brava_2/s0176/images/example_of_filtered_waveform/0_compaction_sv1_sv1_490\n"
     ]
    },
    {
     "name": "stderr",
     "output_type": "stream",
     "text": [
      "The PostScript backend does not support transparency; partially transparent artists will be rendered opaque.\n"
     ]
    },
    {
     "name": "stdout",
     "output_type": "stream",
     "text": [
      "Plot saved to /home/michele/Desktop/Dottorato/active_source_implementation/experiments_Brava_2/s0176/images/example_of_filtered_waveform/0_compaction_sv1_sv1_588\n"
     ]
    },
    {
     "name": "stderr",
     "output_type": "stream",
     "text": [
      "The PostScript backend does not support transparency; partially transparent artists will be rendered opaque.\n"
     ]
    },
    {
     "name": "stdout",
     "output_type": "stream",
     "text": [
      "Plot saved to /home/michele/Desktop/Dottorato/active_source_implementation/experiments_Brava_2/s0176/images/example_of_filtered_waveform/0_compaction_sv1_sv1_686\n"
     ]
    },
    {
     "name": "stderr",
     "output_type": "stream",
     "text": [
      "The PostScript backend does not support transparency; partially transparent artists will be rendered opaque.\n"
     ]
    },
    {
     "name": "stdout",
     "output_type": "stream",
     "text": [
      "Plot saved to /home/michele/Desktop/Dottorato/active_source_implementation/experiments_Brava_2/s0176/images/example_of_filtered_waveform/0_compaction_sv1_sv1_784\n"
     ]
    },
    {
     "name": "stderr",
     "output_type": "stream",
     "text": [
      "The PostScript backend does not support transparency; partially transparent artists will be rendered opaque.\n"
     ]
    },
    {
     "name": "stdout",
     "output_type": "stream",
     "text": [
      "Plot saved to /home/michele/Desktop/Dottorato/active_source_implementation/experiments_Brava_2/s0176/images/example_of_filtered_waveform/0_compaction_sv1_sv1_882\n"
     ]
    },
    {
     "name": "stderr",
     "output_type": "stream",
     "text": [
      "The PostScript backend does not support transparency; partially transparent artists will be rendered opaque.\n"
     ]
    },
    {
     "name": "stdout",
     "output_type": "stream",
     "text": [
      "Plot saved to /home/michele/Desktop/Dottorato/active_source_implementation/experiments_Brava_2/s0176/images/example_of_filtered_waveform/0_compaction_sv1_sv1_980\n"
     ]
    },
    {
     "name": "stderr",
     "output_type": "stream",
     "text": [
      "The PostScript backend does not support transparency; partially transparent artists will be rendered opaque.\n"
     ]
    },
    {
     "name": "stdout",
     "output_type": "stream",
     "text": [
      "Plot saved to /home/michele/Desktop/Dottorato/active_source_implementation/experiments_Brava_2/s0176/images/example_of_filtered_waveform/0_compaction_sv1_sv1_1078\n"
     ]
    },
    {
     "name": "stderr",
     "output_type": "stream",
     "text": [
      "The PostScript backend does not support transparency; partially transparent artists will be rendered opaque.\n"
     ]
    },
    {
     "name": "stdout",
     "output_type": "stream",
     "text": [
      "Plot saved to /home/michele/Desktop/Dottorato/active_source_implementation/experiments_Brava_2/s0176/images/example_of_filtered_waveform/0_compaction_sv1_sv1_1176\n"
     ]
    },
    {
     "name": "stderr",
     "output_type": "stream",
     "text": [
      "The PostScript backend does not support transparency; partially transparent artists will be rendered opaque.\n"
     ]
    },
    {
     "name": "stdout",
     "output_type": "stream",
     "text": [
      "Plot saved to /home/michele/Desktop/Dottorato/active_source_implementation/experiments_Brava_2/s0176/images/example_of_filtered_waveform/0_compaction_sv1_sv1_1274\n"
     ]
    },
    {
     "name": "stderr",
     "output_type": "stream",
     "text": [
      "The PostScript backend does not support transparency; partially transparent artists will be rendered opaque.\n"
     ]
    },
    {
     "name": "stdout",
     "output_type": "stream",
     "text": [
      "Plot saved to /home/michele/Desktop/Dottorato/active_source_implementation/experiments_Brava_2/s0176/images/example_of_filtered_waveform/0_compaction_sv1_sv1_1372\n"
     ]
    },
    {
     "name": "stderr",
     "output_type": "stream",
     "text": [
      "The PostScript backend does not support transparency; partially transparent artists will be rendered opaque.\n"
     ]
    },
    {
     "name": "stdout",
     "output_type": "stream",
     "text": [
      "Plot saved to /home/michele/Desktop/Dottorato/active_source_implementation/experiments_Brava_2/s0176/images/example_of_filtered_waveform/0_compaction_sv1_sv1_1470\n"
     ]
    },
    {
     "name": "stderr",
     "output_type": "stream",
     "text": [
      "The PostScript backend does not support transparency; partially transparent artists will be rendered opaque.\n"
     ]
    },
    {
     "name": "stdout",
     "output_type": "stream",
     "text": [
      "Plot saved to /home/michele/Desktop/Dottorato/active_source_implementation/experiments_Brava_2/s0176/images/example_of_filtered_waveform/0_compaction_sv1_sv1_1568\n"
     ]
    },
    {
     "name": "stderr",
     "output_type": "stream",
     "text": [
      "The PostScript backend does not support transparency; partially transparent artists will be rendered opaque.\n"
     ]
    },
    {
     "name": "stdout",
     "output_type": "stream",
     "text": [
      "Plot saved to /home/michele/Desktop/Dottorato/active_source_implementation/experiments_Brava_2/s0176/images/example_of_filtered_waveform/0_compaction_sv1_sv1_1666\n"
     ]
    },
    {
     "name": "stderr",
     "output_type": "stream",
     "text": [
      "The PostScript backend does not support transparency; partially transparent artists will be rendered opaque.\n"
     ]
    },
    {
     "name": "stdout",
     "output_type": "stream",
     "text": [
      "Plot saved to /home/michele/Desktop/Dottorato/active_source_implementation/experiments_Brava_2/s0176/images/example_of_filtered_waveform/0_compaction_sv1_sv1_1764\n"
     ]
    },
    {
     "name": "stderr",
     "output_type": "stream",
     "text": [
      "The PostScript backend does not support transparency; partially transparent artists will be rendered opaque.\n"
     ]
    },
    {
     "name": "stdout",
     "output_type": "stream",
     "text": [
      "Plot saved to /home/michele/Desktop/Dottorato/active_source_implementation/experiments_Brava_2/s0176/images/example_of_filtered_waveform/0_compaction_sv1_sv1_1862\n"
     ]
    },
    {
     "name": "stderr",
     "output_type": "stream",
     "text": [
      "The PostScript backend does not support transparency; partially transparent artists will be rendered opaque.\n"
     ]
    },
    {
     "name": "stdout",
     "output_type": "stream",
     "text": [
      "Plot saved to /home/michele/Desktop/Dottorato/active_source_implementation/experiments_Brava_2/s0176/images/example_of_filtered_waveform/0_compaction_sv1_sv1_1960\n",
      "Plot saved to /home/michele/Desktop/Dottorato/active_source_implementation/experiments_Brava_2/s0176/images/example_of_filtered_waveform/0_compaction_sv1_sv1_2058\n"
     ]
    },
    {
     "name": "stderr",
     "output_type": "stream",
     "text": [
      "The PostScript backend does not support transparency; partially transparent artists will be rendered opaque.\n"
     ]
    },
    {
     "name": "stdout",
     "output_type": "stream",
     "text": [
      "Plot saved to /home/michele/Desktop/Dottorato/active_source_implementation/experiments_Brava_2/s0176/images/example_of_filtered_waveform/0_compaction_sv1_sv1_2156\n"
     ]
    },
    {
     "name": "stderr",
     "output_type": "stream",
     "text": [
      "The PostScript backend does not support transparency; partially transparent artists will be rendered opaque.\n"
     ]
    },
    {
     "name": "stdout",
     "output_type": "stream",
     "text": [
      "Plot saved to /home/michele/Desktop/Dottorato/active_source_implementation/experiments_Brava_2/s0176/images/example_of_filtered_waveform/0_compaction_sv1_sv1_2254\n"
     ]
    },
    {
     "name": "stderr",
     "output_type": "stream",
     "text": [
      "The PostScript backend does not support transparency; partially transparent artists will be rendered opaque.\n",
      "The PostScript backend does not support transparency; partially transparent artists will be rendered opaque.\n"
     ]
    },
    {
     "name": "stdout",
     "output_type": "stream",
     "text": [
      "Plot saved to /home/michele/Desktop/Dottorato/active_source_implementation/experiments_Brava_2/s0176/images/example_of_filtered_waveform/0_compaction_sv1_sv1_2352\n",
      "Plot saved to /home/michele/Desktop/Dottorato/active_source_implementation/experiments_Brava_2/s0176/images/example_of_filtered_waveform/0_compaction_sv1_sv1_2450\n"
     ]
    },
    {
     "name": "stderr",
     "output_type": "stream",
     "text": [
      "The PostScript backend does not support transparency; partially transparent artists will be rendered opaque.\n"
     ]
    },
    {
     "name": "stdout",
     "output_type": "stream",
     "text": [
      "Plot saved to /home/michele/Desktop/Dottorato/active_source_implementation/experiments_Brava_2/s0176/images/example_of_filtered_waveform/0_compaction_sv1_sv1_2548\n"
     ]
    },
    {
     "name": "stderr",
     "output_type": "stream",
     "text": [
      "The PostScript backend does not support transparency; partially transparent artists will be rendered opaque.\n"
     ]
    },
    {
     "name": "stdout",
     "output_type": "stream",
     "text": [
      "Plot saved to /home/michele/Desktop/Dottorato/active_source_implementation/experiments_Brava_2/s0176/images/example_of_filtered_waveform/0_compaction_sv1_sv1_2646\n"
     ]
    },
    {
     "name": "stderr",
     "output_type": "stream",
     "text": [
      "The PostScript backend does not support transparency; partially transparent artists will be rendered opaque.\n",
      "The PostScript backend does not support transparency; partially transparent artists will be rendered opaque.\n"
     ]
    },
    {
     "name": "stdout",
     "output_type": "stream",
     "text": [
      "Plot saved to /home/michele/Desktop/Dottorato/active_source_implementation/experiments_Brava_2/s0176/images/example_of_filtered_waveform/0_compaction_sv1_sv1_2744\n",
      "Plot saved to /home/michele/Desktop/Dottorato/active_source_implementation/experiments_Brava_2/s0176/images/example_of_filtered_waveform/0_compaction_sv1_sv1_2842\n"
     ]
    },
    {
     "name": "stderr",
     "output_type": "stream",
     "text": [
      "The PostScript backend does not support transparency; partially transparent artists will be rendered opaque.\n"
     ]
    },
    {
     "name": "stdout",
     "output_type": "stream",
     "text": [
      "Plot saved to /home/michele/Desktop/Dottorato/active_source_implementation/experiments_Brava_2/s0176/images/example_of_filtered_waveform/0_compaction_sv1_sv1_2940\n",
      "--- 18.276103019714355 seconds for processing 0_compaction_sv1_sv1---\n",
      "PROCESSING UW DATA IN /home/michele/Desktop/Dottorato/active_source_implementation/experiments_Brava_2/s0176/data_tsv_files/0_compaction_sv1_sv2.bscan.tsv: \n"
     ]
    },
    {
     "name": "stderr",
     "output_type": "stream",
     "text": [
      "The PostScript backend does not support transparency; partially transparent artists will be rendered opaque.\n"
     ]
    },
    {
     "name": "stdout",
     "output_type": "stream",
     "text": [
      "Plot saved to /home/michele/Desktop/Dottorato/active_source_implementation/experiments_Brava_2/s0176/images/waveforms/0_compaction_sv1_sv2\n",
      "number_of_samples\n",
      "sampling_rate\n",
      "time_ax_waveform\n",
      "number_of_waveforms\n",
      "acquisition_frequency\n",
      "time_ax_acquisition\n",
      "Plot saved to /home/michele/Desktop/Dottorato/active_source_implementation/experiments_Brava_2/s0176/images/amplitude_maps/0_compaction_sv1_sv2\n"
     ]
    },
    {
     "name": "stderr",
     "output_type": "stream",
     "text": [
      "The PostScript backend does not support transparency; partially transparent artists will be rendered opaque.\n"
     ]
    },
    {
     "name": "stdout",
     "output_type": "stream",
     "text": [
      "Plot saved to /home/michele/Desktop/Dottorato/active_source_implementation/experiments_Brava_2/s0176/images/waveforms/0_compaction_sv1_sv2_filtered\n",
      "number_of_samples\n",
      "sampling_rate\n",
      "time_ax_waveform\n",
      "number_of_waveforms\n",
      "acquisition_frequency\n",
      "time_ax_acquisition\n"
     ]
    },
    {
     "name": "stderr",
     "output_type": "stream",
     "text": [
      "The PostScript backend does not support transparency; partially transparent artists will be rendered opaque.\n"
     ]
    },
    {
     "name": "stdout",
     "output_type": "stream",
     "text": [
      "Plot saved to /home/michele/Desktop/Dottorato/active_source_implementation/experiments_Brava_2/s0176/images/amplitude_maps/0_compaction_sv1_sv2_filtered\n"
     ]
    },
    {
     "name": "stderr",
     "output_type": "stream",
     "text": [
      "The PostScript backend does not support transparency; partially transparent artists will be rendered opaque.\n"
     ]
    },
    {
     "name": "stdout",
     "output_type": "stream",
     "text": [
      "Plot saved to /home/michele/Desktop/Dottorato/active_source_implementation/experiments_Brava_2/s0176/images/example_of_filtered_waveform/0_compaction_sv1_sv2_0\n"
     ]
    },
    {
     "name": "stderr",
     "output_type": "stream",
     "text": [
      "The PostScript backend does not support transparency; partially transparent artists will be rendered opaque.\n"
     ]
    },
    {
     "name": "stdout",
     "output_type": "stream",
     "text": [
      "Plot saved to /home/michele/Desktop/Dottorato/active_source_implementation/experiments_Brava_2/s0176/images/example_of_filtered_waveform/0_compaction_sv1_sv2_98\n"
     ]
    },
    {
     "name": "stderr",
     "output_type": "stream",
     "text": [
      "The PostScript backend does not support transparency; partially transparent artists will be rendered opaque.\n"
     ]
    },
    {
     "name": "stdout",
     "output_type": "stream",
     "text": [
      "Plot saved to /home/michele/Desktop/Dottorato/active_source_implementation/experiments_Brava_2/s0176/images/example_of_filtered_waveform/0_compaction_sv1_sv2_196\n"
     ]
    },
    {
     "name": "stderr",
     "output_type": "stream",
     "text": [
      "The PostScript backend does not support transparency; partially transparent artists will be rendered opaque.\n"
     ]
    },
    {
     "name": "stdout",
     "output_type": "stream",
     "text": [
      "Plot saved to /home/michele/Desktop/Dottorato/active_source_implementation/experiments_Brava_2/s0176/images/example_of_filtered_waveform/0_compaction_sv1_sv2_294\n"
     ]
    },
    {
     "name": "stderr",
     "output_type": "stream",
     "text": [
      "The PostScript backend does not support transparency; partially transparent artists will be rendered opaque.\n"
     ]
    },
    {
     "name": "stdout",
     "output_type": "stream",
     "text": [
      "Plot saved to /home/michele/Desktop/Dottorato/active_source_implementation/experiments_Brava_2/s0176/images/example_of_filtered_waveform/0_compaction_sv1_sv2_392\n"
     ]
    },
    {
     "name": "stderr",
     "output_type": "stream",
     "text": [
      "The PostScript backend does not support transparency; partially transparent artists will be rendered opaque.\n"
     ]
    },
    {
     "name": "stdout",
     "output_type": "stream",
     "text": [
      "Plot saved to /home/michele/Desktop/Dottorato/active_source_implementation/experiments_Brava_2/s0176/images/example_of_filtered_waveform/0_compaction_sv1_sv2_490\n"
     ]
    },
    {
     "name": "stderr",
     "output_type": "stream",
     "text": [
      "The PostScript backend does not support transparency; partially transparent artists will be rendered opaque.\n"
     ]
    },
    {
     "name": "stdout",
     "output_type": "stream",
     "text": [
      "Plot saved to /home/michele/Desktop/Dottorato/active_source_implementation/experiments_Brava_2/s0176/images/example_of_filtered_waveform/0_compaction_sv1_sv2_588\n"
     ]
    },
    {
     "name": "stderr",
     "output_type": "stream",
     "text": [
      "The PostScript backend does not support transparency; partially transparent artists will be rendered opaque.\n"
     ]
    },
    {
     "name": "stdout",
     "output_type": "stream",
     "text": [
      "Plot saved to /home/michele/Desktop/Dottorato/active_source_implementation/experiments_Brava_2/s0176/images/example_of_filtered_waveform/0_compaction_sv1_sv2_686\n",
      "Plot saved to /home/michele/Desktop/Dottorato/active_source_implementation/experiments_Brava_2/s0176/images/example_of_filtered_waveform/0_compaction_sv1_sv2_784\n"
     ]
    },
    {
     "name": "stderr",
     "output_type": "stream",
     "text": [
      "The PostScript backend does not support transparency; partially transparent artists will be rendered opaque.\n",
      "The PostScript backend does not support transparency; partially transparent artists will be rendered opaque.\n"
     ]
    },
    {
     "name": "stdout",
     "output_type": "stream",
     "text": [
      "Plot saved to /home/michele/Desktop/Dottorato/active_source_implementation/experiments_Brava_2/s0176/images/example_of_filtered_waveform/0_compaction_sv1_sv2_882\n"
     ]
    },
    {
     "name": "stderr",
     "output_type": "stream",
     "text": [
      "The PostScript backend does not support transparency; partially transparent artists will be rendered opaque.\n"
     ]
    },
    {
     "name": "stdout",
     "output_type": "stream",
     "text": [
      "Plot saved to /home/michele/Desktop/Dottorato/active_source_implementation/experiments_Brava_2/s0176/images/example_of_filtered_waveform/0_compaction_sv1_sv2_980\n"
     ]
    },
    {
     "name": "stderr",
     "output_type": "stream",
     "text": [
      "The PostScript backend does not support transparency; partially transparent artists will be rendered opaque.\n"
     ]
    },
    {
     "name": "stdout",
     "output_type": "stream",
     "text": [
      "Plot saved to /home/michele/Desktop/Dottorato/active_source_implementation/experiments_Brava_2/s0176/images/example_of_filtered_waveform/0_compaction_sv1_sv2_1078\n"
     ]
    },
    {
     "name": "stderr",
     "output_type": "stream",
     "text": [
      "The PostScript backend does not support transparency; partially transparent artists will be rendered opaque.\n"
     ]
    },
    {
     "name": "stdout",
     "output_type": "stream",
     "text": [
      "Plot saved to /home/michele/Desktop/Dottorato/active_source_implementation/experiments_Brava_2/s0176/images/example_of_filtered_waveform/0_compaction_sv1_sv2_1176\n",
      "Plot saved to /home/michele/Desktop/Dottorato/active_source_implementation/experiments_Brava_2/s0176/images/example_of_filtered_waveform/0_compaction_sv1_sv2_1274\n"
     ]
    },
    {
     "name": "stderr",
     "output_type": "stream",
     "text": [
      "The PostScript backend does not support transparency; partially transparent artists will be rendered opaque.\n"
     ]
    },
    {
     "name": "stdout",
     "output_type": "stream",
     "text": [
      "Plot saved to /home/michele/Desktop/Dottorato/active_source_implementation/experiments_Brava_2/s0176/images/example_of_filtered_waveform/0_compaction_sv1_sv2_1372\n"
     ]
    },
    {
     "name": "stderr",
     "output_type": "stream",
     "text": [
      "The PostScript backend does not support transparency; partially transparent artists will be rendered opaque.\n"
     ]
    },
    {
     "name": "stdout",
     "output_type": "stream",
     "text": [
      "Plot saved to /home/michele/Desktop/Dottorato/active_source_implementation/experiments_Brava_2/s0176/images/example_of_filtered_waveform/0_compaction_sv1_sv2_1470\n"
     ]
    },
    {
     "name": "stderr",
     "output_type": "stream",
     "text": [
      "The PostScript backend does not support transparency; partially transparent artists will be rendered opaque.\n"
     ]
    },
    {
     "name": "stdout",
     "output_type": "stream",
     "text": [
      "Plot saved to /home/michele/Desktop/Dottorato/active_source_implementation/experiments_Brava_2/s0176/images/example_of_filtered_waveform/0_compaction_sv1_sv2_1568\n"
     ]
    },
    {
     "name": "stderr",
     "output_type": "stream",
     "text": [
      "The PostScript backend does not support transparency; partially transparent artists will be rendered opaque.\n"
     ]
    },
    {
     "name": "stdout",
     "output_type": "stream",
     "text": [
      "Plot saved to /home/michele/Desktop/Dottorato/active_source_implementation/experiments_Brava_2/s0176/images/example_of_filtered_waveform/0_compaction_sv1_sv2_1666\n"
     ]
    },
    {
     "name": "stderr",
     "output_type": "stream",
     "text": [
      "The PostScript backend does not support transparency; partially transparent artists will be rendered opaque.\n"
     ]
    },
    {
     "name": "stdout",
     "output_type": "stream",
     "text": [
      "Plot saved to /home/michele/Desktop/Dottorato/active_source_implementation/experiments_Brava_2/s0176/images/example_of_filtered_waveform/0_compaction_sv1_sv2_1764\n"
     ]
    },
    {
     "name": "stderr",
     "output_type": "stream",
     "text": [
      "The PostScript backend does not support transparency; partially transparent artists will be rendered opaque.\n"
     ]
    },
    {
     "name": "stdout",
     "output_type": "stream",
     "text": [
      "Plot saved to /home/michele/Desktop/Dottorato/active_source_implementation/experiments_Brava_2/s0176/images/example_of_filtered_waveform/0_compaction_sv1_sv2_1862\n"
     ]
    },
    {
     "name": "stderr",
     "output_type": "stream",
     "text": [
      "The PostScript backend does not support transparency; partially transparent artists will be rendered opaque.\n"
     ]
    },
    {
     "name": "stdout",
     "output_type": "stream",
     "text": [
      "Plot saved to /home/michele/Desktop/Dottorato/active_source_implementation/experiments_Brava_2/s0176/images/example_of_filtered_waveform/0_compaction_sv1_sv2_1960\n"
     ]
    },
    {
     "name": "stderr",
     "output_type": "stream",
     "text": [
      "The PostScript backend does not support transparency; partially transparent artists will be rendered opaque.\n"
     ]
    },
    {
     "name": "stdout",
     "output_type": "stream",
     "text": [
      "Plot saved to /home/michele/Desktop/Dottorato/active_source_implementation/experiments_Brava_2/s0176/images/example_of_filtered_waveform/0_compaction_sv1_sv2_2058\n"
     ]
    },
    {
     "name": "stderr",
     "output_type": "stream",
     "text": [
      "The PostScript backend does not support transparency; partially transparent artists will be rendered opaque.\n"
     ]
    },
    {
     "name": "stdout",
     "output_type": "stream",
     "text": [
      "Plot saved to /home/michele/Desktop/Dottorato/active_source_implementation/experiments_Brava_2/s0176/images/example_of_filtered_waveform/0_compaction_sv1_sv2_2156\n"
     ]
    },
    {
     "name": "stderr",
     "output_type": "stream",
     "text": [
      "The PostScript backend does not support transparency; partially transparent artists will be rendered opaque.\n"
     ]
    },
    {
     "name": "stdout",
     "output_type": "stream",
     "text": [
      "Plot saved to /home/michele/Desktop/Dottorato/active_source_implementation/experiments_Brava_2/s0176/images/example_of_filtered_waveform/0_compaction_sv1_sv2_2254\n"
     ]
    },
    {
     "name": "stderr",
     "output_type": "stream",
     "text": [
      "The PostScript backend does not support transparency; partially transparent artists will be rendered opaque.\n"
     ]
    },
    {
     "name": "stdout",
     "output_type": "stream",
     "text": [
      "Plot saved to /home/michele/Desktop/Dottorato/active_source_implementation/experiments_Brava_2/s0176/images/example_of_filtered_waveform/0_compaction_sv1_sv2_2352\n"
     ]
    },
    {
     "name": "stderr",
     "output_type": "stream",
     "text": [
      "The PostScript backend does not support transparency; partially transparent artists will be rendered opaque.\n"
     ]
    },
    {
     "name": "stdout",
     "output_type": "stream",
     "text": [
      "Plot saved to /home/michele/Desktop/Dottorato/active_source_implementation/experiments_Brava_2/s0176/images/example_of_filtered_waveform/0_compaction_sv1_sv2_2450\n"
     ]
    },
    {
     "name": "stderr",
     "output_type": "stream",
     "text": [
      "The PostScript backend does not support transparency; partially transparent artists will be rendered opaque.\n"
     ]
    },
    {
     "name": "stdout",
     "output_type": "stream",
     "text": [
      "Plot saved to /home/michele/Desktop/Dottorato/active_source_implementation/experiments_Brava_2/s0176/images/example_of_filtered_waveform/0_compaction_sv1_sv2_2548\n"
     ]
    },
    {
     "name": "stderr",
     "output_type": "stream",
     "text": [
      "The PostScript backend does not support transparency; partially transparent artists will be rendered opaque.\n"
     ]
    },
    {
     "name": "stdout",
     "output_type": "stream",
     "text": [
      "Plot saved to /home/michele/Desktop/Dottorato/active_source_implementation/experiments_Brava_2/s0176/images/example_of_filtered_waveform/0_compaction_sv1_sv2_2646\n"
     ]
    },
    {
     "name": "stderr",
     "output_type": "stream",
     "text": [
      "The PostScript backend does not support transparency; partially transparent artists will be rendered opaque.\n"
     ]
    },
    {
     "name": "stdout",
     "output_type": "stream",
     "text": [
      "Plot saved to /home/michele/Desktop/Dottorato/active_source_implementation/experiments_Brava_2/s0176/images/example_of_filtered_waveform/0_compaction_sv1_sv2_2744\n"
     ]
    },
    {
     "name": "stderr",
     "output_type": "stream",
     "text": [
      "The PostScript backend does not support transparency; partially transparent artists will be rendered opaque.\n"
     ]
    },
    {
     "name": "stdout",
     "output_type": "stream",
     "text": [
      "Plot saved to /home/michele/Desktop/Dottorato/active_source_implementation/experiments_Brava_2/s0176/images/example_of_filtered_waveform/0_compaction_sv1_sv2_2842\n"
     ]
    },
    {
     "name": "stderr",
     "output_type": "stream",
     "text": [
      "The PostScript backend does not support transparency; partially transparent artists will be rendered opaque.\n"
     ]
    },
    {
     "name": "stdout",
     "output_type": "stream",
     "text": [
      "Plot saved to /home/michele/Desktop/Dottorato/active_source_implementation/experiments_Brava_2/s0176/images/example_of_filtered_waveform/0_compaction_sv1_sv2_2940\n",
      "--- 21.800861597061157 seconds for processing 0_compaction_sv1_sv2---\n",
      "PROCESSING UW DATA IN /home/michele/Desktop/Dottorato/active_source_implementation/experiments_Brava_2/s0176/data_tsv_files/1_run_in_sv1_sh1.bscan.tsv: \n"
     ]
    },
    {
     "name": "stderr",
     "output_type": "stream",
     "text": [
      "The PostScript backend does not support transparency; partially transparent artists will be rendered opaque.\n"
     ]
    },
    {
     "name": "stdout",
     "output_type": "stream",
     "text": [
      "Plot saved to /home/michele/Desktop/Dottorato/active_source_implementation/experiments_Brava_2/s0176/images/waveforms/1_run_in_sv1_sh1\n",
      "number_of_samples\n",
      "sampling_rate\n",
      "time_ax_waveform\n",
      "number_of_waveforms\n",
      "acquisition_frequency\n",
      "time_ax_acquisition\n",
      "Plot saved to /home/michele/Desktop/Dottorato/active_source_implementation/experiments_Brava_2/s0176/images/amplitude_maps/1_run_in_sv1_sh1\n"
     ]
    },
    {
     "name": "stderr",
     "output_type": "stream",
     "text": [
      "The PostScript backend does not support transparency; partially transparent artists will be rendered opaque.\n"
     ]
    },
    {
     "name": "stdout",
     "output_type": "stream",
     "text": [
      "Plot saved to /home/michele/Desktop/Dottorato/active_source_implementation/experiments_Brava_2/s0176/images/waveforms/1_run_in_sv1_sh1_filtered\n",
      "number_of_samples\n",
      "sampling_rate\n",
      "time_ax_waveform\n",
      "number_of_waveforms\n",
      "acquisition_frequency\n",
      "time_ax_acquisition\n"
     ]
    },
    {
     "name": "stderr",
     "output_type": "stream",
     "text": [
      "The PostScript backend does not support transparency; partially transparent artists will be rendered opaque.\n"
     ]
    },
    {
     "name": "stdout",
     "output_type": "stream",
     "text": [
      "Plot saved to /home/michele/Desktop/Dottorato/active_source_implementation/experiments_Brava_2/s0176/images/amplitude_maps/1_run_in_sv1_sh1_filtered\n"
     ]
    },
    {
     "name": "stderr",
     "output_type": "stream",
     "text": [
      "The PostScript backend does not support transparency; partially transparent artists will be rendered opaque.\n"
     ]
    },
    {
     "name": "stdout",
     "output_type": "stream",
     "text": [
      "Plot saved to /home/michele/Desktop/Dottorato/active_source_implementation/experiments_Brava_2/s0176/images/example_of_filtered_waveform/1_run_in_sv1_sh1_0\n"
     ]
    },
    {
     "name": "stderr",
     "output_type": "stream",
     "text": [
      "The PostScript backend does not support transparency; partially transparent artists will be rendered opaque.\n"
     ]
    },
    {
     "name": "stdout",
     "output_type": "stream",
     "text": [
      "Plot saved to /home/michele/Desktop/Dottorato/active_source_implementation/experiments_Brava_2/s0176/images/example_of_filtered_waveform/1_run_in_sv1_sh1_26\n"
     ]
    },
    {
     "name": "stderr",
     "output_type": "stream",
     "text": [
      "The PostScript backend does not support transparency; partially transparent artists will be rendered opaque.\n"
     ]
    },
    {
     "name": "stdout",
     "output_type": "stream",
     "text": [
      "Plot saved to /home/michele/Desktop/Dottorato/active_source_implementation/experiments_Brava_2/s0176/images/example_of_filtered_waveform/1_run_in_sv1_sh1_52\n"
     ]
    },
    {
     "name": "stderr",
     "output_type": "stream",
     "text": [
      "The PostScript backend does not support transparency; partially transparent artists will be rendered opaque.\n"
     ]
    },
    {
     "name": "stdout",
     "output_type": "stream",
     "text": [
      "Plot saved to /home/michele/Desktop/Dottorato/active_source_implementation/experiments_Brava_2/s0176/images/example_of_filtered_waveform/1_run_in_sv1_sh1_78\n"
     ]
    },
    {
     "name": "stderr",
     "output_type": "stream",
     "text": [
      "The PostScript backend does not support transparency; partially transparent artists will be rendered opaque.\n"
     ]
    },
    {
     "name": "stdout",
     "output_type": "stream",
     "text": [
      "Plot saved to /home/michele/Desktop/Dottorato/active_source_implementation/experiments_Brava_2/s0176/images/example_of_filtered_waveform/1_run_in_sv1_sh1_104\n"
     ]
    },
    {
     "name": "stderr",
     "output_type": "stream",
     "text": [
      "The PostScript backend does not support transparency; partially transparent artists will be rendered opaque.\n"
     ]
    },
    {
     "name": "stdout",
     "output_type": "stream",
     "text": [
      "Plot saved to /home/michele/Desktop/Dottorato/active_source_implementation/experiments_Brava_2/s0176/images/example_of_filtered_waveform/1_run_in_sv1_sh1_130\n"
     ]
    },
    {
     "name": "stderr",
     "output_type": "stream",
     "text": [
      "The PostScript backend does not support transparency; partially transparent artists will be rendered opaque.\n"
     ]
    },
    {
     "name": "stdout",
     "output_type": "stream",
     "text": [
      "Plot saved to /home/michele/Desktop/Dottorato/active_source_implementation/experiments_Brava_2/s0176/images/example_of_filtered_waveform/1_run_in_sv1_sh1_156\n"
     ]
    },
    {
     "name": "stderr",
     "output_type": "stream",
     "text": [
      "The PostScript backend does not support transparency; partially transparent artists will be rendered opaque.\n"
     ]
    },
    {
     "name": "stdout",
     "output_type": "stream",
     "text": [
      "Plot saved to /home/michele/Desktop/Dottorato/active_source_implementation/experiments_Brava_2/s0176/images/example_of_filtered_waveform/1_run_in_sv1_sh1_182\n"
     ]
    },
    {
     "name": "stderr",
     "output_type": "stream",
     "text": [
      "The PostScript backend does not support transparency; partially transparent artists will be rendered opaque.\n"
     ]
    },
    {
     "name": "stdout",
     "output_type": "stream",
     "text": [
      "Plot saved to /home/michele/Desktop/Dottorato/active_source_implementation/experiments_Brava_2/s0176/images/example_of_filtered_waveform/1_run_in_sv1_sh1_208\n"
     ]
    },
    {
     "name": "stderr",
     "output_type": "stream",
     "text": [
      "The PostScript backend does not support transparency; partially transparent artists will be rendered opaque.\n"
     ]
    },
    {
     "name": "stdout",
     "output_type": "stream",
     "text": [
      "Plot saved to /home/michele/Desktop/Dottorato/active_source_implementation/experiments_Brava_2/s0176/images/example_of_filtered_waveform/1_run_in_sv1_sh1_234\n"
     ]
    },
    {
     "name": "stderr",
     "output_type": "stream",
     "text": [
      "The PostScript backend does not support transparency; partially transparent artists will be rendered opaque.\n"
     ]
    },
    {
     "name": "stdout",
     "output_type": "stream",
     "text": [
      "Plot saved to /home/michele/Desktop/Dottorato/active_source_implementation/experiments_Brava_2/s0176/images/example_of_filtered_waveform/1_run_in_sv1_sh1_260\n"
     ]
    },
    {
     "name": "stderr",
     "output_type": "stream",
     "text": [
      "The PostScript backend does not support transparency; partially transparent artists will be rendered opaque.\n"
     ]
    },
    {
     "name": "stdout",
     "output_type": "stream",
     "text": [
      "Plot saved to /home/michele/Desktop/Dottorato/active_source_implementation/experiments_Brava_2/s0176/images/example_of_filtered_waveform/1_run_in_sv1_sh1_286\n",
      "Plot saved to /home/michele/Desktop/Dottorato/active_source_implementation/experiments_Brava_2/s0176/images/example_of_filtered_waveform/1_run_in_sv1_sh1_312\n"
     ]
    },
    {
     "name": "stderr",
     "output_type": "stream",
     "text": [
      "The PostScript backend does not support transparency; partially transparent artists will be rendered opaque.\n"
     ]
    },
    {
     "name": "stdout",
     "output_type": "stream",
     "text": [
      "Plot saved to /home/michele/Desktop/Dottorato/active_source_implementation/experiments_Brava_2/s0176/images/example_of_filtered_waveform/1_run_in_sv1_sh1_338\n"
     ]
    },
    {
     "name": "stderr",
     "output_type": "stream",
     "text": [
      "The PostScript backend does not support transparency; partially transparent artists will be rendered opaque.\n"
     ]
    },
    {
     "name": "stdout",
     "output_type": "stream",
     "text": [
      "Plot saved to /home/michele/Desktop/Dottorato/active_source_implementation/experiments_Brava_2/s0176/images/example_of_filtered_waveform/1_run_in_sv1_sh1_364\n"
     ]
    },
    {
     "name": "stderr",
     "output_type": "stream",
     "text": [
      "The PostScript backend does not support transparency; partially transparent artists will be rendered opaque.\n",
      "The PostScript backend does not support transparency; partially transparent artists will be rendered opaque.\n"
     ]
    },
    {
     "name": "stdout",
     "output_type": "stream",
     "text": [
      "Plot saved to /home/michele/Desktop/Dottorato/active_source_implementation/experiments_Brava_2/s0176/images/example_of_filtered_waveform/1_run_in_sv1_sh1_390\n"
     ]
    },
    {
     "name": "stderr",
     "output_type": "stream",
     "text": [
      "The PostScript backend does not support transparency; partially transparent artists will be rendered opaque.\n"
     ]
    },
    {
     "name": "stdout",
     "output_type": "stream",
     "text": [
      "Plot saved to /home/michele/Desktop/Dottorato/active_source_implementation/experiments_Brava_2/s0176/images/example_of_filtered_waveform/1_run_in_sv1_sh1_416\n"
     ]
    },
    {
     "name": "stderr",
     "output_type": "stream",
     "text": [
      "The PostScript backend does not support transparency; partially transparent artists will be rendered opaque.\n"
     ]
    },
    {
     "name": "stdout",
     "output_type": "stream",
     "text": [
      "Plot saved to /home/michele/Desktop/Dottorato/active_source_implementation/experiments_Brava_2/s0176/images/example_of_filtered_waveform/1_run_in_sv1_sh1_442\n"
     ]
    },
    {
     "name": "stderr",
     "output_type": "stream",
     "text": [
      "The PostScript backend does not support transparency; partially transparent artists will be rendered opaque.\n"
     ]
    },
    {
     "name": "stdout",
     "output_type": "stream",
     "text": [
      "Plot saved to /home/michele/Desktop/Dottorato/active_source_implementation/experiments_Brava_2/s0176/images/example_of_filtered_waveform/1_run_in_sv1_sh1_468\n",
      "Plot saved to /home/michele/Desktop/Dottorato/active_source_implementation/experiments_Brava_2/s0176/images/example_of_filtered_waveform/1_run_in_sv1_sh1_494\n"
     ]
    },
    {
     "name": "stderr",
     "output_type": "stream",
     "text": [
      "The PostScript backend does not support transparency; partially transparent artists will be rendered opaque.\n",
      "The PostScript backend does not support transparency; partially transparent artists will be rendered opaque.\n"
     ]
    },
    {
     "name": "stdout",
     "output_type": "stream",
     "text": [
      "Plot saved to /home/michele/Desktop/Dottorato/active_source_implementation/experiments_Brava_2/s0176/images/example_of_filtered_waveform/1_run_in_sv1_sh1_520\n"
     ]
    },
    {
     "name": "stderr",
     "output_type": "stream",
     "text": [
      "The PostScript backend does not support transparency; partially transparent artists will be rendered opaque.\n"
     ]
    },
    {
     "name": "stdout",
     "output_type": "stream",
     "text": [
      "Plot saved to /home/michele/Desktop/Dottorato/active_source_implementation/experiments_Brava_2/s0176/images/example_of_filtered_waveform/1_run_in_sv1_sh1_546\n"
     ]
    },
    {
     "name": "stderr",
     "output_type": "stream",
     "text": [
      "The PostScript backend does not support transparency; partially transparent artists will be rendered opaque.\n"
     ]
    },
    {
     "name": "stdout",
     "output_type": "stream",
     "text": [
      "Plot saved to /home/michele/Desktop/Dottorato/active_source_implementation/experiments_Brava_2/s0176/images/example_of_filtered_waveform/1_run_in_sv1_sh1_572\n",
      "Plot saved to /home/michele/Desktop/Dottorato/active_source_implementation/experiments_Brava_2/s0176/images/example_of_filtered_waveform/1_run_in_sv1_sh1_598\n"
     ]
    },
    {
     "name": "stderr",
     "output_type": "stream",
     "text": [
      "The PostScript backend does not support transparency; partially transparent artists will be rendered opaque.\n",
      "The PostScript backend does not support transparency; partially transparent artists will be rendered opaque.\n"
     ]
    },
    {
     "name": "stdout",
     "output_type": "stream",
     "text": [
      "Plot saved to /home/michele/Desktop/Dottorato/active_source_implementation/experiments_Brava_2/s0176/images/example_of_filtered_waveform/1_run_in_sv1_sh1_624\n"
     ]
    },
    {
     "name": "stderr",
     "output_type": "stream",
     "text": [
      "The PostScript backend does not support transparency; partially transparent artists will be rendered opaque.\n"
     ]
    },
    {
     "name": "stdout",
     "output_type": "stream",
     "text": [
      "Plot saved to /home/michele/Desktop/Dottorato/active_source_implementation/experiments_Brava_2/s0176/images/example_of_filtered_waveform/1_run_in_sv1_sh1_650\n"
     ]
    },
    {
     "name": "stderr",
     "output_type": "stream",
     "text": [
      "The PostScript backend does not support transparency; partially transparent artists will be rendered opaque.\n"
     ]
    },
    {
     "name": "stdout",
     "output_type": "stream",
     "text": [
      "Plot saved to /home/michele/Desktop/Dottorato/active_source_implementation/experiments_Brava_2/s0176/images/example_of_filtered_waveform/1_run_in_sv1_sh1_676\n"
     ]
    },
    {
     "name": "stderr",
     "output_type": "stream",
     "text": [
      "The PostScript backend does not support transparency; partially transparent artists will be rendered opaque.\n"
     ]
    },
    {
     "name": "stdout",
     "output_type": "stream",
     "text": [
      "Plot saved to /home/michele/Desktop/Dottorato/active_source_implementation/experiments_Brava_2/s0176/images/example_of_filtered_waveform/1_run_in_sv1_sh1_702\n",
      "Plot saved to /home/michele/Desktop/Dottorato/active_source_implementation/experiments_Brava_2/s0176/images/example_of_filtered_waveform/1_run_in_sv1_sh1_728\n"
     ]
    },
    {
     "name": "stderr",
     "output_type": "stream",
     "text": [
      "The PostScript backend does not support transparency; partially transparent artists will be rendered opaque.\n",
      "The PostScript backend does not support transparency; partially transparent artists will be rendered opaque.\n"
     ]
    },
    {
     "name": "stdout",
     "output_type": "stream",
     "text": [
      "Plot saved to /home/michele/Desktop/Dottorato/active_source_implementation/experiments_Brava_2/s0176/images/example_of_filtered_waveform/1_run_in_sv1_sh1_754\n"
     ]
    },
    {
     "name": "stderr",
     "output_type": "stream",
     "text": [
      "The PostScript backend does not support transparency; partially transparent artists will be rendered opaque.\n"
     ]
    },
    {
     "name": "stdout",
     "output_type": "stream",
     "text": [
      "Plot saved to /home/michele/Desktop/Dottorato/active_source_implementation/experiments_Brava_2/s0176/images/example_of_filtered_waveform/1_run_in_sv1_sh1_780\n",
      "Plot saved to /home/michele/Desktop/Dottorato/active_source_implementation/experiments_Brava_2/s0176/images/example_of_filtered_waveform/1_run_in_sv1_sh1_806\n",
      "--- 18.074158430099487 seconds for processing 1_run_in_sv1_sh1---\n",
      "PROCESSING UW DATA IN /home/michele/Desktop/Dottorato/active_source_implementation/experiments_Brava_2/s0176/data_tsv_files/1_run_in_sv1_sh2.bscan.tsv: \n",
      "PROCESSING UW DATA IN /home/michele/Desktop/Dottorato/active_source_implementation/experiments_Brava_2/s0176/data_tsv_files/1_run_in_sv1_sv1.bscan.tsv: \n"
     ]
    },
    {
     "name": "stderr",
     "output_type": "stream",
     "text": [
      "The PostScript backend does not support transparency; partially transparent artists will be rendered opaque.\n"
     ]
    },
    {
     "name": "stdout",
     "output_type": "stream",
     "text": [
      "Plot saved to /home/michele/Desktop/Dottorato/active_source_implementation/experiments_Brava_2/s0176/images/waveforms/1_run_in_sv1_sv1\n",
      "number_of_samples\n",
      "sampling_rate\n",
      "time_ax_waveform\n",
      "number_of_waveforms\n",
      "acquisition_frequency\n",
      "time_ax_acquisition\n",
      "Plot saved to /home/michele/Desktop/Dottorato/active_source_implementation/experiments_Brava_2/s0176/images/amplitude_maps/1_run_in_sv1_sv1\n"
     ]
    },
    {
     "name": "stderr",
     "output_type": "stream",
     "text": [
      "The PostScript backend does not support transparency; partially transparent artists will be rendered opaque.\n"
     ]
    },
    {
     "name": "stdout",
     "output_type": "stream",
     "text": [
      "Plot saved to /home/michele/Desktop/Dottorato/active_source_implementation/experiments_Brava_2/s0176/images/waveforms/1_run_in_sv1_sv1_filtered\n",
      "number_of_samples\n",
      "sampling_rate\n",
      "time_ax_waveform\n",
      "number_of_waveforms\n",
      "acquisition_frequency\n",
      "time_ax_acquisition\n"
     ]
    },
    {
     "name": "stderr",
     "output_type": "stream",
     "text": [
      "The PostScript backend does not support transparency; partially transparent artists will be rendered opaque.\n"
     ]
    },
    {
     "name": "stdout",
     "output_type": "stream",
     "text": [
      "Plot saved to /home/michele/Desktop/Dottorato/active_source_implementation/experiments_Brava_2/s0176/images/amplitude_maps/1_run_in_sv1_sv1_filtered\n"
     ]
    },
    {
     "name": "stderr",
     "output_type": "stream",
     "text": [
      "The PostScript backend does not support transparency; partially transparent artists will be rendered opaque.\n"
     ]
    },
    {
     "name": "stdout",
     "output_type": "stream",
     "text": [
      "Plot saved to /home/michele/Desktop/Dottorato/active_source_implementation/experiments_Brava_2/s0176/images/example_of_filtered_waveform/1_run_in_sv1_sv1_0\n"
     ]
    },
    {
     "name": "stderr",
     "output_type": "stream",
     "text": [
      "The PostScript backend does not support transparency; partially transparent artists will be rendered opaque.\n"
     ]
    },
    {
     "name": "stdout",
     "output_type": "stream",
     "text": [
      "Plot saved to /home/michele/Desktop/Dottorato/active_source_implementation/experiments_Brava_2/s0176/images/example_of_filtered_waveform/1_run_in_sv1_sv1_26\n"
     ]
    },
    {
     "name": "stderr",
     "output_type": "stream",
     "text": [
      "The PostScript backend does not support transparency; partially transparent artists will be rendered opaque.\n"
     ]
    },
    {
     "name": "stdout",
     "output_type": "stream",
     "text": [
      "Plot saved to /home/michele/Desktop/Dottorato/active_source_implementation/experiments_Brava_2/s0176/images/example_of_filtered_waveform/1_run_in_sv1_sv1_52\n"
     ]
    },
    {
     "name": "stderr",
     "output_type": "stream",
     "text": [
      "The PostScript backend does not support transparency; partially transparent artists will be rendered opaque.\n"
     ]
    },
    {
     "name": "stdout",
     "output_type": "stream",
     "text": [
      "Plot saved to /home/michele/Desktop/Dottorato/active_source_implementation/experiments_Brava_2/s0176/images/example_of_filtered_waveform/1_run_in_sv1_sv1_78\n"
     ]
    },
    {
     "name": "stderr",
     "output_type": "stream",
     "text": [
      "The PostScript backend does not support transparency; partially transparent artists will be rendered opaque.\n"
     ]
    },
    {
     "name": "stdout",
     "output_type": "stream",
     "text": [
      "Plot saved to /home/michele/Desktop/Dottorato/active_source_implementation/experiments_Brava_2/s0176/images/example_of_filtered_waveform/1_run_in_sv1_sv1_104\n"
     ]
    },
    {
     "name": "stderr",
     "output_type": "stream",
     "text": [
      "The PostScript backend does not support transparency; partially transparent artists will be rendered opaque.\n"
     ]
    },
    {
     "name": "stdout",
     "output_type": "stream",
     "text": [
      "Plot saved to /home/michele/Desktop/Dottorato/active_source_implementation/experiments_Brava_2/s0176/images/example_of_filtered_waveform/1_run_in_sv1_sv1_130\n"
     ]
    },
    {
     "name": "stderr",
     "output_type": "stream",
     "text": [
      "The PostScript backend does not support transparency; partially transparent artists will be rendered opaque.\n"
     ]
    },
    {
     "name": "stdout",
     "output_type": "stream",
     "text": [
      "Plot saved to /home/michele/Desktop/Dottorato/active_source_implementation/experiments_Brava_2/s0176/images/example_of_filtered_waveform/1_run_in_sv1_sv1_156\n"
     ]
    },
    {
     "name": "stderr",
     "output_type": "stream",
     "text": [
      "The PostScript backend does not support transparency; partially transparent artists will be rendered opaque.\n"
     ]
    },
    {
     "name": "stdout",
     "output_type": "stream",
     "text": [
      "Plot saved to /home/michele/Desktop/Dottorato/active_source_implementation/experiments_Brava_2/s0176/images/example_of_filtered_waveform/1_run_in_sv1_sv1_182\n"
     ]
    },
    {
     "name": "stderr",
     "output_type": "stream",
     "text": [
      "The PostScript backend does not support transparency; partially transparent artists will be rendered opaque.\n"
     ]
    },
    {
     "name": "stdout",
     "output_type": "stream",
     "text": [
      "Plot saved to /home/michele/Desktop/Dottorato/active_source_implementation/experiments_Brava_2/s0176/images/example_of_filtered_waveform/1_run_in_sv1_sv1_208\n"
     ]
    },
    {
     "name": "stderr",
     "output_type": "stream",
     "text": [
      "The PostScript backend does not support transparency; partially transparent artists will be rendered opaque.\n"
     ]
    },
    {
     "name": "stdout",
     "output_type": "stream",
     "text": [
      "Plot saved to /home/michele/Desktop/Dottorato/active_source_implementation/experiments_Brava_2/s0176/images/example_of_filtered_waveform/1_run_in_sv1_sv1_234\n",
      "Plot saved to /home/michele/Desktop/Dottorato/active_source_implementation/experiments_Brava_2/s0176/images/example_of_filtered_waveform/1_run_in_sv1_sv1_260\n"
     ]
    },
    {
     "name": "stderr",
     "output_type": "stream",
     "text": [
      "The PostScript backend does not support transparency; partially transparent artists will be rendered opaque.\n"
     ]
    },
    {
     "name": "stdout",
     "output_type": "stream",
     "text": [
      "Plot saved to /home/michele/Desktop/Dottorato/active_source_implementation/experiments_Brava_2/s0176/images/example_of_filtered_waveform/1_run_in_sv1_sv1_286\n"
     ]
    },
    {
     "name": "stderr",
     "output_type": "stream",
     "text": [
      "The PostScript backend does not support transparency; partially transparent artists will be rendered opaque.\n"
     ]
    },
    {
     "name": "stdout",
     "output_type": "stream",
     "text": [
      "Plot saved to /home/michele/Desktop/Dottorato/active_source_implementation/experiments_Brava_2/s0176/images/example_of_filtered_waveform/1_run_in_sv1_sv1_312\n"
     ]
    },
    {
     "name": "stderr",
     "output_type": "stream",
     "text": [
      "The PostScript backend does not support transparency; partially transparent artists will be rendered opaque.\n"
     ]
    },
    {
     "name": "stdout",
     "output_type": "stream",
     "text": [
      "Plot saved to /home/michele/Desktop/Dottorato/active_source_implementation/experiments_Brava_2/s0176/images/example_of_filtered_waveform/1_run_in_sv1_sv1_338\n"
     ]
    },
    {
     "name": "stderr",
     "output_type": "stream",
     "text": [
      "The PostScript backend does not support transparency; partially transparent artists will be rendered opaque.\n"
     ]
    },
    {
     "name": "stdout",
     "output_type": "stream",
     "text": [
      "Plot saved to /home/michele/Desktop/Dottorato/active_source_implementation/experiments_Brava_2/s0176/images/example_of_filtered_waveform/1_run_in_sv1_sv1_364\n"
     ]
    },
    {
     "name": "stderr",
     "output_type": "stream",
     "text": [
      "The PostScript backend does not support transparency; partially transparent artists will be rendered opaque.\n"
     ]
    },
    {
     "name": "stdout",
     "output_type": "stream",
     "text": [
      "Plot saved to /home/michele/Desktop/Dottorato/active_source_implementation/experiments_Brava_2/s0176/images/example_of_filtered_waveform/1_run_in_sv1_sv1_390\n"
     ]
    },
    {
     "name": "stderr",
     "output_type": "stream",
     "text": [
      "The PostScript backend does not support transparency; partially transparent artists will be rendered opaque.\n"
     ]
    },
    {
     "name": "stdout",
     "output_type": "stream",
     "text": [
      "Plot saved to /home/michele/Desktop/Dottorato/active_source_implementation/experiments_Brava_2/s0176/images/example_of_filtered_waveform/1_run_in_sv1_sv1_416\n"
     ]
    },
    {
     "name": "stderr",
     "output_type": "stream",
     "text": [
      "The PostScript backend does not support transparency; partially transparent artists will be rendered opaque.\n"
     ]
    },
    {
     "name": "stdout",
     "output_type": "stream",
     "text": [
      "Plot saved to /home/michele/Desktop/Dottorato/active_source_implementation/experiments_Brava_2/s0176/images/example_of_filtered_waveform/1_run_in_sv1_sv1_442\n"
     ]
    },
    {
     "name": "stderr",
     "output_type": "stream",
     "text": [
      "The PostScript backend does not support transparency; partially transparent artists will be rendered opaque.\n"
     ]
    },
    {
     "name": "stdout",
     "output_type": "stream",
     "text": [
      "Plot saved to /home/michele/Desktop/Dottorato/active_source_implementation/experiments_Brava_2/s0176/images/example_of_filtered_waveform/1_run_in_sv1_sv1_468\n"
     ]
    },
    {
     "name": "stderr",
     "output_type": "stream",
     "text": [
      "The PostScript backend does not support transparency; partially transparent artists will be rendered opaque.\n"
     ]
    },
    {
     "name": "stdout",
     "output_type": "stream",
     "text": [
      "Plot saved to /home/michele/Desktop/Dottorato/active_source_implementation/experiments_Brava_2/s0176/images/example_of_filtered_waveform/1_run_in_sv1_sv1_494\n"
     ]
    },
    {
     "name": "stderr",
     "output_type": "stream",
     "text": [
      "The PostScript backend does not support transparency; partially transparent artists will be rendered opaque.\n"
     ]
    },
    {
     "name": "stdout",
     "output_type": "stream",
     "text": [
      "Plot saved to /home/michele/Desktop/Dottorato/active_source_implementation/experiments_Brava_2/s0176/images/example_of_filtered_waveform/1_run_in_sv1_sv1_520\n"
     ]
    },
    {
     "name": "stderr",
     "output_type": "stream",
     "text": [
      "The PostScript backend does not support transparency; partially transparent artists will be rendered opaque.\n"
     ]
    },
    {
     "name": "stdout",
     "output_type": "stream",
     "text": [
      "Plot saved to /home/michele/Desktop/Dottorato/active_source_implementation/experiments_Brava_2/s0176/images/example_of_filtered_waveform/1_run_in_sv1_sv1_546\n"
     ]
    },
    {
     "name": "stderr",
     "output_type": "stream",
     "text": [
      "The PostScript backend does not support transparency; partially transparent artists will be rendered opaque.\n"
     ]
    },
    {
     "name": "stdout",
     "output_type": "stream",
     "text": [
      "Plot saved to /home/michele/Desktop/Dottorato/active_source_implementation/experiments_Brava_2/s0176/images/example_of_filtered_waveform/1_run_in_sv1_sv1_572\n"
     ]
    },
    {
     "name": "stderr",
     "output_type": "stream",
     "text": [
      "The PostScript backend does not support transparency; partially transparent artists will be rendered opaque.\n"
     ]
    },
    {
     "name": "stdout",
     "output_type": "stream",
     "text": [
      "Plot saved to /home/michele/Desktop/Dottorato/active_source_implementation/experiments_Brava_2/s0176/images/example_of_filtered_waveform/1_run_in_sv1_sv1_598\n"
     ]
    },
    {
     "name": "stderr",
     "output_type": "stream",
     "text": [
      "The PostScript backend does not support transparency; partially transparent artists will be rendered opaque.\n"
     ]
    },
    {
     "name": "stdout",
     "output_type": "stream",
     "text": [
      "Plot saved to /home/michele/Desktop/Dottorato/active_source_implementation/experiments_Brava_2/s0176/images/example_of_filtered_waveform/1_run_in_sv1_sv1_624\n"
     ]
    },
    {
     "name": "stderr",
     "output_type": "stream",
     "text": [
      "The PostScript backend does not support transparency; partially transparent artists will be rendered opaque.\n"
     ]
    },
    {
     "name": "stdout",
     "output_type": "stream",
     "text": [
      "Plot saved to /home/michele/Desktop/Dottorato/active_source_implementation/experiments_Brava_2/s0176/images/example_of_filtered_waveform/1_run_in_sv1_sv1_650\n"
     ]
    },
    {
     "name": "stderr",
     "output_type": "stream",
     "text": [
      "The PostScript backend does not support transparency; partially transparent artists will be rendered opaque.\n"
     ]
    },
    {
     "name": "stdout",
     "output_type": "stream",
     "text": [
      "Plot saved to /home/michele/Desktop/Dottorato/active_source_implementation/experiments_Brava_2/s0176/images/example_of_filtered_waveform/1_run_in_sv1_sv1_676\n"
     ]
    },
    {
     "name": "stderr",
     "output_type": "stream",
     "text": [
      "The PostScript backend does not support transparency; partially transparent artists will be rendered opaque.\n"
     ]
    },
    {
     "name": "stdout",
     "output_type": "stream",
     "text": [
      "Plot saved to /home/michele/Desktop/Dottorato/active_source_implementation/experiments_Brava_2/s0176/images/example_of_filtered_waveform/1_run_in_sv1_sv1_702\n"
     ]
    },
    {
     "name": "stderr",
     "output_type": "stream",
     "text": [
      "The PostScript backend does not support transparency; partially transparent artists will be rendered opaque.\n"
     ]
    },
    {
     "name": "stdout",
     "output_type": "stream",
     "text": [
      "Plot saved to /home/michele/Desktop/Dottorato/active_source_implementation/experiments_Brava_2/s0176/images/example_of_filtered_waveform/1_run_in_sv1_sv1_728\n"
     ]
    },
    {
     "name": "stderr",
     "output_type": "stream",
     "text": [
      "The PostScript backend does not support transparency; partially transparent artists will be rendered opaque.\n"
     ]
    },
    {
     "name": "stdout",
     "output_type": "stream",
     "text": [
      "Plot saved to /home/michele/Desktop/Dottorato/active_source_implementation/experiments_Brava_2/s0176/images/example_of_filtered_waveform/1_run_in_sv1_sv1_754\n"
     ]
    },
    {
     "name": "stderr",
     "output_type": "stream",
     "text": [
      "The PostScript backend does not support transparency; partially transparent artists will be rendered opaque.\n"
     ]
    },
    {
     "name": "stdout",
     "output_type": "stream",
     "text": [
      "Plot saved to /home/michele/Desktop/Dottorato/active_source_implementation/experiments_Brava_2/s0176/images/example_of_filtered_waveform/1_run_in_sv1_sv1_780\n"
     ]
    },
    {
     "name": "stderr",
     "output_type": "stream",
     "text": [
      "The PostScript backend does not support transparency; partially transparent artists will be rendered opaque.\n"
     ]
    },
    {
     "name": "stdout",
     "output_type": "stream",
     "text": [
      "Plot saved to /home/michele/Desktop/Dottorato/active_source_implementation/experiments_Brava_2/s0176/images/example_of_filtered_waveform/1_run_in_sv1_sv1_806\n",
      "--- 19.873803853988647 seconds for processing 1_run_in_sv1_sv1---\n",
      "PROCESSING UW DATA IN /home/michele/Desktop/Dottorato/active_source_implementation/experiments_Brava_2/s0176/data_tsv_files/1_run_in_sv1_sv2.bscan.tsv: \n"
     ]
    },
    {
     "name": "stderr",
     "output_type": "stream",
     "text": [
      "The PostScript backend does not support transparency; partially transparent artists will be rendered opaque.\n"
     ]
    },
    {
     "name": "stdout",
     "output_type": "stream",
     "text": [
      "Plot saved to /home/michele/Desktop/Dottorato/active_source_implementation/experiments_Brava_2/s0176/images/waveforms/1_run_in_sv1_sv2\n",
      "number_of_samples\n",
      "sampling_rate\n",
      "time_ax_waveform\n",
      "number_of_waveforms\n",
      "acquisition_frequency\n",
      "time_ax_acquisition\n",
      "Plot saved to /home/michele/Desktop/Dottorato/active_source_implementation/experiments_Brava_2/s0176/images/amplitude_maps/1_run_in_sv1_sv2\n"
     ]
    },
    {
     "name": "stderr",
     "output_type": "stream",
     "text": [
      "The PostScript backend does not support transparency; partially transparent artists will be rendered opaque.\n"
     ]
    },
    {
     "name": "stdout",
     "output_type": "stream",
     "text": [
      "Plot saved to /home/michele/Desktop/Dottorato/active_source_implementation/experiments_Brava_2/s0176/images/waveforms/1_run_in_sv1_sv2_filtered\n",
      "number_of_samples\n",
      "sampling_rate\n",
      "time_ax_waveform\n",
      "number_of_waveforms\n",
      "acquisition_frequency\n",
      "time_ax_acquisition\n"
     ]
    },
    {
     "name": "stderr",
     "output_type": "stream",
     "text": [
      "The PostScript backend does not support transparency; partially transparent artists will be rendered opaque.\n"
     ]
    },
    {
     "name": "stdout",
     "output_type": "stream",
     "text": [
      "Plot saved to /home/michele/Desktop/Dottorato/active_source_implementation/experiments_Brava_2/s0176/images/amplitude_maps/1_run_in_sv1_sv2_filtered\n"
     ]
    },
    {
     "name": "stderr",
     "output_type": "stream",
     "text": [
      "The PostScript backend does not support transparency; partially transparent artists will be rendered opaque.\n"
     ]
    },
    {
     "name": "stdout",
     "output_type": "stream",
     "text": [
      "Plot saved to /home/michele/Desktop/Dottorato/active_source_implementation/experiments_Brava_2/s0176/images/example_of_filtered_waveform/1_run_in_sv1_sv2_0\n"
     ]
    },
    {
     "name": "stderr",
     "output_type": "stream",
     "text": [
      "The PostScript backend does not support transparency; partially transparent artists will be rendered opaque.\n"
     ]
    },
    {
     "name": "stdout",
     "output_type": "stream",
     "text": [
      "Plot saved to /home/michele/Desktop/Dottorato/active_source_implementation/experiments_Brava_2/s0176/images/example_of_filtered_waveform/1_run_in_sv1_sv2_26\n"
     ]
    },
    {
     "name": "stderr",
     "output_type": "stream",
     "text": [
      "The PostScript backend does not support transparency; partially transparent artists will be rendered opaque.\n"
     ]
    },
    {
     "name": "stdout",
     "output_type": "stream",
     "text": [
      "Plot saved to /home/michele/Desktop/Dottorato/active_source_implementation/experiments_Brava_2/s0176/images/example_of_filtered_waveform/1_run_in_sv1_sv2_52\n"
     ]
    },
    {
     "name": "stderr",
     "output_type": "stream",
     "text": [
      "The PostScript backend does not support transparency; partially transparent artists will be rendered opaque.\n"
     ]
    },
    {
     "name": "stdout",
     "output_type": "stream",
     "text": [
      "Plot saved to /home/michele/Desktop/Dottorato/active_source_implementation/experiments_Brava_2/s0176/images/example_of_filtered_waveform/1_run_in_sv1_sv2_78\n"
     ]
    },
    {
     "name": "stderr",
     "output_type": "stream",
     "text": [
      "The PostScript backend does not support transparency; partially transparent artists will be rendered opaque.\n"
     ]
    },
    {
     "name": "stdout",
     "output_type": "stream",
     "text": [
      "Plot saved to /home/michele/Desktop/Dottorato/active_source_implementation/experiments_Brava_2/s0176/images/example_of_filtered_waveform/1_run_in_sv1_sv2_104\n"
     ]
    },
    {
     "name": "stderr",
     "output_type": "stream",
     "text": [
      "The PostScript backend does not support transparency; partially transparent artists will be rendered opaque.\n"
     ]
    },
    {
     "name": "stdout",
     "output_type": "stream",
     "text": [
      "Plot saved to /home/michele/Desktop/Dottorato/active_source_implementation/experiments_Brava_2/s0176/images/example_of_filtered_waveform/1_run_in_sv1_sv2_130\n"
     ]
    },
    {
     "name": "stderr",
     "output_type": "stream",
     "text": [
      "The PostScript backend does not support transparency; partially transparent artists will be rendered opaque.\n"
     ]
    },
    {
     "name": "stdout",
     "output_type": "stream",
     "text": [
      "Plot saved to /home/michele/Desktop/Dottorato/active_source_implementation/experiments_Brava_2/s0176/images/example_of_filtered_waveform/1_run_in_sv1_sv2_156\n"
     ]
    },
    {
     "name": "stderr",
     "output_type": "stream",
     "text": [
      "The PostScript backend does not support transparency; partially transparent artists will be rendered opaque.\n"
     ]
    },
    {
     "name": "stdout",
     "output_type": "stream",
     "text": [
      "Plot saved to /home/michele/Desktop/Dottorato/active_source_implementation/experiments_Brava_2/s0176/images/example_of_filtered_waveform/1_run_in_sv1_sv2_182\n"
     ]
    },
    {
     "name": "stderr",
     "output_type": "stream",
     "text": [
      "The PostScript backend does not support transparency; partially transparent artists will be rendered opaque.\n"
     ]
    },
    {
     "name": "stdout",
     "output_type": "stream",
     "text": [
      "Plot saved to /home/michele/Desktop/Dottorato/active_source_implementation/experiments_Brava_2/s0176/images/example_of_filtered_waveform/1_run_in_sv1_sv2_208\n"
     ]
    },
    {
     "name": "stderr",
     "output_type": "stream",
     "text": [
      "The PostScript backend does not support transparency; partially transparent artists will be rendered opaque.\n"
     ]
    },
    {
     "name": "stdout",
     "output_type": "stream",
     "text": [
      "Plot saved to /home/michele/Desktop/Dottorato/active_source_implementation/experiments_Brava_2/s0176/images/example_of_filtered_waveform/1_run_in_sv1_sv2_234\n"
     ]
    },
    {
     "name": "stderr",
     "output_type": "stream",
     "text": [
      "The PostScript backend does not support transparency; partially transparent artists will be rendered opaque.\n"
     ]
    },
    {
     "name": "stdout",
     "output_type": "stream",
     "text": [
      "Plot saved to /home/michele/Desktop/Dottorato/active_source_implementation/experiments_Brava_2/s0176/images/example_of_filtered_waveform/1_run_in_sv1_sv2_260\n",
      "Plot saved to /home/michele/Desktop/Dottorato/active_source_implementation/experiments_Brava_2/s0176/images/example_of_filtered_waveform/1_run_in_sv1_sv2_286\n"
     ]
    },
    {
     "name": "stderr",
     "output_type": "stream",
     "text": [
      "The PostScript backend does not support transparency; partially transparent artists will be rendered opaque.\n"
     ]
    },
    {
     "name": "stdout",
     "output_type": "stream",
     "text": [
      "Plot saved to /home/michele/Desktop/Dottorato/active_source_implementation/experiments_Brava_2/s0176/images/example_of_filtered_waveform/1_run_in_sv1_sv2_312\n"
     ]
    },
    {
     "name": "stderr",
     "output_type": "stream",
     "text": [
      "The PostScript backend does not support transparency; partially transparent artists will be rendered opaque.\n"
     ]
    },
    {
     "name": "stdout",
     "output_type": "stream",
     "text": [
      "Plot saved to /home/michele/Desktop/Dottorato/active_source_implementation/experiments_Brava_2/s0176/images/example_of_filtered_waveform/1_run_in_sv1_sv2_338\n"
     ]
    },
    {
     "name": "stderr",
     "output_type": "stream",
     "text": [
      "The PostScript backend does not support transparency; partially transparent artists will be rendered opaque.\n"
     ]
    },
    {
     "name": "stdout",
     "output_type": "stream",
     "text": [
      "Plot saved to /home/michele/Desktop/Dottorato/active_source_implementation/experiments_Brava_2/s0176/images/example_of_filtered_waveform/1_run_in_sv1_sv2_364\n"
     ]
    },
    {
     "name": "stderr",
     "output_type": "stream",
     "text": [
      "The PostScript backend does not support transparency; partially transparent artists will be rendered opaque.\n"
     ]
    },
    {
     "name": "stdout",
     "output_type": "stream",
     "text": [
      "Plot saved to /home/michele/Desktop/Dottorato/active_source_implementation/experiments_Brava_2/s0176/images/example_of_filtered_waveform/1_run_in_sv1_sv2_390\n"
     ]
    },
    {
     "name": "stderr",
     "output_type": "stream",
     "text": [
      "The PostScript backend does not support transparency; partially transparent artists will be rendered opaque.\n"
     ]
    },
    {
     "name": "stdout",
     "output_type": "stream",
     "text": [
      "Plot saved to /home/michele/Desktop/Dottorato/active_source_implementation/experiments_Brava_2/s0176/images/example_of_filtered_waveform/1_run_in_sv1_sv2_416\n"
     ]
    },
    {
     "name": "stderr",
     "output_type": "stream",
     "text": [
      "The PostScript backend does not support transparency; partially transparent artists will be rendered opaque.\n",
      "The PostScript backend does not support transparency; partially transparent artists will be rendered opaque.\n"
     ]
    },
    {
     "name": "stdout",
     "output_type": "stream",
     "text": [
      "Plot saved to /home/michele/Desktop/Dottorato/active_source_implementation/experiments_Brava_2/s0176/images/example_of_filtered_waveform/1_run_in_sv1_sv2_442\n",
      "Plot saved to /home/michele/Desktop/Dottorato/active_source_implementation/experiments_Brava_2/s0176/images/example_of_filtered_waveform/1_run_in_sv1_sv2_468\n"
     ]
    },
    {
     "name": "stderr",
     "output_type": "stream",
     "text": [
      "The PostScript backend does not support transparency; partially transparent artists will be rendered opaque.\n",
      "The PostScript backend does not support transparency; partially transparent artists will be rendered opaque.\n"
     ]
    },
    {
     "name": "stdout",
     "output_type": "stream",
     "text": [
      "Plot saved to /home/michele/Desktop/Dottorato/active_source_implementation/experiments_Brava_2/s0176/images/example_of_filtered_waveform/1_run_in_sv1_sv2_494\n",
      "Plot saved to /home/michele/Desktop/Dottorato/active_source_implementation/experiments_Brava_2/s0176/images/example_of_filtered_waveform/1_run_in_sv1_sv2_520\n"
     ]
    },
    {
     "name": "stderr",
     "output_type": "stream",
     "text": [
      "The PostScript backend does not support transparency; partially transparent artists will be rendered opaque.\n",
      "The PostScript backend does not support transparency; partially transparent artists will be rendered opaque.\n"
     ]
    },
    {
     "name": "stdout",
     "output_type": "stream",
     "text": [
      "Plot saved to /home/michele/Desktop/Dottorato/active_source_implementation/experiments_Brava_2/s0176/images/example_of_filtered_waveform/1_run_in_sv1_sv2_546\n",
      "Plot saved to /home/michele/Desktop/Dottorato/active_source_implementation/experiments_Brava_2/s0176/images/example_of_filtered_waveform/1_run_in_sv1_sv2_572\n"
     ]
    },
    {
     "name": "stderr",
     "output_type": "stream",
     "text": [
      "The PostScript backend does not support transparency; partially transparent artists will be rendered opaque.\n",
      "The PostScript backend does not support transparency; partially transparent artists will be rendered opaque.\n"
     ]
    },
    {
     "name": "stdout",
     "output_type": "stream",
     "text": [
      "Plot saved to /home/michele/Desktop/Dottorato/active_source_implementation/experiments_Brava_2/s0176/images/example_of_filtered_waveform/1_run_in_sv1_sv2_598\n"
     ]
    },
    {
     "name": "stderr",
     "output_type": "stream",
     "text": [
      "The PostScript backend does not support transparency; partially transparent artists will be rendered opaque.\n"
     ]
    },
    {
     "name": "stdout",
     "output_type": "stream",
     "text": [
      "Plot saved to /home/michele/Desktop/Dottorato/active_source_implementation/experiments_Brava_2/s0176/images/example_of_filtered_waveform/1_run_in_sv1_sv2_624\n"
     ]
    },
    {
     "name": "stderr",
     "output_type": "stream",
     "text": [
      "The PostScript backend does not support transparency; partially transparent artists will be rendered opaque.\n"
     ]
    },
    {
     "name": "stdout",
     "output_type": "stream",
     "text": [
      "Plot saved to /home/michele/Desktop/Dottorato/active_source_implementation/experiments_Brava_2/s0176/images/example_of_filtered_waveform/1_run_in_sv1_sv2_650\n",
      "Plot saved to /home/michele/Desktop/Dottorato/active_source_implementation/experiments_Brava_2/s0176/images/example_of_filtered_waveform/1_run_in_sv1_sv2_676\n"
     ]
    },
    {
     "name": "stderr",
     "output_type": "stream",
     "text": [
      "The PostScript backend does not support transparency; partially transparent artists will be rendered opaque.\n",
      "The PostScript backend does not support transparency; partially transparent artists will be rendered opaque.\n"
     ]
    },
    {
     "name": "stdout",
     "output_type": "stream",
     "text": [
      "Plot saved to /home/michele/Desktop/Dottorato/active_source_implementation/experiments_Brava_2/s0176/images/example_of_filtered_waveform/1_run_in_sv1_sv2_702\n",
      "Plot saved to /home/michele/Desktop/Dottorato/active_source_implementation/experiments_Brava_2/s0176/images/example_of_filtered_waveform/1_run_in_sv1_sv2_728\n"
     ]
    },
    {
     "name": "stderr",
     "output_type": "stream",
     "text": [
      "The PostScript backend does not support transparency; partially transparent artists will be rendered opaque.\n",
      "The PostScript backend does not support transparency; partially transparent artists will be rendered opaque.\n"
     ]
    },
    {
     "name": "stdout",
     "output_type": "stream",
     "text": [
      "Plot saved to /home/michele/Desktop/Dottorato/active_source_implementation/experiments_Brava_2/s0176/images/example_of_filtered_waveform/1_run_in_sv1_sv2_754\n"
     ]
    },
    {
     "name": "stderr",
     "output_type": "stream",
     "text": [
      "The PostScript backend does not support transparency; partially transparent artists will be rendered opaque.\n"
     ]
    },
    {
     "name": "stdout",
     "output_type": "stream",
     "text": [
      "Plot saved to /home/michele/Desktop/Dottorato/active_source_implementation/experiments_Brava_2/s0176/images/example_of_filtered_waveform/1_run_in_sv1_sv2_780\n",
      "Plot saved to /home/michele/Desktop/Dottorato/active_source_implementation/experiments_Brava_2/s0176/images/example_of_filtered_waveform/1_run_in_sv1_sv2_806\n",
      "--- 19.873464107513428 seconds for processing 1_run_in_sv1_sv2---\n",
      "PROCESSING UW DATA IN /home/michele/Desktop/Dottorato/active_source_implementation/experiments_Brava_2/s0176/data_tsv_files/2_rec_51to60_stick_slip_sv1_sh1.bscan.tsv: \n"
     ]
    },
    {
     "name": "stderr",
     "output_type": "stream",
     "text": [
      "The PostScript backend does not support transparency; partially transparent artists will be rendered opaque.\n"
     ]
    },
    {
     "name": "stdout",
     "output_type": "stream",
     "text": [
      "Plot saved to /home/michele/Desktop/Dottorato/active_source_implementation/experiments_Brava_2/s0176/images/waveforms/2_rec_51to60_stick_slip_sv1_sh1\n",
      "number_of_samples\n",
      "sampling_rate\n",
      "time_ax_waveform\n",
      "number_of_waveforms\n",
      "acquisition_frequency\n",
      "time_ax_acquisition\n",
      "Plot saved to /home/michele/Desktop/Dottorato/active_source_implementation/experiments_Brava_2/s0176/images/amplitude_maps/2_rec_51to60_stick_slip_sv1_sh1\n"
     ]
    },
    {
     "name": "stderr",
     "output_type": "stream",
     "text": [
      "The PostScript backend does not support transparency; partially transparent artists will be rendered opaque.\n"
     ]
    },
    {
     "name": "stdout",
     "output_type": "stream",
     "text": [
      "Plot saved to /home/michele/Desktop/Dottorato/active_source_implementation/experiments_Brava_2/s0176/images/waveforms/2_rec_51to60_stick_slip_sv1_sh1_filtered\n",
      "number_of_samples\n",
      "sampling_rate\n",
      "time_ax_waveform\n",
      "number_of_waveforms\n",
      "acquisition_frequency\n",
      "time_ax_acquisition\n"
     ]
    },
    {
     "name": "stderr",
     "output_type": "stream",
     "text": [
      "The PostScript backend does not support transparency; partially transparent artists will be rendered opaque.\n"
     ]
    },
    {
     "name": "stdout",
     "output_type": "stream",
     "text": [
      "Plot saved to /home/michele/Desktop/Dottorato/active_source_implementation/experiments_Brava_2/s0176/images/amplitude_maps/2_rec_51to60_stick_slip_sv1_sh1_filtered\n"
     ]
    },
    {
     "name": "stderr",
     "output_type": "stream",
     "text": [
      "The PostScript backend does not support transparency; partially transparent artists will be rendered opaque.\n"
     ]
    },
    {
     "name": "stdout",
     "output_type": "stream",
     "text": [
      "Plot saved to /home/michele/Desktop/Dottorato/active_source_implementation/experiments_Brava_2/s0176/images/example_of_filtered_waveform/2_rec_51to60_stick_slip_sv1_sh1_0\n"
     ]
    },
    {
     "name": "stderr",
     "output_type": "stream",
     "text": [
      "The PostScript backend does not support transparency; partially transparent artists will be rendered opaque.\n"
     ]
    },
    {
     "name": "stdout",
     "output_type": "stream",
     "text": [
      "Plot saved to /home/michele/Desktop/Dottorato/active_source_implementation/experiments_Brava_2/s0176/images/example_of_filtered_waveform/2_rec_51to60_stick_slip_sv1_sh1_589\n"
     ]
    },
    {
     "name": "stderr",
     "output_type": "stream",
     "text": [
      "The PostScript backend does not support transparency; partially transparent artists will be rendered opaque.\n"
     ]
    },
    {
     "name": "stdout",
     "output_type": "stream",
     "text": [
      "Plot saved to /home/michele/Desktop/Dottorato/active_source_implementation/experiments_Brava_2/s0176/images/example_of_filtered_waveform/2_rec_51to60_stick_slip_sv1_sh1_1178\n"
     ]
    },
    {
     "name": "stderr",
     "output_type": "stream",
     "text": [
      "The PostScript backend does not support transparency; partially transparent artists will be rendered opaque.\n"
     ]
    },
    {
     "name": "stdout",
     "output_type": "stream",
     "text": [
      "Plot saved to /home/michele/Desktop/Dottorato/active_source_implementation/experiments_Brava_2/s0176/images/example_of_filtered_waveform/2_rec_51to60_stick_slip_sv1_sh1_1767\n"
     ]
    },
    {
     "name": "stderr",
     "output_type": "stream",
     "text": [
      "The PostScript backend does not support transparency; partially transparent artists will be rendered opaque.\n"
     ]
    },
    {
     "name": "stdout",
     "output_type": "stream",
     "text": [
      "Plot saved to /home/michele/Desktop/Dottorato/active_source_implementation/experiments_Brava_2/s0176/images/example_of_filtered_waveform/2_rec_51to60_stick_slip_sv1_sh1_2356\n"
     ]
    },
    {
     "name": "stderr",
     "output_type": "stream",
     "text": [
      "The PostScript backend does not support transparency; partially transparent artists will be rendered opaque.\n"
     ]
    },
    {
     "name": "stdout",
     "output_type": "stream",
     "text": [
      "Plot saved to /home/michele/Desktop/Dottorato/active_source_implementation/experiments_Brava_2/s0176/images/example_of_filtered_waveform/2_rec_51to60_stick_slip_sv1_sh1_2945\n"
     ]
    },
    {
     "name": "stderr",
     "output_type": "stream",
     "text": [
      "The PostScript backend does not support transparency; partially transparent artists will be rendered opaque.\n"
     ]
    },
    {
     "name": "stdout",
     "output_type": "stream",
     "text": [
      "Plot saved to /home/michele/Desktop/Dottorato/active_source_implementation/experiments_Brava_2/s0176/images/example_of_filtered_waveform/2_rec_51to60_stick_slip_sv1_sh1_3534\n"
     ]
    },
    {
     "name": "stderr",
     "output_type": "stream",
     "text": [
      "The PostScript backend does not support transparency; partially transparent artists will be rendered opaque.\n"
     ]
    },
    {
     "name": "stdout",
     "output_type": "stream",
     "text": [
      "Plot saved to /home/michele/Desktop/Dottorato/active_source_implementation/experiments_Brava_2/s0176/images/example_of_filtered_waveform/2_rec_51to60_stick_slip_sv1_sh1_4123\n"
     ]
    },
    {
     "name": "stderr",
     "output_type": "stream",
     "text": [
      "The PostScript backend does not support transparency; partially transparent artists will be rendered opaque.\n"
     ]
    },
    {
     "name": "stdout",
     "output_type": "stream",
     "text": [
      "Plot saved to /home/michele/Desktop/Dottorato/active_source_implementation/experiments_Brava_2/s0176/images/example_of_filtered_waveform/2_rec_51to60_stick_slip_sv1_sh1_4712\n"
     ]
    },
    {
     "name": "stderr",
     "output_type": "stream",
     "text": [
      "The PostScript backend does not support transparency; partially transparent artists will be rendered opaque.\n"
     ]
    },
    {
     "name": "stdout",
     "output_type": "stream",
     "text": [
      "Plot saved to /home/michele/Desktop/Dottorato/active_source_implementation/experiments_Brava_2/s0176/images/example_of_filtered_waveform/2_rec_51to60_stick_slip_sv1_sh1_5301\n"
     ]
    },
    {
     "name": "stderr",
     "output_type": "stream",
     "text": [
      "The PostScript backend does not support transparency; partially transparent artists will be rendered opaque.\n"
     ]
    },
    {
     "name": "stdout",
     "output_type": "stream",
     "text": [
      "Plot saved to /home/michele/Desktop/Dottorato/active_source_implementation/experiments_Brava_2/s0176/images/example_of_filtered_waveform/2_rec_51to60_stick_slip_sv1_sh1_5890\n",
      "Plot saved to /home/michele/Desktop/Dottorato/active_source_implementation/experiments_Brava_2/s0176/images/example_of_filtered_waveform/2_rec_51to60_stick_slip_sv1_sh1_6479\n"
     ]
    },
    {
     "name": "stderr",
     "output_type": "stream",
     "text": [
      "The PostScript backend does not support transparency; partially transparent artists will be rendered opaque.\n",
      "The PostScript backend does not support transparency; partially transparent artists will be rendered opaque.\n"
     ]
    },
    {
     "name": "stdout",
     "output_type": "stream",
     "text": [
      "Plot saved to /home/michele/Desktop/Dottorato/active_source_implementation/experiments_Brava_2/s0176/images/example_of_filtered_waveform/2_rec_51to60_stick_slip_sv1_sh1_7068\n"
     ]
    },
    {
     "name": "stderr",
     "output_type": "stream",
     "text": [
      "The PostScript backend does not support transparency; partially transparent artists will be rendered opaque.\n"
     ]
    },
    {
     "name": "stdout",
     "output_type": "stream",
     "text": [
      "Plot saved to /home/michele/Desktop/Dottorato/active_source_implementation/experiments_Brava_2/s0176/images/example_of_filtered_waveform/2_rec_51to60_stick_slip_sv1_sh1_7657\n"
     ]
    },
    {
     "name": "stderr",
     "output_type": "stream",
     "text": [
      "The PostScript backend does not support transparency; partially transparent artists will be rendered opaque.\n"
     ]
    },
    {
     "name": "stdout",
     "output_type": "stream",
     "text": [
      "Plot saved to /home/michele/Desktop/Dottorato/active_source_implementation/experiments_Brava_2/s0176/images/example_of_filtered_waveform/2_rec_51to60_stick_slip_sv1_sh1_8246\n",
      "Plot saved to /home/michele/Desktop/Dottorato/active_source_implementation/experiments_Brava_2/s0176/images/example_of_filtered_waveform/2_rec_51to60_stick_slip_sv1_sh1_8835\n"
     ]
    },
    {
     "name": "stderr",
     "output_type": "stream",
     "text": [
      "The PostScript backend does not support transparency; partially transparent artists will be rendered opaque.\n",
      "The PostScript backend does not support transparency; partially transparent artists will be rendered opaque.\n"
     ]
    },
    {
     "name": "stdout",
     "output_type": "stream",
     "text": [
      "Plot saved to /home/michele/Desktop/Dottorato/active_source_implementation/experiments_Brava_2/s0176/images/example_of_filtered_waveform/2_rec_51to60_stick_slip_sv1_sh1_9424\n",
      "Plot saved to /home/michele/Desktop/Dottorato/active_source_implementation/experiments_Brava_2/s0176/images/example_of_filtered_waveform/2_rec_51to60_stick_slip_sv1_sh1_10013\n"
     ]
    },
    {
     "name": "stderr",
     "output_type": "stream",
     "text": [
      "The PostScript backend does not support transparency; partially transparent artists will be rendered opaque.\n",
      "The PostScript backend does not support transparency; partially transparent artists will be rendered opaque.\n"
     ]
    },
    {
     "name": "stdout",
     "output_type": "stream",
     "text": [
      "Plot saved to /home/michele/Desktop/Dottorato/active_source_implementation/experiments_Brava_2/s0176/images/example_of_filtered_waveform/2_rec_51to60_stick_slip_sv1_sh1_10602\n"
     ]
    },
    {
     "name": "stderr",
     "output_type": "stream",
     "text": [
      "The PostScript backend does not support transparency; partially transparent artists will be rendered opaque.\n"
     ]
    },
    {
     "name": "stdout",
     "output_type": "stream",
     "text": [
      "Plot saved to /home/michele/Desktop/Dottorato/active_source_implementation/experiments_Brava_2/s0176/images/example_of_filtered_waveform/2_rec_51to60_stick_slip_sv1_sh1_11191\n"
     ]
    },
    {
     "name": "stderr",
     "output_type": "stream",
     "text": [
      "The PostScript backend does not support transparency; partially transparent artists will be rendered opaque.\n"
     ]
    },
    {
     "name": "stdout",
     "output_type": "stream",
     "text": [
      "Plot saved to /home/michele/Desktop/Dottorato/active_source_implementation/experiments_Brava_2/s0176/images/example_of_filtered_waveform/2_rec_51to60_stick_slip_sv1_sh1_11780\n",
      "Plot saved to /home/michele/Desktop/Dottorato/active_source_implementation/experiments_Brava_2/s0176/images/example_of_filtered_waveform/2_rec_51to60_stick_slip_sv1_sh1_12369\n"
     ]
    },
    {
     "name": "stderr",
     "output_type": "stream",
     "text": [
      "The PostScript backend does not support transparency; partially transparent artists will be rendered opaque.\n"
     ]
    },
    {
     "name": "stdout",
     "output_type": "stream",
     "text": [
      "Plot saved to /home/michele/Desktop/Dottorato/active_source_implementation/experiments_Brava_2/s0176/images/example_of_filtered_waveform/2_rec_51to60_stick_slip_sv1_sh1_12958\n"
     ]
    },
    {
     "name": "stderr",
     "output_type": "stream",
     "text": [
      "The PostScript backend does not support transparency; partially transparent artists will be rendered opaque.\n"
     ]
    },
    {
     "name": "stdout",
     "output_type": "stream",
     "text": [
      "Plot saved to /home/michele/Desktop/Dottorato/active_source_implementation/experiments_Brava_2/s0176/images/example_of_filtered_waveform/2_rec_51to60_stick_slip_sv1_sh1_13547\n"
     ]
    },
    {
     "name": "stderr",
     "output_type": "stream",
     "text": [
      "The PostScript backend does not support transparency; partially transparent artists will be rendered opaque.\n"
     ]
    },
    {
     "name": "stdout",
     "output_type": "stream",
     "text": [
      "Plot saved to /home/michele/Desktop/Dottorato/active_source_implementation/experiments_Brava_2/s0176/images/example_of_filtered_waveform/2_rec_51to60_stick_slip_sv1_sh1_14136\n"
     ]
    },
    {
     "name": "stderr",
     "output_type": "stream",
     "text": [
      "The PostScript backend does not support transparency; partially transparent artists will be rendered opaque.\n"
     ]
    },
    {
     "name": "stdout",
     "output_type": "stream",
     "text": [
      "Plot saved to /home/michele/Desktop/Dottorato/active_source_implementation/experiments_Brava_2/s0176/images/example_of_filtered_waveform/2_rec_51to60_stick_slip_sv1_sh1_14725\n"
     ]
    },
    {
     "name": "stderr",
     "output_type": "stream",
     "text": [
      "The PostScript backend does not support transparency; partially transparent artists will be rendered opaque.\n"
     ]
    },
    {
     "name": "stdout",
     "output_type": "stream",
     "text": [
      "Plot saved to /home/michele/Desktop/Dottorato/active_source_implementation/experiments_Brava_2/s0176/images/example_of_filtered_waveform/2_rec_51to60_stick_slip_sv1_sh1_15314\n"
     ]
    },
    {
     "name": "stderr",
     "output_type": "stream",
     "text": [
      "The PostScript backend does not support transparency; partially transparent artists will be rendered opaque.\n"
     ]
    },
    {
     "name": "stdout",
     "output_type": "stream",
     "text": [
      "Plot saved to /home/michele/Desktop/Dottorato/active_source_implementation/experiments_Brava_2/s0176/images/example_of_filtered_waveform/2_rec_51to60_stick_slip_sv1_sh1_15903\n"
     ]
    },
    {
     "name": "stderr",
     "output_type": "stream",
     "text": [
      "The PostScript backend does not support transparency; partially transparent artists will be rendered opaque.\n"
     ]
    },
    {
     "name": "stdout",
     "output_type": "stream",
     "text": [
      "Plot saved to /home/michele/Desktop/Dottorato/active_source_implementation/experiments_Brava_2/s0176/images/example_of_filtered_waveform/2_rec_51to60_stick_slip_sv1_sh1_16492\n"
     ]
    },
    {
     "name": "stderr",
     "output_type": "stream",
     "text": [
      "The PostScript backend does not support transparency; partially transparent artists will be rendered opaque.\n"
     ]
    },
    {
     "name": "stdout",
     "output_type": "stream",
     "text": [
      "Plot saved to /home/michele/Desktop/Dottorato/active_source_implementation/experiments_Brava_2/s0176/images/example_of_filtered_waveform/2_rec_51to60_stick_slip_sv1_sh1_17081\n"
     ]
    },
    {
     "name": "stderr",
     "output_type": "stream",
     "text": [
      "The PostScript backend does not support transparency; partially transparent artists will be rendered opaque.\n"
     ]
    },
    {
     "name": "stdout",
     "output_type": "stream",
     "text": [
      "Plot saved to /home/michele/Desktop/Dottorato/active_source_implementation/experiments_Brava_2/s0176/images/example_of_filtered_waveform/2_rec_51to60_stick_slip_sv1_sh1_17670\n",
      "--- 42.812050342559814 seconds for processing 2_rec_51to60_stick_slip_sv1_sh1---\n",
      "PROCESSING UW DATA IN /home/michele/Desktop/Dottorato/active_source_implementation/experiments_Brava_2/s0176/data_tsv_files/2_rec_51to60_stick_slip_sv1_sh2.bscan.tsv: \n",
      "PROCESSING UW DATA IN /home/michele/Desktop/Dottorato/active_source_implementation/experiments_Brava_2/s0176/data_tsv_files/2_rec_51to60_stick_slip_sv1_sv1.bscan.tsv: \n"
     ]
    },
    {
     "name": "stderr",
     "output_type": "stream",
     "text": [
      "The PostScript backend does not support transparency; partially transparent artists will be rendered opaque.\n"
     ]
    },
    {
     "name": "stdout",
     "output_type": "stream",
     "text": [
      "Plot saved to /home/michele/Desktop/Dottorato/active_source_implementation/experiments_Brava_2/s0176/images/waveforms/2_rec_51to60_stick_slip_sv1_sv1\n",
      "number_of_samples\n",
      "sampling_rate\n",
      "time_ax_waveform\n",
      "number_of_waveforms\n",
      "acquisition_frequency\n",
      "time_ax_acquisition\n",
      "Plot saved to /home/michele/Desktop/Dottorato/active_source_implementation/experiments_Brava_2/s0176/images/amplitude_maps/2_rec_51to60_stick_slip_sv1_sv1\n"
     ]
    },
    {
     "name": "stderr",
     "output_type": "stream",
     "text": [
      "The PostScript backend does not support transparency; partially transparent artists will be rendered opaque.\n"
     ]
    },
    {
     "name": "stdout",
     "output_type": "stream",
     "text": [
      "Plot saved to /home/michele/Desktop/Dottorato/active_source_implementation/experiments_Brava_2/s0176/images/waveforms/2_rec_51to60_stick_slip_sv1_sv1_filtered\n",
      "number_of_samples\n",
      "sampling_rate\n",
      "time_ax_waveform\n",
      "number_of_waveforms\n",
      "acquisition_frequency\n",
      "time_ax_acquisition\n"
     ]
    },
    {
     "name": "stderr",
     "output_type": "stream",
     "text": [
      "The PostScript backend does not support transparency; partially transparent artists will be rendered opaque.\n"
     ]
    },
    {
     "name": "stdout",
     "output_type": "stream",
     "text": [
      "Plot saved to /home/michele/Desktop/Dottorato/active_source_implementation/experiments_Brava_2/s0176/images/amplitude_maps/2_rec_51to60_stick_slip_sv1_sv1_filtered\n"
     ]
    },
    {
     "name": "stderr",
     "output_type": "stream",
     "text": [
      "The PostScript backend does not support transparency; partially transparent artists will be rendered opaque.\n"
     ]
    },
    {
     "name": "stdout",
     "output_type": "stream",
     "text": [
      "Plot saved to /home/michele/Desktop/Dottorato/active_source_implementation/experiments_Brava_2/s0176/images/example_of_filtered_waveform/2_rec_51to60_stick_slip_sv1_sv1_0\n"
     ]
    },
    {
     "name": "stderr",
     "output_type": "stream",
     "text": [
      "The PostScript backend does not support transparency; partially transparent artists will be rendered opaque.\n"
     ]
    },
    {
     "name": "stdout",
     "output_type": "stream",
     "text": [
      "Plot saved to /home/michele/Desktop/Dottorato/active_source_implementation/experiments_Brava_2/s0176/images/example_of_filtered_waveform/2_rec_51to60_stick_slip_sv1_sv1_589\n"
     ]
    },
    {
     "name": "stderr",
     "output_type": "stream",
     "text": [
      "The PostScript backend does not support transparency; partially transparent artists will be rendered opaque.\n"
     ]
    },
    {
     "name": "stdout",
     "output_type": "stream",
     "text": [
      "Plot saved to /home/michele/Desktop/Dottorato/active_source_implementation/experiments_Brava_2/s0176/images/example_of_filtered_waveform/2_rec_51to60_stick_slip_sv1_sv1_1178\n"
     ]
    },
    {
     "name": "stderr",
     "output_type": "stream",
     "text": [
      "The PostScript backend does not support transparency; partially transparent artists will be rendered opaque.\n"
     ]
    },
    {
     "name": "stdout",
     "output_type": "stream",
     "text": [
      "Plot saved to /home/michele/Desktop/Dottorato/active_source_implementation/experiments_Brava_2/s0176/images/example_of_filtered_waveform/2_rec_51to60_stick_slip_sv1_sv1_1767\n"
     ]
    },
    {
     "name": "stderr",
     "output_type": "stream",
     "text": [
      "The PostScript backend does not support transparency; partially transparent artists will be rendered opaque.\n"
     ]
    },
    {
     "name": "stdout",
     "output_type": "stream",
     "text": [
      "Plot saved to /home/michele/Desktop/Dottorato/active_source_implementation/experiments_Brava_2/s0176/images/example_of_filtered_waveform/2_rec_51to60_stick_slip_sv1_sv1_2356\n"
     ]
    },
    {
     "name": "stderr",
     "output_type": "stream",
     "text": [
      "The PostScript backend does not support transparency; partially transparent artists will be rendered opaque.\n"
     ]
    },
    {
     "name": "stdout",
     "output_type": "stream",
     "text": [
      "Plot saved to /home/michele/Desktop/Dottorato/active_source_implementation/experiments_Brava_2/s0176/images/example_of_filtered_waveform/2_rec_51to60_stick_slip_sv1_sv1_2945\n"
     ]
    },
    {
     "name": "stderr",
     "output_type": "stream",
     "text": [
      "The PostScript backend does not support transparency; partially transparent artists will be rendered opaque.\n"
     ]
    },
    {
     "name": "stdout",
     "output_type": "stream",
     "text": [
      "Plot saved to /home/michele/Desktop/Dottorato/active_source_implementation/experiments_Brava_2/s0176/images/example_of_filtered_waveform/2_rec_51to60_stick_slip_sv1_sv1_3534\n"
     ]
    },
    {
     "name": "stderr",
     "output_type": "stream",
     "text": [
      "The PostScript backend does not support transparency; partially transparent artists will be rendered opaque.\n"
     ]
    },
    {
     "name": "stdout",
     "output_type": "stream",
     "text": [
      "Plot saved to /home/michele/Desktop/Dottorato/active_source_implementation/experiments_Brava_2/s0176/images/example_of_filtered_waveform/2_rec_51to60_stick_slip_sv1_sv1_4123\n"
     ]
    },
    {
     "name": "stderr",
     "output_type": "stream",
     "text": [
      "The PostScript backend does not support transparency; partially transparent artists will be rendered opaque.\n"
     ]
    },
    {
     "name": "stdout",
     "output_type": "stream",
     "text": [
      "Plot saved to /home/michele/Desktop/Dottorato/active_source_implementation/experiments_Brava_2/s0176/images/example_of_filtered_waveform/2_rec_51to60_stick_slip_sv1_sv1_4712\n"
     ]
    },
    {
     "name": "stderr",
     "output_type": "stream",
     "text": [
      "The PostScript backend does not support transparency; partially transparent artists will be rendered opaque.\n"
     ]
    },
    {
     "name": "stdout",
     "output_type": "stream",
     "text": [
      "Plot saved to /home/michele/Desktop/Dottorato/active_source_implementation/experiments_Brava_2/s0176/images/example_of_filtered_waveform/2_rec_51to60_stick_slip_sv1_sv1_5301\n"
     ]
    },
    {
     "name": "stderr",
     "output_type": "stream",
     "text": [
      "The PostScript backend does not support transparency; partially transparent artists will be rendered opaque.\n"
     ]
    },
    {
     "name": "stdout",
     "output_type": "stream",
     "text": [
      "Plot saved to /home/michele/Desktop/Dottorato/active_source_implementation/experiments_Brava_2/s0176/images/example_of_filtered_waveform/2_rec_51to60_stick_slip_sv1_sv1_5890\n"
     ]
    },
    {
     "name": "stderr",
     "output_type": "stream",
     "text": [
      "The PostScript backend does not support transparency; partially transparent artists will be rendered opaque.\n"
     ]
    },
    {
     "name": "stdout",
     "output_type": "stream",
     "text": [
      "Plot saved to /home/michele/Desktop/Dottorato/active_source_implementation/experiments_Brava_2/s0176/images/example_of_filtered_waveform/2_rec_51to60_stick_slip_sv1_sv1_6479\n"
     ]
    },
    {
     "name": "stderr",
     "output_type": "stream",
     "text": [
      "The PostScript backend does not support transparency; partially transparent artists will be rendered opaque.\n"
     ]
    },
    {
     "name": "stdout",
     "output_type": "stream",
     "text": [
      "Plot saved to /home/michele/Desktop/Dottorato/active_source_implementation/experiments_Brava_2/s0176/images/example_of_filtered_waveform/2_rec_51to60_stick_slip_sv1_sv1_7068\n"
     ]
    },
    {
     "name": "stderr",
     "output_type": "stream",
     "text": [
      "The PostScript backend does not support transparency; partially transparent artists will be rendered opaque.\n"
     ]
    },
    {
     "name": "stdout",
     "output_type": "stream",
     "text": [
      "Plot saved to /home/michele/Desktop/Dottorato/active_source_implementation/experiments_Brava_2/s0176/images/example_of_filtered_waveform/2_rec_51to60_stick_slip_sv1_sv1_7657\n"
     ]
    },
    {
     "name": "stderr",
     "output_type": "stream",
     "text": [
      "The PostScript backend does not support transparency; partially transparent artists will be rendered opaque.\n"
     ]
    },
    {
     "name": "stdout",
     "output_type": "stream",
     "text": [
      "Plot saved to /home/michele/Desktop/Dottorato/active_source_implementation/experiments_Brava_2/s0176/images/example_of_filtered_waveform/2_rec_51to60_stick_slip_sv1_sv1_8246\n"
     ]
    },
    {
     "name": "stderr",
     "output_type": "stream",
     "text": [
      "The PostScript backend does not support transparency; partially transparent artists will be rendered opaque.\n"
     ]
    },
    {
     "name": "stdout",
     "output_type": "stream",
     "text": [
      "Plot saved to /home/michele/Desktop/Dottorato/active_source_implementation/experiments_Brava_2/s0176/images/example_of_filtered_waveform/2_rec_51to60_stick_slip_sv1_sv1_8835\n"
     ]
    },
    {
     "name": "stderr",
     "output_type": "stream",
     "text": [
      "The PostScript backend does not support transparency; partially transparent artists will be rendered opaque.\n"
     ]
    },
    {
     "name": "stdout",
     "output_type": "stream",
     "text": [
      "Plot saved to /home/michele/Desktop/Dottorato/active_source_implementation/experiments_Brava_2/s0176/images/example_of_filtered_waveform/2_rec_51to60_stick_slip_sv1_sv1_9424\n"
     ]
    },
    {
     "name": "stderr",
     "output_type": "stream",
     "text": [
      "The PostScript backend does not support transparency; partially transparent artists will be rendered opaque.\n"
     ]
    },
    {
     "name": "stdout",
     "output_type": "stream",
     "text": [
      "Plot saved to /home/michele/Desktop/Dottorato/active_source_implementation/experiments_Brava_2/s0176/images/example_of_filtered_waveform/2_rec_51to60_stick_slip_sv1_sv1_10013\n"
     ]
    },
    {
     "name": "stderr",
     "output_type": "stream",
     "text": [
      "The PostScript backend does not support transparency; partially transparent artists will be rendered opaque.\n"
     ]
    },
    {
     "name": "stdout",
     "output_type": "stream",
     "text": [
      "Plot saved to /home/michele/Desktop/Dottorato/active_source_implementation/experiments_Brava_2/s0176/images/example_of_filtered_waveform/2_rec_51to60_stick_slip_sv1_sv1_10602\n",
      "Plot saved to /home/michele/Desktop/Dottorato/active_source_implementation/experiments_Brava_2/s0176/images/example_of_filtered_waveform/2_rec_51to60_stick_slip_sv1_sv1_11191\n"
     ]
    },
    {
     "name": "stderr",
     "output_type": "stream",
     "text": [
      "The PostScript backend does not support transparency; partially transparent artists will be rendered opaque.\n"
     ]
    },
    {
     "name": "stdout",
     "output_type": "stream",
     "text": [
      "Plot saved to /home/michele/Desktop/Dottorato/active_source_implementation/experiments_Brava_2/s0176/images/example_of_filtered_waveform/2_rec_51to60_stick_slip_sv1_sv1_11780\n"
     ]
    },
    {
     "name": "stderr",
     "output_type": "stream",
     "text": [
      "The PostScript backend does not support transparency; partially transparent artists will be rendered opaque.\n",
      "The PostScript backend does not support transparency; partially transparent artists will be rendered opaque.\n"
     ]
    },
    {
     "name": "stdout",
     "output_type": "stream",
     "text": [
      "Plot saved to /home/michele/Desktop/Dottorato/active_source_implementation/experiments_Brava_2/s0176/images/example_of_filtered_waveform/2_rec_51to60_stick_slip_sv1_sv1_12369\n"
     ]
    },
    {
     "name": "stderr",
     "output_type": "stream",
     "text": [
      "The PostScript backend does not support transparency; partially transparent artists will be rendered opaque.\n"
     ]
    },
    {
     "name": "stdout",
     "output_type": "stream",
     "text": [
      "Plot saved to /home/michele/Desktop/Dottorato/active_source_implementation/experiments_Brava_2/s0176/images/example_of_filtered_waveform/2_rec_51to60_stick_slip_sv1_sv1_12958\n"
     ]
    },
    {
     "name": "stderr",
     "output_type": "stream",
     "text": [
      "The PostScript backend does not support transparency; partially transparent artists will be rendered opaque.\n"
     ]
    },
    {
     "name": "stdout",
     "output_type": "stream",
     "text": [
      "Plot saved to /home/michele/Desktop/Dottorato/active_source_implementation/experiments_Brava_2/s0176/images/example_of_filtered_waveform/2_rec_51to60_stick_slip_sv1_sv1_13547\n"
     ]
    },
    {
     "name": "stderr",
     "output_type": "stream",
     "text": [
      "The PostScript backend does not support transparency; partially transparent artists will be rendered opaque.\n"
     ]
    },
    {
     "name": "stdout",
     "output_type": "stream",
     "text": [
      "Plot saved to /home/michele/Desktop/Dottorato/active_source_implementation/experiments_Brava_2/s0176/images/example_of_filtered_waveform/2_rec_51to60_stick_slip_sv1_sv1_14136\n"
     ]
    },
    {
     "name": "stderr",
     "output_type": "stream",
     "text": [
      "The PostScript backend does not support transparency; partially transparent artists will be rendered opaque.\n"
     ]
    },
    {
     "name": "stdout",
     "output_type": "stream",
     "text": [
      "Plot saved to /home/michele/Desktop/Dottorato/active_source_implementation/experiments_Brava_2/s0176/images/example_of_filtered_waveform/2_rec_51to60_stick_slip_sv1_sv1_14725\n"
     ]
    },
    {
     "name": "stderr",
     "output_type": "stream",
     "text": [
      "The PostScript backend does not support transparency; partially transparent artists will be rendered opaque.\n"
     ]
    },
    {
     "name": "stdout",
     "output_type": "stream",
     "text": [
      "Plot saved to /home/michele/Desktop/Dottorato/active_source_implementation/experiments_Brava_2/s0176/images/example_of_filtered_waveform/2_rec_51to60_stick_slip_sv1_sv1_15314\n",
      "Plot saved to /home/michele/Desktop/Dottorato/active_source_implementation/experiments_Brava_2/s0176/images/example_of_filtered_waveform/2_rec_51to60_stick_slip_sv1_sv1_15903\n"
     ]
    },
    {
     "name": "stderr",
     "output_type": "stream",
     "text": [
      "The PostScript backend does not support transparency; partially transparent artists will be rendered opaque.\n",
      "The PostScript backend does not support transparency; partially transparent artists will be rendered opaque.\n"
     ]
    },
    {
     "name": "stdout",
     "output_type": "stream",
     "text": [
      "Plot saved to /home/michele/Desktop/Dottorato/active_source_implementation/experiments_Brava_2/s0176/images/example_of_filtered_waveform/2_rec_51to60_stick_slip_sv1_sv1_16492\n"
     ]
    },
    {
     "name": "stderr",
     "output_type": "stream",
     "text": [
      "The PostScript backend does not support transparency; partially transparent artists will be rendered opaque.\n"
     ]
    },
    {
     "name": "stdout",
     "output_type": "stream",
     "text": [
      "Plot saved to /home/michele/Desktop/Dottorato/active_source_implementation/experiments_Brava_2/s0176/images/example_of_filtered_waveform/2_rec_51to60_stick_slip_sv1_sv1_17081\n",
      "Plot saved to /home/michele/Desktop/Dottorato/active_source_implementation/experiments_Brava_2/s0176/images/example_of_filtered_waveform/2_rec_51to60_stick_slip_sv1_sv1_17670\n",
      "--- 42.599377155303955 seconds for processing 2_rec_51to60_stick_slip_sv1_sv1---\n",
      "PROCESSING UW DATA IN /home/michele/Desktop/Dottorato/active_source_implementation/experiments_Brava_2/s0176/data_tsv_files/2_rec_51to60_stick_slip_sv1_sv2.bscan.tsv: \n"
     ]
    },
    {
     "name": "stderr",
     "output_type": "stream",
     "text": [
      "The PostScript backend does not support transparency; partially transparent artists will be rendered opaque.\n"
     ]
    },
    {
     "name": "stdout",
     "output_type": "stream",
     "text": [
      "Plot saved to /home/michele/Desktop/Dottorato/active_source_implementation/experiments_Brava_2/s0176/images/waveforms/2_rec_51to60_stick_slip_sv1_sv2\n",
      "number_of_samples\n",
      "sampling_rate\n",
      "time_ax_waveform\n",
      "number_of_waveforms\n",
      "acquisition_frequency\n",
      "time_ax_acquisition\n",
      "Plot saved to /home/michele/Desktop/Dottorato/active_source_implementation/experiments_Brava_2/s0176/images/amplitude_maps/2_rec_51to60_stick_slip_sv1_sv2\n"
     ]
    },
    {
     "name": "stderr",
     "output_type": "stream",
     "text": [
      "The PostScript backend does not support transparency; partially transparent artists will be rendered opaque.\n"
     ]
    },
    {
     "name": "stdout",
     "output_type": "stream",
     "text": [
      "Plot saved to /home/michele/Desktop/Dottorato/active_source_implementation/experiments_Brava_2/s0176/images/waveforms/2_rec_51to60_stick_slip_sv1_sv2_filtered\n",
      "number_of_samples\n",
      "sampling_rate\n",
      "time_ax_waveform\n",
      "number_of_waveforms\n",
      "acquisition_frequency\n",
      "time_ax_acquisition\n"
     ]
    },
    {
     "name": "stderr",
     "output_type": "stream",
     "text": [
      "The PostScript backend does not support transparency; partially transparent artists will be rendered opaque.\n"
     ]
    },
    {
     "name": "stdout",
     "output_type": "stream",
     "text": [
      "Plot saved to /home/michele/Desktop/Dottorato/active_source_implementation/experiments_Brava_2/s0176/images/amplitude_maps/2_rec_51to60_stick_slip_sv1_sv2_filtered\n"
     ]
    },
    {
     "name": "stderr",
     "output_type": "stream",
     "text": [
      "The PostScript backend does not support transparency; partially transparent artists will be rendered opaque.\n"
     ]
    },
    {
     "name": "stdout",
     "output_type": "stream",
     "text": [
      "Plot saved to /home/michele/Desktop/Dottorato/active_source_implementation/experiments_Brava_2/s0176/images/example_of_filtered_waveform/2_rec_51to60_stick_slip_sv1_sv2_0\n"
     ]
    },
    {
     "name": "stderr",
     "output_type": "stream",
     "text": [
      "The PostScript backend does not support transparency; partially transparent artists will be rendered opaque.\n"
     ]
    },
    {
     "name": "stdout",
     "output_type": "stream",
     "text": [
      "Plot saved to /home/michele/Desktop/Dottorato/active_source_implementation/experiments_Brava_2/s0176/images/example_of_filtered_waveform/2_rec_51to60_stick_slip_sv1_sv2_589\n",
      "Plot saved to /home/michele/Desktop/Dottorato/active_source_implementation/experiments_Brava_2/s0176/images/example_of_filtered_waveform/2_rec_51to60_stick_slip_sv1_sv2_1178\n"
     ]
    },
    {
     "name": "stderr",
     "output_type": "stream",
     "text": [
      "The PostScript backend does not support transparency; partially transparent artists will be rendered opaque.\n"
     ]
    },
    {
     "name": "stdout",
     "output_type": "stream",
     "text": [
      "Plot saved to /home/michele/Desktop/Dottorato/active_source_implementation/experiments_Brava_2/s0176/images/example_of_filtered_waveform/2_rec_51to60_stick_slip_sv1_sv2_1767\n"
     ]
    },
    {
     "name": "stderr",
     "output_type": "stream",
     "text": [
      "The PostScript backend does not support transparency; partially transparent artists will be rendered opaque.\n",
      "The PostScript backend does not support transparency; partially transparent artists will be rendered opaque.\n"
     ]
    },
    {
     "name": "stdout",
     "output_type": "stream",
     "text": [
      "Plot saved to /home/michele/Desktop/Dottorato/active_source_implementation/experiments_Brava_2/s0176/images/example_of_filtered_waveform/2_rec_51to60_stick_slip_sv1_sv2_2356\n"
     ]
    },
    {
     "name": "stderr",
     "output_type": "stream",
     "text": [
      "The PostScript backend does not support transparency; partially transparent artists will be rendered opaque.\n"
     ]
    },
    {
     "name": "stdout",
     "output_type": "stream",
     "text": [
      "Plot saved to /home/michele/Desktop/Dottorato/active_source_implementation/experiments_Brava_2/s0176/images/example_of_filtered_waveform/2_rec_51to60_stick_slip_sv1_sv2_2945\n",
      "Plot saved to /home/michele/Desktop/Dottorato/active_source_implementation/experiments_Brava_2/s0176/images/example_of_filtered_waveform/2_rec_51to60_stick_slip_sv1_sv2_3534\n"
     ]
    },
    {
     "name": "stderr",
     "output_type": "stream",
     "text": [
      "The PostScript backend does not support transparency; partially transparent artists will be rendered opaque.\n",
      "The PostScript backend does not support transparency; partially transparent artists will be rendered opaque.\n"
     ]
    },
    {
     "name": "stdout",
     "output_type": "stream",
     "text": [
      "Plot saved to /home/michele/Desktop/Dottorato/active_source_implementation/experiments_Brava_2/s0176/images/example_of_filtered_waveform/2_rec_51to60_stick_slip_sv1_sv2_4123\n",
      "Plot saved to /home/michele/Desktop/Dottorato/active_source_implementation/experiments_Brava_2/s0176/images/example_of_filtered_waveform/2_rec_51to60_stick_slip_sv1_sv2_4712\n"
     ]
    },
    {
     "name": "stderr",
     "output_type": "stream",
     "text": [
      "The PostScript backend does not support transparency; partially transparent artists will be rendered opaque.\n",
      "The PostScript backend does not support transparency; partially transparent artists will be rendered opaque.\n"
     ]
    },
    {
     "name": "stdout",
     "output_type": "stream",
     "text": [
      "Plot saved to /home/michele/Desktop/Dottorato/active_source_implementation/experiments_Brava_2/s0176/images/example_of_filtered_waveform/2_rec_51to60_stick_slip_sv1_sv2_5301\n"
     ]
    },
    {
     "name": "stderr",
     "output_type": "stream",
     "text": [
      "The PostScript backend does not support transparency; partially transparent artists will be rendered opaque.\n"
     ]
    },
    {
     "name": "stdout",
     "output_type": "stream",
     "text": [
      "Plot saved to /home/michele/Desktop/Dottorato/active_source_implementation/experiments_Brava_2/s0176/images/example_of_filtered_waveform/2_rec_51to60_stick_slip_sv1_sv2_5890\n"
     ]
    },
    {
     "name": "stderr",
     "output_type": "stream",
     "text": [
      "The PostScript backend does not support transparency; partially transparent artists will be rendered opaque.\n"
     ]
    },
    {
     "name": "stdout",
     "output_type": "stream",
     "text": [
      "Plot saved to /home/michele/Desktop/Dottorato/active_source_implementation/experiments_Brava_2/s0176/images/example_of_filtered_waveform/2_rec_51to60_stick_slip_sv1_sv2_6479\n"
     ]
    },
    {
     "name": "stderr",
     "output_type": "stream",
     "text": [
      "The PostScript backend does not support transparency; partially transparent artists will be rendered opaque.\n"
     ]
    },
    {
     "name": "stdout",
     "output_type": "stream",
     "text": [
      "Plot saved to /home/michele/Desktop/Dottorato/active_source_implementation/experiments_Brava_2/s0176/images/example_of_filtered_waveform/2_rec_51to60_stick_slip_sv1_sv2_7068\n"
     ]
    },
    {
     "name": "stderr",
     "output_type": "stream",
     "text": [
      "The PostScript backend does not support transparency; partially transparent artists will be rendered opaque.\n"
     ]
    },
    {
     "name": "stdout",
     "output_type": "stream",
     "text": [
      "Plot saved to /home/michele/Desktop/Dottorato/active_source_implementation/experiments_Brava_2/s0176/images/example_of_filtered_waveform/2_rec_51to60_stick_slip_sv1_sv2_7657\n"
     ]
    },
    {
     "name": "stderr",
     "output_type": "stream",
     "text": [
      "The PostScript backend does not support transparency; partially transparent artists will be rendered opaque.\n"
     ]
    },
    {
     "name": "stdout",
     "output_type": "stream",
     "text": [
      "Plot saved to /home/michele/Desktop/Dottorato/active_source_implementation/experiments_Brava_2/s0176/images/example_of_filtered_waveform/2_rec_51to60_stick_slip_sv1_sv2_8246\n"
     ]
    },
    {
     "name": "stderr",
     "output_type": "stream",
     "text": [
      "The PostScript backend does not support transparency; partially transparent artists will be rendered opaque.\n"
     ]
    },
    {
     "name": "stdout",
     "output_type": "stream",
     "text": [
      "Plot saved to /home/michele/Desktop/Dottorato/active_source_implementation/experiments_Brava_2/s0176/images/example_of_filtered_waveform/2_rec_51to60_stick_slip_sv1_sv2_8835\n",
      "Plot saved to /home/michele/Desktop/Dottorato/active_source_implementation/experiments_Brava_2/s0176/images/example_of_filtered_waveform/2_rec_51to60_stick_slip_sv1_sv2_9424\n"
     ]
    },
    {
     "name": "stderr",
     "output_type": "stream",
     "text": [
      "The PostScript backend does not support transparency; partially transparent artists will be rendered opaque.\n",
      "The PostScript backend does not support transparency; partially transparent artists will be rendered opaque.\n"
     ]
    },
    {
     "name": "stdout",
     "output_type": "stream",
     "text": [
      "Plot saved to /home/michele/Desktop/Dottorato/active_source_implementation/experiments_Brava_2/s0176/images/example_of_filtered_waveform/2_rec_51to60_stick_slip_sv1_sv2_10013\n",
      "Plot saved to /home/michele/Desktop/Dottorato/active_source_implementation/experiments_Brava_2/s0176/images/example_of_filtered_waveform/2_rec_51to60_stick_slip_sv1_sv2_10602\n"
     ]
    },
    {
     "name": "stderr",
     "output_type": "stream",
     "text": [
      "The PostScript backend does not support transparency; partially transparent artists will be rendered opaque.\n",
      "The PostScript backend does not support transparency; partially transparent artists will be rendered opaque.\n"
     ]
    },
    {
     "name": "stdout",
     "output_type": "stream",
     "text": [
      "Plot saved to /home/michele/Desktop/Dottorato/active_source_implementation/experiments_Brava_2/s0176/images/example_of_filtered_waveform/2_rec_51to60_stick_slip_sv1_sv2_11191\n",
      "Plot saved to /home/michele/Desktop/Dottorato/active_source_implementation/experiments_Brava_2/s0176/images/example_of_filtered_waveform/2_rec_51to60_stick_slip_sv1_sv2_11780\n"
     ]
    },
    {
     "name": "stderr",
     "output_type": "stream",
     "text": [
      "The PostScript backend does not support transparency; partially transparent artists will be rendered opaque.\n"
     ]
    },
    {
     "name": "stdout",
     "output_type": "stream",
     "text": [
      "Plot saved to /home/michele/Desktop/Dottorato/active_source_implementation/experiments_Brava_2/s0176/images/example_of_filtered_waveform/2_rec_51to60_stick_slip_sv1_sv2_12369\n"
     ]
    },
    {
     "name": "stderr",
     "output_type": "stream",
     "text": [
      "The PostScript backend does not support transparency; partially transparent artists will be rendered opaque.\n"
     ]
    },
    {
     "name": "stdout",
     "output_type": "stream",
     "text": [
      "Plot saved to /home/michele/Desktop/Dottorato/active_source_implementation/experiments_Brava_2/s0176/images/example_of_filtered_waveform/2_rec_51to60_stick_slip_sv1_sv2_12958\n"
     ]
    },
    {
     "name": "stderr",
     "output_type": "stream",
     "text": [
      "The PostScript backend does not support transparency; partially transparent artists will be rendered opaque.\n"
     ]
    },
    {
     "name": "stdout",
     "output_type": "stream",
     "text": [
      "Plot saved to /home/michele/Desktop/Dottorato/active_source_implementation/experiments_Brava_2/s0176/images/example_of_filtered_waveform/2_rec_51to60_stick_slip_sv1_sv2_13547\n"
     ]
    },
    {
     "name": "stderr",
     "output_type": "stream",
     "text": [
      "The PostScript backend does not support transparency; partially transparent artists will be rendered opaque.\n"
     ]
    },
    {
     "name": "stdout",
     "output_type": "stream",
     "text": [
      "Plot saved to /home/michele/Desktop/Dottorato/active_source_implementation/experiments_Brava_2/s0176/images/example_of_filtered_waveform/2_rec_51to60_stick_slip_sv1_sv2_14136\n"
     ]
    },
    {
     "name": "stderr",
     "output_type": "stream",
     "text": [
      "The PostScript backend does not support transparency; partially transparent artists will be rendered opaque.\n"
     ]
    },
    {
     "name": "stdout",
     "output_type": "stream",
     "text": [
      "Plot saved to /home/michele/Desktop/Dottorato/active_source_implementation/experiments_Brava_2/s0176/images/example_of_filtered_waveform/2_rec_51to60_stick_slip_sv1_sv2_14725\n"
     ]
    },
    {
     "name": "stderr",
     "output_type": "stream",
     "text": [
      "The PostScript backend does not support transparency; partially transparent artists will be rendered opaque.\n"
     ]
    },
    {
     "name": "stdout",
     "output_type": "stream",
     "text": [
      "Plot saved to /home/michele/Desktop/Dottorato/active_source_implementation/experiments_Brava_2/s0176/images/example_of_filtered_waveform/2_rec_51to60_stick_slip_sv1_sv2_15314\n"
     ]
    },
    {
     "name": "stderr",
     "output_type": "stream",
     "text": [
      "The PostScript backend does not support transparency; partially transparent artists will be rendered opaque.\n"
     ]
    },
    {
     "name": "stdout",
     "output_type": "stream",
     "text": [
      "Plot saved to /home/michele/Desktop/Dottorato/active_source_implementation/experiments_Brava_2/s0176/images/example_of_filtered_waveform/2_rec_51to60_stick_slip_sv1_sv2_15903\n"
     ]
    },
    {
     "name": "stderr",
     "output_type": "stream",
     "text": [
      "The PostScript backend does not support transparency; partially transparent artists will be rendered opaque.\n",
      "The PostScript backend does not support transparency; partially transparent artists will be rendered opaque.\n"
     ]
    },
    {
     "name": "stdout",
     "output_type": "stream",
     "text": [
      "Plot saved to /home/michele/Desktop/Dottorato/active_source_implementation/experiments_Brava_2/s0176/images/example_of_filtered_waveform/2_rec_51to60_stick_slip_sv1_sv2_16492\n"
     ]
    },
    {
     "name": "stderr",
     "output_type": "stream",
     "text": [
      "The PostScript backend does not support transparency; partially transparent artists will be rendered opaque.\n"
     ]
    },
    {
     "name": "stdout",
     "output_type": "stream",
     "text": [
      "Plot saved to /home/michele/Desktop/Dottorato/active_source_implementation/experiments_Brava_2/s0176/images/example_of_filtered_waveform/2_rec_51to60_stick_slip_sv1_sv2_17081\n",
      "Plot saved to /home/michele/Desktop/Dottorato/active_source_implementation/experiments_Brava_2/s0176/images/example_of_filtered_waveform/2_rec_51to60_stick_slip_sv1_sv2_17670\n",
      "--- 45.83121633529663 seconds for processing 2_rec_51to60_stick_slip_sv1_sv2---\n",
      "PROCESSING UW DATA IN /home/michele/Desktop/Dottorato/active_source_implementation/experiments_Brava_2/s0176/data_tsv_files/3_rec_60to50_sv1_sh1.bscan.tsv: \n"
     ]
    },
    {
     "name": "stderr",
     "output_type": "stream",
     "text": [
      "The PostScript backend does not support transparency; partially transparent artists will be rendered opaque.\n"
     ]
    },
    {
     "name": "stdout",
     "output_type": "stream",
     "text": [
      "Plot saved to /home/michele/Desktop/Dottorato/active_source_implementation/experiments_Brava_2/s0176/images/waveforms/3_rec_60to50_sv1_sh1\n",
      "number_of_samples\n",
      "sampling_rate\n",
      "time_ax_waveform\n",
      "number_of_waveforms\n",
      "acquisition_frequency\n",
      "time_ax_acquisition\n",
      "Plot saved to /home/michele/Desktop/Dottorato/active_source_implementation/experiments_Brava_2/s0176/images/amplitude_maps/3_rec_60to50_sv1_sh1\n"
     ]
    },
    {
     "name": "stderr",
     "output_type": "stream",
     "text": [
      "The PostScript backend does not support transparency; partially transparent artists will be rendered opaque.\n"
     ]
    },
    {
     "name": "stdout",
     "output_type": "stream",
     "text": [
      "Plot saved to /home/michele/Desktop/Dottorato/active_source_implementation/experiments_Brava_2/s0176/images/waveforms/3_rec_60to50_sv1_sh1_filtered\n",
      "number_of_samples\n",
      "sampling_rate\n",
      "time_ax_waveform\n",
      "number_of_waveforms\n",
      "acquisition_frequency\n",
      "time_ax_acquisition\n"
     ]
    },
    {
     "name": "stderr",
     "output_type": "stream",
     "text": [
      "The PostScript backend does not support transparency; partially transparent artists will be rendered opaque.\n"
     ]
    },
    {
     "name": "stdout",
     "output_type": "stream",
     "text": [
      "Plot saved to /home/michele/Desktop/Dottorato/active_source_implementation/experiments_Brava_2/s0176/images/amplitude_maps/3_rec_60to50_sv1_sh1_filtered\n"
     ]
    },
    {
     "name": "stderr",
     "output_type": "stream",
     "text": [
      "The PostScript backend does not support transparency; partially transparent artists will be rendered opaque.\n"
     ]
    },
    {
     "name": "stdout",
     "output_type": "stream",
     "text": [
      "Plot saved to /home/michele/Desktop/Dottorato/active_source_implementation/experiments_Brava_2/s0176/images/example_of_filtered_waveform/3_rec_60to50_sv1_sh1_0\n"
     ]
    },
    {
     "name": "stderr",
     "output_type": "stream",
     "text": [
      "The PostScript backend does not support transparency; partially transparent artists will be rendered opaque.\n"
     ]
    },
    {
     "name": "stdout",
     "output_type": "stream",
     "text": [
      "Plot saved to /home/michele/Desktop/Dottorato/active_source_implementation/experiments_Brava_2/s0176/images/example_of_filtered_waveform/3_rec_60to50_sv1_sh1_66\n"
     ]
    },
    {
     "name": "stderr",
     "output_type": "stream",
     "text": [
      "The PostScript backend does not support transparency; partially transparent artists will be rendered opaque.\n"
     ]
    },
    {
     "name": "stdout",
     "output_type": "stream",
     "text": [
      "Plot saved to /home/michele/Desktop/Dottorato/active_source_implementation/experiments_Brava_2/s0176/images/example_of_filtered_waveform/3_rec_60to50_sv1_sh1_132\n"
     ]
    },
    {
     "name": "stderr",
     "output_type": "stream",
     "text": [
      "The PostScript backend does not support transparency; partially transparent artists will be rendered opaque.\n"
     ]
    },
    {
     "name": "stdout",
     "output_type": "stream",
     "text": [
      "Plot saved to /home/michele/Desktop/Dottorato/active_source_implementation/experiments_Brava_2/s0176/images/example_of_filtered_waveform/3_rec_60to50_sv1_sh1_198\n"
     ]
    },
    {
     "name": "stderr",
     "output_type": "stream",
     "text": [
      "The PostScript backend does not support transparency; partially transparent artists will be rendered opaque.\n"
     ]
    },
    {
     "name": "stdout",
     "output_type": "stream",
     "text": [
      "Plot saved to /home/michele/Desktop/Dottorato/active_source_implementation/experiments_Brava_2/s0176/images/example_of_filtered_waveform/3_rec_60to50_sv1_sh1_264\n"
     ]
    },
    {
     "name": "stderr",
     "output_type": "stream",
     "text": [
      "The PostScript backend does not support transparency; partially transparent artists will be rendered opaque.\n"
     ]
    },
    {
     "name": "stdout",
     "output_type": "stream",
     "text": [
      "Plot saved to /home/michele/Desktop/Dottorato/active_source_implementation/experiments_Brava_2/s0176/images/example_of_filtered_waveform/3_rec_60to50_sv1_sh1_330\n"
     ]
    },
    {
     "name": "stderr",
     "output_type": "stream",
     "text": [
      "The PostScript backend does not support transparency; partially transparent artists will be rendered opaque.\n"
     ]
    },
    {
     "name": "stdout",
     "output_type": "stream",
     "text": [
      "Plot saved to /home/michele/Desktop/Dottorato/active_source_implementation/experiments_Brava_2/s0176/images/example_of_filtered_waveform/3_rec_60to50_sv1_sh1_396\n"
     ]
    },
    {
     "name": "stderr",
     "output_type": "stream",
     "text": [
      "The PostScript backend does not support transparency; partially transparent artists will be rendered opaque.\n"
     ]
    },
    {
     "name": "stdout",
     "output_type": "stream",
     "text": [
      "Plot saved to /home/michele/Desktop/Dottorato/active_source_implementation/experiments_Brava_2/s0176/images/example_of_filtered_waveform/3_rec_60to50_sv1_sh1_462\n",
      "Plot saved to /home/michele/Desktop/Dottorato/active_source_implementation/experiments_Brava_2/s0176/images/example_of_filtered_waveform/3_rec_60to50_sv1_sh1_528\n"
     ]
    },
    {
     "name": "stderr",
     "output_type": "stream",
     "text": [
      "The PostScript backend does not support transparency; partially transparent artists will be rendered opaque.\n"
     ]
    },
    {
     "name": "stdout",
     "output_type": "stream",
     "text": [
      "Plot saved to /home/michele/Desktop/Dottorato/active_source_implementation/experiments_Brava_2/s0176/images/example_of_filtered_waveform/3_rec_60to50_sv1_sh1_594\n"
     ]
    },
    {
     "name": "stderr",
     "output_type": "stream",
     "text": [
      "The PostScript backend does not support transparency; partially transparent artists will be rendered opaque.\n",
      "The PostScript backend does not support transparency; partially transparent artists will be rendered opaque.\n"
     ]
    },
    {
     "name": "stdout",
     "output_type": "stream",
     "text": [
      "Plot saved to /home/michele/Desktop/Dottorato/active_source_implementation/experiments_Brava_2/s0176/images/example_of_filtered_waveform/3_rec_60to50_sv1_sh1_660\n"
     ]
    },
    {
     "name": "stderr",
     "output_type": "stream",
     "text": [
      "The PostScript backend does not support transparency; partially transparent artists will be rendered opaque.\n"
     ]
    },
    {
     "name": "stdout",
     "output_type": "stream",
     "text": [
      "Plot saved to /home/michele/Desktop/Dottorato/active_source_implementation/experiments_Brava_2/s0176/images/example_of_filtered_waveform/3_rec_60to50_sv1_sh1_726\n"
     ]
    },
    {
     "name": "stderr",
     "output_type": "stream",
     "text": [
      "The PostScript backend does not support transparency; partially transparent artists will be rendered opaque.\n"
     ]
    },
    {
     "name": "stdout",
     "output_type": "stream",
     "text": [
      "Plot saved to /home/michele/Desktop/Dottorato/active_source_implementation/experiments_Brava_2/s0176/images/example_of_filtered_waveform/3_rec_60to50_sv1_sh1_792\n"
     ]
    },
    {
     "name": "stderr",
     "output_type": "stream",
     "text": [
      "The PostScript backend does not support transparency; partially transparent artists will be rendered opaque.\n"
     ]
    },
    {
     "name": "stdout",
     "output_type": "stream",
     "text": [
      "Plot saved to /home/michele/Desktop/Dottorato/active_source_implementation/experiments_Brava_2/s0176/images/example_of_filtered_waveform/3_rec_60to50_sv1_sh1_858\n",
      "Plot saved to /home/michele/Desktop/Dottorato/active_source_implementation/experiments_Brava_2/s0176/images/example_of_filtered_waveform/3_rec_60to50_sv1_sh1_924\n"
     ]
    },
    {
     "name": "stderr",
     "output_type": "stream",
     "text": [
      "The PostScript backend does not support transparency; partially transparent artists will be rendered opaque.\n",
      "The PostScript backend does not support transparency; partially transparent artists will be rendered opaque.\n"
     ]
    },
    {
     "name": "stdout",
     "output_type": "stream",
     "text": [
      "Plot saved to /home/michele/Desktop/Dottorato/active_source_implementation/experiments_Brava_2/s0176/images/example_of_filtered_waveform/3_rec_60to50_sv1_sh1_990\n"
     ]
    },
    {
     "name": "stderr",
     "output_type": "stream",
     "text": [
      "The PostScript backend does not support transparency; partially transparent artists will be rendered opaque.\n"
     ]
    },
    {
     "name": "stdout",
     "output_type": "stream",
     "text": [
      "Plot saved to /home/michele/Desktop/Dottorato/active_source_implementation/experiments_Brava_2/s0176/images/example_of_filtered_waveform/3_rec_60to50_sv1_sh1_1056\n"
     ]
    },
    {
     "name": "stderr",
     "output_type": "stream",
     "text": [
      "The PostScript backend does not support transparency; partially transparent artists will be rendered opaque.\n"
     ]
    },
    {
     "name": "stdout",
     "output_type": "stream",
     "text": [
      "Plot saved to /home/michele/Desktop/Dottorato/active_source_implementation/experiments_Brava_2/s0176/images/example_of_filtered_waveform/3_rec_60to50_sv1_sh1_1122\n",
      "Plot saved to /home/michele/Desktop/Dottorato/active_source_implementation/experiments_Brava_2/s0176/images/example_of_filtered_waveform/3_rec_60to50_sv1_sh1_1188\n"
     ]
    },
    {
     "name": "stderr",
     "output_type": "stream",
     "text": [
      "The PostScript backend does not support transparency; partially transparent artists will be rendered opaque.\n"
     ]
    },
    {
     "name": "stdout",
     "output_type": "stream",
     "text": [
      "Plot saved to /home/michele/Desktop/Dottorato/active_source_implementation/experiments_Brava_2/s0176/images/example_of_filtered_waveform/3_rec_60to50_sv1_sh1_1254\n"
     ]
    },
    {
     "name": "stderr",
     "output_type": "stream",
     "text": [
      "The PostScript backend does not support transparency; partially transparent artists will be rendered opaque.\n"
     ]
    },
    {
     "name": "stdout",
     "output_type": "stream",
     "text": [
      "Plot saved to /home/michele/Desktop/Dottorato/active_source_implementation/experiments_Brava_2/s0176/images/example_of_filtered_waveform/3_rec_60to50_sv1_sh1_1320\n"
     ]
    },
    {
     "name": "stderr",
     "output_type": "stream",
     "text": [
      "The PostScript backend does not support transparency; partially transparent artists will be rendered opaque.\n"
     ]
    },
    {
     "name": "stdout",
     "output_type": "stream",
     "text": [
      "Plot saved to /home/michele/Desktop/Dottorato/active_source_implementation/experiments_Brava_2/s0176/images/example_of_filtered_waveform/3_rec_60to50_sv1_sh1_1386\n"
     ]
    },
    {
     "name": "stderr",
     "output_type": "stream",
     "text": [
      "The PostScript backend does not support transparency; partially transparent artists will be rendered opaque.\n"
     ]
    },
    {
     "name": "stdout",
     "output_type": "stream",
     "text": [
      "Plot saved to /home/michele/Desktop/Dottorato/active_source_implementation/experiments_Brava_2/s0176/images/example_of_filtered_waveform/3_rec_60to50_sv1_sh1_1452\n"
     ]
    },
    {
     "name": "stderr",
     "output_type": "stream",
     "text": [
      "The PostScript backend does not support transparency; partially transparent artists will be rendered opaque.\n"
     ]
    },
    {
     "name": "stdout",
     "output_type": "stream",
     "text": [
      "Plot saved to /home/michele/Desktop/Dottorato/active_source_implementation/experiments_Brava_2/s0176/images/example_of_filtered_waveform/3_rec_60to50_sv1_sh1_1518\n"
     ]
    },
    {
     "name": "stderr",
     "output_type": "stream",
     "text": [
      "The PostScript backend does not support transparency; partially transparent artists will be rendered opaque.\n"
     ]
    },
    {
     "name": "stdout",
     "output_type": "stream",
     "text": [
      "Plot saved to /home/michele/Desktop/Dottorato/active_source_implementation/experiments_Brava_2/s0176/images/example_of_filtered_waveform/3_rec_60to50_sv1_sh1_1584\n"
     ]
    },
    {
     "name": "stderr",
     "output_type": "stream",
     "text": [
      "The PostScript backend does not support transparency; partially transparent artists will be rendered opaque.\n"
     ]
    },
    {
     "name": "stdout",
     "output_type": "stream",
     "text": [
      "Plot saved to /home/michele/Desktop/Dottorato/active_source_implementation/experiments_Brava_2/s0176/images/example_of_filtered_waveform/3_rec_60to50_sv1_sh1_1650\n"
     ]
    },
    {
     "name": "stderr",
     "output_type": "stream",
     "text": [
      "The PostScript backend does not support transparency; partially transparent artists will be rendered opaque.\n"
     ]
    },
    {
     "name": "stdout",
     "output_type": "stream",
     "text": [
      "Plot saved to /home/michele/Desktop/Dottorato/active_source_implementation/experiments_Brava_2/s0176/images/example_of_filtered_waveform/3_rec_60to50_sv1_sh1_1716\n"
     ]
    },
    {
     "name": "stderr",
     "output_type": "stream",
     "text": [
      "The PostScript backend does not support transparency; partially transparent artists will be rendered opaque.\n"
     ]
    },
    {
     "name": "stdout",
     "output_type": "stream",
     "text": [
      "Plot saved to /home/michele/Desktop/Dottorato/active_source_implementation/experiments_Brava_2/s0176/images/example_of_filtered_waveform/3_rec_60to50_sv1_sh1_1782\n"
     ]
    },
    {
     "name": "stderr",
     "output_type": "stream",
     "text": [
      "The PostScript backend does not support transparency; partially transparent artists will be rendered opaque.\n"
     ]
    },
    {
     "name": "stdout",
     "output_type": "stream",
     "text": [
      "Plot saved to /home/michele/Desktop/Dottorato/active_source_implementation/experiments_Brava_2/s0176/images/example_of_filtered_waveform/3_rec_60to50_sv1_sh1_1848\n"
     ]
    },
    {
     "name": "stderr",
     "output_type": "stream",
     "text": [
      "The PostScript backend does not support transparency; partially transparent artists will be rendered opaque.\n",
      "The PostScript backend does not support transparency; partially transparent artists will be rendered opaque.\n"
     ]
    },
    {
     "name": "stdout",
     "output_type": "stream",
     "text": [
      "Plot saved to /home/michele/Desktop/Dottorato/active_source_implementation/experiments_Brava_2/s0176/images/example_of_filtered_waveform/3_rec_60to50_sv1_sh1_1914\n",
      "Plot saved to /home/michele/Desktop/Dottorato/active_source_implementation/experiments_Brava_2/s0176/images/example_of_filtered_waveform/3_rec_60to50_sv1_sh1_1980\n",
      "--- 23.067900896072388 seconds for processing 3_rec_60to50_sv1_sh1---\n",
      "PROCESSING UW DATA IN /home/michele/Desktop/Dottorato/active_source_implementation/experiments_Brava_2/s0176/data_tsv_files/3_rec_60to50_sv1_sh2.bscan.tsv: \n",
      "PROCESSING UW DATA IN /home/michele/Desktop/Dottorato/active_source_implementation/experiments_Brava_2/s0176/data_tsv_files/3_rec_60to50_sv1_sv1.bscan.tsv: \n"
     ]
    },
    {
     "name": "stderr",
     "output_type": "stream",
     "text": [
      "The PostScript backend does not support transparency; partially transparent artists will be rendered opaque.\n"
     ]
    },
    {
     "name": "stdout",
     "output_type": "stream",
     "text": [
      "Plot saved to /home/michele/Desktop/Dottorato/active_source_implementation/experiments_Brava_2/s0176/images/waveforms/3_rec_60to50_sv1_sv1\n",
      "number_of_samples\n",
      "sampling_rate\n",
      "time_ax_waveform\n",
      "number_of_waveforms\n",
      "acquisition_frequency\n",
      "time_ax_acquisition\n",
      "Plot saved to /home/michele/Desktop/Dottorato/active_source_implementation/experiments_Brava_2/s0176/images/amplitude_maps/3_rec_60to50_sv1_sv1\n"
     ]
    },
    {
     "name": "stderr",
     "output_type": "stream",
     "text": [
      "The PostScript backend does not support transparency; partially transparent artists will be rendered opaque.\n"
     ]
    },
    {
     "name": "stdout",
     "output_type": "stream",
     "text": [
      "Plot saved to /home/michele/Desktop/Dottorato/active_source_implementation/experiments_Brava_2/s0176/images/waveforms/3_rec_60to50_sv1_sv1_filtered\n",
      "number_of_samples\n",
      "sampling_rate\n",
      "time_ax_waveform\n",
      "number_of_waveforms\n",
      "acquisition_frequency\n",
      "time_ax_acquisition\n"
     ]
    },
    {
     "name": "stderr",
     "output_type": "stream",
     "text": [
      "The PostScript backend does not support transparency; partially transparent artists will be rendered opaque.\n"
     ]
    },
    {
     "name": "stdout",
     "output_type": "stream",
     "text": [
      "Plot saved to /home/michele/Desktop/Dottorato/active_source_implementation/experiments_Brava_2/s0176/images/amplitude_maps/3_rec_60to50_sv1_sv1_filtered\n"
     ]
    },
    {
     "name": "stderr",
     "output_type": "stream",
     "text": [
      "The PostScript backend does not support transparency; partially transparent artists will be rendered opaque.\n"
     ]
    },
    {
     "name": "stdout",
     "output_type": "stream",
     "text": [
      "Plot saved to /home/michele/Desktop/Dottorato/active_source_implementation/experiments_Brava_2/s0176/images/example_of_filtered_waveform/3_rec_60to50_sv1_sv1_0\n",
      "Plot saved to /home/michele/Desktop/Dottorato/active_source_implementation/experiments_Brava_2/s0176/images/example_of_filtered_waveform/3_rec_60to50_sv1_sv1_66\n"
     ]
    },
    {
     "name": "stderr",
     "output_type": "stream",
     "text": [
      "The PostScript backend does not support transparency; partially transparent artists will be rendered opaque.\n"
     ]
    },
    {
     "name": "stdout",
     "output_type": "stream",
     "text": [
      "Plot saved to /home/michele/Desktop/Dottorato/active_source_implementation/experiments_Brava_2/s0176/images/example_of_filtered_waveform/3_rec_60to50_sv1_sv1_132\n"
     ]
    },
    {
     "name": "stderr",
     "output_type": "stream",
     "text": [
      "The PostScript backend does not support transparency; partially transparent artists will be rendered opaque.\n"
     ]
    },
    {
     "name": "stdout",
     "output_type": "stream",
     "text": [
      "Plot saved to /home/michele/Desktop/Dottorato/active_source_implementation/experiments_Brava_2/s0176/images/example_of_filtered_waveform/3_rec_60to50_sv1_sv1_198\n"
     ]
    },
    {
     "name": "stderr",
     "output_type": "stream",
     "text": [
      "The PostScript backend does not support transparency; partially transparent artists will be rendered opaque.\n",
      "The PostScript backend does not support transparency; partially transparent artists will be rendered opaque.\n"
     ]
    },
    {
     "name": "stdout",
     "output_type": "stream",
     "text": [
      "Plot saved to /home/michele/Desktop/Dottorato/active_source_implementation/experiments_Brava_2/s0176/images/example_of_filtered_waveform/3_rec_60to50_sv1_sv1_264\n"
     ]
    },
    {
     "name": "stderr",
     "output_type": "stream",
     "text": [
      "The PostScript backend does not support transparency; partially transparent artists will be rendered opaque.\n"
     ]
    },
    {
     "name": "stdout",
     "output_type": "stream",
     "text": [
      "Plot saved to /home/michele/Desktop/Dottorato/active_source_implementation/experiments_Brava_2/s0176/images/example_of_filtered_waveform/3_rec_60to50_sv1_sv1_330\n"
     ]
    },
    {
     "name": "stderr",
     "output_type": "stream",
     "text": [
      "The PostScript backend does not support transparency; partially transparent artists will be rendered opaque.\n"
     ]
    },
    {
     "name": "stdout",
     "output_type": "stream",
     "text": [
      "Plot saved to /home/michele/Desktop/Dottorato/active_source_implementation/experiments_Brava_2/s0176/images/example_of_filtered_waveform/3_rec_60to50_sv1_sv1_396\n"
     ]
    },
    {
     "name": "stderr",
     "output_type": "stream",
     "text": [
      "The PostScript backend does not support transparency; partially transparent artists will be rendered opaque.\n"
     ]
    },
    {
     "name": "stdout",
     "output_type": "stream",
     "text": [
      "Plot saved to /home/michele/Desktop/Dottorato/active_source_implementation/experiments_Brava_2/s0176/images/example_of_filtered_waveform/3_rec_60to50_sv1_sv1_462\n"
     ]
    },
    {
     "name": "stderr",
     "output_type": "stream",
     "text": [
      "The PostScript backend does not support transparency; partially transparent artists will be rendered opaque.\n"
     ]
    },
    {
     "name": "stdout",
     "output_type": "stream",
     "text": [
      "Plot saved to /home/michele/Desktop/Dottorato/active_source_implementation/experiments_Brava_2/s0176/images/example_of_filtered_waveform/3_rec_60to50_sv1_sv1_528\n"
     ]
    },
    {
     "name": "stderr",
     "output_type": "stream",
     "text": [
      "The PostScript backend does not support transparency; partially transparent artists will be rendered opaque.\n"
     ]
    },
    {
     "name": "stdout",
     "output_type": "stream",
     "text": [
      "Plot saved to /home/michele/Desktop/Dottorato/active_source_implementation/experiments_Brava_2/s0176/images/example_of_filtered_waveform/3_rec_60to50_sv1_sv1_594\n"
     ]
    },
    {
     "name": "stderr",
     "output_type": "stream",
     "text": [
      "The PostScript backend does not support transparency; partially transparent artists will be rendered opaque.\n"
     ]
    },
    {
     "name": "stdout",
     "output_type": "stream",
     "text": [
      "Plot saved to /home/michele/Desktop/Dottorato/active_source_implementation/experiments_Brava_2/s0176/images/example_of_filtered_waveform/3_rec_60to50_sv1_sv1_660\n"
     ]
    },
    {
     "name": "stderr",
     "output_type": "stream",
     "text": [
      "The PostScript backend does not support transparency; partially transparent artists will be rendered opaque.\n"
     ]
    },
    {
     "name": "stdout",
     "output_type": "stream",
     "text": [
      "Plot saved to /home/michele/Desktop/Dottorato/active_source_implementation/experiments_Brava_2/s0176/images/example_of_filtered_waveform/3_rec_60to50_sv1_sv1_726\n",
      "Plot saved to /home/michele/Desktop/Dottorato/active_source_implementation/experiments_Brava_2/s0176/images/example_of_filtered_waveform/3_rec_60to50_sv1_sv1_792\n"
     ]
    },
    {
     "name": "stderr",
     "output_type": "stream",
     "text": [
      "The PostScript backend does not support transparency; partially transparent artists will be rendered opaque.\n"
     ]
    },
    {
     "name": "stdout",
     "output_type": "stream",
     "text": [
      "Plot saved to /home/michele/Desktop/Dottorato/active_source_implementation/experiments_Brava_2/s0176/images/example_of_filtered_waveform/3_rec_60to50_sv1_sv1_858\n"
     ]
    },
    {
     "name": "stderr",
     "output_type": "stream",
     "text": [
      "The PostScript backend does not support transparency; partially transparent artists will be rendered opaque.\n"
     ]
    },
    {
     "name": "stdout",
     "output_type": "stream",
     "text": [
      "Plot saved to /home/michele/Desktop/Dottorato/active_source_implementation/experiments_Brava_2/s0176/images/example_of_filtered_waveform/3_rec_60to50_sv1_sv1_924\n"
     ]
    },
    {
     "name": "stderr",
     "output_type": "stream",
     "text": [
      "The PostScript backend does not support transparency; partially transparent artists will be rendered opaque.\n"
     ]
    },
    {
     "name": "stdout",
     "output_type": "stream",
     "text": [
      "Plot saved to /home/michele/Desktop/Dottorato/active_source_implementation/experiments_Brava_2/s0176/images/example_of_filtered_waveform/3_rec_60to50_sv1_sv1_990\n"
     ]
    },
    {
     "name": "stderr",
     "output_type": "stream",
     "text": [
      "The PostScript backend does not support transparency; partially transparent artists will be rendered opaque.\n"
     ]
    },
    {
     "name": "stdout",
     "output_type": "stream",
     "text": [
      "Plot saved to /home/michele/Desktop/Dottorato/active_source_implementation/experiments_Brava_2/s0176/images/example_of_filtered_waveform/3_rec_60to50_sv1_sv1_1056\n"
     ]
    },
    {
     "name": "stderr",
     "output_type": "stream",
     "text": [
      "The PostScript backend does not support transparency; partially transparent artists will be rendered opaque.\n"
     ]
    },
    {
     "name": "stdout",
     "output_type": "stream",
     "text": [
      "Plot saved to /home/michele/Desktop/Dottorato/active_source_implementation/experiments_Brava_2/s0176/images/example_of_filtered_waveform/3_rec_60to50_sv1_sv1_1122\n"
     ]
    },
    {
     "name": "stderr",
     "output_type": "stream",
     "text": [
      "The PostScript backend does not support transparency; partially transparent artists will be rendered opaque.\n"
     ]
    },
    {
     "name": "stdout",
     "output_type": "stream",
     "text": [
      "Plot saved to /home/michele/Desktop/Dottorato/active_source_implementation/experiments_Brava_2/s0176/images/example_of_filtered_waveform/3_rec_60to50_sv1_sv1_1188\n"
     ]
    },
    {
     "name": "stderr",
     "output_type": "stream",
     "text": [
      "The PostScript backend does not support transparency; partially transparent artists will be rendered opaque.\n"
     ]
    },
    {
     "name": "stdout",
     "output_type": "stream",
     "text": [
      "Plot saved to /home/michele/Desktop/Dottorato/active_source_implementation/experiments_Brava_2/s0176/images/example_of_filtered_waveform/3_rec_60to50_sv1_sv1_1254\n"
     ]
    },
    {
     "name": "stderr",
     "output_type": "stream",
     "text": [
      "The PostScript backend does not support transparency; partially transparent artists will be rendered opaque.\n"
     ]
    },
    {
     "name": "stdout",
     "output_type": "stream",
     "text": [
      "Plot saved to /home/michele/Desktop/Dottorato/active_source_implementation/experiments_Brava_2/s0176/images/example_of_filtered_waveform/3_rec_60to50_sv1_sv1_1320\n"
     ]
    },
    {
     "name": "stderr",
     "output_type": "stream",
     "text": [
      "The PostScript backend does not support transparency; partially transparent artists will be rendered opaque.\n"
     ]
    },
    {
     "name": "stdout",
     "output_type": "stream",
     "text": [
      "Plot saved to /home/michele/Desktop/Dottorato/active_source_implementation/experiments_Brava_2/s0176/images/example_of_filtered_waveform/3_rec_60to50_sv1_sv1_1386\n"
     ]
    },
    {
     "name": "stderr",
     "output_type": "stream",
     "text": [
      "The PostScript backend does not support transparency; partially transparent artists will be rendered opaque.\n"
     ]
    },
    {
     "name": "stdout",
     "output_type": "stream",
     "text": [
      "Plot saved to /home/michele/Desktop/Dottorato/active_source_implementation/experiments_Brava_2/s0176/images/example_of_filtered_waveform/3_rec_60to50_sv1_sv1_1452\n"
     ]
    },
    {
     "name": "stderr",
     "output_type": "stream",
     "text": [
      "The PostScript backend does not support transparency; partially transparent artists will be rendered opaque.\n"
     ]
    },
    {
     "name": "stdout",
     "output_type": "stream",
     "text": [
      "Plot saved to /home/michele/Desktop/Dottorato/active_source_implementation/experiments_Brava_2/s0176/images/example_of_filtered_waveform/3_rec_60to50_sv1_sv1_1518\n"
     ]
    },
    {
     "name": "stderr",
     "output_type": "stream",
     "text": [
      "The PostScript backend does not support transparency; partially transparent artists will be rendered opaque.\n"
     ]
    },
    {
     "name": "stdout",
     "output_type": "stream",
     "text": [
      "Plot saved to /home/michele/Desktop/Dottorato/active_source_implementation/experiments_Brava_2/s0176/images/example_of_filtered_waveform/3_rec_60to50_sv1_sv1_1584\n"
     ]
    },
    {
     "name": "stderr",
     "output_type": "stream",
     "text": [
      "The PostScript backend does not support transparency; partially transparent artists will be rendered opaque.\n"
     ]
    },
    {
     "name": "stdout",
     "output_type": "stream",
     "text": [
      "Plot saved to /home/michele/Desktop/Dottorato/active_source_implementation/experiments_Brava_2/s0176/images/example_of_filtered_waveform/3_rec_60to50_sv1_sv1_1650\n"
     ]
    },
    {
     "name": "stderr",
     "output_type": "stream",
     "text": [
      "The PostScript backend does not support transparency; partially transparent artists will be rendered opaque.\n"
     ]
    },
    {
     "name": "stdout",
     "output_type": "stream",
     "text": [
      "Plot saved to /home/michele/Desktop/Dottorato/active_source_implementation/experiments_Brava_2/s0176/images/example_of_filtered_waveform/3_rec_60to50_sv1_sv1_1716\n"
     ]
    },
    {
     "name": "stderr",
     "output_type": "stream",
     "text": [
      "The PostScript backend does not support transparency; partially transparent artists will be rendered opaque.\n"
     ]
    },
    {
     "name": "stdout",
     "output_type": "stream",
     "text": [
      "Plot saved to /home/michele/Desktop/Dottorato/active_source_implementation/experiments_Brava_2/s0176/images/example_of_filtered_waveform/3_rec_60to50_sv1_sv1_1782\n"
     ]
    },
    {
     "name": "stderr",
     "output_type": "stream",
     "text": [
      "The PostScript backend does not support transparency; partially transparent artists will be rendered opaque.\n"
     ]
    },
    {
     "name": "stdout",
     "output_type": "stream",
     "text": [
      "Plot saved to /home/michele/Desktop/Dottorato/active_source_implementation/experiments_Brava_2/s0176/images/example_of_filtered_waveform/3_rec_60to50_sv1_sv1_1848\n"
     ]
    },
    {
     "name": "stderr",
     "output_type": "stream",
     "text": [
      "The PostScript backend does not support transparency; partially transparent artists will be rendered opaque.\n"
     ]
    },
    {
     "name": "stdout",
     "output_type": "stream",
     "text": [
      "Plot saved to /home/michele/Desktop/Dottorato/active_source_implementation/experiments_Brava_2/s0176/images/example_of_filtered_waveform/3_rec_60to50_sv1_sv1_1914\n"
     ]
    },
    {
     "name": "stderr",
     "output_type": "stream",
     "text": [
      "The PostScript backend does not support transparency; partially transparent artists will be rendered opaque.\n"
     ]
    },
    {
     "name": "stdout",
     "output_type": "stream",
     "text": [
      "Plot saved to /home/michele/Desktop/Dottorato/active_source_implementation/experiments_Brava_2/s0176/images/example_of_filtered_waveform/3_rec_60to50_sv1_sv1_1980\n",
      "--- 21.077187299728394 seconds for processing 3_rec_60to50_sv1_sv1---\n",
      "PROCESSING UW DATA IN /home/michele/Desktop/Dottorato/active_source_implementation/experiments_Brava_2/s0176/data_tsv_files/3_rec_60to50_sv1_sv2.bscan.tsv: \n"
     ]
    },
    {
     "name": "stderr",
     "output_type": "stream",
     "text": [
      "The PostScript backend does not support transparency; partially transparent artists will be rendered opaque.\n"
     ]
    },
    {
     "name": "stdout",
     "output_type": "stream",
     "text": [
      "Plot saved to /home/michele/Desktop/Dottorato/active_source_implementation/experiments_Brava_2/s0176/images/waveforms/3_rec_60to50_sv1_sv2\n",
      "number_of_samples\n",
      "sampling_rate\n",
      "time_ax_waveform\n",
      "number_of_waveforms\n",
      "acquisition_frequency\n",
      "time_ax_acquisition\n",
      "Plot saved to /home/michele/Desktop/Dottorato/active_source_implementation/experiments_Brava_2/s0176/images/amplitude_maps/3_rec_60to50_sv1_sv2\n"
     ]
    },
    {
     "name": "stderr",
     "output_type": "stream",
     "text": [
      "The PostScript backend does not support transparency; partially transparent artists will be rendered opaque.\n"
     ]
    },
    {
     "name": "stdout",
     "output_type": "stream",
     "text": [
      "Plot saved to /home/michele/Desktop/Dottorato/active_source_implementation/experiments_Brava_2/s0176/images/waveforms/3_rec_60to50_sv1_sv2_filtered\n",
      "number_of_samples\n",
      "sampling_rate\n",
      "time_ax_waveform\n",
      "number_of_waveforms\n",
      "acquisition_frequency\n",
      "time_ax_acquisition\n"
     ]
    },
    {
     "name": "stderr",
     "output_type": "stream",
     "text": [
      "The PostScript backend does not support transparency; partially transparent artists will be rendered opaque.\n"
     ]
    },
    {
     "name": "stdout",
     "output_type": "stream",
     "text": [
      "Plot saved to /home/michele/Desktop/Dottorato/active_source_implementation/experiments_Brava_2/s0176/images/amplitude_maps/3_rec_60to50_sv1_sv2_filtered\n",
      "Plot saved to /home/michele/Desktop/Dottorato/active_source_implementation/experiments_Brava_2/s0176/images/example_of_filtered_waveform/3_rec_60to50_sv1_sv2_0\n"
     ]
    },
    {
     "name": "stderr",
     "output_type": "stream",
     "text": [
      "The PostScript backend does not support transparency; partially transparent artists will be rendered opaque.\n",
      "The PostScript backend does not support transparency; partially transparent artists will be rendered opaque.\n"
     ]
    },
    {
     "name": "stdout",
     "output_type": "stream",
     "text": [
      "Plot saved to /home/michele/Desktop/Dottorato/active_source_implementation/experiments_Brava_2/s0176/images/example_of_filtered_waveform/3_rec_60to50_sv1_sv2_66\n",
      "Plot saved to /home/michele/Desktop/Dottorato/active_source_implementation/experiments_Brava_2/s0176/images/example_of_filtered_waveform/3_rec_60to50_sv1_sv2_132\n"
     ]
    },
    {
     "name": "stderr",
     "output_type": "stream",
     "text": [
      "The PostScript backend does not support transparency; partially transparent artists will be rendered opaque.\n",
      "The PostScript backend does not support transparency; partially transparent artists will be rendered opaque.\n"
     ]
    },
    {
     "name": "stdout",
     "output_type": "stream",
     "text": [
      "Plot saved to /home/michele/Desktop/Dottorato/active_source_implementation/experiments_Brava_2/s0176/images/example_of_filtered_waveform/3_rec_60to50_sv1_sv2_198\n",
      "Plot saved to /home/michele/Desktop/Dottorato/active_source_implementation/experiments_Brava_2/s0176/images/example_of_filtered_waveform/3_rec_60to50_sv1_sv2_264\n"
     ]
    },
    {
     "name": "stderr",
     "output_type": "stream",
     "text": [
      "The PostScript backend does not support transparency; partially transparent artists will be rendered opaque.\n"
     ]
    },
    {
     "name": "stdout",
     "output_type": "stream",
     "text": [
      "Plot saved to /home/michele/Desktop/Dottorato/active_source_implementation/experiments_Brava_2/s0176/images/example_of_filtered_waveform/3_rec_60to50_sv1_sv2_330\n"
     ]
    },
    {
     "name": "stderr",
     "output_type": "stream",
     "text": [
      "The PostScript backend does not support transparency; partially transparent artists will be rendered opaque.\n"
     ]
    },
    {
     "name": "stdout",
     "output_type": "stream",
     "text": [
      "Plot saved to /home/michele/Desktop/Dottorato/active_source_implementation/experiments_Brava_2/s0176/images/example_of_filtered_waveform/3_rec_60to50_sv1_sv2_396\n"
     ]
    },
    {
     "name": "stderr",
     "output_type": "stream",
     "text": [
      "The PostScript backend does not support transparency; partially transparent artists will be rendered opaque.\n"
     ]
    },
    {
     "name": "stdout",
     "output_type": "stream",
     "text": [
      "Plot saved to /home/michele/Desktop/Dottorato/active_source_implementation/experiments_Brava_2/s0176/images/example_of_filtered_waveform/3_rec_60to50_sv1_sv2_462\n"
     ]
    },
    {
     "name": "stderr",
     "output_type": "stream",
     "text": [
      "The PostScript backend does not support transparency; partially transparent artists will be rendered opaque.\n",
      "The PostScript backend does not support transparency; partially transparent artists will be rendered opaque.\n"
     ]
    },
    {
     "name": "stdout",
     "output_type": "stream",
     "text": [
      "Plot saved to /home/michele/Desktop/Dottorato/active_source_implementation/experiments_Brava_2/s0176/images/example_of_filtered_waveform/3_rec_60to50_sv1_sv2_528\n"
     ]
    },
    {
     "name": "stderr",
     "output_type": "stream",
     "text": [
      "The PostScript backend does not support transparency; partially transparent artists will be rendered opaque.\n"
     ]
    },
    {
     "name": "stdout",
     "output_type": "stream",
     "text": [
      "Plot saved to /home/michele/Desktop/Dottorato/active_source_implementation/experiments_Brava_2/s0176/images/example_of_filtered_waveform/3_rec_60to50_sv1_sv2_594\n"
     ]
    },
    {
     "name": "stderr",
     "output_type": "stream",
     "text": [
      "The PostScript backend does not support transparency; partially transparent artists will be rendered opaque.\n"
     ]
    },
    {
     "name": "stdout",
     "output_type": "stream",
     "text": [
      "Plot saved to /home/michele/Desktop/Dottorato/active_source_implementation/experiments_Brava_2/s0176/images/example_of_filtered_waveform/3_rec_60to50_sv1_sv2_660\n"
     ]
    },
    {
     "name": "stderr",
     "output_type": "stream",
     "text": [
      "The PostScript backend does not support transparency; partially transparent artists will be rendered opaque.\n"
     ]
    },
    {
     "name": "stdout",
     "output_type": "stream",
     "text": [
      "Plot saved to /home/michele/Desktop/Dottorato/active_source_implementation/experiments_Brava_2/s0176/images/example_of_filtered_waveform/3_rec_60to50_sv1_sv2_726\n"
     ]
    },
    {
     "name": "stderr",
     "output_type": "stream",
     "text": [
      "The PostScript backend does not support transparency; partially transparent artists will be rendered opaque.\n"
     ]
    },
    {
     "name": "stdout",
     "output_type": "stream",
     "text": [
      "Plot saved to /home/michele/Desktop/Dottorato/active_source_implementation/experiments_Brava_2/s0176/images/example_of_filtered_waveform/3_rec_60to50_sv1_sv2_792\n",
      "Plot saved to /home/michele/Desktop/Dottorato/active_source_implementation/experiments_Brava_2/s0176/images/example_of_filtered_waveform/3_rec_60to50_sv1_sv2_858\n"
     ]
    },
    {
     "name": "stderr",
     "output_type": "stream",
     "text": [
      "The PostScript backend does not support transparency; partially transparent artists will be rendered opaque.\n"
     ]
    },
    {
     "name": "stdout",
     "output_type": "stream",
     "text": [
      "Plot saved to /home/michele/Desktop/Dottorato/active_source_implementation/experiments_Brava_2/s0176/images/example_of_filtered_waveform/3_rec_60to50_sv1_sv2_924\n"
     ]
    },
    {
     "name": "stderr",
     "output_type": "stream",
     "text": [
      "The PostScript backend does not support transparency; partially transparent artists will be rendered opaque.\n"
     ]
    },
    {
     "name": "stdout",
     "output_type": "stream",
     "text": [
      "Plot saved to /home/michele/Desktop/Dottorato/active_source_implementation/experiments_Brava_2/s0176/images/example_of_filtered_waveform/3_rec_60to50_sv1_sv2_990\n"
     ]
    },
    {
     "name": "stderr",
     "output_type": "stream",
     "text": [
      "The PostScript backend does not support transparency; partially transparent artists will be rendered opaque.\n"
     ]
    },
    {
     "name": "stdout",
     "output_type": "stream",
     "text": [
      "Plot saved to /home/michele/Desktop/Dottorato/active_source_implementation/experiments_Brava_2/s0176/images/example_of_filtered_waveform/3_rec_60to50_sv1_sv2_1056\n"
     ]
    },
    {
     "name": "stderr",
     "output_type": "stream",
     "text": [
      "The PostScript backend does not support transparency; partially transparent artists will be rendered opaque.\n"
     ]
    },
    {
     "name": "stdout",
     "output_type": "stream",
     "text": [
      "Plot saved to /home/michele/Desktop/Dottorato/active_source_implementation/experiments_Brava_2/s0176/images/example_of_filtered_waveform/3_rec_60to50_sv1_sv2_1122\n"
     ]
    },
    {
     "name": "stderr",
     "output_type": "stream",
     "text": [
      "The PostScript backend does not support transparency; partially transparent artists will be rendered opaque.\n",
      "The PostScript backend does not support transparency; partially transparent artists will be rendered opaque.\n"
     ]
    },
    {
     "name": "stdout",
     "output_type": "stream",
     "text": [
      "Plot saved to /home/michele/Desktop/Dottorato/active_source_implementation/experiments_Brava_2/s0176/images/example_of_filtered_waveform/3_rec_60to50_sv1_sv2_1188\n",
      "Plot saved to /home/michele/Desktop/Dottorato/active_source_implementation/experiments_Brava_2/s0176/images/example_of_filtered_waveform/3_rec_60to50_sv1_sv2_1254\n"
     ]
    },
    {
     "name": "stderr",
     "output_type": "stream",
     "text": [
      "The PostScript backend does not support transparency; partially transparent artists will be rendered opaque.\n"
     ]
    },
    {
     "name": "stdout",
     "output_type": "stream",
     "text": [
      "Plot saved to /home/michele/Desktop/Dottorato/active_source_implementation/experiments_Brava_2/s0176/images/example_of_filtered_waveform/3_rec_60to50_sv1_sv2_1320\n"
     ]
    },
    {
     "name": "stderr",
     "output_type": "stream",
     "text": [
      "The PostScript backend does not support transparency; partially transparent artists will be rendered opaque.\n"
     ]
    },
    {
     "name": "stdout",
     "output_type": "stream",
     "text": [
      "Plot saved to /home/michele/Desktop/Dottorato/active_source_implementation/experiments_Brava_2/s0176/images/example_of_filtered_waveform/3_rec_60to50_sv1_sv2_1386\n"
     ]
    },
    {
     "name": "stderr",
     "output_type": "stream",
     "text": [
      "The PostScript backend does not support transparency; partially transparent artists will be rendered opaque.\n"
     ]
    },
    {
     "name": "stdout",
     "output_type": "stream",
     "text": [
      "Plot saved to /home/michele/Desktop/Dottorato/active_source_implementation/experiments_Brava_2/s0176/images/example_of_filtered_waveform/3_rec_60to50_sv1_sv2_1452\n"
     ]
    },
    {
     "name": "stderr",
     "output_type": "stream",
     "text": [
      "The PostScript backend does not support transparency; partially transparent artists will be rendered opaque.\n"
     ]
    },
    {
     "name": "stdout",
     "output_type": "stream",
     "text": [
      "Plot saved to /home/michele/Desktop/Dottorato/active_source_implementation/experiments_Brava_2/s0176/images/example_of_filtered_waveform/3_rec_60to50_sv1_sv2_1518\n"
     ]
    },
    {
     "name": "stderr",
     "output_type": "stream",
     "text": [
      "The PostScript backend does not support transparency; partially transparent artists will be rendered opaque.\n"
     ]
    },
    {
     "name": "stdout",
     "output_type": "stream",
     "text": [
      "Plot saved to /home/michele/Desktop/Dottorato/active_source_implementation/experiments_Brava_2/s0176/images/example_of_filtered_waveform/3_rec_60to50_sv1_sv2_1584\n"
     ]
    },
    {
     "name": "stderr",
     "output_type": "stream",
     "text": [
      "The PostScript backend does not support transparency; partially transparent artists will be rendered opaque.\n"
     ]
    },
    {
     "name": "stdout",
     "output_type": "stream",
     "text": [
      "Plot saved to /home/michele/Desktop/Dottorato/active_source_implementation/experiments_Brava_2/s0176/images/example_of_filtered_waveform/3_rec_60to50_sv1_sv2_1650\n"
     ]
    },
    {
     "name": "stderr",
     "output_type": "stream",
     "text": [
      "The PostScript backend does not support transparency; partially transparent artists will be rendered opaque.\n"
     ]
    },
    {
     "name": "stdout",
     "output_type": "stream",
     "text": [
      "Plot saved to /home/michele/Desktop/Dottorato/active_source_implementation/experiments_Brava_2/s0176/images/example_of_filtered_waveform/3_rec_60to50_sv1_sv2_1716\n"
     ]
    },
    {
     "name": "stderr",
     "output_type": "stream",
     "text": [
      "The PostScript backend does not support transparency; partially transparent artists will be rendered opaque.\n"
     ]
    },
    {
     "name": "stdout",
     "output_type": "stream",
     "text": [
      "Plot saved to /home/michele/Desktop/Dottorato/active_source_implementation/experiments_Brava_2/s0176/images/example_of_filtered_waveform/3_rec_60to50_sv1_sv2_1782\n"
     ]
    },
    {
     "name": "stderr",
     "output_type": "stream",
     "text": [
      "The PostScript backend does not support transparency; partially transparent artists will be rendered opaque.\n",
      "The PostScript backend does not support transparency; partially transparent artists will be rendered opaque.\n"
     ]
    },
    {
     "name": "stdout",
     "output_type": "stream",
     "text": [
      "Plot saved to /home/michele/Desktop/Dottorato/active_source_implementation/experiments_Brava_2/s0176/images/example_of_filtered_waveform/3_rec_60to50_sv1_sv2_1848\n",
      "Plot saved to /home/michele/Desktop/Dottorato/active_source_implementation/experiments_Brava_2/s0176/images/example_of_filtered_waveform/3_rec_60to50_sv1_sv2_1914\n"
     ]
    },
    {
     "name": "stderr",
     "output_type": "stream",
     "text": [
      "The PostScript backend does not support transparency; partially transparent artists will be rendered opaque.\n"
     ]
    },
    {
     "name": "stdout",
     "output_type": "stream",
     "text": [
      "Plot saved to /home/michele/Desktop/Dottorato/active_source_implementation/experiments_Brava_2/s0176/images/example_of_filtered_waveform/3_rec_60to50_sv1_sv2_1980\n",
      "--- 23.088247060775757 seconds for processing 3_rec_60to50_sv1_sv2---\n",
      "PROCESSING UW DATA IN /home/michele/Desktop/Dottorato/active_source_implementation/experiments_Brava_2/s0176/data_tsv_files/4_rec_50_sv1_sh1.bscan.tsv: \n"
     ]
    },
    {
     "name": "stderr",
     "output_type": "stream",
     "text": [
      "The PostScript backend does not support transparency; partially transparent artists will be rendered opaque.\n"
     ]
    },
    {
     "name": "stdout",
     "output_type": "stream",
     "text": [
      "Plot saved to /home/michele/Desktop/Dottorato/active_source_implementation/experiments_Brava_2/s0176/images/waveforms/4_rec_50_sv1_sh1\n",
      "number_of_samples\n",
      "sampling_rate\n",
      "time_ax_waveform\n",
      "number_of_waveforms\n",
      "acquisition_frequency\n",
      "time_ax_acquisition\n",
      "Plot saved to /home/michele/Desktop/Dottorato/active_source_implementation/experiments_Brava_2/s0176/images/amplitude_maps/4_rec_50_sv1_sh1\n"
     ]
    },
    {
     "name": "stderr",
     "output_type": "stream",
     "text": [
      "The PostScript backend does not support transparency; partially transparent artists will be rendered opaque.\n"
     ]
    },
    {
     "name": "stdout",
     "output_type": "stream",
     "text": [
      "Plot saved to /home/michele/Desktop/Dottorato/active_source_implementation/experiments_Brava_2/s0176/images/waveforms/4_rec_50_sv1_sh1_filtered\n",
      "number_of_samples\n",
      "sampling_rate\n",
      "time_ax_waveform\n",
      "number_of_waveforms\n",
      "acquisition_frequency\n",
      "time_ax_acquisition\n"
     ]
    },
    {
     "name": "stderr",
     "output_type": "stream",
     "text": [
      "The PostScript backend does not support transparency; partially transparent artists will be rendered opaque.\n"
     ]
    },
    {
     "name": "stdout",
     "output_type": "stream",
     "text": [
      "Plot saved to /home/michele/Desktop/Dottorato/active_source_implementation/experiments_Brava_2/s0176/images/amplitude_maps/4_rec_50_sv1_sh1_filtered\n"
     ]
    },
    {
     "name": "stderr",
     "output_type": "stream",
     "text": [
      "The PostScript backend does not support transparency; partially transparent artists will be rendered opaque.\n"
     ]
    },
    {
     "name": "stdout",
     "output_type": "stream",
     "text": [
      "Plot saved to /home/michele/Desktop/Dottorato/active_source_implementation/experiments_Brava_2/s0176/images/example_of_filtered_waveform/4_rec_50_sv1_sh1_0\n"
     ]
    },
    {
     "name": "stderr",
     "output_type": "stream",
     "text": [
      "The PostScript backend does not support transparency; partially transparent artists will be rendered opaque.\n"
     ]
    },
    {
     "name": "stdout",
     "output_type": "stream",
     "text": [
      "Plot saved to /home/michele/Desktop/Dottorato/active_source_implementation/experiments_Brava_2/s0176/images/example_of_filtered_waveform/4_rec_50_sv1_sh1_50\n"
     ]
    },
    {
     "name": "stderr",
     "output_type": "stream",
     "text": [
      "The PostScript backend does not support transparency; partially transparent artists will be rendered opaque.\n"
     ]
    },
    {
     "name": "stdout",
     "output_type": "stream",
     "text": [
      "Plot saved to /home/michele/Desktop/Dottorato/active_source_implementation/experiments_Brava_2/s0176/images/example_of_filtered_waveform/4_rec_50_sv1_sh1_100\n"
     ]
    },
    {
     "name": "stderr",
     "output_type": "stream",
     "text": [
      "The PostScript backend does not support transparency; partially transparent artists will be rendered opaque.\n"
     ]
    },
    {
     "name": "stdout",
     "output_type": "stream",
     "text": [
      "Plot saved to /home/michele/Desktop/Dottorato/active_source_implementation/experiments_Brava_2/s0176/images/example_of_filtered_waveform/4_rec_50_sv1_sh1_150\n"
     ]
    },
    {
     "name": "stderr",
     "output_type": "stream",
     "text": [
      "The PostScript backend does not support transparency; partially transparent artists will be rendered opaque.\n"
     ]
    },
    {
     "name": "stdout",
     "output_type": "stream",
     "text": [
      "Plot saved to /home/michele/Desktop/Dottorato/active_source_implementation/experiments_Brava_2/s0176/images/example_of_filtered_waveform/4_rec_50_sv1_sh1_200\n"
     ]
    },
    {
     "name": "stderr",
     "output_type": "stream",
     "text": [
      "The PostScript backend does not support transparency; partially transparent artists will be rendered opaque.\n"
     ]
    },
    {
     "name": "stdout",
     "output_type": "stream",
     "text": [
      "Plot saved to /home/michele/Desktop/Dottorato/active_source_implementation/experiments_Brava_2/s0176/images/example_of_filtered_waveform/4_rec_50_sv1_sh1_250\n"
     ]
    },
    {
     "name": "stderr",
     "output_type": "stream",
     "text": [
      "The PostScript backend does not support transparency; partially transparent artists will be rendered opaque.\n"
     ]
    },
    {
     "name": "stdout",
     "output_type": "stream",
     "text": [
      "Plot saved to /home/michele/Desktop/Dottorato/active_source_implementation/experiments_Brava_2/s0176/images/example_of_filtered_waveform/4_rec_50_sv1_sh1_300\n"
     ]
    },
    {
     "name": "stderr",
     "output_type": "stream",
     "text": [
      "The PostScript backend does not support transparency; partially transparent artists will be rendered opaque.\n"
     ]
    },
    {
     "name": "stdout",
     "output_type": "stream",
     "text": [
      "Plot saved to /home/michele/Desktop/Dottorato/active_source_implementation/experiments_Brava_2/s0176/images/example_of_filtered_waveform/4_rec_50_sv1_sh1_350\n"
     ]
    },
    {
     "name": "stderr",
     "output_type": "stream",
     "text": [
      "The PostScript backend does not support transparency; partially transparent artists will be rendered opaque.\n"
     ]
    },
    {
     "name": "stdout",
     "output_type": "stream",
     "text": [
      "Plot saved to /home/michele/Desktop/Dottorato/active_source_implementation/experiments_Brava_2/s0176/images/example_of_filtered_waveform/4_rec_50_sv1_sh1_400\n"
     ]
    },
    {
     "name": "stderr",
     "output_type": "stream",
     "text": [
      "The PostScript backend does not support transparency; partially transparent artists will be rendered opaque.\n"
     ]
    },
    {
     "name": "stdout",
     "output_type": "stream",
     "text": [
      "Plot saved to /home/michele/Desktop/Dottorato/active_source_implementation/experiments_Brava_2/s0176/images/example_of_filtered_waveform/4_rec_50_sv1_sh1_450\n"
     ]
    },
    {
     "name": "stderr",
     "output_type": "stream",
     "text": [
      "The PostScript backend does not support transparency; partially transparent artists will be rendered opaque.\n"
     ]
    },
    {
     "name": "stdout",
     "output_type": "stream",
     "text": [
      "Plot saved to /home/michele/Desktop/Dottorato/active_source_implementation/experiments_Brava_2/s0176/images/example_of_filtered_waveform/4_rec_50_sv1_sh1_500\n"
     ]
    },
    {
     "name": "stderr",
     "output_type": "stream",
     "text": [
      "The PostScript backend does not support transparency; partially transparent artists will be rendered opaque.\n"
     ]
    },
    {
     "name": "stdout",
     "output_type": "stream",
     "text": [
      "Plot saved to /home/michele/Desktop/Dottorato/active_source_implementation/experiments_Brava_2/s0176/images/example_of_filtered_waveform/4_rec_50_sv1_sh1_550\n"
     ]
    },
    {
     "name": "stderr",
     "output_type": "stream",
     "text": [
      "The PostScript backend does not support transparency; partially transparent artists will be rendered opaque.\n"
     ]
    },
    {
     "name": "stdout",
     "output_type": "stream",
     "text": [
      "Plot saved to /home/michele/Desktop/Dottorato/active_source_implementation/experiments_Brava_2/s0176/images/example_of_filtered_waveform/4_rec_50_sv1_sh1_600\n"
     ]
    },
    {
     "name": "stderr",
     "output_type": "stream",
     "text": [
      "The PostScript backend does not support transparency; partially transparent artists will be rendered opaque.\n"
     ]
    },
    {
     "name": "stdout",
     "output_type": "stream",
     "text": [
      "Plot saved to /home/michele/Desktop/Dottorato/active_source_implementation/experiments_Brava_2/s0176/images/example_of_filtered_waveform/4_rec_50_sv1_sh1_650\n"
     ]
    },
    {
     "name": "stderr",
     "output_type": "stream",
     "text": [
      "The PostScript backend does not support transparency; partially transparent artists will be rendered opaque.\n"
     ]
    },
    {
     "name": "stdout",
     "output_type": "stream",
     "text": [
      "Plot saved to /home/michele/Desktop/Dottorato/active_source_implementation/experiments_Brava_2/s0176/images/example_of_filtered_waveform/4_rec_50_sv1_sh1_700\n"
     ]
    },
    {
     "name": "stderr",
     "output_type": "stream",
     "text": [
      "The PostScript backend does not support transparency; partially transparent artists will be rendered opaque.\n"
     ]
    },
    {
     "name": "stdout",
     "output_type": "stream",
     "text": [
      "Plot saved to /home/michele/Desktop/Dottorato/active_source_implementation/experiments_Brava_2/s0176/images/example_of_filtered_waveform/4_rec_50_sv1_sh1_750\n"
     ]
    },
    {
     "name": "stderr",
     "output_type": "stream",
     "text": [
      "The PostScript backend does not support transparency; partially transparent artists will be rendered opaque.\n"
     ]
    },
    {
     "name": "stdout",
     "output_type": "stream",
     "text": [
      "Plot saved to /home/michele/Desktop/Dottorato/active_source_implementation/experiments_Brava_2/s0176/images/example_of_filtered_waveform/4_rec_50_sv1_sh1_800\n",
      "Plot saved to /home/michele/Desktop/Dottorato/active_source_implementation/experiments_Brava_2/s0176/images/example_of_filtered_waveform/4_rec_50_sv1_sh1_850\n"
     ]
    },
    {
     "name": "stderr",
     "output_type": "stream",
     "text": [
      "The PostScript backend does not support transparency; partially transparent artists will be rendered opaque.\n"
     ]
    },
    {
     "name": "stdout",
     "output_type": "stream",
     "text": [
      "Plot saved to /home/michele/Desktop/Dottorato/active_source_implementation/experiments_Brava_2/s0176/images/example_of_filtered_waveform/4_rec_50_sv1_sh1_900\n"
     ]
    },
    {
     "name": "stderr",
     "output_type": "stream",
     "text": [
      "The PostScript backend does not support transparency; partially transparent artists will be rendered opaque.\n"
     ]
    },
    {
     "name": "stdout",
     "output_type": "stream",
     "text": [
      "Plot saved to /home/michele/Desktop/Dottorato/active_source_implementation/experiments_Brava_2/s0176/images/example_of_filtered_waveform/4_rec_50_sv1_sh1_950\n"
     ]
    },
    {
     "name": "stderr",
     "output_type": "stream",
     "text": [
      "The PostScript backend does not support transparency; partially transparent artists will be rendered opaque.\n"
     ]
    },
    {
     "name": "stdout",
     "output_type": "stream",
     "text": [
      "Plot saved to /home/michele/Desktop/Dottorato/active_source_implementation/experiments_Brava_2/s0176/images/example_of_filtered_waveform/4_rec_50_sv1_sh1_1000\n"
     ]
    },
    {
     "name": "stderr",
     "output_type": "stream",
     "text": [
      "The PostScript backend does not support transparency; partially transparent artists will be rendered opaque.\n"
     ]
    },
    {
     "name": "stdout",
     "output_type": "stream",
     "text": [
      "Plot saved to /home/michele/Desktop/Dottorato/active_source_implementation/experiments_Brava_2/s0176/images/example_of_filtered_waveform/4_rec_50_sv1_sh1_1050\n"
     ]
    },
    {
     "name": "stderr",
     "output_type": "stream",
     "text": [
      "The PostScript backend does not support transparency; partially transparent artists will be rendered opaque.\n"
     ]
    },
    {
     "name": "stdout",
     "output_type": "stream",
     "text": [
      "Plot saved to /home/michele/Desktop/Dottorato/active_source_implementation/experiments_Brava_2/s0176/images/example_of_filtered_waveform/4_rec_50_sv1_sh1_1100\n"
     ]
    },
    {
     "name": "stderr",
     "output_type": "stream",
     "text": [
      "The PostScript backend does not support transparency; partially transparent artists will be rendered opaque.\n"
     ]
    },
    {
     "name": "stdout",
     "output_type": "stream",
     "text": [
      "Plot saved to /home/michele/Desktop/Dottorato/active_source_implementation/experiments_Brava_2/s0176/images/example_of_filtered_waveform/4_rec_50_sv1_sh1_1150\n"
     ]
    },
    {
     "name": "stderr",
     "output_type": "stream",
     "text": [
      "The PostScript backend does not support transparency; partially transparent artists will be rendered opaque.\n"
     ]
    },
    {
     "name": "stdout",
     "output_type": "stream",
     "text": [
      "Plot saved to /home/michele/Desktop/Dottorato/active_source_implementation/experiments_Brava_2/s0176/images/example_of_filtered_waveform/4_rec_50_sv1_sh1_1200\n"
     ]
    },
    {
     "name": "stderr",
     "output_type": "stream",
     "text": [
      "The PostScript backend does not support transparency; partially transparent artists will be rendered opaque.\n"
     ]
    },
    {
     "name": "stdout",
     "output_type": "stream",
     "text": [
      "Plot saved to /home/michele/Desktop/Dottorato/active_source_implementation/experiments_Brava_2/s0176/images/example_of_filtered_waveform/4_rec_50_sv1_sh1_1250\n"
     ]
    },
    {
     "name": "stderr",
     "output_type": "stream",
     "text": [
      "The PostScript backend does not support transparency; partially transparent artists will be rendered opaque.\n",
      "The PostScript backend does not support transparency; partially transparent artists will be rendered opaque.\n"
     ]
    },
    {
     "name": "stdout",
     "output_type": "stream",
     "text": [
      "Plot saved to /home/michele/Desktop/Dottorato/active_source_implementation/experiments_Brava_2/s0176/images/example_of_filtered_waveform/4_rec_50_sv1_sh1_1300\n"
     ]
    },
    {
     "name": "stderr",
     "output_type": "stream",
     "text": [
      "The PostScript backend does not support transparency; partially transparent artists will be rendered opaque.\n"
     ]
    },
    {
     "name": "stdout",
     "output_type": "stream",
     "text": [
      "Plot saved to /home/michele/Desktop/Dottorato/active_source_implementation/experiments_Brava_2/s0176/images/example_of_filtered_waveform/4_rec_50_sv1_sh1_1350\n",
      "Plot saved to /home/michele/Desktop/Dottorato/active_source_implementation/experiments_Brava_2/s0176/images/example_of_filtered_waveform/4_rec_50_sv1_sh1_1400\n"
     ]
    },
    {
     "name": "stderr",
     "output_type": "stream",
     "text": [
      "The PostScript backend does not support transparency; partially transparent artists will be rendered opaque.\n",
      "The PostScript backend does not support transparency; partially transparent artists will be rendered opaque.\n"
     ]
    },
    {
     "name": "stdout",
     "output_type": "stream",
     "text": [
      "Plot saved to /home/michele/Desktop/Dottorato/active_source_implementation/experiments_Brava_2/s0176/images/example_of_filtered_waveform/4_rec_50_sv1_sh1_1450\n",
      "Plot saved to /home/michele/Desktop/Dottorato/active_source_implementation/experiments_Brava_2/s0176/images/example_of_filtered_waveform/4_rec_50_sv1_sh1_1500\n",
      "--- 18.290029525756836 seconds for processing 4_rec_50_sv1_sh1---\n",
      "PROCESSING UW DATA IN /home/michele/Desktop/Dottorato/active_source_implementation/experiments_Brava_2/s0176/data_tsv_files/4_rec_50_sv1_sh2.bscan.tsv: \n",
      "PROCESSING UW DATA IN /home/michele/Desktop/Dottorato/active_source_implementation/experiments_Brava_2/s0176/data_tsv_files/4_rec_50_sv1_sv1.bscan.tsv: \n"
     ]
    },
    {
     "name": "stderr",
     "output_type": "stream",
     "text": [
      "The PostScript backend does not support transparency; partially transparent artists will be rendered opaque.\n"
     ]
    },
    {
     "name": "stdout",
     "output_type": "stream",
     "text": [
      "Plot saved to /home/michele/Desktop/Dottorato/active_source_implementation/experiments_Brava_2/s0176/images/waveforms/4_rec_50_sv1_sv1\n",
      "number_of_samples\n",
      "sampling_rate\n",
      "time_ax_waveform\n",
      "number_of_waveforms\n",
      "acquisition_frequency\n",
      "time_ax_acquisition\n",
      "Plot saved to /home/michele/Desktop/Dottorato/active_source_implementation/experiments_Brava_2/s0176/images/amplitude_maps/4_rec_50_sv1_sv1\n"
     ]
    },
    {
     "name": "stderr",
     "output_type": "stream",
     "text": [
      "The PostScript backend does not support transparency; partially transparent artists will be rendered opaque.\n"
     ]
    },
    {
     "name": "stdout",
     "output_type": "stream",
     "text": [
      "Plot saved to /home/michele/Desktop/Dottorato/active_source_implementation/experiments_Brava_2/s0176/images/waveforms/4_rec_50_sv1_sv1_filtered\n",
      "number_of_samples\n",
      "sampling_rate\n",
      "time_ax_waveform\n",
      "number_of_waveforms\n",
      "acquisition_frequency\n",
      "time_ax_acquisition\n"
     ]
    },
    {
     "name": "stderr",
     "output_type": "stream",
     "text": [
      "The PostScript backend does not support transparency; partially transparent artists will be rendered opaque.\n"
     ]
    },
    {
     "name": "stdout",
     "output_type": "stream",
     "text": [
      "Plot saved to /home/michele/Desktop/Dottorato/active_source_implementation/experiments_Brava_2/s0176/images/amplitude_maps/4_rec_50_sv1_sv1_filtered\n"
     ]
    },
    {
     "name": "stderr",
     "output_type": "stream",
     "text": [
      "The PostScript backend does not support transparency; partially transparent artists will be rendered opaque.\n"
     ]
    },
    {
     "name": "stdout",
     "output_type": "stream",
     "text": [
      "Plot saved to /home/michele/Desktop/Dottorato/active_source_implementation/experiments_Brava_2/s0176/images/example_of_filtered_waveform/4_rec_50_sv1_sv1_0\n"
     ]
    },
    {
     "name": "stderr",
     "output_type": "stream",
     "text": [
      "The PostScript backend does not support transparency; partially transparent artists will be rendered opaque.\n"
     ]
    },
    {
     "name": "stdout",
     "output_type": "stream",
     "text": [
      "Plot saved to /home/michele/Desktop/Dottorato/active_source_implementation/experiments_Brava_2/s0176/images/example_of_filtered_waveform/4_rec_50_sv1_sv1_50\n"
     ]
    },
    {
     "name": "stderr",
     "output_type": "stream",
     "text": [
      "The PostScript backend does not support transparency; partially transparent artists will be rendered opaque.\n"
     ]
    },
    {
     "name": "stdout",
     "output_type": "stream",
     "text": [
      "Plot saved to /home/michele/Desktop/Dottorato/active_source_implementation/experiments_Brava_2/s0176/images/example_of_filtered_waveform/4_rec_50_sv1_sv1_100\n"
     ]
    },
    {
     "name": "stderr",
     "output_type": "stream",
     "text": [
      "The PostScript backend does not support transparency; partially transparent artists will be rendered opaque.\n"
     ]
    },
    {
     "name": "stdout",
     "output_type": "stream",
     "text": [
      "Plot saved to /home/michele/Desktop/Dottorato/active_source_implementation/experiments_Brava_2/s0176/images/example_of_filtered_waveform/4_rec_50_sv1_sv1_150\n"
     ]
    },
    {
     "name": "stderr",
     "output_type": "stream",
     "text": [
      "The PostScript backend does not support transparency; partially transparent artists will be rendered opaque.\n"
     ]
    },
    {
     "name": "stdout",
     "output_type": "stream",
     "text": [
      "Plot saved to /home/michele/Desktop/Dottorato/active_source_implementation/experiments_Brava_2/s0176/images/example_of_filtered_waveform/4_rec_50_sv1_sv1_200\n"
     ]
    },
    {
     "name": "stderr",
     "output_type": "stream",
     "text": [
      "The PostScript backend does not support transparency; partially transparent artists will be rendered opaque.\n"
     ]
    },
    {
     "name": "stdout",
     "output_type": "stream",
     "text": [
      "Plot saved to /home/michele/Desktop/Dottorato/active_source_implementation/experiments_Brava_2/s0176/images/example_of_filtered_waveform/4_rec_50_sv1_sv1_250\n"
     ]
    },
    {
     "name": "stderr",
     "output_type": "stream",
     "text": [
      "The PostScript backend does not support transparency; partially transparent artists will be rendered opaque.\n"
     ]
    },
    {
     "name": "stdout",
     "output_type": "stream",
     "text": [
      "Plot saved to /home/michele/Desktop/Dottorato/active_source_implementation/experiments_Brava_2/s0176/images/example_of_filtered_waveform/4_rec_50_sv1_sv1_300\n"
     ]
    },
    {
     "name": "stderr",
     "output_type": "stream",
     "text": [
      "The PostScript backend does not support transparency; partially transparent artists will be rendered opaque.\n"
     ]
    },
    {
     "name": "stdout",
     "output_type": "stream",
     "text": [
      "Plot saved to /home/michele/Desktop/Dottorato/active_source_implementation/experiments_Brava_2/s0176/images/example_of_filtered_waveform/4_rec_50_sv1_sv1_350\n"
     ]
    },
    {
     "name": "stderr",
     "output_type": "stream",
     "text": [
      "The PostScript backend does not support transparency; partially transparent artists will be rendered opaque.\n"
     ]
    },
    {
     "name": "stdout",
     "output_type": "stream",
     "text": [
      "Plot saved to /home/michele/Desktop/Dottorato/active_source_implementation/experiments_Brava_2/s0176/images/example_of_filtered_waveform/4_rec_50_sv1_sv1_400\n",
      "Plot saved to /home/michele/Desktop/Dottorato/active_source_implementation/experiments_Brava_2/s0176/images/example_of_filtered_waveform/4_rec_50_sv1_sv1_450\n"
     ]
    },
    {
     "name": "stderr",
     "output_type": "stream",
     "text": [
      "The PostScript backend does not support transparency; partially transparent artists will be rendered opaque.\n"
     ]
    },
    {
     "name": "stdout",
     "output_type": "stream",
     "text": [
      "Plot saved to /home/michele/Desktop/Dottorato/active_source_implementation/experiments_Brava_2/s0176/images/example_of_filtered_waveform/4_rec_50_sv1_sv1_500\n"
     ]
    },
    {
     "name": "stderr",
     "output_type": "stream",
     "text": [
      "The PostScript backend does not support transparency; partially transparent artists will be rendered opaque.\n"
     ]
    },
    {
     "name": "stdout",
     "output_type": "stream",
     "text": [
      "Plot saved to /home/michele/Desktop/Dottorato/active_source_implementation/experiments_Brava_2/s0176/images/example_of_filtered_waveform/4_rec_50_sv1_sv1_550\n"
     ]
    },
    {
     "name": "stderr",
     "output_type": "stream",
     "text": [
      "The PostScript backend does not support transparency; partially transparent artists will be rendered opaque.\n"
     ]
    },
    {
     "name": "stdout",
     "output_type": "stream",
     "text": [
      "Plot saved to /home/michele/Desktop/Dottorato/active_source_implementation/experiments_Brava_2/s0176/images/example_of_filtered_waveform/4_rec_50_sv1_sv1_600\n"
     ]
    },
    {
     "name": "stderr",
     "output_type": "stream",
     "text": [
      "The PostScript backend does not support transparency; partially transparent artists will be rendered opaque.\n"
     ]
    },
    {
     "name": "stdout",
     "output_type": "stream",
     "text": [
      "Plot saved to /home/michele/Desktop/Dottorato/active_source_implementation/experiments_Brava_2/s0176/images/example_of_filtered_waveform/4_rec_50_sv1_sv1_650\n"
     ]
    },
    {
     "name": "stderr",
     "output_type": "stream",
     "text": [
      "The PostScript backend does not support transparency; partially transparent artists will be rendered opaque.\n"
     ]
    },
    {
     "name": "stdout",
     "output_type": "stream",
     "text": [
      "Plot saved to /home/michele/Desktop/Dottorato/active_source_implementation/experiments_Brava_2/s0176/images/example_of_filtered_waveform/4_rec_50_sv1_sv1_700\n"
     ]
    },
    {
     "name": "stderr",
     "output_type": "stream",
     "text": [
      "The PostScript backend does not support transparency; partially transparent artists will be rendered opaque.\n"
     ]
    },
    {
     "name": "stdout",
     "output_type": "stream",
     "text": [
      "Plot saved to /home/michele/Desktop/Dottorato/active_source_implementation/experiments_Brava_2/s0176/images/example_of_filtered_waveform/4_rec_50_sv1_sv1_750\n"
     ]
    },
    {
     "name": "stderr",
     "output_type": "stream",
     "text": [
      "The PostScript backend does not support transparency; partially transparent artists will be rendered opaque.\n"
     ]
    },
    {
     "name": "stdout",
     "output_type": "stream",
     "text": [
      "Plot saved to /home/michele/Desktop/Dottorato/active_source_implementation/experiments_Brava_2/s0176/images/example_of_filtered_waveform/4_rec_50_sv1_sv1_800\n"
     ]
    },
    {
     "name": "stderr",
     "output_type": "stream",
     "text": [
      "The PostScript backend does not support transparency; partially transparent artists will be rendered opaque.\n"
     ]
    },
    {
     "name": "stdout",
     "output_type": "stream",
     "text": [
      "Plot saved to /home/michele/Desktop/Dottorato/active_source_implementation/experiments_Brava_2/s0176/images/example_of_filtered_waveform/4_rec_50_sv1_sv1_850\n"
     ]
    },
    {
     "name": "stderr",
     "output_type": "stream",
     "text": [
      "The PostScript backend does not support transparency; partially transparent artists will be rendered opaque.\n"
     ]
    },
    {
     "name": "stdout",
     "output_type": "stream",
     "text": [
      "Plot saved to /home/michele/Desktop/Dottorato/active_source_implementation/experiments_Brava_2/s0176/images/example_of_filtered_waveform/4_rec_50_sv1_sv1_900\n"
     ]
    },
    {
     "name": "stderr",
     "output_type": "stream",
     "text": [
      "The PostScript backend does not support transparency; partially transparent artists will be rendered opaque.\n"
     ]
    },
    {
     "name": "stdout",
     "output_type": "stream",
     "text": [
      "Plot saved to /home/michele/Desktop/Dottorato/active_source_implementation/experiments_Brava_2/s0176/images/example_of_filtered_waveform/4_rec_50_sv1_sv1_950\n"
     ]
    },
    {
     "name": "stderr",
     "output_type": "stream",
     "text": [
      "The PostScript backend does not support transparency; partially transparent artists will be rendered opaque.\n"
     ]
    },
    {
     "name": "stdout",
     "output_type": "stream",
     "text": [
      "Plot saved to /home/michele/Desktop/Dottorato/active_source_implementation/experiments_Brava_2/s0176/images/example_of_filtered_waveform/4_rec_50_sv1_sv1_1000\n"
     ]
    },
    {
     "name": "stderr",
     "output_type": "stream",
     "text": [
      "The PostScript backend does not support transparency; partially transparent artists will be rendered opaque.\n"
     ]
    },
    {
     "name": "stdout",
     "output_type": "stream",
     "text": [
      "Plot saved to /home/michele/Desktop/Dottorato/active_source_implementation/experiments_Brava_2/s0176/images/example_of_filtered_waveform/4_rec_50_sv1_sv1_1050\n"
     ]
    },
    {
     "name": "stderr",
     "output_type": "stream",
     "text": [
      "The PostScript backend does not support transparency; partially transparent artists will be rendered opaque.\n"
     ]
    },
    {
     "name": "stdout",
     "output_type": "stream",
     "text": [
      "Plot saved to /home/michele/Desktop/Dottorato/active_source_implementation/experiments_Brava_2/s0176/images/example_of_filtered_waveform/4_rec_50_sv1_sv1_1100\n"
     ]
    },
    {
     "name": "stderr",
     "output_type": "stream",
     "text": [
      "The PostScript backend does not support transparency; partially transparent artists will be rendered opaque.\n"
     ]
    },
    {
     "name": "stdout",
     "output_type": "stream",
     "text": [
      "Plot saved to /home/michele/Desktop/Dottorato/active_source_implementation/experiments_Brava_2/s0176/images/example_of_filtered_waveform/4_rec_50_sv1_sv1_1150\n"
     ]
    },
    {
     "name": "stderr",
     "output_type": "stream",
     "text": [
      "The PostScript backend does not support transparency; partially transparent artists will be rendered opaque.\n"
     ]
    },
    {
     "name": "stdout",
     "output_type": "stream",
     "text": [
      "Plot saved to /home/michele/Desktop/Dottorato/active_source_implementation/experiments_Brava_2/s0176/images/example_of_filtered_waveform/4_rec_50_sv1_sv1_1200\n"
     ]
    },
    {
     "name": "stderr",
     "output_type": "stream",
     "text": [
      "The PostScript backend does not support transparency; partially transparent artists will be rendered opaque.\n"
     ]
    },
    {
     "name": "stdout",
     "output_type": "stream",
     "text": [
      "Plot saved to /home/michele/Desktop/Dottorato/active_source_implementation/experiments_Brava_2/s0176/images/example_of_filtered_waveform/4_rec_50_sv1_sv1_1250\n"
     ]
    },
    {
     "name": "stderr",
     "output_type": "stream",
     "text": [
      "The PostScript backend does not support transparency; partially transparent artists will be rendered opaque.\n"
     ]
    },
    {
     "name": "stdout",
     "output_type": "stream",
     "text": [
      "Plot saved to /home/michele/Desktop/Dottorato/active_source_implementation/experiments_Brava_2/s0176/images/example_of_filtered_waveform/4_rec_50_sv1_sv1_1300\n"
     ]
    },
    {
     "name": "stderr",
     "output_type": "stream",
     "text": [
      "The PostScript backend does not support transparency; partially transparent artists will be rendered opaque.\n"
     ]
    },
    {
     "name": "stdout",
     "output_type": "stream",
     "text": [
      "Plot saved to /home/michele/Desktop/Dottorato/active_source_implementation/experiments_Brava_2/s0176/images/example_of_filtered_waveform/4_rec_50_sv1_sv1_1350\n"
     ]
    },
    {
     "name": "stderr",
     "output_type": "stream",
     "text": [
      "The PostScript backend does not support transparency; partially transparent artists will be rendered opaque.\n"
     ]
    },
    {
     "name": "stdout",
     "output_type": "stream",
     "text": [
      "Plot saved to /home/michele/Desktop/Dottorato/active_source_implementation/experiments_Brava_2/s0176/images/example_of_filtered_waveform/4_rec_50_sv1_sv1_1400\n"
     ]
    },
    {
     "name": "stderr",
     "output_type": "stream",
     "text": [
      "The PostScript backend does not support transparency; partially transparent artists will be rendered opaque.\n"
     ]
    },
    {
     "name": "stdout",
     "output_type": "stream",
     "text": [
      "Plot saved to /home/michele/Desktop/Dottorato/active_source_implementation/experiments_Brava_2/s0176/images/example_of_filtered_waveform/4_rec_50_sv1_sv1_1450\n"
     ]
    },
    {
     "name": "stderr",
     "output_type": "stream",
     "text": [
      "The PostScript backend does not support transparency; partially transparent artists will be rendered opaque.\n"
     ]
    },
    {
     "name": "stdout",
     "output_type": "stream",
     "text": [
      "Plot saved to /home/michele/Desktop/Dottorato/active_source_implementation/experiments_Brava_2/s0176/images/example_of_filtered_waveform/4_rec_50_sv1_sv1_1500\n",
      "--- 20.26149034500122 seconds for processing 4_rec_50_sv1_sv1---\n",
      "PROCESSING UW DATA IN /home/michele/Desktop/Dottorato/active_source_implementation/experiments_Brava_2/s0176/data_tsv_files/4_rec_50_sv1_sv2.bscan.tsv: \n"
     ]
    },
    {
     "name": "stderr",
     "output_type": "stream",
     "text": [
      "The PostScript backend does not support transparency; partially transparent artists will be rendered opaque.\n"
     ]
    },
    {
     "name": "stdout",
     "output_type": "stream",
     "text": [
      "Plot saved to /home/michele/Desktop/Dottorato/active_source_implementation/experiments_Brava_2/s0176/images/waveforms/4_rec_50_sv1_sv2\n",
      "number_of_samples\n",
      "sampling_rate\n",
      "time_ax_waveform\n",
      "number_of_waveforms\n",
      "acquisition_frequency\n",
      "time_ax_acquisition\n",
      "Plot saved to /home/michele/Desktop/Dottorato/active_source_implementation/experiments_Brava_2/s0176/images/amplitude_maps/4_rec_50_sv1_sv2\n"
     ]
    },
    {
     "name": "stderr",
     "output_type": "stream",
     "text": [
      "The PostScript backend does not support transparency; partially transparent artists will be rendered opaque.\n"
     ]
    },
    {
     "name": "stdout",
     "output_type": "stream",
     "text": [
      "Plot saved to /home/michele/Desktop/Dottorato/active_source_implementation/experiments_Brava_2/s0176/images/waveforms/4_rec_50_sv1_sv2_filtered\n",
      "number_of_samples\n",
      "sampling_rate\n",
      "time_ax_waveform\n",
      "number_of_waveforms\n",
      "acquisition_frequency\n",
      "time_ax_acquisition\n"
     ]
    },
    {
     "name": "stderr",
     "output_type": "stream",
     "text": [
      "The PostScript backend does not support transparency; partially transparent artists will be rendered opaque.\n"
     ]
    },
    {
     "name": "stdout",
     "output_type": "stream",
     "text": [
      "Plot saved to /home/michele/Desktop/Dottorato/active_source_implementation/experiments_Brava_2/s0176/images/amplitude_maps/4_rec_50_sv1_sv2_filtered\n"
     ]
    },
    {
     "name": "stderr",
     "output_type": "stream",
     "text": [
      "The PostScript backend does not support transparency; partially transparent artists will be rendered opaque.\n"
     ]
    },
    {
     "name": "stdout",
     "output_type": "stream",
     "text": [
      "Plot saved to /home/michele/Desktop/Dottorato/active_source_implementation/experiments_Brava_2/s0176/images/example_of_filtered_waveform/4_rec_50_sv1_sv2_0\n"
     ]
    },
    {
     "name": "stderr",
     "output_type": "stream",
     "text": [
      "The PostScript backend does not support transparency; partially transparent artists will be rendered opaque.\n"
     ]
    },
    {
     "name": "stdout",
     "output_type": "stream",
     "text": [
      "Plot saved to /home/michele/Desktop/Dottorato/active_source_implementation/experiments_Brava_2/s0176/images/example_of_filtered_waveform/4_rec_50_sv1_sv2_50\n"
     ]
    },
    {
     "name": "stderr",
     "output_type": "stream",
     "text": [
      "The PostScript backend does not support transparency; partially transparent artists will be rendered opaque.\n"
     ]
    },
    {
     "name": "stdout",
     "output_type": "stream",
     "text": [
      "Plot saved to /home/michele/Desktop/Dottorato/active_source_implementation/experiments_Brava_2/s0176/images/example_of_filtered_waveform/4_rec_50_sv1_sv2_100\n"
     ]
    },
    {
     "name": "stderr",
     "output_type": "stream",
     "text": [
      "The PostScript backend does not support transparency; partially transparent artists will be rendered opaque.\n"
     ]
    },
    {
     "name": "stdout",
     "output_type": "stream",
     "text": [
      "Plot saved to /home/michele/Desktop/Dottorato/active_source_implementation/experiments_Brava_2/s0176/images/example_of_filtered_waveform/4_rec_50_sv1_sv2_150\n"
     ]
    },
    {
     "name": "stderr",
     "output_type": "stream",
     "text": [
      "The PostScript backend does not support transparency; partially transparent artists will be rendered opaque.\n"
     ]
    },
    {
     "name": "stdout",
     "output_type": "stream",
     "text": [
      "Plot saved to /home/michele/Desktop/Dottorato/active_source_implementation/experiments_Brava_2/s0176/images/example_of_filtered_waveform/4_rec_50_sv1_sv2_200\n"
     ]
    },
    {
     "name": "stderr",
     "output_type": "stream",
     "text": [
      "The PostScript backend does not support transparency; partially transparent artists will be rendered opaque.\n"
     ]
    },
    {
     "name": "stdout",
     "output_type": "stream",
     "text": [
      "Plot saved to /home/michele/Desktop/Dottorato/active_source_implementation/experiments_Brava_2/s0176/images/example_of_filtered_waveform/4_rec_50_sv1_sv2_250\n"
     ]
    },
    {
     "name": "stderr",
     "output_type": "stream",
     "text": [
      "The PostScript backend does not support transparency; partially transparent artists will be rendered opaque.\n"
     ]
    },
    {
     "name": "stdout",
     "output_type": "stream",
     "text": [
      "Plot saved to /home/michele/Desktop/Dottorato/active_source_implementation/experiments_Brava_2/s0176/images/example_of_filtered_waveform/4_rec_50_sv1_sv2_300\n"
     ]
    },
    {
     "name": "stderr",
     "output_type": "stream",
     "text": [
      "The PostScript backend does not support transparency; partially transparent artists will be rendered opaque.\n"
     ]
    },
    {
     "name": "stdout",
     "output_type": "stream",
     "text": [
      "Plot saved to /home/michele/Desktop/Dottorato/active_source_implementation/experiments_Brava_2/s0176/images/example_of_filtered_waveform/4_rec_50_sv1_sv2_350\n"
     ]
    },
    {
     "name": "stderr",
     "output_type": "stream",
     "text": [
      "The PostScript backend does not support transparency; partially transparent artists will be rendered opaque.\n"
     ]
    },
    {
     "name": "stdout",
     "output_type": "stream",
     "text": [
      "Plot saved to /home/michele/Desktop/Dottorato/active_source_implementation/experiments_Brava_2/s0176/images/example_of_filtered_waveform/4_rec_50_sv1_sv2_400\n",
      "Plot saved to /home/michele/Desktop/Dottorato/active_source_implementation/experiments_Brava_2/s0176/images/example_of_filtered_waveform/4_rec_50_sv1_sv2_450\n"
     ]
    },
    {
     "name": "stderr",
     "output_type": "stream",
     "text": [
      "The PostScript backend does not support transparency; partially transparent artists will be rendered opaque.\n"
     ]
    },
    {
     "name": "stdout",
     "output_type": "stream",
     "text": [
      "Plot saved to /home/michele/Desktop/Dottorato/active_source_implementation/experiments_Brava_2/s0176/images/example_of_filtered_waveform/4_rec_50_sv1_sv2_500\n"
     ]
    },
    {
     "name": "stderr",
     "output_type": "stream",
     "text": [
      "The PostScript backend does not support transparency; partially transparent artists will be rendered opaque.\n"
     ]
    },
    {
     "name": "stdout",
     "output_type": "stream",
     "text": [
      "Plot saved to /home/michele/Desktop/Dottorato/active_source_implementation/experiments_Brava_2/s0176/images/example_of_filtered_waveform/4_rec_50_sv1_sv2_550\n"
     ]
    },
    {
     "name": "stderr",
     "output_type": "stream",
     "text": [
      "The PostScript backend does not support transparency; partially transparent artists will be rendered opaque.\n",
      "The PostScript backend does not support transparency; partially transparent artists will be rendered opaque.\n"
     ]
    },
    {
     "name": "stdout",
     "output_type": "stream",
     "text": [
      "Plot saved to /home/michele/Desktop/Dottorato/active_source_implementation/experiments_Brava_2/s0176/images/example_of_filtered_waveform/4_rec_50_sv1_sv2_600\n"
     ]
    },
    {
     "name": "stderr",
     "output_type": "stream",
     "text": [
      "The PostScript backend does not support transparency; partially transparent artists will be rendered opaque.\n"
     ]
    },
    {
     "name": "stdout",
     "output_type": "stream",
     "text": [
      "Plot saved to /home/michele/Desktop/Dottorato/active_source_implementation/experiments_Brava_2/s0176/images/example_of_filtered_waveform/4_rec_50_sv1_sv2_650\n"
     ]
    },
    {
     "name": "stderr",
     "output_type": "stream",
     "text": [
      "The PostScript backend does not support transparency; partially transparent artists will be rendered opaque.\n"
     ]
    },
    {
     "name": "stdout",
     "output_type": "stream",
     "text": [
      "Plot saved to /home/michele/Desktop/Dottorato/active_source_implementation/experiments_Brava_2/s0176/images/example_of_filtered_waveform/4_rec_50_sv1_sv2_700\n",
      "Plot saved to /home/michele/Desktop/Dottorato/active_source_implementation/experiments_Brava_2/s0176/images/example_of_filtered_waveform/4_rec_50_sv1_sv2_750\n"
     ]
    },
    {
     "name": "stderr",
     "output_type": "stream",
     "text": [
      "The PostScript backend does not support transparency; partially transparent artists will be rendered opaque.\n"
     ]
    },
    {
     "name": "stdout",
     "output_type": "stream",
     "text": [
      "Plot saved to /home/michele/Desktop/Dottorato/active_source_implementation/experiments_Brava_2/s0176/images/example_of_filtered_waveform/4_rec_50_sv1_sv2_800\n"
     ]
    },
    {
     "name": "stderr",
     "output_type": "stream",
     "text": [
      "The PostScript backend does not support transparency; partially transparent artists will be rendered opaque.\n"
     ]
    },
    {
     "name": "stdout",
     "output_type": "stream",
     "text": [
      "Plot saved to /home/michele/Desktop/Dottorato/active_source_implementation/experiments_Brava_2/s0176/images/example_of_filtered_waveform/4_rec_50_sv1_sv2_850\n"
     ]
    },
    {
     "name": "stderr",
     "output_type": "stream",
     "text": [
      "The PostScript backend does not support transparency; partially transparent artists will be rendered opaque.\n"
     ]
    },
    {
     "name": "stdout",
     "output_type": "stream",
     "text": [
      "Plot saved to /home/michele/Desktop/Dottorato/active_source_implementation/experiments_Brava_2/s0176/images/example_of_filtered_waveform/4_rec_50_sv1_sv2_900\n"
     ]
    },
    {
     "name": "stderr",
     "output_type": "stream",
     "text": [
      "The PostScript backend does not support transparency; partially transparent artists will be rendered opaque.\n"
     ]
    },
    {
     "name": "stdout",
     "output_type": "stream",
     "text": [
      "Plot saved to /home/michele/Desktop/Dottorato/active_source_implementation/experiments_Brava_2/s0176/images/example_of_filtered_waveform/4_rec_50_sv1_sv2_950\n"
     ]
    },
    {
     "name": "stderr",
     "output_type": "stream",
     "text": [
      "The PostScript backend does not support transparency; partially transparent artists will be rendered opaque.\n"
     ]
    },
    {
     "name": "stdout",
     "output_type": "stream",
     "text": [
      "Plot saved to /home/michele/Desktop/Dottorato/active_source_implementation/experiments_Brava_2/s0176/images/example_of_filtered_waveform/4_rec_50_sv1_sv2_1000\n"
     ]
    },
    {
     "name": "stderr",
     "output_type": "stream",
     "text": [
      "The PostScript backend does not support transparency; partially transparent artists will be rendered opaque.\n",
      "The PostScript backend does not support transparency; partially transparent artists will be rendered opaque.\n"
     ]
    },
    {
     "name": "stdout",
     "output_type": "stream",
     "text": [
      "Plot saved to /home/michele/Desktop/Dottorato/active_source_implementation/experiments_Brava_2/s0176/images/example_of_filtered_waveform/4_rec_50_sv1_sv2_1050\n",
      "Plot saved to /home/michele/Desktop/Dottorato/active_source_implementation/experiments_Brava_2/s0176/images/example_of_filtered_waveform/4_rec_50_sv1_sv2_1100\n"
     ]
    },
    {
     "name": "stderr",
     "output_type": "stream",
     "text": [
      "The PostScript backend does not support transparency; partially transparent artists will be rendered opaque.\n",
      "The PostScript backend does not support transparency; partially transparent artists will be rendered opaque.\n"
     ]
    },
    {
     "name": "stdout",
     "output_type": "stream",
     "text": [
      "Plot saved to /home/michele/Desktop/Dottorato/active_source_implementation/experiments_Brava_2/s0176/images/example_of_filtered_waveform/4_rec_50_sv1_sv2_1150\n",
      "Plot saved to /home/michele/Desktop/Dottorato/active_source_implementation/experiments_Brava_2/s0176/images/example_of_filtered_waveform/4_rec_50_sv1_sv2_1200\n"
     ]
    },
    {
     "name": "stderr",
     "output_type": "stream",
     "text": [
      "The PostScript backend does not support transparency; partially transparent artists will be rendered opaque.\n"
     ]
    },
    {
     "name": "stdout",
     "output_type": "stream",
     "text": [
      "Plot saved to /home/michele/Desktop/Dottorato/active_source_implementation/experiments_Brava_2/s0176/images/example_of_filtered_waveform/4_rec_50_sv1_sv2_1250\n"
     ]
    },
    {
     "name": "stderr",
     "output_type": "stream",
     "text": [
      "The PostScript backend does not support transparency; partially transparent artists will be rendered opaque.\n"
     ]
    },
    {
     "name": "stdout",
     "output_type": "stream",
     "text": [
      "Plot saved to /home/michele/Desktop/Dottorato/active_source_implementation/experiments_Brava_2/s0176/images/example_of_filtered_waveform/4_rec_50_sv1_sv2_1300\n"
     ]
    },
    {
     "name": "stderr",
     "output_type": "stream",
     "text": [
      "The PostScript backend does not support transparency; partially transparent artists will be rendered opaque.\n"
     ]
    },
    {
     "name": "stdout",
     "output_type": "stream",
     "text": [
      "Plot saved to /home/michele/Desktop/Dottorato/active_source_implementation/experiments_Brava_2/s0176/images/example_of_filtered_waveform/4_rec_50_sv1_sv2_1350\n"
     ]
    },
    {
     "name": "stderr",
     "output_type": "stream",
     "text": [
      "The PostScript backend does not support transparency; partially transparent artists will be rendered opaque.\n"
     ]
    },
    {
     "name": "stdout",
     "output_type": "stream",
     "text": [
      "Plot saved to /home/michele/Desktop/Dottorato/active_source_implementation/experiments_Brava_2/s0176/images/example_of_filtered_waveform/4_rec_50_sv1_sv2_1400\n"
     ]
    },
    {
     "name": "stderr",
     "output_type": "stream",
     "text": [
      "The PostScript backend does not support transparency; partially transparent artists will be rendered opaque.\n",
      "The PostScript backend does not support transparency; partially transparent artists will be rendered opaque.\n"
     ]
    },
    {
     "name": "stdout",
     "output_type": "stream",
     "text": [
      "Plot saved to /home/michele/Desktop/Dottorato/active_source_implementation/experiments_Brava_2/s0176/images/example_of_filtered_waveform/4_rec_50_sv1_sv2_1450\n",
      "Plot saved to /home/michele/Desktop/Dottorato/active_source_implementation/experiments_Brava_2/s0176/images/example_of_filtered_waveform/4_rec_50_sv1_sv2_1500\n",
      "--- 20.869267225265503 seconds for processing 4_rec_50_sv1_sv2---\n",
      "PROCESSING UW DATA IN /home/michele/Desktop/Dottorato/active_source_implementation/experiments_Brava_2/s0176/data_tsv_files/5_rec_40to30_sv1_sh1.bscan.tsv: \n"
     ]
    },
    {
     "name": "stderr",
     "output_type": "stream",
     "text": [
      "The PostScript backend does not support transparency; partially transparent artists will be rendered opaque.\n"
     ]
    },
    {
     "name": "stdout",
     "output_type": "stream",
     "text": [
      "Plot saved to /home/michele/Desktop/Dottorato/active_source_implementation/experiments_Brava_2/s0176/images/waveforms/5_rec_40to30_sv1_sh1\n",
      "number_of_samples\n",
      "sampling_rate\n",
      "time_ax_waveform\n",
      "number_of_waveforms\n",
      "acquisition_frequency\n",
      "time_ax_acquisition\n",
      "Plot saved to /home/michele/Desktop/Dottorato/active_source_implementation/experiments_Brava_2/s0176/images/amplitude_maps/5_rec_40to30_sv1_sh1\n"
     ]
    },
    {
     "name": "stderr",
     "output_type": "stream",
     "text": [
      "The PostScript backend does not support transparency; partially transparent artists will be rendered opaque.\n"
     ]
    },
    {
     "name": "stdout",
     "output_type": "stream",
     "text": [
      "Plot saved to /home/michele/Desktop/Dottorato/active_source_implementation/experiments_Brava_2/s0176/images/waveforms/5_rec_40to30_sv1_sh1_filtered\n",
      "number_of_samples\n",
      "sampling_rate\n",
      "time_ax_waveform\n",
      "number_of_waveforms\n",
      "acquisition_frequency\n",
      "time_ax_acquisition\n"
     ]
    },
    {
     "name": "stderr",
     "output_type": "stream",
     "text": [
      "The PostScript backend does not support transparency; partially transparent artists will be rendered opaque.\n"
     ]
    },
    {
     "name": "stdout",
     "output_type": "stream",
     "text": [
      "Plot saved to /home/michele/Desktop/Dottorato/active_source_implementation/experiments_Brava_2/s0176/images/amplitude_maps/5_rec_40to30_sv1_sh1_filtered\n"
     ]
    },
    {
     "name": "stderr",
     "output_type": "stream",
     "text": [
      "The PostScript backend does not support transparency; partially transparent artists will be rendered opaque.\n"
     ]
    },
    {
     "name": "stdout",
     "output_type": "stream",
     "text": [
      "Plot saved to /home/michele/Desktop/Dottorato/active_source_implementation/experiments_Brava_2/s0176/images/example_of_filtered_waveform/5_rec_40to30_sv1_sh1_0\n"
     ]
    },
    {
     "name": "stderr",
     "output_type": "stream",
     "text": [
      "The PostScript backend does not support transparency; partially transparent artists will be rendered opaque.\n"
     ]
    },
    {
     "name": "stdout",
     "output_type": "stream",
     "text": [
      "Plot saved to /home/michele/Desktop/Dottorato/active_source_implementation/experiments_Brava_2/s0176/images/example_of_filtered_waveform/5_rec_40to30_sv1_sh1_45\n"
     ]
    },
    {
     "name": "stderr",
     "output_type": "stream",
     "text": [
      "The PostScript backend does not support transparency; partially transparent artists will be rendered opaque.\n"
     ]
    },
    {
     "name": "stdout",
     "output_type": "stream",
     "text": [
      "Plot saved to /home/michele/Desktop/Dottorato/active_source_implementation/experiments_Brava_2/s0176/images/example_of_filtered_waveform/5_rec_40to30_sv1_sh1_90\n",
      "Plot saved to /home/michele/Desktop/Dottorato/active_source_implementation/experiments_Brava_2/s0176/images/example_of_filtered_waveform/5_rec_40to30_sv1_sh1_135\n"
     ]
    },
    {
     "name": "stderr",
     "output_type": "stream",
     "text": [
      "The PostScript backend does not support transparency; partially transparent artists will be rendered opaque.\n",
      "The PostScript backend does not support transparency; partially transparent artists will be rendered opaque.\n"
     ]
    },
    {
     "name": "stdout",
     "output_type": "stream",
     "text": [
      "Plot saved to /home/michele/Desktop/Dottorato/active_source_implementation/experiments_Brava_2/s0176/images/example_of_filtered_waveform/5_rec_40to30_sv1_sh1_180\n"
     ]
    },
    {
     "name": "stderr",
     "output_type": "stream",
     "text": [
      "The PostScript backend does not support transparency; partially transparent artists will be rendered opaque.\n"
     ]
    },
    {
     "name": "stdout",
     "output_type": "stream",
     "text": [
      "Plot saved to /home/michele/Desktop/Dottorato/active_source_implementation/experiments_Brava_2/s0176/images/example_of_filtered_waveform/5_rec_40to30_sv1_sh1_225\n"
     ]
    },
    {
     "name": "stderr",
     "output_type": "stream",
     "text": [
      "The PostScript backend does not support transparency; partially transparent artists will be rendered opaque.\n"
     ]
    },
    {
     "name": "stdout",
     "output_type": "stream",
     "text": [
      "Plot saved to /home/michele/Desktop/Dottorato/active_source_implementation/experiments_Brava_2/s0176/images/example_of_filtered_waveform/5_rec_40to30_sv1_sh1_270\n"
     ]
    },
    {
     "name": "stderr",
     "output_type": "stream",
     "text": [
      "The PostScript backend does not support transparency; partially transparent artists will be rendered opaque.\n"
     ]
    },
    {
     "name": "stdout",
     "output_type": "stream",
     "text": [
      "Plot saved to /home/michele/Desktop/Dottorato/active_source_implementation/experiments_Brava_2/s0176/images/example_of_filtered_waveform/5_rec_40to30_sv1_sh1_315\n",
      "Plot saved to /home/michele/Desktop/Dottorato/active_source_implementation/experiments_Brava_2/s0176/images/example_of_filtered_waveform/5_rec_40to30_sv1_sh1_360\n"
     ]
    },
    {
     "name": "stderr",
     "output_type": "stream",
     "text": [
      "The PostScript backend does not support transparency; partially transparent artists will be rendered opaque.\n"
     ]
    },
    {
     "name": "stdout",
     "output_type": "stream",
     "text": [
      "Plot saved to /home/michele/Desktop/Dottorato/active_source_implementation/experiments_Brava_2/s0176/images/example_of_filtered_waveform/5_rec_40to30_sv1_sh1_405\n"
     ]
    },
    {
     "name": "stderr",
     "output_type": "stream",
     "text": [
      "The PostScript backend does not support transparency; partially transparent artists will be rendered opaque.\n"
     ]
    },
    {
     "name": "stdout",
     "output_type": "stream",
     "text": [
      "Plot saved to /home/michele/Desktop/Dottorato/active_source_implementation/experiments_Brava_2/s0176/images/example_of_filtered_waveform/5_rec_40to30_sv1_sh1_450\n"
     ]
    },
    {
     "name": "stderr",
     "output_type": "stream",
     "text": [
      "The PostScript backend does not support transparency; partially transparent artists will be rendered opaque.\n"
     ]
    },
    {
     "name": "stdout",
     "output_type": "stream",
     "text": [
      "Plot saved to /home/michele/Desktop/Dottorato/active_source_implementation/experiments_Brava_2/s0176/images/example_of_filtered_waveform/5_rec_40to30_sv1_sh1_495\n"
     ]
    },
    {
     "name": "stderr",
     "output_type": "stream",
     "text": [
      "The PostScript backend does not support transparency; partially transparent artists will be rendered opaque.\n"
     ]
    },
    {
     "name": "stdout",
     "output_type": "stream",
     "text": [
      "Plot saved to /home/michele/Desktop/Dottorato/active_source_implementation/experiments_Brava_2/s0176/images/example_of_filtered_waveform/5_rec_40to30_sv1_sh1_540\n"
     ]
    },
    {
     "name": "stderr",
     "output_type": "stream",
     "text": [
      "The PostScript backend does not support transparency; partially transparent artists will be rendered opaque.\n"
     ]
    },
    {
     "name": "stdout",
     "output_type": "stream",
     "text": [
      "Plot saved to /home/michele/Desktop/Dottorato/active_source_implementation/experiments_Brava_2/s0176/images/example_of_filtered_waveform/5_rec_40to30_sv1_sh1_585\n"
     ]
    },
    {
     "name": "stderr",
     "output_type": "stream",
     "text": [
      "The PostScript backend does not support transparency; partially transparent artists will be rendered opaque.\n"
     ]
    },
    {
     "name": "stdout",
     "output_type": "stream",
     "text": [
      "Plot saved to /home/michele/Desktop/Dottorato/active_source_implementation/experiments_Brava_2/s0176/images/example_of_filtered_waveform/5_rec_40to30_sv1_sh1_630\n"
     ]
    },
    {
     "name": "stderr",
     "output_type": "stream",
     "text": [
      "The PostScript backend does not support transparency; partially transparent artists will be rendered opaque.\n"
     ]
    },
    {
     "name": "stdout",
     "output_type": "stream",
     "text": [
      "Plot saved to /home/michele/Desktop/Dottorato/active_source_implementation/experiments_Brava_2/s0176/images/example_of_filtered_waveform/5_rec_40to30_sv1_sh1_675\n"
     ]
    },
    {
     "name": "stderr",
     "output_type": "stream",
     "text": [
      "The PostScript backend does not support transparency; partially transparent artists will be rendered opaque.\n"
     ]
    },
    {
     "name": "stdout",
     "output_type": "stream",
     "text": [
      "Plot saved to /home/michele/Desktop/Dottorato/active_source_implementation/experiments_Brava_2/s0176/images/example_of_filtered_waveform/5_rec_40to30_sv1_sh1_720\n"
     ]
    },
    {
     "name": "stderr",
     "output_type": "stream",
     "text": [
      "The PostScript backend does not support transparency; partially transparent artists will be rendered opaque.\n"
     ]
    },
    {
     "name": "stdout",
     "output_type": "stream",
     "text": [
      "Plot saved to /home/michele/Desktop/Dottorato/active_source_implementation/experiments_Brava_2/s0176/images/example_of_filtered_waveform/5_rec_40to30_sv1_sh1_765\n"
     ]
    },
    {
     "name": "stderr",
     "output_type": "stream",
     "text": [
      "The PostScript backend does not support transparency; partially transparent artists will be rendered opaque.\n"
     ]
    },
    {
     "name": "stdout",
     "output_type": "stream",
     "text": [
      "Plot saved to /home/michele/Desktop/Dottorato/active_source_implementation/experiments_Brava_2/s0176/images/example_of_filtered_waveform/5_rec_40to30_sv1_sh1_810\n"
     ]
    },
    {
     "name": "stderr",
     "output_type": "stream",
     "text": [
      "The PostScript backend does not support transparency; partially transparent artists will be rendered opaque.\n"
     ]
    },
    {
     "name": "stdout",
     "output_type": "stream",
     "text": [
      "Plot saved to /home/michele/Desktop/Dottorato/active_source_implementation/experiments_Brava_2/s0176/images/example_of_filtered_waveform/5_rec_40to30_sv1_sh1_855\n"
     ]
    },
    {
     "name": "stderr",
     "output_type": "stream",
     "text": [
      "The PostScript backend does not support transparency; partially transparent artists will be rendered opaque.\n"
     ]
    },
    {
     "name": "stdout",
     "output_type": "stream",
     "text": [
      "Plot saved to /home/michele/Desktop/Dottorato/active_source_implementation/experiments_Brava_2/s0176/images/example_of_filtered_waveform/5_rec_40to30_sv1_sh1_900\n"
     ]
    },
    {
     "name": "stderr",
     "output_type": "stream",
     "text": [
      "The PostScript backend does not support transparency; partially transparent artists will be rendered opaque.\n"
     ]
    },
    {
     "name": "stdout",
     "output_type": "stream",
     "text": [
      "Plot saved to /home/michele/Desktop/Dottorato/active_source_implementation/experiments_Brava_2/s0176/images/example_of_filtered_waveform/5_rec_40to30_sv1_sh1_945\n"
     ]
    },
    {
     "name": "stderr",
     "output_type": "stream",
     "text": [
      "The PostScript backend does not support transparency; partially transparent artists will be rendered opaque.\n"
     ]
    },
    {
     "name": "stdout",
     "output_type": "stream",
     "text": [
      "Plot saved to /home/michele/Desktop/Dottorato/active_source_implementation/experiments_Brava_2/s0176/images/example_of_filtered_waveform/5_rec_40to30_sv1_sh1_990\n"
     ]
    },
    {
     "name": "stderr",
     "output_type": "stream",
     "text": [
      "The PostScript backend does not support transparency; partially transparent artists will be rendered opaque.\n"
     ]
    },
    {
     "name": "stdout",
     "output_type": "stream",
     "text": [
      "Plot saved to /home/michele/Desktop/Dottorato/active_source_implementation/experiments_Brava_2/s0176/images/example_of_filtered_waveform/5_rec_40to30_sv1_sh1_1035\n"
     ]
    },
    {
     "name": "stderr",
     "output_type": "stream",
     "text": [
      "The PostScript backend does not support transparency; partially transparent artists will be rendered opaque.\n"
     ]
    },
    {
     "name": "stdout",
     "output_type": "stream",
     "text": [
      "Plot saved to /home/michele/Desktop/Dottorato/active_source_implementation/experiments_Brava_2/s0176/images/example_of_filtered_waveform/5_rec_40to30_sv1_sh1_1080\n"
     ]
    },
    {
     "name": "stderr",
     "output_type": "stream",
     "text": [
      "The PostScript backend does not support transparency; partially transparent artists will be rendered opaque.\n"
     ]
    },
    {
     "name": "stdout",
     "output_type": "stream",
     "text": [
      "Plot saved to /home/michele/Desktop/Dottorato/active_source_implementation/experiments_Brava_2/s0176/images/example_of_filtered_waveform/5_rec_40to30_sv1_sh1_1125\n"
     ]
    },
    {
     "name": "stderr",
     "output_type": "stream",
     "text": [
      "The PostScript backend does not support transparency; partially transparent artists will be rendered opaque.\n"
     ]
    },
    {
     "name": "stdout",
     "output_type": "stream",
     "text": [
      "Plot saved to /home/michele/Desktop/Dottorato/active_source_implementation/experiments_Brava_2/s0176/images/example_of_filtered_waveform/5_rec_40to30_sv1_sh1_1170\n"
     ]
    },
    {
     "name": "stderr",
     "output_type": "stream",
     "text": [
      "The PostScript backend does not support transparency; partially transparent artists will be rendered opaque.\n"
     ]
    },
    {
     "name": "stdout",
     "output_type": "stream",
     "text": [
      "Plot saved to /home/michele/Desktop/Dottorato/active_source_implementation/experiments_Brava_2/s0176/images/example_of_filtered_waveform/5_rec_40to30_sv1_sh1_1215\n"
     ]
    },
    {
     "name": "stderr",
     "output_type": "stream",
     "text": [
      "The PostScript backend does not support transparency; partially transparent artists will be rendered opaque.\n"
     ]
    },
    {
     "name": "stdout",
     "output_type": "stream",
     "text": [
      "Plot saved to /home/michele/Desktop/Dottorato/active_source_implementation/experiments_Brava_2/s0176/images/example_of_filtered_waveform/5_rec_40to30_sv1_sh1_1260\n"
     ]
    },
    {
     "name": "stderr",
     "output_type": "stream",
     "text": [
      "The PostScript backend does not support transparency; partially transparent artists will be rendered opaque.\n"
     ]
    },
    {
     "name": "stdout",
     "output_type": "stream",
     "text": [
      "Plot saved to /home/michele/Desktop/Dottorato/active_source_implementation/experiments_Brava_2/s0176/images/example_of_filtered_waveform/5_rec_40to30_sv1_sh1_1305\n"
     ]
    },
    {
     "name": "stderr",
     "output_type": "stream",
     "text": [
      "The PostScript backend does not support transparency; partially transparent artists will be rendered opaque.\n"
     ]
    },
    {
     "name": "stdout",
     "output_type": "stream",
     "text": [
      "Plot saved to /home/michele/Desktop/Dottorato/active_source_implementation/experiments_Brava_2/s0176/images/example_of_filtered_waveform/5_rec_40to30_sv1_sh1_1350\n",
      "--- 22.560271739959717 seconds for processing 5_rec_40to30_sv1_sh1---\n",
      "PROCESSING UW DATA IN /home/michele/Desktop/Dottorato/active_source_implementation/experiments_Brava_2/s0176/data_tsv_files/5_rec_40to30_sv1_sh2.bscan.tsv: \n",
      "PROCESSING UW DATA IN /home/michele/Desktop/Dottorato/active_source_implementation/experiments_Brava_2/s0176/data_tsv_files/5_rec_40to30_sv1_sv1.bscan.tsv: \n"
     ]
    },
    {
     "name": "stderr",
     "output_type": "stream",
     "text": [
      "The PostScript backend does not support transparency; partially transparent artists will be rendered opaque.\n"
     ]
    },
    {
     "name": "stdout",
     "output_type": "stream",
     "text": [
      "Plot saved to /home/michele/Desktop/Dottorato/active_source_implementation/experiments_Brava_2/s0176/images/waveforms/5_rec_40to30_sv1_sv1\n",
      "number_of_samples\n",
      "sampling_rate\n",
      "time_ax_waveform\n",
      "number_of_waveforms\n",
      "acquisition_frequency\n",
      "time_ax_acquisition\n",
      "Plot saved to /home/michele/Desktop/Dottorato/active_source_implementation/experiments_Brava_2/s0176/images/amplitude_maps/5_rec_40to30_sv1_sv1\n"
     ]
    },
    {
     "name": "stderr",
     "output_type": "stream",
     "text": [
      "The PostScript backend does not support transparency; partially transparent artists will be rendered opaque.\n"
     ]
    },
    {
     "name": "stdout",
     "output_type": "stream",
     "text": [
      "Plot saved to /home/michele/Desktop/Dottorato/active_source_implementation/experiments_Brava_2/s0176/images/waveforms/5_rec_40to30_sv1_sv1_filtered\n",
      "number_of_samples\n",
      "sampling_rate\n",
      "time_ax_waveform\n",
      "number_of_waveforms\n",
      "acquisition_frequency\n",
      "time_ax_acquisition\n"
     ]
    },
    {
     "name": "stderr",
     "output_type": "stream",
     "text": [
      "The PostScript backend does not support transparency; partially transparent artists will be rendered opaque.\n"
     ]
    },
    {
     "name": "stdout",
     "output_type": "stream",
     "text": [
      "Plot saved to /home/michele/Desktop/Dottorato/active_source_implementation/experiments_Brava_2/s0176/images/amplitude_maps/5_rec_40to30_sv1_sv1_filtered\n"
     ]
    },
    {
     "name": "stderr",
     "output_type": "stream",
     "text": [
      "The PostScript backend does not support transparency; partially transparent artists will be rendered opaque.\n"
     ]
    },
    {
     "name": "stdout",
     "output_type": "stream",
     "text": [
      "Plot saved to /home/michele/Desktop/Dottorato/active_source_implementation/experiments_Brava_2/s0176/images/example_of_filtered_waveform/5_rec_40to30_sv1_sv1_0\n"
     ]
    },
    {
     "name": "stderr",
     "output_type": "stream",
     "text": [
      "The PostScript backend does not support transparency; partially transparent artists will be rendered opaque.\n"
     ]
    },
    {
     "name": "stdout",
     "output_type": "stream",
     "text": [
      "Plot saved to /home/michele/Desktop/Dottorato/active_source_implementation/experiments_Brava_2/s0176/images/example_of_filtered_waveform/5_rec_40to30_sv1_sv1_45\n"
     ]
    },
    {
     "name": "stderr",
     "output_type": "stream",
     "text": [
      "The PostScript backend does not support transparency; partially transparent artists will be rendered opaque.\n"
     ]
    },
    {
     "name": "stdout",
     "output_type": "stream",
     "text": [
      "Plot saved to /home/michele/Desktop/Dottorato/active_source_implementation/experiments_Brava_2/s0176/images/example_of_filtered_waveform/5_rec_40to30_sv1_sv1_90\n"
     ]
    },
    {
     "name": "stderr",
     "output_type": "stream",
     "text": [
      "The PostScript backend does not support transparency; partially transparent artists will be rendered opaque.\n"
     ]
    },
    {
     "name": "stdout",
     "output_type": "stream",
     "text": [
      "Plot saved to /home/michele/Desktop/Dottorato/active_source_implementation/experiments_Brava_2/s0176/images/example_of_filtered_waveform/5_rec_40to30_sv1_sv1_135\n"
     ]
    },
    {
     "name": "stderr",
     "output_type": "stream",
     "text": [
      "The PostScript backend does not support transparency; partially transparent artists will be rendered opaque.\n"
     ]
    },
    {
     "name": "stdout",
     "output_type": "stream",
     "text": [
      "Plot saved to /home/michele/Desktop/Dottorato/active_source_implementation/experiments_Brava_2/s0176/images/example_of_filtered_waveform/5_rec_40to30_sv1_sv1_180\n"
     ]
    },
    {
     "name": "stderr",
     "output_type": "stream",
     "text": [
      "The PostScript backend does not support transparency; partially transparent artists will be rendered opaque.\n"
     ]
    },
    {
     "name": "stdout",
     "output_type": "stream",
     "text": [
      "Plot saved to /home/michele/Desktop/Dottorato/active_source_implementation/experiments_Brava_2/s0176/images/example_of_filtered_waveform/5_rec_40to30_sv1_sv1_225\n"
     ]
    },
    {
     "name": "stderr",
     "output_type": "stream",
     "text": [
      "The PostScript backend does not support transparency; partially transparent artists will be rendered opaque.\n"
     ]
    },
    {
     "name": "stdout",
     "output_type": "stream",
     "text": [
      "Plot saved to /home/michele/Desktop/Dottorato/active_source_implementation/experiments_Brava_2/s0176/images/example_of_filtered_waveform/5_rec_40to30_sv1_sv1_270\n"
     ]
    },
    {
     "name": "stderr",
     "output_type": "stream",
     "text": [
      "The PostScript backend does not support transparency; partially transparent artists will be rendered opaque.\n"
     ]
    },
    {
     "name": "stdout",
     "output_type": "stream",
     "text": [
      "Plot saved to /home/michele/Desktop/Dottorato/active_source_implementation/experiments_Brava_2/s0176/images/example_of_filtered_waveform/5_rec_40to30_sv1_sv1_315\n"
     ]
    },
    {
     "name": "stderr",
     "output_type": "stream",
     "text": [
      "The PostScript backend does not support transparency; partially transparent artists will be rendered opaque.\n"
     ]
    },
    {
     "name": "stdout",
     "output_type": "stream",
     "text": [
      "Plot saved to /home/michele/Desktop/Dottorato/active_source_implementation/experiments_Brava_2/s0176/images/example_of_filtered_waveform/5_rec_40to30_sv1_sv1_360\n"
     ]
    },
    {
     "name": "stderr",
     "output_type": "stream",
     "text": [
      "The PostScript backend does not support transparency; partially transparent artists will be rendered opaque.\n"
     ]
    },
    {
     "name": "stdout",
     "output_type": "stream",
     "text": [
      "Plot saved to /home/michele/Desktop/Dottorato/active_source_implementation/experiments_Brava_2/s0176/images/example_of_filtered_waveform/5_rec_40to30_sv1_sv1_405\n"
     ]
    },
    {
     "name": "stderr",
     "output_type": "stream",
     "text": [
      "The PostScript backend does not support transparency; partially transparent artists will be rendered opaque.\n"
     ]
    },
    {
     "name": "stdout",
     "output_type": "stream",
     "text": [
      "Plot saved to /home/michele/Desktop/Dottorato/active_source_implementation/experiments_Brava_2/s0176/images/example_of_filtered_waveform/5_rec_40to30_sv1_sv1_450\n"
     ]
    },
    {
     "name": "stderr",
     "output_type": "stream",
     "text": [
      "The PostScript backend does not support transparency; partially transparent artists will be rendered opaque.\n"
     ]
    },
    {
     "name": "stdout",
     "output_type": "stream",
     "text": [
      "Plot saved to /home/michele/Desktop/Dottorato/active_source_implementation/experiments_Brava_2/s0176/images/example_of_filtered_waveform/5_rec_40to30_sv1_sv1_495\n"
     ]
    },
    {
     "name": "stderr",
     "output_type": "stream",
     "text": [
      "The PostScript backend does not support transparency; partially transparent artists will be rendered opaque.\n"
     ]
    },
    {
     "name": "stdout",
     "output_type": "stream",
     "text": [
      "Plot saved to /home/michele/Desktop/Dottorato/active_source_implementation/experiments_Brava_2/s0176/images/example_of_filtered_waveform/5_rec_40to30_sv1_sv1_540\n",
      "Plot saved to /home/michele/Desktop/Dottorato/active_source_implementation/experiments_Brava_2/s0176/images/example_of_filtered_waveform/5_rec_40to30_sv1_sv1_585\n"
     ]
    },
    {
     "name": "stderr",
     "output_type": "stream",
     "text": [
      "The PostScript backend does not support transparency; partially transparent artists will be rendered opaque.\n"
     ]
    },
    {
     "name": "stdout",
     "output_type": "stream",
     "text": [
      "Plot saved to /home/michele/Desktop/Dottorato/active_source_implementation/experiments_Brava_2/s0176/images/example_of_filtered_waveform/5_rec_40to30_sv1_sv1_630\n"
     ]
    },
    {
     "name": "stderr",
     "output_type": "stream",
     "text": [
      "The PostScript backend does not support transparency; partially transparent artists will be rendered opaque.\n"
     ]
    },
    {
     "name": "stdout",
     "output_type": "stream",
     "text": [
      "Plot saved to /home/michele/Desktop/Dottorato/active_source_implementation/experiments_Brava_2/s0176/images/example_of_filtered_waveform/5_rec_40to30_sv1_sv1_675\n"
     ]
    },
    {
     "name": "stderr",
     "output_type": "stream",
     "text": [
      "The PostScript backend does not support transparency; partially transparent artists will be rendered opaque.\n"
     ]
    },
    {
     "name": "stdout",
     "output_type": "stream",
     "text": [
      "Plot saved to /home/michele/Desktop/Dottorato/active_source_implementation/experiments_Brava_2/s0176/images/example_of_filtered_waveform/5_rec_40to30_sv1_sv1_720\n"
     ]
    },
    {
     "name": "stderr",
     "output_type": "stream",
     "text": [
      "The PostScript backend does not support transparency; partially transparent artists will be rendered opaque.\n"
     ]
    },
    {
     "name": "stdout",
     "output_type": "stream",
     "text": [
      "Plot saved to /home/michele/Desktop/Dottorato/active_source_implementation/experiments_Brava_2/s0176/images/example_of_filtered_waveform/5_rec_40to30_sv1_sv1_765\n"
     ]
    },
    {
     "name": "stderr",
     "output_type": "stream",
     "text": [
      "The PostScript backend does not support transparency; partially transparent artists will be rendered opaque.\n"
     ]
    },
    {
     "name": "stdout",
     "output_type": "stream",
     "text": [
      "Plot saved to /home/michele/Desktop/Dottorato/active_source_implementation/experiments_Brava_2/s0176/images/example_of_filtered_waveform/5_rec_40to30_sv1_sv1_810\n"
     ]
    },
    {
     "name": "stderr",
     "output_type": "stream",
     "text": [
      "The PostScript backend does not support transparency; partially transparent artists will be rendered opaque.\n"
     ]
    },
    {
     "name": "stdout",
     "output_type": "stream",
     "text": [
      "Plot saved to /home/michele/Desktop/Dottorato/active_source_implementation/experiments_Brava_2/s0176/images/example_of_filtered_waveform/5_rec_40to30_sv1_sv1_855\n"
     ]
    },
    {
     "name": "stderr",
     "output_type": "stream",
     "text": [
      "The PostScript backend does not support transparency; partially transparent artists will be rendered opaque.\n"
     ]
    },
    {
     "name": "stdout",
     "output_type": "stream",
     "text": [
      "Plot saved to /home/michele/Desktop/Dottorato/active_source_implementation/experiments_Brava_2/s0176/images/example_of_filtered_waveform/5_rec_40to30_sv1_sv1_900\n"
     ]
    },
    {
     "name": "stderr",
     "output_type": "stream",
     "text": [
      "The PostScript backend does not support transparency; partially transparent artists will be rendered opaque.\n"
     ]
    },
    {
     "name": "stdout",
     "output_type": "stream",
     "text": [
      "Plot saved to /home/michele/Desktop/Dottorato/active_source_implementation/experiments_Brava_2/s0176/images/example_of_filtered_waveform/5_rec_40to30_sv1_sv1_945\n"
     ]
    },
    {
     "name": "stderr",
     "output_type": "stream",
     "text": [
      "The PostScript backend does not support transparency; partially transparent artists will be rendered opaque.\n"
     ]
    },
    {
     "name": "stdout",
     "output_type": "stream",
     "text": [
      "Plot saved to /home/michele/Desktop/Dottorato/active_source_implementation/experiments_Brava_2/s0176/images/example_of_filtered_waveform/5_rec_40to30_sv1_sv1_990\n"
     ]
    },
    {
     "name": "stderr",
     "output_type": "stream",
     "text": [
      "The PostScript backend does not support transparency; partially transparent artists will be rendered opaque.\n"
     ]
    },
    {
     "name": "stdout",
     "output_type": "stream",
     "text": [
      "Plot saved to /home/michele/Desktop/Dottorato/active_source_implementation/experiments_Brava_2/s0176/images/example_of_filtered_waveform/5_rec_40to30_sv1_sv1_1035\n"
     ]
    },
    {
     "name": "stderr",
     "output_type": "stream",
     "text": [
      "The PostScript backend does not support transparency; partially transparent artists will be rendered opaque.\n"
     ]
    },
    {
     "name": "stdout",
     "output_type": "stream",
     "text": [
      "Plot saved to /home/michele/Desktop/Dottorato/active_source_implementation/experiments_Brava_2/s0176/images/example_of_filtered_waveform/5_rec_40to30_sv1_sv1_1080\n"
     ]
    },
    {
     "name": "stderr",
     "output_type": "stream",
     "text": [
      "The PostScript backend does not support transparency; partially transparent artists will be rendered opaque.\n"
     ]
    },
    {
     "name": "stdout",
     "output_type": "stream",
     "text": [
      "Plot saved to /home/michele/Desktop/Dottorato/active_source_implementation/experiments_Brava_2/s0176/images/example_of_filtered_waveform/5_rec_40to30_sv1_sv1_1125\n"
     ]
    },
    {
     "name": "stderr",
     "output_type": "stream",
     "text": [
      "The PostScript backend does not support transparency; partially transparent artists will be rendered opaque.\n"
     ]
    },
    {
     "name": "stdout",
     "output_type": "stream",
     "text": [
      "Plot saved to /home/michele/Desktop/Dottorato/active_source_implementation/experiments_Brava_2/s0176/images/example_of_filtered_waveform/5_rec_40to30_sv1_sv1_1170\n"
     ]
    },
    {
     "name": "stderr",
     "output_type": "stream",
     "text": [
      "The PostScript backend does not support transparency; partially transparent artists will be rendered opaque.\n"
     ]
    },
    {
     "name": "stdout",
     "output_type": "stream",
     "text": [
      "Plot saved to /home/michele/Desktop/Dottorato/active_source_implementation/experiments_Brava_2/s0176/images/example_of_filtered_waveform/5_rec_40to30_sv1_sv1_1215\n"
     ]
    },
    {
     "name": "stderr",
     "output_type": "stream",
     "text": [
      "The PostScript backend does not support transparency; partially transparent artists will be rendered opaque.\n"
     ]
    },
    {
     "name": "stdout",
     "output_type": "stream",
     "text": [
      "Plot saved to /home/michele/Desktop/Dottorato/active_source_implementation/experiments_Brava_2/s0176/images/example_of_filtered_waveform/5_rec_40to30_sv1_sv1_1260\n"
     ]
    },
    {
     "name": "stderr",
     "output_type": "stream",
     "text": [
      "The PostScript backend does not support transparency; partially transparent artists will be rendered opaque.\n"
     ]
    },
    {
     "name": "stdout",
     "output_type": "stream",
     "text": [
      "Plot saved to /home/michele/Desktop/Dottorato/active_source_implementation/experiments_Brava_2/s0176/images/example_of_filtered_waveform/5_rec_40to30_sv1_sv1_1305\n"
     ]
    },
    {
     "name": "stderr",
     "output_type": "stream",
     "text": [
      "The PostScript backend does not support transparency; partially transparent artists will be rendered opaque.\n"
     ]
    },
    {
     "name": "stdout",
     "output_type": "stream",
     "text": [
      "Plot saved to /home/michele/Desktop/Dottorato/active_source_implementation/experiments_Brava_2/s0176/images/example_of_filtered_waveform/5_rec_40to30_sv1_sv1_1350\n",
      "--- 18.935986280441284 seconds for processing 5_rec_40to30_sv1_sv1---\n",
      "PROCESSING UW DATA IN /home/michele/Desktop/Dottorato/active_source_implementation/experiments_Brava_2/s0176/data_tsv_files/5_rec_40to30_sv1_sv2.bscan.tsv: \n"
     ]
    },
    {
     "name": "stderr",
     "output_type": "stream",
     "text": [
      "The PostScript backend does not support transparency; partially transparent artists will be rendered opaque.\n"
     ]
    },
    {
     "name": "stdout",
     "output_type": "stream",
     "text": [
      "Plot saved to /home/michele/Desktop/Dottorato/active_source_implementation/experiments_Brava_2/s0176/images/waveforms/5_rec_40to30_sv1_sv2\n",
      "number_of_samples\n",
      "sampling_rate\n",
      "time_ax_waveform\n",
      "number_of_waveforms\n",
      "acquisition_frequency\n",
      "time_ax_acquisition\n",
      "Plot saved to /home/michele/Desktop/Dottorato/active_source_implementation/experiments_Brava_2/s0176/images/amplitude_maps/5_rec_40to30_sv1_sv2\n"
     ]
    },
    {
     "name": "stderr",
     "output_type": "stream",
     "text": [
      "The PostScript backend does not support transparency; partially transparent artists will be rendered opaque.\n"
     ]
    },
    {
     "name": "stdout",
     "output_type": "stream",
     "text": [
      "Plot saved to /home/michele/Desktop/Dottorato/active_source_implementation/experiments_Brava_2/s0176/images/waveforms/5_rec_40to30_sv1_sv2_filtered\n",
      "number_of_samples\n",
      "sampling_rate\n",
      "time_ax_waveform\n",
      "number_of_waveforms\n",
      "acquisition_frequency\n",
      "time_ax_acquisition\n"
     ]
    },
    {
     "name": "stderr",
     "output_type": "stream",
     "text": [
      "The PostScript backend does not support transparency; partially transparent artists will be rendered opaque.\n"
     ]
    },
    {
     "name": "stdout",
     "output_type": "stream",
     "text": [
      "Plot saved to /home/michele/Desktop/Dottorato/active_source_implementation/experiments_Brava_2/s0176/images/amplitude_maps/5_rec_40to30_sv1_sv2_filtered\n"
     ]
    },
    {
     "name": "stderr",
     "output_type": "stream",
     "text": [
      "The PostScript backend does not support transparency; partially transparent artists will be rendered opaque.\n"
     ]
    },
    {
     "name": "stdout",
     "output_type": "stream",
     "text": [
      "Plot saved to /home/michele/Desktop/Dottorato/active_source_implementation/experiments_Brava_2/s0176/images/example_of_filtered_waveform/5_rec_40to30_sv1_sv2_0\n"
     ]
    },
    {
     "name": "stderr",
     "output_type": "stream",
     "text": [
      "The PostScript backend does not support transparency; partially transparent artists will be rendered opaque.\n"
     ]
    },
    {
     "name": "stdout",
     "output_type": "stream",
     "text": [
      "Plot saved to /home/michele/Desktop/Dottorato/active_source_implementation/experiments_Brava_2/s0176/images/example_of_filtered_waveform/5_rec_40to30_sv1_sv2_45\n"
     ]
    },
    {
     "name": "stderr",
     "output_type": "stream",
     "text": [
      "The PostScript backend does not support transparency; partially transparent artists will be rendered opaque.\n"
     ]
    },
    {
     "name": "stdout",
     "output_type": "stream",
     "text": [
      "Plot saved to /home/michele/Desktop/Dottorato/active_source_implementation/experiments_Brava_2/s0176/images/example_of_filtered_waveform/5_rec_40to30_sv1_sv2_90\n"
     ]
    },
    {
     "name": "stderr",
     "output_type": "stream",
     "text": [
      "The PostScript backend does not support transparency; partially transparent artists will be rendered opaque.\n"
     ]
    },
    {
     "name": "stdout",
     "output_type": "stream",
     "text": [
      "Plot saved to /home/michele/Desktop/Dottorato/active_source_implementation/experiments_Brava_2/s0176/images/example_of_filtered_waveform/5_rec_40to30_sv1_sv2_135\n"
     ]
    },
    {
     "name": "stderr",
     "output_type": "stream",
     "text": [
      "The PostScript backend does not support transparency; partially transparent artists will be rendered opaque.\n"
     ]
    },
    {
     "name": "stdout",
     "output_type": "stream",
     "text": [
      "Plot saved to /home/michele/Desktop/Dottorato/active_source_implementation/experiments_Brava_2/s0176/images/example_of_filtered_waveform/5_rec_40to30_sv1_sv2_180\n"
     ]
    },
    {
     "name": "stderr",
     "output_type": "stream",
     "text": [
      "The PostScript backend does not support transparency; partially transparent artists will be rendered opaque.\n"
     ]
    },
    {
     "name": "stdout",
     "output_type": "stream",
     "text": [
      "Plot saved to /home/michele/Desktop/Dottorato/active_source_implementation/experiments_Brava_2/s0176/images/example_of_filtered_waveform/5_rec_40to30_sv1_sv2_225\n",
      "Plot saved to /home/michele/Desktop/Dottorato/active_source_implementation/experiments_Brava_2/s0176/images/example_of_filtered_waveform/5_rec_40to30_sv1_sv2_270\n"
     ]
    },
    {
     "name": "stderr",
     "output_type": "stream",
     "text": [
      "The PostScript backend does not support transparency; partially transparent artists will be rendered opaque.\n",
      "The PostScript backend does not support transparency; partially transparent artists will be rendered opaque.\n"
     ]
    },
    {
     "name": "stdout",
     "output_type": "stream",
     "text": [
      "Plot saved to /home/michele/Desktop/Dottorato/active_source_implementation/experiments_Brava_2/s0176/images/example_of_filtered_waveform/5_rec_40to30_sv1_sv2_315\n"
     ]
    },
    {
     "name": "stderr",
     "output_type": "stream",
     "text": [
      "The PostScript backend does not support transparency; partially transparent artists will be rendered opaque.\n"
     ]
    },
    {
     "name": "stdout",
     "output_type": "stream",
     "text": [
      "Plot saved to /home/michele/Desktop/Dottorato/active_source_implementation/experiments_Brava_2/s0176/images/example_of_filtered_waveform/5_rec_40to30_sv1_sv2_360\n"
     ]
    },
    {
     "name": "stderr",
     "output_type": "stream",
     "text": [
      "The PostScript backend does not support transparency; partially transparent artists will be rendered opaque.\n"
     ]
    },
    {
     "name": "stdout",
     "output_type": "stream",
     "text": [
      "Plot saved to /home/michele/Desktop/Dottorato/active_source_implementation/experiments_Brava_2/s0176/images/example_of_filtered_waveform/5_rec_40to30_sv1_sv2_405\n"
     ]
    },
    {
     "name": "stderr",
     "output_type": "stream",
     "text": [
      "The PostScript backend does not support transparency; partially transparent artists will be rendered opaque.\n"
     ]
    },
    {
     "name": "stdout",
     "output_type": "stream",
     "text": [
      "Plot saved to /home/michele/Desktop/Dottorato/active_source_implementation/experiments_Brava_2/s0176/images/example_of_filtered_waveform/5_rec_40to30_sv1_sv2_450\n"
     ]
    },
    {
     "name": "stderr",
     "output_type": "stream",
     "text": [
      "The PostScript backend does not support transparency; partially transparent artists will be rendered opaque.\n"
     ]
    },
    {
     "name": "stdout",
     "output_type": "stream",
     "text": [
      "Plot saved to /home/michele/Desktop/Dottorato/active_source_implementation/experiments_Brava_2/s0176/images/example_of_filtered_waveform/5_rec_40to30_sv1_sv2_495\n",
      "Plot saved to /home/michele/Desktop/Dottorato/active_source_implementation/experiments_Brava_2/s0176/images/example_of_filtered_waveform/5_rec_40to30_sv1_sv2_540\n"
     ]
    },
    {
     "name": "stderr",
     "output_type": "stream",
     "text": [
      "The PostScript backend does not support transparency; partially transparent artists will be rendered opaque.\n",
      "The PostScript backend does not support transparency; partially transparent artists will be rendered opaque.\n"
     ]
    },
    {
     "name": "stdout",
     "output_type": "stream",
     "text": [
      "Plot saved to /home/michele/Desktop/Dottorato/active_source_implementation/experiments_Brava_2/s0176/images/example_of_filtered_waveform/5_rec_40to30_sv1_sv2_585\n"
     ]
    },
    {
     "name": "stderr",
     "output_type": "stream",
     "text": [
      "The PostScript backend does not support transparency; partially transparent artists will be rendered opaque.\n"
     ]
    },
    {
     "name": "stdout",
     "output_type": "stream",
     "text": [
      "Plot saved to /home/michele/Desktop/Dottorato/active_source_implementation/experiments_Brava_2/s0176/images/example_of_filtered_waveform/5_rec_40to30_sv1_sv2_630\n"
     ]
    },
    {
     "name": "stderr",
     "output_type": "stream",
     "text": [
      "The PostScript backend does not support transparency; partially transparent artists will be rendered opaque.\n"
     ]
    },
    {
     "name": "stdout",
     "output_type": "stream",
     "text": [
      "Plot saved to /home/michele/Desktop/Dottorato/active_source_implementation/experiments_Brava_2/s0176/images/example_of_filtered_waveform/5_rec_40to30_sv1_sv2_675\n",
      "Plot saved to /home/michele/Desktop/Dottorato/active_source_implementation/experiments_Brava_2/s0176/images/example_of_filtered_waveform/5_rec_40to30_sv1_sv2_720\n"
     ]
    },
    {
     "name": "stderr",
     "output_type": "stream",
     "text": [
      "The PostScript backend does not support transparency; partially transparent artists will be rendered opaque.\n"
     ]
    },
    {
     "name": "stdout",
     "output_type": "stream",
     "text": [
      "Plot saved to /home/michele/Desktop/Dottorato/active_source_implementation/experiments_Brava_2/s0176/images/example_of_filtered_waveform/5_rec_40to30_sv1_sv2_765\n"
     ]
    },
    {
     "name": "stderr",
     "output_type": "stream",
     "text": [
      "The PostScript backend does not support transparency; partially transparent artists will be rendered opaque.\n"
     ]
    },
    {
     "name": "stdout",
     "output_type": "stream",
     "text": [
      "Plot saved to /home/michele/Desktop/Dottorato/active_source_implementation/experiments_Brava_2/s0176/images/example_of_filtered_waveform/5_rec_40to30_sv1_sv2_810\n"
     ]
    },
    {
     "name": "stderr",
     "output_type": "stream",
     "text": [
      "The PostScript backend does not support transparency; partially transparent artists will be rendered opaque.\n"
     ]
    },
    {
     "name": "stdout",
     "output_type": "stream",
     "text": [
      "Plot saved to /home/michele/Desktop/Dottorato/active_source_implementation/experiments_Brava_2/s0176/images/example_of_filtered_waveform/5_rec_40to30_sv1_sv2_855\n"
     ]
    },
    {
     "name": "stderr",
     "output_type": "stream",
     "text": [
      "The PostScript backend does not support transparency; partially transparent artists will be rendered opaque.\n"
     ]
    },
    {
     "name": "stdout",
     "output_type": "stream",
     "text": [
      "Plot saved to /home/michele/Desktop/Dottorato/active_source_implementation/experiments_Brava_2/s0176/images/example_of_filtered_waveform/5_rec_40to30_sv1_sv2_900\n"
     ]
    },
    {
     "name": "stderr",
     "output_type": "stream",
     "text": [
      "The PostScript backend does not support transparency; partially transparent artists will be rendered opaque.\n"
     ]
    },
    {
     "name": "stdout",
     "output_type": "stream",
     "text": [
      "Plot saved to /home/michele/Desktop/Dottorato/active_source_implementation/experiments_Brava_2/s0176/images/example_of_filtered_waveform/5_rec_40to30_sv1_sv2_945\n"
     ]
    },
    {
     "name": "stderr",
     "output_type": "stream",
     "text": [
      "The PostScript backend does not support transparency; partially transparent artists will be rendered opaque.\n"
     ]
    },
    {
     "name": "stdout",
     "output_type": "stream",
     "text": [
      "Plot saved to /home/michele/Desktop/Dottorato/active_source_implementation/experiments_Brava_2/s0176/images/example_of_filtered_waveform/5_rec_40to30_sv1_sv2_990\n"
     ]
    },
    {
     "name": "stderr",
     "output_type": "stream",
     "text": [
      "The PostScript backend does not support transparency; partially transparent artists will be rendered opaque.\n"
     ]
    },
    {
     "name": "stdout",
     "output_type": "stream",
     "text": [
      "Plot saved to /home/michele/Desktop/Dottorato/active_source_implementation/experiments_Brava_2/s0176/images/example_of_filtered_waveform/5_rec_40to30_sv1_sv2_1035\n"
     ]
    },
    {
     "name": "stderr",
     "output_type": "stream",
     "text": [
      "The PostScript backend does not support transparency; partially transparent artists will be rendered opaque.\n",
      "The PostScript backend does not support transparency; partially transparent artists will be rendered opaque.\n"
     ]
    },
    {
     "name": "stdout",
     "output_type": "stream",
     "text": [
      "Plot saved to /home/michele/Desktop/Dottorato/active_source_implementation/experiments_Brava_2/s0176/images/example_of_filtered_waveform/5_rec_40to30_sv1_sv2_1080\n"
     ]
    },
    {
     "name": "stderr",
     "output_type": "stream",
     "text": [
      "The PostScript backend does not support transparency; partially transparent artists will be rendered opaque.\n"
     ]
    },
    {
     "name": "stdout",
     "output_type": "stream",
     "text": [
      "Plot saved to /home/michele/Desktop/Dottorato/active_source_implementation/experiments_Brava_2/s0176/images/example_of_filtered_waveform/5_rec_40to30_sv1_sv2_1125\n"
     ]
    },
    {
     "name": "stderr",
     "output_type": "stream",
     "text": [
      "The PostScript backend does not support transparency; partially transparent artists will be rendered opaque.\n"
     ]
    },
    {
     "name": "stdout",
     "output_type": "stream",
     "text": [
      "Plot saved to /home/michele/Desktop/Dottorato/active_source_implementation/experiments_Brava_2/s0176/images/example_of_filtered_waveform/5_rec_40to30_sv1_sv2_1170\n"
     ]
    },
    {
     "name": "stderr",
     "output_type": "stream",
     "text": [
      "The PostScript backend does not support transparency; partially transparent artists will be rendered opaque.\n"
     ]
    },
    {
     "name": "stdout",
     "output_type": "stream",
     "text": [
      "Plot saved to /home/michele/Desktop/Dottorato/active_source_implementation/experiments_Brava_2/s0176/images/example_of_filtered_waveform/5_rec_40to30_sv1_sv2_1215\n"
     ]
    },
    {
     "name": "stderr",
     "output_type": "stream",
     "text": [
      "The PostScript backend does not support transparency; partially transparent artists will be rendered opaque.\n"
     ]
    },
    {
     "name": "stdout",
     "output_type": "stream",
     "text": [
      "Plot saved to /home/michele/Desktop/Dottorato/active_source_implementation/experiments_Brava_2/s0176/images/example_of_filtered_waveform/5_rec_40to30_sv1_sv2_1260\n",
      "Plot saved to /home/michele/Desktop/Dottorato/active_source_implementation/experiments_Brava_2/s0176/images/example_of_filtered_waveform/5_rec_40to30_sv1_sv2_1305\n"
     ]
    },
    {
     "name": "stderr",
     "output_type": "stream",
     "text": [
      "The PostScript backend does not support transparency; partially transparent artists will be rendered opaque.\n"
     ]
    },
    {
     "name": "stdout",
     "output_type": "stream",
     "text": [
      "Plot saved to /home/michele/Desktop/Dottorato/active_source_implementation/experiments_Brava_2/s0176/images/example_of_filtered_waveform/5_rec_40to30_sv1_sv2_1350\n",
      "--- 20.58845329284668 seconds for processing 5_rec_40to30_sv1_sv2---\n",
      "PROCESSING UW DATA IN /home/michele/Desktop/Dottorato/active_source_implementation/experiments_Brava_2/s0176/data_tsv_files/6_rec_30to20_sv1_s1.bscan.tsv: \n"
     ]
    },
    {
     "name": "stderr",
     "output_type": "stream",
     "text": [
      "The PostScript backend does not support transparency; partially transparent artists will be rendered opaque.\n"
     ]
    },
    {
     "name": "stdout",
     "output_type": "stream",
     "text": [
      "Plot saved to /home/michele/Desktop/Dottorato/active_source_implementation/experiments_Brava_2/s0176/images/waveforms/6_rec_30to20_sv1_s1\n",
      "number_of_samples\n",
      "sampling_rate\n",
      "time_ax_waveform\n",
      "number_of_waveforms\n",
      "acquisition_frequency\n",
      "time_ax_acquisition\n",
      "Plot saved to /home/michele/Desktop/Dottorato/active_source_implementation/experiments_Brava_2/s0176/images/amplitude_maps/6_rec_30to20_sv1_s1\n"
     ]
    },
    {
     "name": "stderr",
     "output_type": "stream",
     "text": [
      "The PostScript backend does not support transparency; partially transparent artists will be rendered opaque.\n"
     ]
    },
    {
     "name": "stdout",
     "output_type": "stream",
     "text": [
      "Plot saved to /home/michele/Desktop/Dottorato/active_source_implementation/experiments_Brava_2/s0176/images/waveforms/6_rec_30to20_sv1_s1_filtered\n",
      "number_of_samples\n",
      "sampling_rate\n",
      "time_ax_waveform\n",
      "number_of_waveforms\n",
      "acquisition_frequency\n",
      "time_ax_acquisition\n"
     ]
    },
    {
     "name": "stderr",
     "output_type": "stream",
     "text": [
      "The PostScript backend does not support transparency; partially transparent artists will be rendered opaque.\n"
     ]
    },
    {
     "name": "stdout",
     "output_type": "stream",
     "text": [
      "Plot saved to /home/michele/Desktop/Dottorato/active_source_implementation/experiments_Brava_2/s0176/images/amplitude_maps/6_rec_30to20_sv1_s1_filtered\n"
     ]
    },
    {
     "name": "stderr",
     "output_type": "stream",
     "text": [
      "The PostScript backend does not support transparency; partially transparent artists will be rendered opaque.\n"
     ]
    },
    {
     "name": "stdout",
     "output_type": "stream",
     "text": [
      "Plot saved to /home/michele/Desktop/Dottorato/active_source_implementation/experiments_Brava_2/s0176/images/example_of_filtered_waveform/6_rec_30to20_sv1_s1_0\n"
     ]
    },
    {
     "name": "stderr",
     "output_type": "stream",
     "text": [
      "The PostScript backend does not support transparency; partially transparent artists will be rendered opaque.\n"
     ]
    },
    {
     "name": "stdout",
     "output_type": "stream",
     "text": [
      "Plot saved to /home/michele/Desktop/Dottorato/active_source_implementation/experiments_Brava_2/s0176/images/example_of_filtered_waveform/6_rec_30to20_sv1_s1_48\n"
     ]
    },
    {
     "name": "stderr",
     "output_type": "stream",
     "text": [
      "The PostScript backend does not support transparency; partially transparent artists will be rendered opaque.\n"
     ]
    },
    {
     "name": "stdout",
     "output_type": "stream",
     "text": [
      "Plot saved to /home/michele/Desktop/Dottorato/active_source_implementation/experiments_Brava_2/s0176/images/example_of_filtered_waveform/6_rec_30to20_sv1_s1_96\n"
     ]
    },
    {
     "name": "stderr",
     "output_type": "stream",
     "text": [
      "The PostScript backend does not support transparency; partially transparent artists will be rendered opaque.\n"
     ]
    },
    {
     "name": "stdout",
     "output_type": "stream",
     "text": [
      "Plot saved to /home/michele/Desktop/Dottorato/active_source_implementation/experiments_Brava_2/s0176/images/example_of_filtered_waveform/6_rec_30to20_sv1_s1_144\n"
     ]
    },
    {
     "name": "stderr",
     "output_type": "stream",
     "text": [
      "The PostScript backend does not support transparency; partially transparent artists will be rendered opaque.\n"
     ]
    },
    {
     "name": "stdout",
     "output_type": "stream",
     "text": [
      "Plot saved to /home/michele/Desktop/Dottorato/active_source_implementation/experiments_Brava_2/s0176/images/example_of_filtered_waveform/6_rec_30to20_sv1_s1_192\n"
     ]
    },
    {
     "name": "stderr",
     "output_type": "stream",
     "text": [
      "The PostScript backend does not support transparency; partially transparent artists will be rendered opaque.\n"
     ]
    },
    {
     "name": "stdout",
     "output_type": "stream",
     "text": [
      "Plot saved to /home/michele/Desktop/Dottorato/active_source_implementation/experiments_Brava_2/s0176/images/example_of_filtered_waveform/6_rec_30to20_sv1_s1_240\n"
     ]
    },
    {
     "name": "stderr",
     "output_type": "stream",
     "text": [
      "The PostScript backend does not support transparency; partially transparent artists will be rendered opaque.\n"
     ]
    },
    {
     "name": "stdout",
     "output_type": "stream",
     "text": [
      "Plot saved to /home/michele/Desktop/Dottorato/active_source_implementation/experiments_Brava_2/s0176/images/example_of_filtered_waveform/6_rec_30to20_sv1_s1_288\n"
     ]
    },
    {
     "name": "stderr",
     "output_type": "stream",
     "text": [
      "The PostScript backend does not support transparency; partially transparent artists will be rendered opaque.\n"
     ]
    },
    {
     "name": "stdout",
     "output_type": "stream",
     "text": [
      "Plot saved to /home/michele/Desktop/Dottorato/active_source_implementation/experiments_Brava_2/s0176/images/example_of_filtered_waveform/6_rec_30to20_sv1_s1_336\n"
     ]
    },
    {
     "name": "stderr",
     "output_type": "stream",
     "text": [
      "The PostScript backend does not support transparency; partially transparent artists will be rendered opaque.\n"
     ]
    },
    {
     "name": "stdout",
     "output_type": "stream",
     "text": [
      "Plot saved to /home/michele/Desktop/Dottorato/active_source_implementation/experiments_Brava_2/s0176/images/example_of_filtered_waveform/6_rec_30to20_sv1_s1_384\n"
     ]
    },
    {
     "name": "stderr",
     "output_type": "stream",
     "text": [
      "The PostScript backend does not support transparency; partially transparent artists will be rendered opaque.\n"
     ]
    },
    {
     "name": "stdout",
     "output_type": "stream",
     "text": [
      "Plot saved to /home/michele/Desktop/Dottorato/active_source_implementation/experiments_Brava_2/s0176/images/example_of_filtered_waveform/6_rec_30to20_sv1_s1_432\n",
      "Plot saved to /home/michele/Desktop/Dottorato/active_source_implementation/experiments_Brava_2/s0176/images/example_of_filtered_waveform/6_rec_30to20_sv1_s1_480\n"
     ]
    },
    {
     "name": "stderr",
     "output_type": "stream",
     "text": [
      "The PostScript backend does not support transparency; partially transparent artists will be rendered opaque.\n",
      "The PostScript backend does not support transparency; partially transparent artists will be rendered opaque.\n"
     ]
    },
    {
     "name": "stdout",
     "output_type": "stream",
     "text": [
      "Plot saved to /home/michele/Desktop/Dottorato/active_source_implementation/experiments_Brava_2/s0176/images/example_of_filtered_waveform/6_rec_30to20_sv1_s1_528\n"
     ]
    },
    {
     "name": "stderr",
     "output_type": "stream",
     "text": [
      "The PostScript backend does not support transparency; partially transparent artists will be rendered opaque.\n"
     ]
    },
    {
     "name": "stdout",
     "output_type": "stream",
     "text": [
      "Plot saved to /home/michele/Desktop/Dottorato/active_source_implementation/experiments_Brava_2/s0176/images/example_of_filtered_waveform/6_rec_30to20_sv1_s1_576\n"
     ]
    },
    {
     "name": "stderr",
     "output_type": "stream",
     "text": [
      "The PostScript backend does not support transparency; partially transparent artists will be rendered opaque.\n"
     ]
    },
    {
     "name": "stdout",
     "output_type": "stream",
     "text": [
      "Plot saved to /home/michele/Desktop/Dottorato/active_source_implementation/experiments_Brava_2/s0176/images/example_of_filtered_waveform/6_rec_30to20_sv1_s1_624\n",
      "Plot saved to /home/michele/Desktop/Dottorato/active_source_implementation/experiments_Brava_2/s0176/images/example_of_filtered_waveform/6_rec_30to20_sv1_s1_672\n"
     ]
    },
    {
     "name": "stderr",
     "output_type": "stream",
     "text": [
      "The PostScript backend does not support transparency; partially transparent artists will be rendered opaque.\n",
      "The PostScript backend does not support transparency; partially transparent artists will be rendered opaque.\n"
     ]
    },
    {
     "name": "stdout",
     "output_type": "stream",
     "text": [
      "Plot saved to /home/michele/Desktop/Dottorato/active_source_implementation/experiments_Brava_2/s0176/images/example_of_filtered_waveform/6_rec_30to20_sv1_s1_720\n",
      "Plot saved to /home/michele/Desktop/Dottorato/active_source_implementation/experiments_Brava_2/s0176/images/example_of_filtered_waveform/6_rec_30to20_sv1_s1_768\n"
     ]
    },
    {
     "name": "stderr",
     "output_type": "stream",
     "text": [
      "The PostScript backend does not support transparency; partially transparent artists will be rendered opaque.\n"
     ]
    },
    {
     "name": "stdout",
     "output_type": "stream",
     "text": [
      "Plot saved to /home/michele/Desktop/Dottorato/active_source_implementation/experiments_Brava_2/s0176/images/example_of_filtered_waveform/6_rec_30to20_sv1_s1_816\n"
     ]
    },
    {
     "name": "stderr",
     "output_type": "stream",
     "text": [
      "The PostScript backend does not support transparency; partially transparent artists will be rendered opaque.\n"
     ]
    },
    {
     "name": "stdout",
     "output_type": "stream",
     "text": [
      "Plot saved to /home/michele/Desktop/Dottorato/active_source_implementation/experiments_Brava_2/s0176/images/example_of_filtered_waveform/6_rec_30to20_sv1_s1_864\n"
     ]
    },
    {
     "name": "stderr",
     "output_type": "stream",
     "text": [
      "The PostScript backend does not support transparency; partially transparent artists will be rendered opaque.\n"
     ]
    },
    {
     "name": "stdout",
     "output_type": "stream",
     "text": [
      "Plot saved to /home/michele/Desktop/Dottorato/active_source_implementation/experiments_Brava_2/s0176/images/example_of_filtered_waveform/6_rec_30to20_sv1_s1_912\n"
     ]
    },
    {
     "name": "stderr",
     "output_type": "stream",
     "text": [
      "The PostScript backend does not support transparency; partially transparent artists will be rendered opaque.\n"
     ]
    },
    {
     "name": "stdout",
     "output_type": "stream",
     "text": [
      "Plot saved to /home/michele/Desktop/Dottorato/active_source_implementation/experiments_Brava_2/s0176/images/example_of_filtered_waveform/6_rec_30to20_sv1_s1_960\n"
     ]
    },
    {
     "name": "stderr",
     "output_type": "stream",
     "text": [
      "The PostScript backend does not support transparency; partially transparent artists will be rendered opaque.\n"
     ]
    },
    {
     "name": "stdout",
     "output_type": "stream",
     "text": [
      "Plot saved to /home/michele/Desktop/Dottorato/active_source_implementation/experiments_Brava_2/s0176/images/example_of_filtered_waveform/6_rec_30to20_sv1_s1_1008\n"
     ]
    },
    {
     "name": "stderr",
     "output_type": "stream",
     "text": [
      "The PostScript backend does not support transparency; partially transparent artists will be rendered opaque.\n"
     ]
    },
    {
     "name": "stdout",
     "output_type": "stream",
     "text": [
      "Plot saved to /home/michele/Desktop/Dottorato/active_source_implementation/experiments_Brava_2/s0176/images/example_of_filtered_waveform/6_rec_30to20_sv1_s1_1056\n"
     ]
    },
    {
     "name": "stderr",
     "output_type": "stream",
     "text": [
      "The PostScript backend does not support transparency; partially transparent artists will be rendered opaque.\n"
     ]
    },
    {
     "name": "stdout",
     "output_type": "stream",
     "text": [
      "Plot saved to /home/michele/Desktop/Dottorato/active_source_implementation/experiments_Brava_2/s0176/images/example_of_filtered_waveform/6_rec_30to20_sv1_s1_1104\n"
     ]
    },
    {
     "name": "stderr",
     "output_type": "stream",
     "text": [
      "The PostScript backend does not support transparency; partially transparent artists will be rendered opaque.\n"
     ]
    },
    {
     "name": "stdout",
     "output_type": "stream",
     "text": [
      "Plot saved to /home/michele/Desktop/Dottorato/active_source_implementation/experiments_Brava_2/s0176/images/example_of_filtered_waveform/6_rec_30to20_sv1_s1_1152\n"
     ]
    },
    {
     "name": "stderr",
     "output_type": "stream",
     "text": [
      "The PostScript backend does not support transparency; partially transparent artists will be rendered opaque.\n"
     ]
    },
    {
     "name": "stdout",
     "output_type": "stream",
     "text": [
      "Plot saved to /home/michele/Desktop/Dottorato/active_source_implementation/experiments_Brava_2/s0176/images/example_of_filtered_waveform/6_rec_30to20_sv1_s1_1200\n"
     ]
    },
    {
     "name": "stderr",
     "output_type": "stream",
     "text": [
      "The PostScript backend does not support transparency; partially transparent artists will be rendered opaque.\n"
     ]
    },
    {
     "name": "stdout",
     "output_type": "stream",
     "text": [
      "Plot saved to /home/michele/Desktop/Dottorato/active_source_implementation/experiments_Brava_2/s0176/images/example_of_filtered_waveform/6_rec_30to20_sv1_s1_1248\n"
     ]
    },
    {
     "name": "stderr",
     "output_type": "stream",
     "text": [
      "The PostScript backend does not support transparency; partially transparent artists will be rendered opaque.\n"
     ]
    },
    {
     "name": "stdout",
     "output_type": "stream",
     "text": [
      "Plot saved to /home/michele/Desktop/Dottorato/active_source_implementation/experiments_Brava_2/s0176/images/example_of_filtered_waveform/6_rec_30to20_sv1_s1_1296\n"
     ]
    },
    {
     "name": "stderr",
     "output_type": "stream",
     "text": [
      "The PostScript backend does not support transparency; partially transparent artists will be rendered opaque.\n",
      "The PostScript backend does not support transparency; partially transparent artists will be rendered opaque.\n"
     ]
    },
    {
     "name": "stdout",
     "output_type": "stream",
     "text": [
      "Plot saved to /home/michele/Desktop/Dottorato/active_source_implementation/experiments_Brava_2/s0176/images/example_of_filtered_waveform/6_rec_30to20_sv1_s1_1344\n",
      "Plot saved to /home/michele/Desktop/Dottorato/active_source_implementation/experiments_Brava_2/s0176/images/example_of_filtered_waveform/6_rec_30to20_sv1_s1_1392\n"
     ]
    },
    {
     "name": "stderr",
     "output_type": "stream",
     "text": [
      "The PostScript backend does not support transparency; partially transparent artists will be rendered opaque.\n"
     ]
    },
    {
     "name": "stdout",
     "output_type": "stream",
     "text": [
      "Plot saved to /home/michele/Desktop/Dottorato/active_source_implementation/experiments_Brava_2/s0176/images/example_of_filtered_waveform/6_rec_30to20_sv1_s1_1440\n",
      "--- 18.131842136383057 seconds for processing 6_rec_30to20_sv1_s1---\n",
      "PROCESSING UW DATA IN /home/michele/Desktop/Dottorato/active_source_implementation/experiments_Brava_2/s0176/data_tsv_files/6_rec_30to20_sv1_sh1.bscan.tsv: \n"
     ]
    },
    {
     "name": "stderr",
     "output_type": "stream",
     "text": [
      "The PostScript backend does not support transparency; partially transparent artists will be rendered opaque.\n"
     ]
    },
    {
     "name": "stdout",
     "output_type": "stream",
     "text": [
      "Plot saved to /home/michele/Desktop/Dottorato/active_source_implementation/experiments_Brava_2/s0176/images/waveforms/6_rec_30to20_sv1_sh1\n",
      "number_of_samples\n",
      "sampling_rate\n",
      "time_ax_waveform\n",
      "number_of_waveforms\n",
      "acquisition_frequency\n",
      "time_ax_acquisition\n",
      "Plot saved to /home/michele/Desktop/Dottorato/active_source_implementation/experiments_Brava_2/s0176/images/amplitude_maps/6_rec_30to20_sv1_sh1\n"
     ]
    },
    {
     "name": "stderr",
     "output_type": "stream",
     "text": [
      "The PostScript backend does not support transparency; partially transparent artists will be rendered opaque.\n"
     ]
    },
    {
     "name": "stdout",
     "output_type": "stream",
     "text": [
      "Plot saved to /home/michele/Desktop/Dottorato/active_source_implementation/experiments_Brava_2/s0176/images/waveforms/6_rec_30to20_sv1_sh1_filtered\n",
      "number_of_samples\n",
      "sampling_rate\n",
      "time_ax_waveform\n",
      "number_of_waveforms\n",
      "acquisition_frequency\n",
      "time_ax_acquisition\n"
     ]
    },
    {
     "name": "stderr",
     "output_type": "stream",
     "text": [
      "The PostScript backend does not support transparency; partially transparent artists will be rendered opaque.\n"
     ]
    },
    {
     "name": "stdout",
     "output_type": "stream",
     "text": [
      "Plot saved to /home/michele/Desktop/Dottorato/active_source_implementation/experiments_Brava_2/s0176/images/amplitude_maps/6_rec_30to20_sv1_sh1_filtered\n"
     ]
    },
    {
     "name": "stderr",
     "output_type": "stream",
     "text": [
      "The PostScript backend does not support transparency; partially transparent artists will be rendered opaque.\n"
     ]
    },
    {
     "name": "stdout",
     "output_type": "stream",
     "text": [
      "Plot saved to /home/michele/Desktop/Dottorato/active_source_implementation/experiments_Brava_2/s0176/images/example_of_filtered_waveform/6_rec_30to20_sv1_sh1_0\n"
     ]
    },
    {
     "name": "stderr",
     "output_type": "stream",
     "text": [
      "The PostScript backend does not support transparency; partially transparent artists will be rendered opaque.\n"
     ]
    },
    {
     "name": "stdout",
     "output_type": "stream",
     "text": [
      "Plot saved to /home/michele/Desktop/Dottorato/active_source_implementation/experiments_Brava_2/s0176/images/example_of_filtered_waveform/6_rec_30to20_sv1_sh1_48\n"
     ]
    },
    {
     "name": "stderr",
     "output_type": "stream",
     "text": [
      "The PostScript backend does not support transparency; partially transparent artists will be rendered opaque.\n"
     ]
    },
    {
     "name": "stdout",
     "output_type": "stream",
     "text": [
      "Plot saved to /home/michele/Desktop/Dottorato/active_source_implementation/experiments_Brava_2/s0176/images/example_of_filtered_waveform/6_rec_30to20_sv1_sh1_96\n"
     ]
    },
    {
     "name": "stderr",
     "output_type": "stream",
     "text": [
      "The PostScript backend does not support transparency; partially transparent artists will be rendered opaque.\n"
     ]
    },
    {
     "name": "stdout",
     "output_type": "stream",
     "text": [
      "Plot saved to /home/michele/Desktop/Dottorato/active_source_implementation/experiments_Brava_2/s0176/images/example_of_filtered_waveform/6_rec_30to20_sv1_sh1_144\n"
     ]
    },
    {
     "name": "stderr",
     "output_type": "stream",
     "text": [
      "The PostScript backend does not support transparency; partially transparent artists will be rendered opaque.\n"
     ]
    },
    {
     "name": "stdout",
     "output_type": "stream",
     "text": [
      "Plot saved to /home/michele/Desktop/Dottorato/active_source_implementation/experiments_Brava_2/s0176/images/example_of_filtered_waveform/6_rec_30to20_sv1_sh1_192\n"
     ]
    },
    {
     "name": "stderr",
     "output_type": "stream",
     "text": [
      "The PostScript backend does not support transparency; partially transparent artists will be rendered opaque.\n"
     ]
    },
    {
     "name": "stdout",
     "output_type": "stream",
     "text": [
      "Plot saved to /home/michele/Desktop/Dottorato/active_source_implementation/experiments_Brava_2/s0176/images/example_of_filtered_waveform/6_rec_30to20_sv1_sh1_240\n"
     ]
    },
    {
     "name": "stderr",
     "output_type": "stream",
     "text": [
      "The PostScript backend does not support transparency; partially transparent artists will be rendered opaque.\n"
     ]
    },
    {
     "name": "stdout",
     "output_type": "stream",
     "text": [
      "Plot saved to /home/michele/Desktop/Dottorato/active_source_implementation/experiments_Brava_2/s0176/images/example_of_filtered_waveform/6_rec_30to20_sv1_sh1_288\n"
     ]
    },
    {
     "name": "stderr",
     "output_type": "stream",
     "text": [
      "The PostScript backend does not support transparency; partially transparent artists will be rendered opaque.\n"
     ]
    },
    {
     "name": "stdout",
     "output_type": "stream",
     "text": [
      "Plot saved to /home/michele/Desktop/Dottorato/active_source_implementation/experiments_Brava_2/s0176/images/example_of_filtered_waveform/6_rec_30to20_sv1_sh1_336\n"
     ]
    },
    {
     "name": "stderr",
     "output_type": "stream",
     "text": [
      "The PostScript backend does not support transparency; partially transparent artists will be rendered opaque.\n"
     ]
    },
    {
     "name": "stdout",
     "output_type": "stream",
     "text": [
      "Plot saved to /home/michele/Desktop/Dottorato/active_source_implementation/experiments_Brava_2/s0176/images/example_of_filtered_waveform/6_rec_30to20_sv1_sh1_384\n"
     ]
    },
    {
     "name": "stderr",
     "output_type": "stream",
     "text": [
      "The PostScript backend does not support transparency; partially transparent artists will be rendered opaque.\n"
     ]
    },
    {
     "name": "stdout",
     "output_type": "stream",
     "text": [
      "Plot saved to /home/michele/Desktop/Dottorato/active_source_implementation/experiments_Brava_2/s0176/images/example_of_filtered_waveform/6_rec_30to20_sv1_sh1_432\n"
     ]
    },
    {
     "name": "stderr",
     "output_type": "stream",
     "text": [
      "The PostScript backend does not support transparency; partially transparent artists will be rendered opaque.\n"
     ]
    },
    {
     "name": "stdout",
     "output_type": "stream",
     "text": [
      "Plot saved to /home/michele/Desktop/Dottorato/active_source_implementation/experiments_Brava_2/s0176/images/example_of_filtered_waveform/6_rec_30to20_sv1_sh1_480\n"
     ]
    },
    {
     "name": "stderr",
     "output_type": "stream",
     "text": [
      "The PostScript backend does not support transparency; partially transparent artists will be rendered opaque.\n"
     ]
    },
    {
     "name": "stdout",
     "output_type": "stream",
     "text": [
      "Plot saved to /home/michele/Desktop/Dottorato/active_source_implementation/experiments_Brava_2/s0176/images/example_of_filtered_waveform/6_rec_30to20_sv1_sh1_528\n"
     ]
    },
    {
     "name": "stderr",
     "output_type": "stream",
     "text": [
      "The PostScript backend does not support transparency; partially transparent artists will be rendered opaque.\n"
     ]
    },
    {
     "name": "stdout",
     "output_type": "stream",
     "text": [
      "Plot saved to /home/michele/Desktop/Dottorato/active_source_implementation/experiments_Brava_2/s0176/images/example_of_filtered_waveform/6_rec_30to20_sv1_sh1_576\n"
     ]
    },
    {
     "name": "stderr",
     "output_type": "stream",
     "text": [
      "The PostScript backend does not support transparency; partially transparent artists will be rendered opaque.\n"
     ]
    },
    {
     "name": "stdout",
     "output_type": "stream",
     "text": [
      "Plot saved to /home/michele/Desktop/Dottorato/active_source_implementation/experiments_Brava_2/s0176/images/example_of_filtered_waveform/6_rec_30to20_sv1_sh1_624\n",
      "Plot saved to /home/michele/Desktop/Dottorato/active_source_implementation/experiments_Brava_2/s0176/images/example_of_filtered_waveform/6_rec_30to20_sv1_sh1_672\n"
     ]
    },
    {
     "name": "stderr",
     "output_type": "stream",
     "text": [
      "The PostScript backend does not support transparency; partially transparent artists will be rendered opaque.\n"
     ]
    },
    {
     "name": "stdout",
     "output_type": "stream",
     "text": [
      "Plot saved to /home/michele/Desktop/Dottorato/active_source_implementation/experiments_Brava_2/s0176/images/example_of_filtered_waveform/6_rec_30to20_sv1_sh1_720\n"
     ]
    },
    {
     "name": "stderr",
     "output_type": "stream",
     "text": [
      "The PostScript backend does not support transparency; partially transparent artists will be rendered opaque.\n"
     ]
    },
    {
     "name": "stdout",
     "output_type": "stream",
     "text": [
      "Plot saved to /home/michele/Desktop/Dottorato/active_source_implementation/experiments_Brava_2/s0176/images/example_of_filtered_waveform/6_rec_30to20_sv1_sh1_768\n"
     ]
    },
    {
     "name": "stderr",
     "output_type": "stream",
     "text": [
      "The PostScript backend does not support transparency; partially transparent artists will be rendered opaque.\n"
     ]
    },
    {
     "name": "stdout",
     "output_type": "stream",
     "text": [
      "Plot saved to /home/michele/Desktop/Dottorato/active_source_implementation/experiments_Brava_2/s0176/images/example_of_filtered_waveform/6_rec_30to20_sv1_sh1_816\n"
     ]
    },
    {
     "name": "stderr",
     "output_type": "stream",
     "text": [
      "The PostScript backend does not support transparency; partially transparent artists will be rendered opaque.\n",
      "The PostScript backend does not support transparency; partially transparent artists will be rendered opaque.\n"
     ]
    },
    {
     "name": "stdout",
     "output_type": "stream",
     "text": [
      "Plot saved to /home/michele/Desktop/Dottorato/active_source_implementation/experiments_Brava_2/s0176/images/example_of_filtered_waveform/6_rec_30to20_sv1_sh1_864\n"
     ]
    },
    {
     "name": "stderr",
     "output_type": "stream",
     "text": [
      "The PostScript backend does not support transparency; partially transparent artists will be rendered opaque.\n"
     ]
    },
    {
     "name": "stdout",
     "output_type": "stream",
     "text": [
      "Plot saved to /home/michele/Desktop/Dottorato/active_source_implementation/experiments_Brava_2/s0176/images/example_of_filtered_waveform/6_rec_30to20_sv1_sh1_912\n"
     ]
    },
    {
     "name": "stderr",
     "output_type": "stream",
     "text": [
      "The PostScript backend does not support transparency; partially transparent artists will be rendered opaque.\n"
     ]
    },
    {
     "name": "stdout",
     "output_type": "stream",
     "text": [
      "Plot saved to /home/michele/Desktop/Dottorato/active_source_implementation/experiments_Brava_2/s0176/images/example_of_filtered_waveform/6_rec_30to20_sv1_sh1_960\n",
      "Plot saved to /home/michele/Desktop/Dottorato/active_source_implementation/experiments_Brava_2/s0176/images/example_of_filtered_waveform/6_rec_30to20_sv1_sh1_1008\n"
     ]
    },
    {
     "name": "stderr",
     "output_type": "stream",
     "text": [
      "The PostScript backend does not support transparency; partially transparent artists will be rendered opaque.\n"
     ]
    },
    {
     "name": "stdout",
     "output_type": "stream",
     "text": [
      "Plot saved to /home/michele/Desktop/Dottorato/active_source_implementation/experiments_Brava_2/s0176/images/example_of_filtered_waveform/6_rec_30to20_sv1_sh1_1056\n"
     ]
    },
    {
     "name": "stderr",
     "output_type": "stream",
     "text": [
      "The PostScript backend does not support transparency; partially transparent artists will be rendered opaque.\n",
      "The PostScript backend does not support transparency; partially transparent artists will be rendered opaque.\n"
     ]
    },
    {
     "name": "stdout",
     "output_type": "stream",
     "text": [
      "Plot saved to /home/michele/Desktop/Dottorato/active_source_implementation/experiments_Brava_2/s0176/images/example_of_filtered_waveform/6_rec_30to20_sv1_sh1_1104\n"
     ]
    },
    {
     "name": "stderr",
     "output_type": "stream",
     "text": [
      "The PostScript backend does not support transparency; partially transparent artists will be rendered opaque.\n"
     ]
    },
    {
     "name": "stdout",
     "output_type": "stream",
     "text": [
      "Plot saved to /home/michele/Desktop/Dottorato/active_source_implementation/experiments_Brava_2/s0176/images/example_of_filtered_waveform/6_rec_30to20_sv1_sh1_1152\n",
      "Plot saved to /home/michele/Desktop/Dottorato/active_source_implementation/experiments_Brava_2/s0176/images/example_of_filtered_waveform/6_rec_30to20_sv1_sh1_1200\n"
     ]
    },
    {
     "name": "stderr",
     "output_type": "stream",
     "text": [
      "The PostScript backend does not support transparency; partially transparent artists will be rendered opaque.\n",
      "The PostScript backend does not support transparency; partially transparent artists will be rendered opaque.\n"
     ]
    },
    {
     "name": "stdout",
     "output_type": "stream",
     "text": [
      "Plot saved to /home/michele/Desktop/Dottorato/active_source_implementation/experiments_Brava_2/s0176/images/example_of_filtered_waveform/6_rec_30to20_sv1_sh1_1248\n"
     ]
    },
    {
     "name": "stderr",
     "output_type": "stream",
     "text": [
      "The PostScript backend does not support transparency; partially transparent artists will be rendered opaque.\n"
     ]
    },
    {
     "name": "stdout",
     "output_type": "stream",
     "text": [
      "Plot saved to /home/michele/Desktop/Dottorato/active_source_implementation/experiments_Brava_2/s0176/images/example_of_filtered_waveform/6_rec_30to20_sv1_sh1_1296\n"
     ]
    },
    {
     "name": "stderr",
     "output_type": "stream",
     "text": [
      "The PostScript backend does not support transparency; partially transparent artists will be rendered opaque.\n"
     ]
    },
    {
     "name": "stdout",
     "output_type": "stream",
     "text": [
      "Plot saved to /home/michele/Desktop/Dottorato/active_source_implementation/experiments_Brava_2/s0176/images/example_of_filtered_waveform/6_rec_30to20_sv1_sh1_1344\n",
      "Plot saved to /home/michele/Desktop/Dottorato/active_source_implementation/experiments_Brava_2/s0176/images/example_of_filtered_waveform/6_rec_30to20_sv1_sh1_1392\n"
     ]
    },
    {
     "name": "stderr",
     "output_type": "stream",
     "text": [
      "The PostScript backend does not support transparency; partially transparent artists will be rendered opaque.\n"
     ]
    },
    {
     "name": "stdout",
     "output_type": "stream",
     "text": [
      "Plot saved to /home/michele/Desktop/Dottorato/active_source_implementation/experiments_Brava_2/s0176/images/example_of_filtered_waveform/6_rec_30to20_sv1_sh1_1440\n",
      "--- 17.80574107170105 seconds for processing 6_rec_30to20_sv1_sh1---\n",
      "PROCESSING UW DATA IN /home/michele/Desktop/Dottorato/active_source_implementation/experiments_Brava_2/s0176/data_tsv_files/6_rec_30to20_sv1_sh2.bscan.tsv: \n",
      "PROCESSING UW DATA IN /home/michele/Desktop/Dottorato/active_source_implementation/experiments_Brava_2/s0176/data_tsv_files/6_rec_30to20_sv1_sv2.bscan.tsv: \n"
     ]
    },
    {
     "name": "stderr",
     "output_type": "stream",
     "text": [
      "The PostScript backend does not support transparency; partially transparent artists will be rendered opaque.\n"
     ]
    },
    {
     "name": "stdout",
     "output_type": "stream",
     "text": [
      "Plot saved to /home/michele/Desktop/Dottorato/active_source_implementation/experiments_Brava_2/s0176/images/waveforms/6_rec_30to20_sv1_sv2\n",
      "number_of_samples\n",
      "sampling_rate\n",
      "time_ax_waveform\n",
      "number_of_waveforms\n",
      "acquisition_frequency\n",
      "time_ax_acquisition\n",
      "Plot saved to /home/michele/Desktop/Dottorato/active_source_implementation/experiments_Brava_2/s0176/images/amplitude_maps/6_rec_30to20_sv1_sv2\n"
     ]
    },
    {
     "name": "stderr",
     "output_type": "stream",
     "text": [
      "The PostScript backend does not support transparency; partially transparent artists will be rendered opaque.\n"
     ]
    },
    {
     "name": "stdout",
     "output_type": "stream",
     "text": [
      "Plot saved to /home/michele/Desktop/Dottorato/active_source_implementation/experiments_Brava_2/s0176/images/waveforms/6_rec_30to20_sv1_sv2_filtered\n",
      "number_of_samples\n",
      "sampling_rate\n",
      "time_ax_waveform\n",
      "number_of_waveforms\n",
      "acquisition_frequency\n",
      "time_ax_acquisition\n"
     ]
    },
    {
     "name": "stderr",
     "output_type": "stream",
     "text": [
      "The PostScript backend does not support transparency; partially transparent artists will be rendered opaque.\n"
     ]
    },
    {
     "name": "stdout",
     "output_type": "stream",
     "text": [
      "Plot saved to /home/michele/Desktop/Dottorato/active_source_implementation/experiments_Brava_2/s0176/images/amplitude_maps/6_rec_30to20_sv1_sv2_filtered\n"
     ]
    },
    {
     "name": "stderr",
     "output_type": "stream",
     "text": [
      "The PostScript backend does not support transparency; partially transparent artists will be rendered opaque.\n"
     ]
    },
    {
     "name": "stdout",
     "output_type": "stream",
     "text": [
      "Plot saved to /home/michele/Desktop/Dottorato/active_source_implementation/experiments_Brava_2/s0176/images/example_of_filtered_waveform/6_rec_30to20_sv1_sv2_0\n"
     ]
    },
    {
     "name": "stderr",
     "output_type": "stream",
     "text": [
      "The PostScript backend does not support transparency; partially transparent artists will be rendered opaque.\n"
     ]
    },
    {
     "name": "stdout",
     "output_type": "stream",
     "text": [
      "Plot saved to /home/michele/Desktop/Dottorato/active_source_implementation/experiments_Brava_2/s0176/images/example_of_filtered_waveform/6_rec_30to20_sv1_sv2_48\n"
     ]
    },
    {
     "name": "stderr",
     "output_type": "stream",
     "text": [
      "The PostScript backend does not support transparency; partially transparent artists will be rendered opaque.\n"
     ]
    },
    {
     "name": "stdout",
     "output_type": "stream",
     "text": [
      "Plot saved to /home/michele/Desktop/Dottorato/active_source_implementation/experiments_Brava_2/s0176/images/example_of_filtered_waveform/6_rec_30to20_sv1_sv2_96\n"
     ]
    },
    {
     "name": "stderr",
     "output_type": "stream",
     "text": [
      "The PostScript backend does not support transparency; partially transparent artists will be rendered opaque.\n"
     ]
    },
    {
     "name": "stdout",
     "output_type": "stream",
     "text": [
      "Plot saved to /home/michele/Desktop/Dottorato/active_source_implementation/experiments_Brava_2/s0176/images/example_of_filtered_waveform/6_rec_30to20_sv1_sv2_144\n"
     ]
    },
    {
     "name": "stderr",
     "output_type": "stream",
     "text": [
      "The PostScript backend does not support transparency; partially transparent artists will be rendered opaque.\n"
     ]
    },
    {
     "name": "stdout",
     "output_type": "stream",
     "text": [
      "Plot saved to /home/michele/Desktop/Dottorato/active_source_implementation/experiments_Brava_2/s0176/images/example_of_filtered_waveform/6_rec_30to20_sv1_sv2_192\n"
     ]
    },
    {
     "name": "stderr",
     "output_type": "stream",
     "text": [
      "The PostScript backend does not support transparency; partially transparent artists will be rendered opaque.\n"
     ]
    },
    {
     "name": "stdout",
     "output_type": "stream",
     "text": [
      "Plot saved to /home/michele/Desktop/Dottorato/active_source_implementation/experiments_Brava_2/s0176/images/example_of_filtered_waveform/6_rec_30to20_sv1_sv2_240\n"
     ]
    },
    {
     "name": "stderr",
     "output_type": "stream",
     "text": [
      "The PostScript backend does not support transparency; partially transparent artists will be rendered opaque.\n"
     ]
    },
    {
     "name": "stdout",
     "output_type": "stream",
     "text": [
      "Plot saved to /home/michele/Desktop/Dottorato/active_source_implementation/experiments_Brava_2/s0176/images/example_of_filtered_waveform/6_rec_30to20_sv1_sv2_288\n"
     ]
    },
    {
     "name": "stderr",
     "output_type": "stream",
     "text": [
      "The PostScript backend does not support transparency; partially transparent artists will be rendered opaque.\n"
     ]
    },
    {
     "name": "stdout",
     "output_type": "stream",
     "text": [
      "Plot saved to /home/michele/Desktop/Dottorato/active_source_implementation/experiments_Brava_2/s0176/images/example_of_filtered_waveform/6_rec_30to20_sv1_sv2_336\n"
     ]
    },
    {
     "name": "stderr",
     "output_type": "stream",
     "text": [
      "The PostScript backend does not support transparency; partially transparent artists will be rendered opaque.\n"
     ]
    },
    {
     "name": "stdout",
     "output_type": "stream",
     "text": [
      "Plot saved to /home/michele/Desktop/Dottorato/active_source_implementation/experiments_Brava_2/s0176/images/example_of_filtered_waveform/6_rec_30to20_sv1_sv2_384\n"
     ]
    },
    {
     "name": "stderr",
     "output_type": "stream",
     "text": [
      "The PostScript backend does not support transparency; partially transparent artists will be rendered opaque.\n"
     ]
    },
    {
     "name": "stdout",
     "output_type": "stream",
     "text": [
      "Plot saved to /home/michele/Desktop/Dottorato/active_source_implementation/experiments_Brava_2/s0176/images/example_of_filtered_waveform/6_rec_30to20_sv1_sv2_432\n",
      "Plot saved to /home/michele/Desktop/Dottorato/active_source_implementation/experiments_Brava_2/s0176/images/example_of_filtered_waveform/6_rec_30to20_sv1_sv2_480\n"
     ]
    },
    {
     "name": "stderr",
     "output_type": "stream",
     "text": [
      "The PostScript backend does not support transparency; partially transparent artists will be rendered opaque.\n",
      "The PostScript backend does not support transparency; partially transparent artists will be rendered opaque.\n"
     ]
    },
    {
     "name": "stdout",
     "output_type": "stream",
     "text": [
      "Plot saved to /home/michele/Desktop/Dottorato/active_source_implementation/experiments_Brava_2/s0176/images/example_of_filtered_waveform/6_rec_30to20_sv1_sv2_528\n"
     ]
    },
    {
     "name": "stderr",
     "output_type": "stream",
     "text": [
      "The PostScript backend does not support transparency; partially transparent artists will be rendered opaque.\n"
     ]
    },
    {
     "name": "stdout",
     "output_type": "stream",
     "text": [
      "Plot saved to /home/michele/Desktop/Dottorato/active_source_implementation/experiments_Brava_2/s0176/images/example_of_filtered_waveform/6_rec_30to20_sv1_sv2_576\n",
      "Plot saved to /home/michele/Desktop/Dottorato/active_source_implementation/experiments_Brava_2/s0176/images/example_of_filtered_waveform/6_rec_30to20_sv1_sv2_624\n"
     ]
    },
    {
     "name": "stderr",
     "output_type": "stream",
     "text": [
      "The PostScript backend does not support transparency; partially transparent artists will be rendered opaque.\n",
      "The PostScript backend does not support transparency; partially transparent artists will be rendered opaque.\n"
     ]
    },
    {
     "name": "stdout",
     "output_type": "stream",
     "text": [
      "Plot saved to /home/michele/Desktop/Dottorato/active_source_implementation/experiments_Brava_2/s0176/images/example_of_filtered_waveform/6_rec_30to20_sv1_sv2_672\n"
     ]
    },
    {
     "name": "stderr",
     "output_type": "stream",
     "text": [
      "The PostScript backend does not support transparency; partially transparent artists will be rendered opaque.\n"
     ]
    },
    {
     "name": "stdout",
     "output_type": "stream",
     "text": [
      "Plot saved to /home/michele/Desktop/Dottorato/active_source_implementation/experiments_Brava_2/s0176/images/example_of_filtered_waveform/6_rec_30to20_sv1_sv2_720\n",
      "Plot saved to /home/michele/Desktop/Dottorato/active_source_implementation/experiments_Brava_2/s0176/images/example_of_filtered_waveform/6_rec_30to20_sv1_sv2_768\n"
     ]
    },
    {
     "name": "stderr",
     "output_type": "stream",
     "text": [
      "The PostScript backend does not support transparency; partially transparent artists will be rendered opaque.\n"
     ]
    },
    {
     "name": "stdout",
     "output_type": "stream",
     "text": [
      "Plot saved to /home/michele/Desktop/Dottorato/active_source_implementation/experiments_Brava_2/s0176/images/example_of_filtered_waveform/6_rec_30to20_sv1_sv2_816\n"
     ]
    },
    {
     "name": "stderr",
     "output_type": "stream",
     "text": [
      "The PostScript backend does not support transparency; partially transparent artists will be rendered opaque.\n"
     ]
    },
    {
     "name": "stdout",
     "output_type": "stream",
     "text": [
      "Plot saved to /home/michele/Desktop/Dottorato/active_source_implementation/experiments_Brava_2/s0176/images/example_of_filtered_waveform/6_rec_30to20_sv1_sv2_864\n"
     ]
    },
    {
     "name": "stderr",
     "output_type": "stream",
     "text": [
      "The PostScript backend does not support transparency; partially transparent artists will be rendered opaque.\n",
      "The PostScript backend does not support transparency; partially transparent artists will be rendered opaque.\n"
     ]
    },
    {
     "name": "stdout",
     "output_type": "stream",
     "text": [
      "Plot saved to /home/michele/Desktop/Dottorato/active_source_implementation/experiments_Brava_2/s0176/images/example_of_filtered_waveform/6_rec_30to20_sv1_sv2_912\n",
      "Plot saved to /home/michele/Desktop/Dottorato/active_source_implementation/experiments_Brava_2/s0176/images/example_of_filtered_waveform/6_rec_30to20_sv1_sv2_960\n"
     ]
    },
    {
     "name": "stderr",
     "output_type": "stream",
     "text": [
      "The PostScript backend does not support transparency; partially transparent artists will be rendered opaque.\n"
     ]
    },
    {
     "name": "stdout",
     "output_type": "stream",
     "text": [
      "Plot saved to /home/michele/Desktop/Dottorato/active_source_implementation/experiments_Brava_2/s0176/images/example_of_filtered_waveform/6_rec_30to20_sv1_sv2_1008\n"
     ]
    },
    {
     "name": "stderr",
     "output_type": "stream",
     "text": [
      "The PostScript backend does not support transparency; partially transparent artists will be rendered opaque.\n"
     ]
    },
    {
     "name": "stdout",
     "output_type": "stream",
     "text": [
      "Plot saved to /home/michele/Desktop/Dottorato/active_source_implementation/experiments_Brava_2/s0176/images/example_of_filtered_waveform/6_rec_30to20_sv1_sv2_1056\n"
     ]
    },
    {
     "name": "stderr",
     "output_type": "stream",
     "text": [
      "The PostScript backend does not support transparency; partially transparent artists will be rendered opaque.\n",
      "The PostScript backend does not support transparency; partially transparent artists will be rendered opaque.\n"
     ]
    },
    {
     "name": "stdout",
     "output_type": "stream",
     "text": [
      "Plot saved to /home/michele/Desktop/Dottorato/active_source_implementation/experiments_Brava_2/s0176/images/example_of_filtered_waveform/6_rec_30to20_sv1_sv2_1104\n",
      "Plot saved to /home/michele/Desktop/Dottorato/active_source_implementation/experiments_Brava_2/s0176/images/example_of_filtered_waveform/6_rec_30to20_sv1_sv2_1152\n"
     ]
    },
    {
     "name": "stderr",
     "output_type": "stream",
     "text": [
      "The PostScript backend does not support transparency; partially transparent artists will be rendered opaque.\n"
     ]
    },
    {
     "name": "stdout",
     "output_type": "stream",
     "text": [
      "Plot saved to /home/michele/Desktop/Dottorato/active_source_implementation/experiments_Brava_2/s0176/images/example_of_filtered_waveform/6_rec_30to20_sv1_sv2_1200\n"
     ]
    },
    {
     "name": "stderr",
     "output_type": "stream",
     "text": [
      "The PostScript backend does not support transparency; partially transparent artists will be rendered opaque.\n"
     ]
    },
    {
     "name": "stdout",
     "output_type": "stream",
     "text": [
      "Plot saved to /home/michele/Desktop/Dottorato/active_source_implementation/experiments_Brava_2/s0176/images/example_of_filtered_waveform/6_rec_30to20_sv1_sv2_1248\n"
     ]
    },
    {
     "name": "stderr",
     "output_type": "stream",
     "text": [
      "The PostScript backend does not support transparency; partially transparent artists will be rendered opaque.\n"
     ]
    },
    {
     "name": "stdout",
     "output_type": "stream",
     "text": [
      "Plot saved to /home/michele/Desktop/Dottorato/active_source_implementation/experiments_Brava_2/s0176/images/example_of_filtered_waveform/6_rec_30to20_sv1_sv2_1296\n"
     ]
    },
    {
     "name": "stderr",
     "output_type": "stream",
     "text": [
      "The PostScript backend does not support transparency; partially transparent artists will be rendered opaque.\n"
     ]
    },
    {
     "name": "stdout",
     "output_type": "stream",
     "text": [
      "Plot saved to /home/michele/Desktop/Dottorato/active_source_implementation/experiments_Brava_2/s0176/images/example_of_filtered_waveform/6_rec_30to20_sv1_sv2_1344\n"
     ]
    },
    {
     "name": "stderr",
     "output_type": "stream",
     "text": [
      "The PostScript backend does not support transparency; partially transparent artists will be rendered opaque.\n"
     ]
    },
    {
     "name": "stdout",
     "output_type": "stream",
     "text": [
      "Plot saved to /home/michele/Desktop/Dottorato/active_source_implementation/experiments_Brava_2/s0176/images/example_of_filtered_waveform/6_rec_30to20_sv1_sv2_1392\n"
     ]
    },
    {
     "name": "stderr",
     "output_type": "stream",
     "text": [
      "The PostScript backend does not support transparency; partially transparent artists will be rendered opaque.\n"
     ]
    },
    {
     "name": "stdout",
     "output_type": "stream",
     "text": [
      "Plot saved to /home/michele/Desktop/Dottorato/active_source_implementation/experiments_Brava_2/s0176/images/example_of_filtered_waveform/6_rec_30to20_sv1_sv2_1440\n",
      "--- 18.018490076065063 seconds for processing 6_rec_30to20_sv1_sv2---\n"
     ]
    }
   ],
   "source": [
    "###### INPUT #######\n",
    "\n",
    "machine_name = \"Brava_2\"\n",
    "experiment_name = \"s0176\"\n",
    "data_type = \"data_tsv_files\"\n",
    "\n",
    "### Some plot features ###\n",
    "image_types = (\"waveforms\",\"amplitude_maps\",\"amplitude_spectrum_maps\", \"example_of_filtered_spectrum\",\"example_of_filtered_waveform\")\n",
    "remove_initial_samples = 175    # number of samples to be removed at the beginning, to get rid of the noise burst.\n",
    "highlight_start = 0\n",
    "highlight_end = 0\n",
    "xlim_plot= 50\n",
    "ticks_steps_waveforms = 2 #[microseconds] plot ticks \n",
    "step_wf_to_plot = 100  # get one waveforms each step_wf_to_plot \n",
    "amp_scale = 300  #color map for amplitude scale\n",
    "freq_cut = 5   # [Hz] lowpass frequency threshold \n",
    "\n",
    "\n",
    "infile_path_list = make_infile_path_list(machine_name,experiment_name,  data_type = data_type)\n",
    "outdir_path_images = make_images_folders(machine_name, experiment_name, image_types)       \n",
    "\n",
    "for infile_path in sorted(infile_path_list):\n",
    "    try: \n",
    "        print('PROCESSING UW DATA IN %s: ' %infile_path)\n",
    "\n",
    "        data,metadata = make_UW_data(infile_path)\n",
    "        data,metadata = remove_starting_noise(data, metadata, remove_initial_samples)\n",
    "\n",
    "        #CHOOSE THE FILE PATH OF THE OUTPUT. Add here a line for each type of images you want and call the relative plot function with the choosen path\n",
    "        outfile_name = os.path.basename(infile_path).split('.')[0]    # remove extension\n",
    "\n",
    "        outfile_path_waveforms = os.path.join(outdir_path_images[0], outfile_name)\n",
    "        outfile_path_amp_map = os.path.join(outdir_path_images[1], outfile_name)\n",
    "        outfile_path_spectrum_map = os.path.join(outdir_path_images[2], outfile_name)\n",
    "        outfile_path_example_filtered_spectrum = os.path.join(outdir_path_images[3], outfile_name)\n",
    "        outfile_path_example_original_vs_filtered = os.path.join(outdir_path_images[4], outfile_name)\n",
    "\n",
    "\n",
    "        ## PLOT DATA ###\n",
    "        start_time = tm.time()\n",
    "        uw_all_plot(data, metadata, step_wf_to_plot, highlight_start, highlight_end, \n",
    "                    xlim_plot, ticks_steps_waveforms, outfile_path = outfile_path_waveforms)\n",
    "        amplitude_map(data,metadata, amp_scale, outfile_path=outfile_path_amp_map)\n",
    "\n",
    "        # FILTER WITH A LOWPASS AND PLOT THE AMPLITUDE MAP OF THE SPECTRUM\n",
    "        filtered_data, noise_recostructed = signal2noise_separation_lowpass(data, metadata, freq_cut=freq_cut, outfile_path= outfile_path_spectrum_map)\n",
    "\n",
    "        # PLOT THE FILTERED DATA IN THE SAME FOLDERS OF THE ORIGINAL DATA\n",
    "        uw_all_plot(filtered_data, metadata, step_wf_to_plot, highlight_start, highlight_end, \n",
    "                    xlim_plot, ticks_steps_waveforms, outfile_path = outfile_path_waveforms + \"_filtered\")\n",
    "        amplitude_map(filtered_data,metadata, amp_scale,outfile_path = outfile_path_amp_map + \"_filtered\")\n",
    "\n",
    "        # wave_chosed = randint(0,metadata['number_of_waveforms']-1)  # \"-1\" is there to avoid possible extraction of last sample that is \"out of bound\" cause python count from 0 \n",
    "        wave_chosed_list = range(0,metadata['number_of_waveforms'],int(metadata['number_of_waveforms']/30))\n",
    "        for wave_chosed in wave_chosed_list:\n",
    "            single_waveform = data[wave_chosed,:]\n",
    "            filtered_single_waveform, filtered_noise_recostructed = signal2noise_separation_lowpass(single_waveform, metadata, freq_cut=freq_cut, outfile_path=outfile_path_example_filtered_spectrum)\n",
    "            signal_vs_filtered_signal_plot(single_waveform, filtered_single_waveform, metadata, freq_cut=freq_cut, outfile_path = outfile_path_example_original_vs_filtered + f\"_{wave_chosed}\")\n",
    "\n",
    "\n",
    "        print(\"--- %s seconds for processing %s---\" % (tm.time() - start_time, outfile_name))\n",
    "\n",
    "    except:\n",
    "        pass\n",
    "        "
   ]
  },
  {
   "cell_type": "code",
   "execution_count": null,
   "metadata": {},
   "outputs": [],
   "source": []
  }
 ],
 "metadata": {
  "kernelspec": {
   "display_name": "friction",
   "language": "python",
   "name": "python3"
  },
  "language_info": {
   "codemirror_mode": {
    "name": "ipython",
    "version": 3
   },
   "file_extension": ".py",
   "mimetype": "text/x-python",
   "name": "python",
   "nbconvert_exporter": "python",
   "pygments_lexer": "ipython3",
   "version": "3.10.12"
  }
 },
 "nbformat": 4,
 "nbformat_minor": 2
}
