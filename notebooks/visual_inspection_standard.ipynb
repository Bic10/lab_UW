{
 "cells": [
  {
   "cell_type": "code",
   "execution_count": 1,
   "metadata": {},
   "outputs": [],
   "source": [
    "from random import randint\n",
    "import os\n",
    "import time as tm\n",
    "import multiprocessing as mp   \n",
    "\n",
    "import sys\n",
    "sys.path.insert(0, os.path.abspath('../src'))\n",
    "\n",
    "from file_io import *\n",
    "from plotting import *\n",
    "from helpers import *\n",
    "from synthetic_data import *\n",
    "from signal_processing import *\n",
    "from LAB_UW_forward_modeling import *"
   ]
  },
  {
   "cell_type": "code",
   "execution_count": null,
   "metadata": {},
   "outputs": [
    {
     "name": "stdout",
     "output_type": "stream",
     "text": [
      "PROCESSING UW DATA IN /home/michele/Desktop/Dottorato/active_source_implementation/experiments_Brava_2/s0176/data_tsv_files/0_compaction_sv1_sh1.bscan.tsv: \n"
     ]
    },
    {
     "name": "stderr",
     "output_type": "stream",
     "text": [
      "The PostScript backend does not support transparency; partially transparent artists will be rendered opaque.\n"
     ]
    },
    {
     "name": "stdout",
     "output_type": "stream",
     "text": [
      "Plot saved to /home/michele/Desktop/Dottorato/active_source_implementation/experiments_Brava_2/s0176/images/waveforms/0_compaction_sv1_sh1.eps\n",
      "Plot saved to /home/michele/Desktop/Dottorato/active_source_implementation/experiments_Brava_2/s0176/images/amplitude_maps/0_compaction_sv1_sh1.eps\n"
     ]
    },
    {
     "name": "stderr",
     "output_type": "stream",
     "text": [
      "The PostScript backend does not support transparency; partially transparent artists will be rendered opaque.\n"
     ]
    },
    {
     "name": "stdout",
     "output_type": "stream",
     "text": [
      "Plot saved to /home/michele/Desktop/Dottorato/active_source_implementation/experiments_Brava_2/s0176/images/waveforms/0_compaction_sv1_sh1_filtered.eps\n",
      "Plot saved to /home/michele/Desktop/Dottorato/active_source_implementation/experiments_Brava_2/s0176/images/amplitude_maps/0_compaction_sv1_sh1_filtered.eps\n"
     ]
    },
    {
     "name": "stderr",
     "output_type": "stream",
     "text": [
      "The PostScript backend does not support transparency; partially transparent artists will be rendered opaque.\n",
      "The PostScript backend does not support transparency; partially transparent artists will be rendered opaque.\n"
     ]
    },
    {
     "name": "stdout",
     "output_type": "stream",
     "text": [
      "Plot saved to /home/michele/Desktop/Dottorato/active_source_implementation/experiments_Brava_2/s0176/images/example_of_filtered_waveform/0_compaction_sv1_sh1_0.eps\n",
      "Plot saved to /home/michele/Desktop/Dottorato/active_source_implementation/experiments_Brava_2/s0176/images/example_of_filtered_waveform/0_compaction_sv1_sh1_98.eps\n"
     ]
    },
    {
     "name": "stderr",
     "output_type": "stream",
     "text": [
      "The PostScript backend does not support transparency; partially transparent artists will be rendered opaque.\n",
      "The PostScript backend does not support transparency; partially transparent artists will be rendered opaque.\n"
     ]
    },
    {
     "name": "stdout",
     "output_type": "stream",
     "text": [
      "Plot saved to /home/michele/Desktop/Dottorato/active_source_implementation/experiments_Brava_2/s0176/images/example_of_filtered_waveform/0_compaction_sv1_sh1_196.eps\n",
      "Plot saved to /home/michele/Desktop/Dottorato/active_source_implementation/experiments_Brava_2/s0176/images/example_of_filtered_waveform/0_compaction_sv1_sh1_294.eps\n"
     ]
    },
    {
     "name": "stderr",
     "output_type": "stream",
     "text": [
      "The PostScript backend does not support transparency; partially transparent artists will be rendered opaque.\n",
      "The PostScript backend does not support transparency; partially transparent artists will be rendered opaque.\n"
     ]
    },
    {
     "name": "stdout",
     "output_type": "stream",
     "text": [
      "Plot saved to /home/michele/Desktop/Dottorato/active_source_implementation/experiments_Brava_2/s0176/images/example_of_filtered_waveform/0_compaction_sv1_sh1_392.eps\n"
     ]
    },
    {
     "name": "stderr",
     "output_type": "stream",
     "text": [
      "The PostScript backend does not support transparency; partially transparent artists will be rendered opaque.\n"
     ]
    },
    {
     "name": "stdout",
     "output_type": "stream",
     "text": [
      "Plot saved to /home/michele/Desktop/Dottorato/active_source_implementation/experiments_Brava_2/s0176/images/example_of_filtered_waveform/0_compaction_sv1_sh1_490.eps\n"
     ]
    },
    {
     "name": "stderr",
     "output_type": "stream",
     "text": [
      "The PostScript backend does not support transparency; partially transparent artists will be rendered opaque.\n"
     ]
    },
    {
     "name": "stdout",
     "output_type": "stream",
     "text": [
      "Plot saved to /home/michele/Desktop/Dottorato/active_source_implementation/experiments_Brava_2/s0176/images/example_of_filtered_waveform/0_compaction_sv1_sh1_588.eps\n",
      "Plot saved to /home/michele/Desktop/Dottorato/active_source_implementation/experiments_Brava_2/s0176/images/example_of_filtered_waveform/0_compaction_sv1_sh1_686.eps\n"
     ]
    },
    {
     "name": "stderr",
     "output_type": "stream",
     "text": [
      "The PostScript backend does not support transparency; partially transparent artists will be rendered opaque.\n",
      "The PostScript backend does not support transparency; partially transparent artists will be rendered opaque.\n"
     ]
    },
    {
     "name": "stdout",
     "output_type": "stream",
     "text": [
      "Plot saved to /home/michele/Desktop/Dottorato/active_source_implementation/experiments_Brava_2/s0176/images/example_of_filtered_waveform/0_compaction_sv1_sh1_784.eps\n",
      "Plot saved to /home/michele/Desktop/Dottorato/active_source_implementation/experiments_Brava_2/s0176/images/example_of_filtered_waveform/0_compaction_sv1_sh1_882.eps\n"
     ]
    },
    {
     "name": "stderr",
     "output_type": "stream",
     "text": [
      "The PostScript backend does not support transparency; partially transparent artists will be rendered opaque.\n",
      "The PostScript backend does not support transparency; partially transparent artists will be rendered opaque.\n"
     ]
    },
    {
     "name": "stdout",
     "output_type": "stream",
     "text": [
      "Plot saved to /home/michele/Desktop/Dottorato/active_source_implementation/experiments_Brava_2/s0176/images/example_of_filtered_waveform/0_compaction_sv1_sh1_980.eps\n",
      "Plot saved to /home/michele/Desktop/Dottorato/active_source_implementation/experiments_Brava_2/s0176/images/example_of_filtered_waveform/0_compaction_sv1_sh1_1078.eps\n"
     ]
    },
    {
     "name": "stderr",
     "output_type": "stream",
     "text": [
      "The PostScript backend does not support transparency; partially transparent artists will be rendered opaque.\n",
      "The PostScript backend does not support transparency; partially transparent artists will be rendered opaque.\n"
     ]
    },
    {
     "name": "stdout",
     "output_type": "stream",
     "text": [
      "Plot saved to /home/michele/Desktop/Dottorato/active_source_implementation/experiments_Brava_2/s0176/images/example_of_filtered_waveform/0_compaction_sv1_sh1_1176.eps\n"
     ]
    },
    {
     "name": "stderr",
     "output_type": "stream",
     "text": [
      "The PostScript backend does not support transparency; partially transparent artists will be rendered opaque.\n"
     ]
    },
    {
     "name": "stdout",
     "output_type": "stream",
     "text": [
      "Plot saved to /home/michele/Desktop/Dottorato/active_source_implementation/experiments_Brava_2/s0176/images/example_of_filtered_waveform/0_compaction_sv1_sh1_1274.eps\n",
      "Plot saved to /home/michele/Desktop/Dottorato/active_source_implementation/experiments_Brava_2/s0176/images/example_of_filtered_waveform/0_compaction_sv1_sh1_1372.eps\n"
     ]
    },
    {
     "name": "stderr",
     "output_type": "stream",
     "text": [
      "The PostScript backend does not support transparency; partially transparent artists will be rendered opaque.\n"
     ]
    },
    {
     "name": "stdout",
     "output_type": "stream",
     "text": [
      "Plot saved to /home/michele/Desktop/Dottorato/active_source_implementation/experiments_Brava_2/s0176/images/example_of_filtered_waveform/0_compaction_sv1_sh1_1470.eps\n"
     ]
    },
    {
     "name": "stderr",
     "output_type": "stream",
     "text": [
      "The PostScript backend does not support transparency; partially transparent artists will be rendered opaque.\n"
     ]
    },
    {
     "name": "stdout",
     "output_type": "stream",
     "text": [
      "Plot saved to /home/michele/Desktop/Dottorato/active_source_implementation/experiments_Brava_2/s0176/images/example_of_filtered_waveform/0_compaction_sv1_sh1_1568.eps\n"
     ]
    },
    {
     "name": "stderr",
     "output_type": "stream",
     "text": [
      "The PostScript backend does not support transparency; partially transparent artists will be rendered opaque.\n"
     ]
    },
    {
     "name": "stdout",
     "output_type": "stream",
     "text": [
      "Plot saved to /home/michele/Desktop/Dottorato/active_source_implementation/experiments_Brava_2/s0176/images/example_of_filtered_waveform/0_compaction_sv1_sh1_1666.eps\n"
     ]
    },
    {
     "name": "stderr",
     "output_type": "stream",
     "text": [
      "The PostScript backend does not support transparency; partially transparent artists will be rendered opaque.\n"
     ]
    },
    {
     "name": "stdout",
     "output_type": "stream",
     "text": [
      "Plot saved to /home/michele/Desktop/Dottorato/active_source_implementation/experiments_Brava_2/s0176/images/example_of_filtered_waveform/0_compaction_sv1_sh1_1764.eps\n"
     ]
    },
    {
     "name": "stderr",
     "output_type": "stream",
     "text": [
      "The PostScript backend does not support transparency; partially transparent artists will be rendered opaque.\n"
     ]
    },
    {
     "name": "stdout",
     "output_type": "stream",
     "text": [
      "Plot saved to /home/michele/Desktop/Dottorato/active_source_implementation/experiments_Brava_2/s0176/images/example_of_filtered_waveform/0_compaction_sv1_sh1_1862.eps\n"
     ]
    },
    {
     "name": "stderr",
     "output_type": "stream",
     "text": [
      "The PostScript backend does not support transparency; partially transparent artists will be rendered opaque.\n"
     ]
    },
    {
     "name": "stdout",
     "output_type": "stream",
     "text": [
      "Plot saved to /home/michele/Desktop/Dottorato/active_source_implementation/experiments_Brava_2/s0176/images/example_of_filtered_waveform/0_compaction_sv1_sh1_1960.eps\n"
     ]
    },
    {
     "name": "stderr",
     "output_type": "stream",
     "text": [
      "The PostScript backend does not support transparency; partially transparent artists will be rendered opaque.\n"
     ]
    },
    {
     "name": "stdout",
     "output_type": "stream",
     "text": [
      "Plot saved to /home/michele/Desktop/Dottorato/active_source_implementation/experiments_Brava_2/s0176/images/example_of_filtered_waveform/0_compaction_sv1_sh1_2058.eps\n"
     ]
    },
    {
     "name": "stderr",
     "output_type": "stream",
     "text": [
      "The PostScript backend does not support transparency; partially transparent artists will be rendered opaque.\n"
     ]
    },
    {
     "name": "stdout",
     "output_type": "stream",
     "text": [
      "Plot saved to /home/michele/Desktop/Dottorato/active_source_implementation/experiments_Brava_2/s0176/images/example_of_filtered_waveform/0_compaction_sv1_sh1_2156.eps\n"
     ]
    },
    {
     "name": "stderr",
     "output_type": "stream",
     "text": [
      "The PostScript backend does not support transparency; partially transparent artists will be rendered opaque.\n"
     ]
    },
    {
     "name": "stdout",
     "output_type": "stream",
     "text": [
      "Plot saved to /home/michele/Desktop/Dottorato/active_source_implementation/experiments_Brava_2/s0176/images/example_of_filtered_waveform/0_compaction_sv1_sh1_2254.eps\n"
     ]
    },
    {
     "name": "stderr",
     "output_type": "stream",
     "text": [
      "The PostScript backend does not support transparency; partially transparent artists will be rendered opaque.\n"
     ]
    },
    {
     "name": "stdout",
     "output_type": "stream",
     "text": [
      "Plot saved to /home/michele/Desktop/Dottorato/active_source_implementation/experiments_Brava_2/s0176/images/example_of_filtered_waveform/0_compaction_sv1_sh1_2352.eps\n"
     ]
    },
    {
     "name": "stderr",
     "output_type": "stream",
     "text": [
      "The PostScript backend does not support transparency; partially transparent artists will be rendered opaque.\n"
     ]
    },
    {
     "name": "stdout",
     "output_type": "stream",
     "text": [
      "Plot saved to /home/michele/Desktop/Dottorato/active_source_implementation/experiments_Brava_2/s0176/images/example_of_filtered_waveform/0_compaction_sv1_sh1_2450.eps\n"
     ]
    },
    {
     "name": "stderr",
     "output_type": "stream",
     "text": [
      "The PostScript backend does not support transparency; partially transparent artists will be rendered opaque.\n"
     ]
    },
    {
     "name": "stdout",
     "output_type": "stream",
     "text": [
      "Plot saved to /home/michele/Desktop/Dottorato/active_source_implementation/experiments_Brava_2/s0176/images/example_of_filtered_waveform/0_compaction_sv1_sh1_2548.eps\n"
     ]
    },
    {
     "name": "stderr",
     "output_type": "stream",
     "text": [
      "The PostScript backend does not support transparency; partially transparent artists will be rendered opaque.\n"
     ]
    },
    {
     "name": "stdout",
     "output_type": "stream",
     "text": [
      "Plot saved to /home/michele/Desktop/Dottorato/active_source_implementation/experiments_Brava_2/s0176/images/example_of_filtered_waveform/0_compaction_sv1_sh1_2646.eps\n"
     ]
    },
    {
     "name": "stderr",
     "output_type": "stream",
     "text": [
      "The PostScript backend does not support transparency; partially transparent artists will be rendered opaque.\n",
      "The PostScript backend does not support transparency; partially transparent artists will be rendered opaque.\n"
     ]
    },
    {
     "name": "stdout",
     "output_type": "stream",
     "text": [
      "Plot saved to /home/michele/Desktop/Dottorato/active_source_implementation/experiments_Brava_2/s0176/images/example_of_filtered_waveform/0_compaction_sv1_sh1_2744.eps\n"
     ]
    },
    {
     "name": "stderr",
     "output_type": "stream",
     "text": [
      "The PostScript backend does not support transparency; partially transparent artists will be rendered opaque.\n"
     ]
    },
    {
     "name": "stdout",
     "output_type": "stream",
     "text": [
      "Plot saved to /home/michele/Desktop/Dottorato/active_source_implementation/experiments_Brava_2/s0176/images/example_of_filtered_waveform/0_compaction_sv1_sh1_2842.eps\n",
      "Plot saved to /home/michele/Desktop/Dottorato/active_source_implementation/experiments_Brava_2/s0176/images/example_of_filtered_waveform/0_compaction_sv1_sh1_2940.eps\n",
      "--- 13.826537370681763 seconds for processing 0_compaction_sv1_sh1---\n",
      "PROCESSING UW DATA IN /home/michele/Desktop/Dottorato/active_source_implementation/experiments_Brava_2/s0176/data_tsv_files/0_compaction_sv1_sh2.bscan.tsv: \n",
      "PROCESSING UW DATA IN /home/michele/Desktop/Dottorato/active_source_implementation/experiments_Brava_2/s0176/data_tsv_files/0_compaction_sv1_sv1.bscan.tsv: \n"
     ]
    },
    {
     "name": "stderr",
     "output_type": "stream",
     "text": [
      "The PostScript backend does not support transparency; partially transparent artists will be rendered opaque.\n"
     ]
    },
    {
     "name": "stdout",
     "output_type": "stream",
     "text": [
      "Plot saved to /home/michele/Desktop/Dottorato/active_source_implementation/experiments_Brava_2/s0176/images/waveforms/0_compaction_sv1_sv1.eps\n",
      "Plot saved to /home/michele/Desktop/Dottorato/active_source_implementation/experiments_Brava_2/s0176/images/amplitude_maps/0_compaction_sv1_sv1.eps\n"
     ]
    },
    {
     "name": "stderr",
     "output_type": "stream",
     "text": [
      "The PostScript backend does not support transparency; partially transparent artists will be rendered opaque.\n"
     ]
    },
    {
     "name": "stdout",
     "output_type": "stream",
     "text": [
      "Plot saved to /home/michele/Desktop/Dottorato/active_source_implementation/experiments_Brava_2/s0176/images/waveforms/0_compaction_sv1_sv1_filtered.eps\n"
     ]
    },
    {
     "name": "stderr",
     "output_type": "stream",
     "text": [
      "The PostScript backend does not support transparency; partially transparent artists will be rendered opaque.\n"
     ]
    },
    {
     "name": "stdout",
     "output_type": "stream",
     "text": [
      "Plot saved to /home/michele/Desktop/Dottorato/active_source_implementation/experiments_Brava_2/s0176/images/amplitude_maps/0_compaction_sv1_sv1_filtered.eps\n"
     ]
    },
    {
     "name": "stderr",
     "output_type": "stream",
     "text": [
      "The PostScript backend does not support transparency; partially transparent artists will be rendered opaque.\n"
     ]
    },
    {
     "name": "stdout",
     "output_type": "stream",
     "text": [
      "Plot saved to /home/michele/Desktop/Dottorato/active_source_implementation/experiments_Brava_2/s0176/images/example_of_filtered_waveform/0_compaction_sv1_sv1_0.eps\n",
      "Plot saved to /home/michele/Desktop/Dottorato/active_source_implementation/experiments_Brava_2/s0176/images/example_of_filtered_waveform/0_compaction_sv1_sv1_98.eps\n"
     ]
    },
    {
     "name": "stderr",
     "output_type": "stream",
     "text": [
      "The PostScript backend does not support transparency; partially transparent artists will be rendered opaque.\n",
      "The PostScript backend does not support transparency; partially transparent artists will be rendered opaque.\n"
     ]
    },
    {
     "name": "stdout",
     "output_type": "stream",
     "text": [
      "Plot saved to /home/michele/Desktop/Dottorato/active_source_implementation/experiments_Brava_2/s0176/images/example_of_filtered_waveform/0_compaction_sv1_sv1_196.eps\n"
     ]
    },
    {
     "name": "stderr",
     "output_type": "stream",
     "text": [
      "The PostScript backend does not support transparency; partially transparent artists will be rendered opaque.\n"
     ]
    },
    {
     "name": "stdout",
     "output_type": "stream",
     "text": [
      "Plot saved to /home/michele/Desktop/Dottorato/active_source_implementation/experiments_Brava_2/s0176/images/example_of_filtered_waveform/0_compaction_sv1_sv1_294.eps\n"
     ]
    },
    {
     "name": "stderr",
     "output_type": "stream",
     "text": [
      "The PostScript backend does not support transparency; partially transparent artists will be rendered opaque.\n"
     ]
    },
    {
     "name": "stdout",
     "output_type": "stream",
     "text": [
      "Plot saved to /home/michele/Desktop/Dottorato/active_source_implementation/experiments_Brava_2/s0176/images/example_of_filtered_waveform/0_compaction_sv1_sv1_392.eps\n"
     ]
    },
    {
     "name": "stderr",
     "output_type": "stream",
     "text": [
      "The PostScript backend does not support transparency; partially transparent artists will be rendered opaque.\n"
     ]
    },
    {
     "name": "stdout",
     "output_type": "stream",
     "text": [
      "Plot saved to /home/michele/Desktop/Dottorato/active_source_implementation/experiments_Brava_2/s0176/images/example_of_filtered_waveform/0_compaction_sv1_sv1_490.eps\n"
     ]
    },
    {
     "name": "stderr",
     "output_type": "stream",
     "text": [
      "The PostScript backend does not support transparency; partially transparent artists will be rendered opaque.\n"
     ]
    },
    {
     "name": "stdout",
     "output_type": "stream",
     "text": [
      "Plot saved to /home/michele/Desktop/Dottorato/active_source_implementation/experiments_Brava_2/s0176/images/example_of_filtered_waveform/0_compaction_sv1_sv1_588.eps\n"
     ]
    },
    {
     "name": "stderr",
     "output_type": "stream",
     "text": [
      "The PostScript backend does not support transparency; partially transparent artists will be rendered opaque.\n"
     ]
    },
    {
     "name": "stdout",
     "output_type": "stream",
     "text": [
      "Plot saved to /home/michele/Desktop/Dottorato/active_source_implementation/experiments_Brava_2/s0176/images/example_of_filtered_waveform/0_compaction_sv1_sv1_686.eps\n",
      "Plot saved to /home/michele/Desktop/Dottorato/active_source_implementation/experiments_Brava_2/s0176/images/example_of_filtered_waveform/0_compaction_sv1_sv1_784.eps\n"
     ]
    },
    {
     "name": "stderr",
     "output_type": "stream",
     "text": [
      "The PostScript backend does not support transparency; partially transparent artists will be rendered opaque.\n"
     ]
    },
    {
     "name": "stdout",
     "output_type": "stream",
     "text": [
      "Plot saved to /home/michele/Desktop/Dottorato/active_source_implementation/experiments_Brava_2/s0176/images/example_of_filtered_waveform/0_compaction_sv1_sv1_882.eps\n"
     ]
    },
    {
     "name": "stderr",
     "output_type": "stream",
     "text": [
      "The PostScript backend does not support transparency; partially transparent artists will be rendered opaque.\n"
     ]
    },
    {
     "name": "stdout",
     "output_type": "stream",
     "text": [
      "Plot saved to /home/michele/Desktop/Dottorato/active_source_implementation/experiments_Brava_2/s0176/images/example_of_filtered_waveform/0_compaction_sv1_sv1_980.eps\n"
     ]
    },
    {
     "name": "stderr",
     "output_type": "stream",
     "text": [
      "The PostScript backend does not support transparency; partially transparent artists will be rendered opaque.\n"
     ]
    },
    {
     "name": "stdout",
     "output_type": "stream",
     "text": [
      "Plot saved to /home/michele/Desktop/Dottorato/active_source_implementation/experiments_Brava_2/s0176/images/example_of_filtered_waveform/0_compaction_sv1_sv1_1078.eps\n"
     ]
    },
    {
     "name": "stderr",
     "output_type": "stream",
     "text": [
      "The PostScript backend does not support transparency; partially transparent artists will be rendered opaque.\n"
     ]
    },
    {
     "name": "stdout",
     "output_type": "stream",
     "text": [
      "Plot saved to /home/michele/Desktop/Dottorato/active_source_implementation/experiments_Brava_2/s0176/images/example_of_filtered_waveform/0_compaction_sv1_sv1_1176.eps\n"
     ]
    },
    {
     "name": "stderr",
     "output_type": "stream",
     "text": [
      "The PostScript backend does not support transparency; partially transparent artists will be rendered opaque.\n"
     ]
    },
    {
     "name": "stdout",
     "output_type": "stream",
     "text": [
      "Plot saved to /home/michele/Desktop/Dottorato/active_source_implementation/experiments_Brava_2/s0176/images/example_of_filtered_waveform/0_compaction_sv1_sv1_1274.eps\n"
     ]
    },
    {
     "name": "stderr",
     "output_type": "stream",
     "text": [
      "The PostScript backend does not support transparency; partially transparent artists will be rendered opaque.\n"
     ]
    },
    {
     "name": "stdout",
     "output_type": "stream",
     "text": [
      "Plot saved to /home/michele/Desktop/Dottorato/active_source_implementation/experiments_Brava_2/s0176/images/example_of_filtered_waveform/0_compaction_sv1_sv1_1372.eps\n"
     ]
    },
    {
     "name": "stderr",
     "output_type": "stream",
     "text": [
      "The PostScript backend does not support transparency; partially transparent artists will be rendered opaque.\n"
     ]
    },
    {
     "name": "stdout",
     "output_type": "stream",
     "text": [
      "Plot saved to /home/michele/Desktop/Dottorato/active_source_implementation/experiments_Brava_2/s0176/images/example_of_filtered_waveform/0_compaction_sv1_sv1_1470.eps\n"
     ]
    },
    {
     "name": "stderr",
     "output_type": "stream",
     "text": [
      "The PostScript backend does not support transparency; partially transparent artists will be rendered opaque.\n"
     ]
    },
    {
     "name": "stdout",
     "output_type": "stream",
     "text": [
      "Plot saved to /home/michele/Desktop/Dottorato/active_source_implementation/experiments_Brava_2/s0176/images/example_of_filtered_waveform/0_compaction_sv1_sv1_1568.eps\n"
     ]
    },
    {
     "name": "stderr",
     "output_type": "stream",
     "text": [
      "The PostScript backend does not support transparency; partially transparent artists will be rendered opaque.\n"
     ]
    },
    {
     "name": "stdout",
     "output_type": "stream",
     "text": [
      "Plot saved to /home/michele/Desktop/Dottorato/active_source_implementation/experiments_Brava_2/s0176/images/example_of_filtered_waveform/0_compaction_sv1_sv1_1666.eps\n"
     ]
    },
    {
     "name": "stderr",
     "output_type": "stream",
     "text": [
      "The PostScript backend does not support transparency; partially transparent artists will be rendered opaque.\n"
     ]
    },
    {
     "name": "stdout",
     "output_type": "stream",
     "text": [
      "Plot saved to /home/michele/Desktop/Dottorato/active_source_implementation/experiments_Brava_2/s0176/images/example_of_filtered_waveform/0_compaction_sv1_sv1_1764.eps\n"
     ]
    },
    {
     "name": "stderr",
     "output_type": "stream",
     "text": [
      "The PostScript backend does not support transparency; partially transparent artists will be rendered opaque.\n"
     ]
    },
    {
     "name": "stdout",
     "output_type": "stream",
     "text": [
      "Plot saved to /home/michele/Desktop/Dottorato/active_source_implementation/experiments_Brava_2/s0176/images/example_of_filtered_waveform/0_compaction_sv1_sv1_1862.eps\n"
     ]
    },
    {
     "name": "stderr",
     "output_type": "stream",
     "text": [
      "The PostScript backend does not support transparency; partially transparent artists will be rendered opaque.\n"
     ]
    },
    {
     "name": "stdout",
     "output_type": "stream",
     "text": [
      "Plot saved to /home/michele/Desktop/Dottorato/active_source_implementation/experiments_Brava_2/s0176/images/example_of_filtered_waveform/0_compaction_sv1_sv1_1960.eps\n"
     ]
    },
    {
     "name": "stderr",
     "output_type": "stream",
     "text": [
      "The PostScript backend does not support transparency; partially transparent artists will be rendered opaque.\n",
      "The PostScript backend does not support transparency; partially transparent artists will be rendered opaque.\n"
     ]
    },
    {
     "name": "stdout",
     "output_type": "stream",
     "text": [
      "Plot saved to /home/michele/Desktop/Dottorato/active_source_implementation/experiments_Brava_2/s0176/images/example_of_filtered_waveform/0_compaction_sv1_sv1_2058.eps\n",
      "Plot saved to /home/michele/Desktop/Dottorato/active_source_implementation/experiments_Brava_2/s0176/images/example_of_filtered_waveform/0_compaction_sv1_sv1_2156.eps\n"
     ]
    },
    {
     "name": "stderr",
     "output_type": "stream",
     "text": [
      "The PostScript backend does not support transparency; partially transparent artists will be rendered opaque.\n"
     ]
    },
    {
     "name": "stdout",
     "output_type": "stream",
     "text": [
      "Plot saved to /home/michele/Desktop/Dottorato/active_source_implementation/experiments_Brava_2/s0176/images/example_of_filtered_waveform/0_compaction_sv1_sv1_2254.eps\n"
     ]
    },
    {
     "name": "stderr",
     "output_type": "stream",
     "text": [
      "The PostScript backend does not support transparency; partially transparent artists will be rendered opaque.\n"
     ]
    },
    {
     "name": "stdout",
     "output_type": "stream",
     "text": [
      "Plot saved to /home/michele/Desktop/Dottorato/active_source_implementation/experiments_Brava_2/s0176/images/example_of_filtered_waveform/0_compaction_sv1_sv1_2352.eps\n"
     ]
    },
    {
     "name": "stderr",
     "output_type": "stream",
     "text": [
      "The PostScript backend does not support transparency; partially transparent artists will be rendered opaque.\n",
      "The PostScript backend does not support transparency; partially transparent artists will be rendered opaque.\n"
     ]
    },
    {
     "name": "stdout",
     "output_type": "stream",
     "text": [
      "Plot saved to /home/michele/Desktop/Dottorato/active_source_implementation/experiments_Brava_2/s0176/images/example_of_filtered_waveform/0_compaction_sv1_sv1_2450.eps\n"
     ]
    },
    {
     "name": "stderr",
     "output_type": "stream",
     "text": [
      "The PostScript backend does not support transparency; partially transparent artists will be rendered opaque.\n"
     ]
    },
    {
     "name": "stdout",
     "output_type": "stream",
     "text": [
      "Plot saved to /home/michele/Desktop/Dottorato/active_source_implementation/experiments_Brava_2/s0176/images/example_of_filtered_waveform/0_compaction_sv1_sv1_2548.eps\n"
     ]
    },
    {
     "name": "stderr",
     "output_type": "stream",
     "text": [
      "The PostScript backend does not support transparency; partially transparent artists will be rendered opaque.\n"
     ]
    },
    {
     "name": "stdout",
     "output_type": "stream",
     "text": [
      "Plot saved to /home/michele/Desktop/Dottorato/active_source_implementation/experiments_Brava_2/s0176/images/example_of_filtered_waveform/0_compaction_sv1_sv1_2646.eps\n",
      "Plot saved to /home/michele/Desktop/Dottorato/active_source_implementation/experiments_Brava_2/s0176/images/example_of_filtered_waveform/0_compaction_sv1_sv1_2744.eps\n"
     ]
    },
    {
     "name": "stderr",
     "output_type": "stream",
     "text": [
      "The PostScript backend does not support transparency; partially transparent artists will be rendered opaque.\n"
     ]
    },
    {
     "name": "stdout",
     "output_type": "stream",
     "text": [
      "Plot saved to /home/michele/Desktop/Dottorato/active_source_implementation/experiments_Brava_2/s0176/images/example_of_filtered_waveform/0_compaction_sv1_sv1_2842.eps\n"
     ]
    },
    {
     "name": "stderr",
     "output_type": "stream",
     "text": [
      "The PostScript backend does not support transparency; partially transparent artists will be rendered opaque.\n"
     ]
    },
    {
     "name": "stdout",
     "output_type": "stream",
     "text": [
      "Plot saved to /home/michele/Desktop/Dottorato/active_source_implementation/experiments_Brava_2/s0176/images/example_of_filtered_waveform/0_compaction_sv1_sv1_2940.eps\n",
      "--- 16.61410903930664 seconds for processing 0_compaction_sv1_sv1---\n",
      "PROCESSING UW DATA IN /home/michele/Desktop/Dottorato/active_source_implementation/experiments_Brava_2/s0176/data_tsv_files/0_compaction_sv1_sv2.bscan.tsv: \n"
     ]
    },
    {
     "name": "stderr",
     "output_type": "stream",
     "text": [
      "The PostScript backend does not support transparency; partially transparent artists will be rendered opaque.\n"
     ]
    },
    {
     "name": "stdout",
     "output_type": "stream",
     "text": [
      "Plot saved to /home/michele/Desktop/Dottorato/active_source_implementation/experiments_Brava_2/s0176/images/waveforms/0_compaction_sv1_sv2.eps\n",
      "Plot saved to /home/michele/Desktop/Dottorato/active_source_implementation/experiments_Brava_2/s0176/images/amplitude_maps/0_compaction_sv1_sv2.eps\n"
     ]
    },
    {
     "name": "stderr",
     "output_type": "stream",
     "text": [
      "The PostScript backend does not support transparency; partially transparent artists will be rendered opaque.\n"
     ]
    },
    {
     "name": "stdout",
     "output_type": "stream",
     "text": [
      "Plot saved to /home/michele/Desktop/Dottorato/active_source_implementation/experiments_Brava_2/s0176/images/waveforms/0_compaction_sv1_sv2_filtered.eps\n",
      "Plot saved to /home/michele/Desktop/Dottorato/active_source_implementation/experiments_Brava_2/s0176/images/amplitude_maps/0_compaction_sv1_sv2_filtered.eps\n"
     ]
    },
    {
     "name": "stderr",
     "output_type": "stream",
     "text": [
      "The PostScript backend does not support transparency; partially transparent artists will be rendered opaque.\n"
     ]
    },
    {
     "name": "stdout",
     "output_type": "stream",
     "text": [
      "Plot saved to /home/michele/Desktop/Dottorato/active_source_implementation/experiments_Brava_2/s0176/images/example_of_filtered_waveform/0_compaction_sv1_sv2_0.eps\n"
     ]
    },
    {
     "name": "stderr",
     "output_type": "stream",
     "text": [
      "The PostScript backend does not support transparency; partially transparent artists will be rendered opaque.\n"
     ]
    },
    {
     "name": "stdout",
     "output_type": "stream",
     "text": [
      "Plot saved to /home/michele/Desktop/Dottorato/active_source_implementation/experiments_Brava_2/s0176/images/example_of_filtered_waveform/0_compaction_sv1_sv2_98.eps\n"
     ]
    },
    {
     "name": "stderr",
     "output_type": "stream",
     "text": [
      "The PostScript backend does not support transparency; partially transparent artists will be rendered opaque.\n"
     ]
    },
    {
     "name": "stdout",
     "output_type": "stream",
     "text": [
      "Plot saved to /home/michele/Desktop/Dottorato/active_source_implementation/experiments_Brava_2/s0176/images/example_of_filtered_waveform/0_compaction_sv1_sv2_196.eps\n"
     ]
    },
    {
     "name": "stderr",
     "output_type": "stream",
     "text": [
      "The PostScript backend does not support transparency; partially transparent artists will be rendered opaque.\n"
     ]
    },
    {
     "name": "stdout",
     "output_type": "stream",
     "text": [
      "Plot saved to /home/michele/Desktop/Dottorato/active_source_implementation/experiments_Brava_2/s0176/images/example_of_filtered_waveform/0_compaction_sv1_sv2_294.eps\n"
     ]
    },
    {
     "name": "stderr",
     "output_type": "stream",
     "text": [
      "The PostScript backend does not support transparency; partially transparent artists will be rendered opaque.\n"
     ]
    },
    {
     "name": "stdout",
     "output_type": "stream",
     "text": [
      "Plot saved to /home/michele/Desktop/Dottorato/active_source_implementation/experiments_Brava_2/s0176/images/example_of_filtered_waveform/0_compaction_sv1_sv2_392.eps\n"
     ]
    },
    {
     "name": "stderr",
     "output_type": "stream",
     "text": [
      "The PostScript backend does not support transparency; partially transparent artists will be rendered opaque.\n"
     ]
    },
    {
     "name": "stdout",
     "output_type": "stream",
     "text": [
      "Plot saved to /home/michele/Desktop/Dottorato/active_source_implementation/experiments_Brava_2/s0176/images/example_of_filtered_waveform/0_compaction_sv1_sv2_490.eps\n"
     ]
    },
    {
     "name": "stderr",
     "output_type": "stream",
     "text": [
      "The PostScript backend does not support transparency; partially transparent artists will be rendered opaque.\n"
     ]
    },
    {
     "name": "stdout",
     "output_type": "stream",
     "text": [
      "Plot saved to /home/michele/Desktop/Dottorato/active_source_implementation/experiments_Brava_2/s0176/images/example_of_filtered_waveform/0_compaction_sv1_sv2_588.eps\n"
     ]
    },
    {
     "name": "stderr",
     "output_type": "stream",
     "text": [
      "The PostScript backend does not support transparency; partially transparent artists will be rendered opaque.\n"
     ]
    },
    {
     "name": "stdout",
     "output_type": "stream",
     "text": [
      "Plot saved to /home/michele/Desktop/Dottorato/active_source_implementation/experiments_Brava_2/s0176/images/example_of_filtered_waveform/0_compaction_sv1_sv2_686.eps\n"
     ]
    },
    {
     "name": "stderr",
     "output_type": "stream",
     "text": [
      "The PostScript backend does not support transparency; partially transparent artists will be rendered opaque.\n"
     ]
    },
    {
     "name": "stdout",
     "output_type": "stream",
     "text": [
      "Plot saved to /home/michele/Desktop/Dottorato/active_source_implementation/experiments_Brava_2/s0176/images/example_of_filtered_waveform/0_compaction_sv1_sv2_784.eps\n"
     ]
    },
    {
     "name": "stderr",
     "output_type": "stream",
     "text": [
      "The PostScript backend does not support transparency; partially transparent artists will be rendered opaque.\n"
     ]
    },
    {
     "name": "stdout",
     "output_type": "stream",
     "text": [
      "Plot saved to /home/michele/Desktop/Dottorato/active_source_implementation/experiments_Brava_2/s0176/images/example_of_filtered_waveform/0_compaction_sv1_sv2_882.eps\n"
     ]
    },
    {
     "name": "stderr",
     "output_type": "stream",
     "text": [
      "The PostScript backend does not support transparency; partially transparent artists will be rendered opaque.\n"
     ]
    },
    {
     "name": "stdout",
     "output_type": "stream",
     "text": [
      "Plot saved to /home/michele/Desktop/Dottorato/active_source_implementation/experiments_Brava_2/s0176/images/example_of_filtered_waveform/0_compaction_sv1_sv2_980.eps\n"
     ]
    },
    {
     "name": "stderr",
     "output_type": "stream",
     "text": [
      "The PostScript backend does not support transparency; partially transparent artists will be rendered opaque.\n"
     ]
    },
    {
     "name": "stdout",
     "output_type": "stream",
     "text": [
      "Plot saved to /home/michele/Desktop/Dottorato/active_source_implementation/experiments_Brava_2/s0176/images/example_of_filtered_waveform/0_compaction_sv1_sv2_1078.eps\n"
     ]
    },
    {
     "name": "stderr",
     "output_type": "stream",
     "text": [
      "The PostScript backend does not support transparency; partially transparent artists will be rendered opaque.\n"
     ]
    },
    {
     "name": "stdout",
     "output_type": "stream",
     "text": [
      "Plot saved to /home/michele/Desktop/Dottorato/active_source_implementation/experiments_Brava_2/s0176/images/example_of_filtered_waveform/0_compaction_sv1_sv2_1176.eps\n"
     ]
    },
    {
     "name": "stderr",
     "output_type": "stream",
     "text": [
      "The PostScript backend does not support transparency; partially transparent artists will be rendered opaque.\n"
     ]
    },
    {
     "name": "stdout",
     "output_type": "stream",
     "text": [
      "Plot saved to /home/michele/Desktop/Dottorato/active_source_implementation/experiments_Brava_2/s0176/images/example_of_filtered_waveform/0_compaction_sv1_sv2_1274.eps\n"
     ]
    },
    {
     "name": "stderr",
     "output_type": "stream",
     "text": [
      "The PostScript backend does not support transparency; partially transparent artists will be rendered opaque.\n"
     ]
    },
    {
     "name": "stdout",
     "output_type": "stream",
     "text": [
      "Plot saved to /home/michele/Desktop/Dottorato/active_source_implementation/experiments_Brava_2/s0176/images/example_of_filtered_waveform/0_compaction_sv1_sv2_1372.eps\n"
     ]
    },
    {
     "name": "stderr",
     "output_type": "stream",
     "text": [
      "The PostScript backend does not support transparency; partially transparent artists will be rendered opaque.\n"
     ]
    },
    {
     "name": "stdout",
     "output_type": "stream",
     "text": [
      "Plot saved to /home/michele/Desktop/Dottorato/active_source_implementation/experiments_Brava_2/s0176/images/example_of_filtered_waveform/0_compaction_sv1_sv2_1470.eps\n"
     ]
    },
    {
     "name": "stderr",
     "output_type": "stream",
     "text": [
      "The PostScript backend does not support transparency; partially transparent artists will be rendered opaque.\n"
     ]
    },
    {
     "name": "stdout",
     "output_type": "stream",
     "text": [
      "Plot saved to /home/michele/Desktop/Dottorato/active_source_implementation/experiments_Brava_2/s0176/images/example_of_filtered_waveform/0_compaction_sv1_sv2_1568.eps\n"
     ]
    },
    {
     "name": "stderr",
     "output_type": "stream",
     "text": [
      "The PostScript backend does not support transparency; partially transparent artists will be rendered opaque.\n",
      "The PostScript backend does not support transparency; partially transparent artists will be rendered opaque.\n"
     ]
    },
    {
     "name": "stdout",
     "output_type": "stream",
     "text": [
      "Plot saved to /home/michele/Desktop/Dottorato/active_source_implementation/experiments_Brava_2/s0176/images/example_of_filtered_waveform/0_compaction_sv1_sv2_1666.eps\n",
      "Plot saved to /home/michele/Desktop/Dottorato/active_source_implementation/experiments_Brava_2/s0176/images/example_of_filtered_waveform/0_compaction_sv1_sv2_1764.eps\n"
     ]
    },
    {
     "name": "stderr",
     "output_type": "stream",
     "text": [
      "The PostScript backend does not support transparency; partially transparent artists will be rendered opaque.\n"
     ]
    },
    {
     "name": "stdout",
     "output_type": "stream",
     "text": [
      "Plot saved to /home/michele/Desktop/Dottorato/active_source_implementation/experiments_Brava_2/s0176/images/example_of_filtered_waveform/0_compaction_sv1_sv2_1862.eps\n"
     ]
    },
    {
     "name": "stderr",
     "output_type": "stream",
     "text": [
      "The PostScript backend does not support transparency; partially transparent artists will be rendered opaque.\n"
     ]
    },
    {
     "name": "stdout",
     "output_type": "stream",
     "text": [
      "Plot saved to /home/michele/Desktop/Dottorato/active_source_implementation/experiments_Brava_2/s0176/images/example_of_filtered_waveform/0_compaction_sv1_sv2_1960.eps\n"
     ]
    },
    {
     "name": "stderr",
     "output_type": "stream",
     "text": [
      "The PostScript backend does not support transparency; partially transparent artists will be rendered opaque.\n"
     ]
    },
    {
     "name": "stdout",
     "output_type": "stream",
     "text": [
      "Plot saved to /home/michele/Desktop/Dottorato/active_source_implementation/experiments_Brava_2/s0176/images/example_of_filtered_waveform/0_compaction_sv1_sv2_2058.eps\n"
     ]
    },
    {
     "name": "stderr",
     "output_type": "stream",
     "text": [
      "The PostScript backend does not support transparency; partially transparent artists will be rendered opaque.\n"
     ]
    },
    {
     "name": "stdout",
     "output_type": "stream",
     "text": [
      "Plot saved to /home/michele/Desktop/Dottorato/active_source_implementation/experiments_Brava_2/s0176/images/example_of_filtered_waveform/0_compaction_sv1_sv2_2156.eps\n"
     ]
    },
    {
     "name": "stderr",
     "output_type": "stream",
     "text": [
      "The PostScript backend does not support transparency; partially transparent artists will be rendered opaque.\n"
     ]
    },
    {
     "name": "stdout",
     "output_type": "stream",
     "text": [
      "Plot saved to /home/michele/Desktop/Dottorato/active_source_implementation/experiments_Brava_2/s0176/images/example_of_filtered_waveform/0_compaction_sv1_sv2_2254.eps\n"
     ]
    },
    {
     "name": "stderr",
     "output_type": "stream",
     "text": [
      "The PostScript backend does not support transparency; partially transparent artists will be rendered opaque.\n"
     ]
    },
    {
     "name": "stdout",
     "output_type": "stream",
     "text": [
      "Plot saved to /home/michele/Desktop/Dottorato/active_source_implementation/experiments_Brava_2/s0176/images/example_of_filtered_waveform/0_compaction_sv1_sv2_2352.eps\n"
     ]
    },
    {
     "name": "stderr",
     "output_type": "stream",
     "text": [
      "The PostScript backend does not support transparency; partially transparent artists will be rendered opaque.\n"
     ]
    },
    {
     "name": "stdout",
     "output_type": "stream",
     "text": [
      "Plot saved to /home/michele/Desktop/Dottorato/active_source_implementation/experiments_Brava_2/s0176/images/example_of_filtered_waveform/0_compaction_sv1_sv2_2450.eps\n"
     ]
    },
    {
     "name": "stderr",
     "output_type": "stream",
     "text": [
      "The PostScript backend does not support transparency; partially transparent artists will be rendered opaque.\n"
     ]
    },
    {
     "name": "stdout",
     "output_type": "stream",
     "text": [
      "Plot saved to /home/michele/Desktop/Dottorato/active_source_implementation/experiments_Brava_2/s0176/images/example_of_filtered_waveform/0_compaction_sv1_sv2_2548.eps\n"
     ]
    },
    {
     "name": "stderr",
     "output_type": "stream",
     "text": [
      "The PostScript backend does not support transparency; partially transparent artists will be rendered opaque.\n"
     ]
    },
    {
     "name": "stdout",
     "output_type": "stream",
     "text": [
      "Plot saved to /home/michele/Desktop/Dottorato/active_source_implementation/experiments_Brava_2/s0176/images/example_of_filtered_waveform/0_compaction_sv1_sv2_2646.eps\n"
     ]
    },
    {
     "name": "stderr",
     "output_type": "stream",
     "text": [
      "The PostScript backend does not support transparency; partially transparent artists will be rendered opaque.\n",
      "The PostScript backend does not support transparency; partially transparent artists will be rendered opaque.\n"
     ]
    },
    {
     "name": "stdout",
     "output_type": "stream",
     "text": [
      "Plot saved to /home/michele/Desktop/Dottorato/active_source_implementation/experiments_Brava_2/s0176/images/example_of_filtered_waveform/0_compaction_sv1_sv2_2744.eps\n"
     ]
    },
    {
     "name": "stderr",
     "output_type": "stream",
     "text": [
      "The PostScript backend does not support transparency; partially transparent artists will be rendered opaque.\n"
     ]
    },
    {
     "name": "stdout",
     "output_type": "stream",
     "text": [
      "Plot saved to /home/michele/Desktop/Dottorato/active_source_implementation/experiments_Brava_2/s0176/images/example_of_filtered_waveform/0_compaction_sv1_sv2_2842.eps\n",
      "Plot saved to /home/michele/Desktop/Dottorato/active_source_implementation/experiments_Brava_2/s0176/images/example_of_filtered_waveform/0_compaction_sv1_sv2_2940.eps\n",
      "--- 18.17713975906372 seconds for processing 0_compaction_sv1_sv2---\n",
      "PROCESSING UW DATA IN /home/michele/Desktop/Dottorato/active_source_implementation/experiments_Brava_2/s0176/data_tsv_files/1_run_in_sv1_sh1.bscan.tsv: \n"
     ]
    },
    {
     "name": "stderr",
     "output_type": "stream",
     "text": [
      "The PostScript backend does not support transparency; partially transparent artists will be rendered opaque.\n"
     ]
    },
    {
     "name": "stdout",
     "output_type": "stream",
     "text": [
      "Plot saved to /home/michele/Desktop/Dottorato/active_source_implementation/experiments_Brava_2/s0176/images/waveforms/1_run_in_sv1_sh1.eps\n",
      "Plot saved to /home/michele/Desktop/Dottorato/active_source_implementation/experiments_Brava_2/s0176/images/amplitude_maps/1_run_in_sv1_sh1.eps\n"
     ]
    },
    {
     "name": "stderr",
     "output_type": "stream",
     "text": [
      "The PostScript backend does not support transparency; partially transparent artists will be rendered opaque.\n"
     ]
    },
    {
     "name": "stdout",
     "output_type": "stream",
     "text": [
      "Plot saved to /home/michele/Desktop/Dottorato/active_source_implementation/experiments_Brava_2/s0176/images/waveforms/1_run_in_sv1_sh1_filtered.eps\n"
     ]
    },
    {
     "name": "stderr",
     "output_type": "stream",
     "text": [
      "The PostScript backend does not support transparency; partially transparent artists will be rendered opaque.\n"
     ]
    },
    {
     "name": "stdout",
     "output_type": "stream",
     "text": [
      "Plot saved to /home/michele/Desktop/Dottorato/active_source_implementation/experiments_Brava_2/s0176/images/amplitude_maps/1_run_in_sv1_sh1_filtered.eps\n"
     ]
    },
    {
     "name": "stderr",
     "output_type": "stream",
     "text": [
      "The PostScript backend does not support transparency; partially transparent artists will be rendered opaque.\n"
     ]
    },
    {
     "name": "stdout",
     "output_type": "stream",
     "text": [
      "Plot saved to /home/michele/Desktop/Dottorato/active_source_implementation/experiments_Brava_2/s0176/images/example_of_filtered_waveform/1_run_in_sv1_sh1_0.eps\n"
     ]
    },
    {
     "name": "stderr",
     "output_type": "stream",
     "text": [
      "The PostScript backend does not support transparency; partially transparent artists will be rendered opaque.\n"
     ]
    },
    {
     "name": "stdout",
     "output_type": "stream",
     "text": [
      "Plot saved to /home/michele/Desktop/Dottorato/active_source_implementation/experiments_Brava_2/s0176/images/example_of_filtered_waveform/1_run_in_sv1_sh1_26.eps\n"
     ]
    },
    {
     "name": "stderr",
     "output_type": "stream",
     "text": [
      "The PostScript backend does not support transparency; partially transparent artists will be rendered opaque.\n"
     ]
    },
    {
     "name": "stdout",
     "output_type": "stream",
     "text": [
      "Plot saved to /home/michele/Desktop/Dottorato/active_source_implementation/experiments_Brava_2/s0176/images/example_of_filtered_waveform/1_run_in_sv1_sh1_52.eps\n"
     ]
    },
    {
     "name": "stderr",
     "output_type": "stream",
     "text": [
      "The PostScript backend does not support transparency; partially transparent artists will be rendered opaque.\n"
     ]
    },
    {
     "name": "stdout",
     "output_type": "stream",
     "text": [
      "Plot saved to /home/michele/Desktop/Dottorato/active_source_implementation/experiments_Brava_2/s0176/images/example_of_filtered_waveform/1_run_in_sv1_sh1_78.eps\n"
     ]
    },
    {
     "name": "stderr",
     "output_type": "stream",
     "text": [
      "The PostScript backend does not support transparency; partially transparent artists will be rendered opaque.\n"
     ]
    },
    {
     "name": "stdout",
     "output_type": "stream",
     "text": [
      "Plot saved to /home/michele/Desktop/Dottorato/active_source_implementation/experiments_Brava_2/s0176/images/example_of_filtered_waveform/1_run_in_sv1_sh1_104.eps\n"
     ]
    },
    {
     "name": "stderr",
     "output_type": "stream",
     "text": [
      "The PostScript backend does not support transparency; partially transparent artists will be rendered opaque.\n"
     ]
    },
    {
     "name": "stdout",
     "output_type": "stream",
     "text": [
      "Plot saved to /home/michele/Desktop/Dottorato/active_source_implementation/experiments_Brava_2/s0176/images/example_of_filtered_waveform/1_run_in_sv1_sh1_130.eps\n"
     ]
    },
    {
     "name": "stderr",
     "output_type": "stream",
     "text": [
      "The PostScript backend does not support transparency; partially transparent artists will be rendered opaque.\n"
     ]
    },
    {
     "name": "stdout",
     "output_type": "stream",
     "text": [
      "Plot saved to /home/michele/Desktop/Dottorato/active_source_implementation/experiments_Brava_2/s0176/images/example_of_filtered_waveform/1_run_in_sv1_sh1_156.eps\n",
      "Plot saved to /home/michele/Desktop/Dottorato/active_source_implementation/experiments_Brava_2/s0176/images/example_of_filtered_waveform/1_run_in_sv1_sh1_182.eps\n"
     ]
    },
    {
     "name": "stderr",
     "output_type": "stream",
     "text": [
      "The PostScript backend does not support transparency; partially transparent artists will be rendered opaque.\n"
     ]
    },
    {
     "name": "stdout",
     "output_type": "stream",
     "text": [
      "Plot saved to /home/michele/Desktop/Dottorato/active_source_implementation/experiments_Brava_2/s0176/images/example_of_filtered_waveform/1_run_in_sv1_sh1_208.eps\n"
     ]
    },
    {
     "name": "stderr",
     "output_type": "stream",
     "text": [
      "The PostScript backend does not support transparency; partially transparent artists will be rendered opaque.\n"
     ]
    },
    {
     "name": "stdout",
     "output_type": "stream",
     "text": [
      "Plot saved to /home/michele/Desktop/Dottorato/active_source_implementation/experiments_Brava_2/s0176/images/example_of_filtered_waveform/1_run_in_sv1_sh1_234.eps\n"
     ]
    },
    {
     "name": "stderr",
     "output_type": "stream",
     "text": [
      "The PostScript backend does not support transparency; partially transparent artists will be rendered opaque.\n",
      "The PostScript backend does not support transparency; partially transparent artists will be rendered opaque.\n"
     ]
    },
    {
     "name": "stdout",
     "output_type": "stream",
     "text": [
      "Plot saved to /home/michele/Desktop/Dottorato/active_source_implementation/experiments_Brava_2/s0176/images/example_of_filtered_waveform/1_run_in_sv1_sh1_260.eps\n"
     ]
    },
    {
     "name": "stderr",
     "output_type": "stream",
     "text": [
      "The PostScript backend does not support transparency; partially transparent artists will be rendered opaque.\n"
     ]
    },
    {
     "name": "stdout",
     "output_type": "stream",
     "text": [
      "Plot saved to /home/michele/Desktop/Dottorato/active_source_implementation/experiments_Brava_2/s0176/images/example_of_filtered_waveform/1_run_in_sv1_sh1_286.eps\n",
      "Plot saved to /home/michele/Desktop/Dottorato/active_source_implementation/experiments_Brava_2/s0176/images/example_of_filtered_waveform/1_run_in_sv1_sh1_312.eps\n"
     ]
    },
    {
     "name": "stderr",
     "output_type": "stream",
     "text": [
      "The PostScript backend does not support transparency; partially transparent artists will be rendered opaque.\n",
      "The PostScript backend does not support transparency; partially transparent artists will be rendered opaque.\n"
     ]
    },
    {
     "name": "stdout",
     "output_type": "stream",
     "text": [
      "Plot saved to /home/michele/Desktop/Dottorato/active_source_implementation/experiments_Brava_2/s0176/images/example_of_filtered_waveform/1_run_in_sv1_sh1_338.eps\n",
      "Plot saved to /home/michele/Desktop/Dottorato/active_source_implementation/experiments_Brava_2/s0176/images/example_of_filtered_waveform/1_run_in_sv1_sh1_364.eps\n"
     ]
    },
    {
     "name": "stderr",
     "output_type": "stream",
     "text": [
      "The PostScript backend does not support transparency; partially transparent artists will be rendered opaque.\n",
      "The PostScript backend does not support transparency; partially transparent artists will be rendered opaque.\n"
     ]
    },
    {
     "name": "stdout",
     "output_type": "stream",
     "text": [
      "Plot saved to /home/michele/Desktop/Dottorato/active_source_implementation/experiments_Brava_2/s0176/images/example_of_filtered_waveform/1_run_in_sv1_sh1_390.eps\n"
     ]
    },
    {
     "name": "stderr",
     "output_type": "stream",
     "text": [
      "The PostScript backend does not support transparency; partially transparent artists will be rendered opaque.\n"
     ]
    },
    {
     "name": "stdout",
     "output_type": "stream",
     "text": [
      "Plot saved to /home/michele/Desktop/Dottorato/active_source_implementation/experiments_Brava_2/s0176/images/example_of_filtered_waveform/1_run_in_sv1_sh1_416.eps\n"
     ]
    },
    {
     "name": "stderr",
     "output_type": "stream",
     "text": [
      "The PostScript backend does not support transparency; partially transparent artists will be rendered opaque.\n"
     ]
    },
    {
     "name": "stdout",
     "output_type": "stream",
     "text": [
      "Plot saved to /home/michele/Desktop/Dottorato/active_source_implementation/experiments_Brava_2/s0176/images/example_of_filtered_waveform/1_run_in_sv1_sh1_442.eps\n"
     ]
    },
    {
     "name": "stderr",
     "output_type": "stream",
     "text": [
      "The PostScript backend does not support transparency; partially transparent artists will be rendered opaque.\n"
     ]
    },
    {
     "name": "stdout",
     "output_type": "stream",
     "text": [
      "Plot saved to /home/michele/Desktop/Dottorato/active_source_implementation/experiments_Brava_2/s0176/images/example_of_filtered_waveform/1_run_in_sv1_sh1_468.eps\n",
      "Plot saved to /home/michele/Desktop/Dottorato/active_source_implementation/experiments_Brava_2/s0176/images/example_of_filtered_waveform/1_run_in_sv1_sh1_494.eps\n"
     ]
    },
    {
     "name": "stderr",
     "output_type": "stream",
     "text": [
      "The PostScript backend does not support transparency; partially transparent artists will be rendered opaque.\n"
     ]
    },
    {
     "name": "stdout",
     "output_type": "stream",
     "text": [
      "Plot saved to /home/michele/Desktop/Dottorato/active_source_implementation/experiments_Brava_2/s0176/images/example_of_filtered_waveform/1_run_in_sv1_sh1_520.eps\n"
     ]
    },
    {
     "name": "stderr",
     "output_type": "stream",
     "text": [
      "The PostScript backend does not support transparency; partially transparent artists will be rendered opaque.\n"
     ]
    },
    {
     "name": "stdout",
     "output_type": "stream",
     "text": [
      "Plot saved to /home/michele/Desktop/Dottorato/active_source_implementation/experiments_Brava_2/s0176/images/example_of_filtered_waveform/1_run_in_sv1_sh1_546.eps\n"
     ]
    },
    {
     "name": "stderr",
     "output_type": "stream",
     "text": [
      "The PostScript backend does not support transparency; partially transparent artists will be rendered opaque.\n"
     ]
    },
    {
     "name": "stdout",
     "output_type": "stream",
     "text": [
      "Plot saved to /home/michele/Desktop/Dottorato/active_source_implementation/experiments_Brava_2/s0176/images/example_of_filtered_waveform/1_run_in_sv1_sh1_572.eps\n"
     ]
    },
    {
     "name": "stderr",
     "output_type": "stream",
     "text": [
      "The PostScript backend does not support transparency; partially transparent artists will be rendered opaque.\n"
     ]
    },
    {
     "name": "stdout",
     "output_type": "stream",
     "text": [
      "Plot saved to /home/michele/Desktop/Dottorato/active_source_implementation/experiments_Brava_2/s0176/images/example_of_filtered_waveform/1_run_in_sv1_sh1_598.eps\n"
     ]
    },
    {
     "name": "stderr",
     "output_type": "stream",
     "text": [
      "The PostScript backend does not support transparency; partially transparent artists will be rendered opaque.\n"
     ]
    },
    {
     "name": "stdout",
     "output_type": "stream",
     "text": [
      "Plot saved to /home/michele/Desktop/Dottorato/active_source_implementation/experiments_Brava_2/s0176/images/example_of_filtered_waveform/1_run_in_sv1_sh1_624.eps\n"
     ]
    },
    {
     "name": "stderr",
     "output_type": "stream",
     "text": [
      "The PostScript backend does not support transparency; partially transparent artists will be rendered opaque.\n"
     ]
    },
    {
     "name": "stdout",
     "output_type": "stream",
     "text": [
      "Plot saved to /home/michele/Desktop/Dottorato/active_source_implementation/experiments_Brava_2/s0176/images/example_of_filtered_waveform/1_run_in_sv1_sh1_650.eps\n"
     ]
    },
    {
     "name": "stderr",
     "output_type": "stream",
     "text": [
      "The PostScript backend does not support transparency; partially transparent artists will be rendered opaque.\n"
     ]
    },
    {
     "name": "stdout",
     "output_type": "stream",
     "text": [
      "Plot saved to /home/michele/Desktop/Dottorato/active_source_implementation/experiments_Brava_2/s0176/images/example_of_filtered_waveform/1_run_in_sv1_sh1_676.eps\n"
     ]
    },
    {
     "name": "stderr",
     "output_type": "stream",
     "text": [
      "The PostScript backend does not support transparency; partially transparent artists will be rendered opaque.\n"
     ]
    },
    {
     "name": "stdout",
     "output_type": "stream",
     "text": [
      "Plot saved to /home/michele/Desktop/Dottorato/active_source_implementation/experiments_Brava_2/s0176/images/example_of_filtered_waveform/1_run_in_sv1_sh1_702.eps\n"
     ]
    },
    {
     "name": "stderr",
     "output_type": "stream",
     "text": [
      "The PostScript backend does not support transparency; partially transparent artists will be rendered opaque.\n"
     ]
    },
    {
     "name": "stdout",
     "output_type": "stream",
     "text": [
      "Plot saved to /home/michele/Desktop/Dottorato/active_source_implementation/experiments_Brava_2/s0176/images/example_of_filtered_waveform/1_run_in_sv1_sh1_728.eps\n"
     ]
    },
    {
     "name": "stderr",
     "output_type": "stream",
     "text": [
      "The PostScript backend does not support transparency; partially transparent artists will be rendered opaque.\n"
     ]
    },
    {
     "name": "stdout",
     "output_type": "stream",
     "text": [
      "Plot saved to /home/michele/Desktop/Dottorato/active_source_implementation/experiments_Brava_2/s0176/images/example_of_filtered_waveform/1_run_in_sv1_sh1_754.eps\n"
     ]
    },
    {
     "name": "stderr",
     "output_type": "stream",
     "text": [
      "The PostScript backend does not support transparency; partially transparent artists will be rendered opaque.\n",
      "The PostScript backend does not support transparency; partially transparent artists will be rendered opaque.\n"
     ]
    },
    {
     "name": "stdout",
     "output_type": "stream",
     "text": [
      "Plot saved to /home/michele/Desktop/Dottorato/active_source_implementation/experiments_Brava_2/s0176/images/example_of_filtered_waveform/1_run_in_sv1_sh1_780.eps\n",
      "Plot saved to /home/michele/Desktop/Dottorato/active_source_implementation/experiments_Brava_2/s0176/images/example_of_filtered_waveform/1_run_in_sv1_sh1_806.eps\n",
      "--- 14.701789379119873 seconds for processing 1_run_in_sv1_sh1---\n",
      "PROCESSING UW DATA IN /home/michele/Desktop/Dottorato/active_source_implementation/experiments_Brava_2/s0176/data_tsv_files/1_run_in_sv1_sh2.bscan.tsv: \n",
      "PROCESSING UW DATA IN /home/michele/Desktop/Dottorato/active_source_implementation/experiments_Brava_2/s0176/data_tsv_files/1_run_in_sv1_sv1.bscan.tsv: \n"
     ]
    },
    {
     "name": "stderr",
     "output_type": "stream",
     "text": [
      "The PostScript backend does not support transparency; partially transparent artists will be rendered opaque.\n"
     ]
    },
    {
     "name": "stdout",
     "output_type": "stream",
     "text": [
      "Plot saved to /home/michele/Desktop/Dottorato/active_source_implementation/experiments_Brava_2/s0176/images/waveforms/1_run_in_sv1_sv1.eps\n",
      "Plot saved to /home/michele/Desktop/Dottorato/active_source_implementation/experiments_Brava_2/s0176/images/amplitude_maps/1_run_in_sv1_sv1.eps\n"
     ]
    },
    {
     "name": "stderr",
     "output_type": "stream",
     "text": [
      "The PostScript backend does not support transparency; partially transparent artists will be rendered opaque.\n"
     ]
    },
    {
     "name": "stdout",
     "output_type": "stream",
     "text": [
      "Plot saved to /home/michele/Desktop/Dottorato/active_source_implementation/experiments_Brava_2/s0176/images/waveforms/1_run_in_sv1_sv1_filtered.eps\n"
     ]
    },
    {
     "name": "stderr",
     "output_type": "stream",
     "text": [
      "The PostScript backend does not support transparency; partially transparent artists will be rendered opaque.\n"
     ]
    },
    {
     "name": "stdout",
     "output_type": "stream",
     "text": [
      "Plot saved to /home/michele/Desktop/Dottorato/active_source_implementation/experiments_Brava_2/s0176/images/amplitude_maps/1_run_in_sv1_sv1_filtered.eps\n",
      "Plot saved to /home/michele/Desktop/Dottorato/active_source_implementation/experiments_Brava_2/s0176/images/example_of_filtered_waveform/1_run_in_sv1_sv1_0.eps\n"
     ]
    },
    {
     "name": "stderr",
     "output_type": "stream",
     "text": [
      "The PostScript backend does not support transparency; partially transparent artists will be rendered opaque.\n",
      "The PostScript backend does not support transparency; partially transparent artists will be rendered opaque.\n"
     ]
    },
    {
     "name": "stdout",
     "output_type": "stream",
     "text": [
      "Plot saved to /home/michele/Desktop/Dottorato/active_source_implementation/experiments_Brava_2/s0176/images/example_of_filtered_waveform/1_run_in_sv1_sv1_26.eps\n",
      "Plot saved to /home/michele/Desktop/Dottorato/active_source_implementation/experiments_Brava_2/s0176/images/example_of_filtered_waveform/1_run_in_sv1_sv1_52.eps\n"
     ]
    },
    {
     "name": "stderr",
     "output_type": "stream",
     "text": [
      "The PostScript backend does not support transparency; partially transparent artists will be rendered opaque.\n",
      "The PostScript backend does not support transparency; partially transparent artists will be rendered opaque.\n"
     ]
    },
    {
     "name": "stdout",
     "output_type": "stream",
     "text": [
      "Plot saved to /home/michele/Desktop/Dottorato/active_source_implementation/experiments_Brava_2/s0176/images/example_of_filtered_waveform/1_run_in_sv1_sv1_78.eps\n",
      "Plot saved to /home/michele/Desktop/Dottorato/active_source_implementation/experiments_Brava_2/s0176/images/example_of_filtered_waveform/1_run_in_sv1_sv1_104.eps\n"
     ]
    },
    {
     "name": "stderr",
     "output_type": "stream",
     "text": [
      "The PostScript backend does not support transparency; partially transparent artists will be rendered opaque.\n",
      "The PostScript backend does not support transparency; partially transparent artists will be rendered opaque.\n"
     ]
    },
    {
     "name": "stdout",
     "output_type": "stream",
     "text": [
      "Plot saved to /home/michele/Desktop/Dottorato/active_source_implementation/experiments_Brava_2/s0176/images/example_of_filtered_waveform/1_run_in_sv1_sv1_130.eps\n"
     ]
    },
    {
     "name": "stderr",
     "output_type": "stream",
     "text": [
      "The PostScript backend does not support transparency; partially transparent artists will be rendered opaque.\n"
     ]
    },
    {
     "name": "stdout",
     "output_type": "stream",
     "text": [
      "Plot saved to /home/michele/Desktop/Dottorato/active_source_implementation/experiments_Brava_2/s0176/images/example_of_filtered_waveform/1_run_in_sv1_sv1_156.eps\n"
     ]
    },
    {
     "name": "stderr",
     "output_type": "stream",
     "text": [
      "The PostScript backend does not support transparency; partially transparent artists will be rendered opaque.\n"
     ]
    },
    {
     "name": "stdout",
     "output_type": "stream",
     "text": [
      "Plot saved to /home/michele/Desktop/Dottorato/active_source_implementation/experiments_Brava_2/s0176/images/example_of_filtered_waveform/1_run_in_sv1_sv1_182.eps\n"
     ]
    },
    {
     "name": "stderr",
     "output_type": "stream",
     "text": [
      "The PostScript backend does not support transparency; partially transparent artists will be rendered opaque.\n"
     ]
    },
    {
     "name": "stdout",
     "output_type": "stream",
     "text": [
      "Plot saved to /home/michele/Desktop/Dottorato/active_source_implementation/experiments_Brava_2/s0176/images/example_of_filtered_waveform/1_run_in_sv1_sv1_208.eps\n"
     ]
    },
    {
     "name": "stderr",
     "output_type": "stream",
     "text": [
      "The PostScript backend does not support transparency; partially transparent artists will be rendered opaque.\n"
     ]
    },
    {
     "name": "stdout",
     "output_type": "stream",
     "text": [
      "Plot saved to /home/michele/Desktop/Dottorato/active_source_implementation/experiments_Brava_2/s0176/images/example_of_filtered_waveform/1_run_in_sv1_sv1_234.eps\n"
     ]
    },
    {
     "name": "stderr",
     "output_type": "stream",
     "text": [
      "The PostScript backend does not support transparency; partially transparent artists will be rendered opaque.\n"
     ]
    },
    {
     "name": "stdout",
     "output_type": "stream",
     "text": [
      "Plot saved to /home/michele/Desktop/Dottorato/active_source_implementation/experiments_Brava_2/s0176/images/example_of_filtered_waveform/1_run_in_sv1_sv1_260.eps\n"
     ]
    },
    {
     "name": "stderr",
     "output_type": "stream",
     "text": [
      "The PostScript backend does not support transparency; partially transparent artists will be rendered opaque.\n"
     ]
    },
    {
     "name": "stdout",
     "output_type": "stream",
     "text": [
      "Plot saved to /home/michele/Desktop/Dottorato/active_source_implementation/experiments_Brava_2/s0176/images/example_of_filtered_waveform/1_run_in_sv1_sv1_286.eps\n"
     ]
    },
    {
     "name": "stderr",
     "output_type": "stream",
     "text": [
      "The PostScript backend does not support transparency; partially transparent artists will be rendered opaque.\n"
     ]
    },
    {
     "name": "stdout",
     "output_type": "stream",
     "text": [
      "Plot saved to /home/michele/Desktop/Dottorato/active_source_implementation/experiments_Brava_2/s0176/images/example_of_filtered_waveform/1_run_in_sv1_sv1_312.eps\n"
     ]
    },
    {
     "name": "stderr",
     "output_type": "stream",
     "text": [
      "The PostScript backend does not support transparency; partially transparent artists will be rendered opaque.\n"
     ]
    },
    {
     "name": "stdout",
     "output_type": "stream",
     "text": [
      "Plot saved to /home/michele/Desktop/Dottorato/active_source_implementation/experiments_Brava_2/s0176/images/example_of_filtered_waveform/1_run_in_sv1_sv1_338.eps\n"
     ]
    },
    {
     "name": "stderr",
     "output_type": "stream",
     "text": [
      "The PostScript backend does not support transparency; partially transparent artists will be rendered opaque.\n"
     ]
    },
    {
     "name": "stdout",
     "output_type": "stream",
     "text": [
      "Plot saved to /home/michele/Desktop/Dottorato/active_source_implementation/experiments_Brava_2/s0176/images/example_of_filtered_waveform/1_run_in_sv1_sv1_364.eps\n",
      "Plot saved to /home/michele/Desktop/Dottorato/active_source_implementation/experiments_Brava_2/s0176/images/example_of_filtered_waveform/1_run_in_sv1_sv1_390.eps\n"
     ]
    },
    {
     "name": "stderr",
     "output_type": "stream",
     "text": [
      "The PostScript backend does not support transparency; partially transparent artists will be rendered opaque.\n",
      "The PostScript backend does not support transparency; partially transparent artists will be rendered opaque.\n"
     ]
    },
    {
     "name": "stdout",
     "output_type": "stream",
     "text": [
      "Plot saved to /home/michele/Desktop/Dottorato/active_source_implementation/experiments_Brava_2/s0176/images/example_of_filtered_waveform/1_run_in_sv1_sv1_416.eps\n"
     ]
    },
    {
     "name": "stderr",
     "output_type": "stream",
     "text": [
      "The PostScript backend does not support transparency; partially transparent artists will be rendered opaque.\n"
     ]
    },
    {
     "name": "stdout",
     "output_type": "stream",
     "text": [
      "Plot saved to /home/michele/Desktop/Dottorato/active_source_implementation/experiments_Brava_2/s0176/images/example_of_filtered_waveform/1_run_in_sv1_sv1_442.eps\n",
      "Plot saved to /home/michele/Desktop/Dottorato/active_source_implementation/experiments_Brava_2/s0176/images/example_of_filtered_waveform/1_run_in_sv1_sv1_468.eps\n"
     ]
    },
    {
     "name": "stderr",
     "output_type": "stream",
     "text": [
      "The PostScript backend does not support transparency; partially transparent artists will be rendered opaque.\n"
     ]
    },
    {
     "name": "stdout",
     "output_type": "stream",
     "text": [
      "Plot saved to /home/michele/Desktop/Dottorato/active_source_implementation/experiments_Brava_2/s0176/images/example_of_filtered_waveform/1_run_in_sv1_sv1_494.eps\n"
     ]
    },
    {
     "name": "stderr",
     "output_type": "stream",
     "text": [
      "The PostScript backend does not support transparency; partially transparent artists will be rendered opaque.\n"
     ]
    },
    {
     "name": "stdout",
     "output_type": "stream",
     "text": [
      "Plot saved to /home/michele/Desktop/Dottorato/active_source_implementation/experiments_Brava_2/s0176/images/example_of_filtered_waveform/1_run_in_sv1_sv1_520.eps\n"
     ]
    },
    {
     "name": "stderr",
     "output_type": "stream",
     "text": [
      "The PostScript backend does not support transparency; partially transparent artists will be rendered opaque.\n"
     ]
    },
    {
     "name": "stdout",
     "output_type": "stream",
     "text": [
      "Plot saved to /home/michele/Desktop/Dottorato/active_source_implementation/experiments_Brava_2/s0176/images/example_of_filtered_waveform/1_run_in_sv1_sv1_546.eps\n"
     ]
    },
    {
     "name": "stderr",
     "output_type": "stream",
     "text": [
      "The PostScript backend does not support transparency; partially transparent artists will be rendered opaque.\n",
      "The PostScript backend does not support transparency; partially transparent artists will be rendered opaque.\n"
     ]
    },
    {
     "name": "stdout",
     "output_type": "stream",
     "text": [
      "Plot saved to /home/michele/Desktop/Dottorato/active_source_implementation/experiments_Brava_2/s0176/images/example_of_filtered_waveform/1_run_in_sv1_sv1_572.eps\n"
     ]
    },
    {
     "name": "stderr",
     "output_type": "stream",
     "text": [
      "The PostScript backend does not support transparency; partially transparent artists will be rendered opaque.\n"
     ]
    },
    {
     "name": "stdout",
     "output_type": "stream",
     "text": [
      "Plot saved to /home/michele/Desktop/Dottorato/active_source_implementation/experiments_Brava_2/s0176/images/example_of_filtered_waveform/1_run_in_sv1_sv1_598.eps\n"
     ]
    },
    {
     "name": "stderr",
     "output_type": "stream",
     "text": [
      "The PostScript backend does not support transparency; partially transparent artists will be rendered opaque.\n"
     ]
    },
    {
     "name": "stdout",
     "output_type": "stream",
     "text": [
      "Plot saved to /home/michele/Desktop/Dottorato/active_source_implementation/experiments_Brava_2/s0176/images/example_of_filtered_waveform/1_run_in_sv1_sv1_624.eps\n"
     ]
    },
    {
     "name": "stderr",
     "output_type": "stream",
     "text": [
      "The PostScript backend does not support transparency; partially transparent artists will be rendered opaque.\n"
     ]
    },
    {
     "name": "stdout",
     "output_type": "stream",
     "text": [
      "Plot saved to /home/michele/Desktop/Dottorato/active_source_implementation/experiments_Brava_2/s0176/images/example_of_filtered_waveform/1_run_in_sv1_sv1_650.eps\n"
     ]
    },
    {
     "name": "stderr",
     "output_type": "stream",
     "text": [
      "The PostScript backend does not support transparency; partially transparent artists will be rendered opaque.\n"
     ]
    },
    {
     "name": "stdout",
     "output_type": "stream",
     "text": [
      "Plot saved to /home/michele/Desktop/Dottorato/active_source_implementation/experiments_Brava_2/s0176/images/example_of_filtered_waveform/1_run_in_sv1_sv1_676.eps\n"
     ]
    },
    {
     "name": "stderr",
     "output_type": "stream",
     "text": [
      "The PostScript backend does not support transparency; partially transparent artists will be rendered opaque.\n"
     ]
    },
    {
     "name": "stdout",
     "output_type": "stream",
     "text": [
      "Plot saved to /home/michele/Desktop/Dottorato/active_source_implementation/experiments_Brava_2/s0176/images/example_of_filtered_waveform/1_run_in_sv1_sv1_702.eps\n"
     ]
    },
    {
     "name": "stderr",
     "output_type": "stream",
     "text": [
      "The PostScript backend does not support transparency; partially transparent artists will be rendered opaque.\n"
     ]
    },
    {
     "name": "stdout",
     "output_type": "stream",
     "text": [
      "Plot saved to /home/michele/Desktop/Dottorato/active_source_implementation/experiments_Brava_2/s0176/images/example_of_filtered_waveform/1_run_in_sv1_sv1_728.eps\n"
     ]
    },
    {
     "name": "stderr",
     "output_type": "stream",
     "text": [
      "The PostScript backend does not support transparency; partially transparent artists will be rendered opaque.\n"
     ]
    },
    {
     "name": "stdout",
     "output_type": "stream",
     "text": [
      "Plot saved to /home/michele/Desktop/Dottorato/active_source_implementation/experiments_Brava_2/s0176/images/example_of_filtered_waveform/1_run_in_sv1_sv1_754.eps\n"
     ]
    },
    {
     "name": "stderr",
     "output_type": "stream",
     "text": [
      "The PostScript backend does not support transparency; partially transparent artists will be rendered opaque.\n"
     ]
    },
    {
     "name": "stdout",
     "output_type": "stream",
     "text": [
      "Plot saved to /home/michele/Desktop/Dottorato/active_source_implementation/experiments_Brava_2/s0176/images/example_of_filtered_waveform/1_run_in_sv1_sv1_780.eps\n",
      "Plot saved to /home/michele/Desktop/Dottorato/active_source_implementation/experiments_Brava_2/s0176/images/example_of_filtered_waveform/1_run_in_sv1_sv1_806.eps\n",
      "--- 12.241408586502075 seconds for processing 1_run_in_sv1_sv1---\n",
      "PROCESSING UW DATA IN /home/michele/Desktop/Dottorato/active_source_implementation/experiments_Brava_2/s0176/data_tsv_files/1_run_in_sv1_sv2.bscan.tsv: \n"
     ]
    },
    {
     "name": "stderr",
     "output_type": "stream",
     "text": [
      "The PostScript backend does not support transparency; partially transparent artists will be rendered opaque.\n"
     ]
    },
    {
     "name": "stdout",
     "output_type": "stream",
     "text": [
      "Plot saved to /home/michele/Desktop/Dottorato/active_source_implementation/experiments_Brava_2/s0176/images/waveforms/1_run_in_sv1_sv2.eps\n",
      "Plot saved to /home/michele/Desktop/Dottorato/active_source_implementation/experiments_Brava_2/s0176/images/amplitude_maps/1_run_in_sv1_sv2.eps\n"
     ]
    },
    {
     "name": "stderr",
     "output_type": "stream",
     "text": [
      "The PostScript backend does not support transparency; partially transparent artists will be rendered opaque.\n"
     ]
    },
    {
     "name": "stdout",
     "output_type": "stream",
     "text": [
      "Plot saved to /home/michele/Desktop/Dottorato/active_source_implementation/experiments_Brava_2/s0176/images/waveforms/1_run_in_sv1_sv2_filtered.eps\n"
     ]
    },
    {
     "name": "stderr",
     "output_type": "stream",
     "text": [
      "The PostScript backend does not support transparency; partially transparent artists will be rendered opaque.\n"
     ]
    },
    {
     "name": "stdout",
     "output_type": "stream",
     "text": [
      "Plot saved to /home/michele/Desktop/Dottorato/active_source_implementation/experiments_Brava_2/s0176/images/amplitude_maps/1_run_in_sv1_sv2_filtered.eps\n",
      "Plot saved to /home/michele/Desktop/Dottorato/active_source_implementation/experiments_Brava_2/s0176/images/example_of_filtered_waveform/1_run_in_sv1_sv2_0.eps\n"
     ]
    },
    {
     "name": "stderr",
     "output_type": "stream",
     "text": [
      "The PostScript backend does not support transparency; partially transparent artists will be rendered opaque.\n",
      "The PostScript backend does not support transparency; partially transparent artists will be rendered opaque.\n"
     ]
    },
    {
     "name": "stdout",
     "output_type": "stream",
     "text": [
      "Plot saved to /home/michele/Desktop/Dottorato/active_source_implementation/experiments_Brava_2/s0176/images/example_of_filtered_waveform/1_run_in_sv1_sv2_26.eps\n",
      "Plot saved to /home/michele/Desktop/Dottorato/active_source_implementation/experiments_Brava_2/s0176/images/example_of_filtered_waveform/1_run_in_sv1_sv2_52.eps\n"
     ]
    },
    {
     "name": "stderr",
     "output_type": "stream",
     "text": [
      "The PostScript backend does not support transparency; partially transparent artists will be rendered opaque.\n",
      "The PostScript backend does not support transparency; partially transparent artists will be rendered opaque.\n"
     ]
    },
    {
     "name": "stdout",
     "output_type": "stream",
     "text": [
      "Plot saved to /home/michele/Desktop/Dottorato/active_source_implementation/experiments_Brava_2/s0176/images/example_of_filtered_waveform/1_run_in_sv1_sv2_78.eps\n",
      "Plot saved to /home/michele/Desktop/Dottorato/active_source_implementation/experiments_Brava_2/s0176/images/example_of_filtered_waveform/1_run_in_sv1_sv2_104.eps\n"
     ]
    },
    {
     "name": "stderr",
     "output_type": "stream",
     "text": [
      "The PostScript backend does not support transparency; partially transparent artists will be rendered opaque.\n",
      "The PostScript backend does not support transparency; partially transparent artists will be rendered opaque.\n"
     ]
    },
    {
     "name": "stdout",
     "output_type": "stream",
     "text": [
      "Plot saved to /home/michele/Desktop/Dottorato/active_source_implementation/experiments_Brava_2/s0176/images/example_of_filtered_waveform/1_run_in_sv1_sv2_130.eps\n"
     ]
    },
    {
     "name": "stderr",
     "output_type": "stream",
     "text": [
      "The PostScript backend does not support transparency; partially transparent artists will be rendered opaque.\n"
     ]
    },
    {
     "name": "stdout",
     "output_type": "stream",
     "text": [
      "Plot saved to /home/michele/Desktop/Dottorato/active_source_implementation/experiments_Brava_2/s0176/images/example_of_filtered_waveform/1_run_in_sv1_sv2_156.eps\n",
      "Plot saved to /home/michele/Desktop/Dottorato/active_source_implementation/experiments_Brava_2/s0176/images/example_of_filtered_waveform/1_run_in_sv1_sv2_182.eps\n"
     ]
    },
    {
     "name": "stderr",
     "output_type": "stream",
     "text": [
      "The PostScript backend does not support transparency; partially transparent artists will be rendered opaque.\n",
      "The PostScript backend does not support transparency; partially transparent artists will be rendered opaque.\n"
     ]
    },
    {
     "name": "stdout",
     "output_type": "stream",
     "text": [
      "Plot saved to /home/michele/Desktop/Dottorato/active_source_implementation/experiments_Brava_2/s0176/images/example_of_filtered_waveform/1_run_in_sv1_sv2_208.eps\n"
     ]
    },
    {
     "name": "stderr",
     "output_type": "stream",
     "text": [
      "The PostScript backend does not support transparency; partially transparent artists will be rendered opaque.\n"
     ]
    },
    {
     "name": "stdout",
     "output_type": "stream",
     "text": [
      "Plot saved to /home/michele/Desktop/Dottorato/active_source_implementation/experiments_Brava_2/s0176/images/example_of_filtered_waveform/1_run_in_sv1_sv2_234.eps\n"
     ]
    },
    {
     "name": "stderr",
     "output_type": "stream",
     "text": [
      "The PostScript backend does not support transparency; partially transparent artists will be rendered opaque.\n"
     ]
    },
    {
     "name": "stdout",
     "output_type": "stream",
     "text": [
      "Plot saved to /home/michele/Desktop/Dottorato/active_source_implementation/experiments_Brava_2/s0176/images/example_of_filtered_waveform/1_run_in_sv1_sv2_260.eps\n"
     ]
    },
    {
     "name": "stderr",
     "output_type": "stream",
     "text": [
      "The PostScript backend does not support transparency; partially transparent artists will be rendered opaque.\n"
     ]
    },
    {
     "name": "stdout",
     "output_type": "stream",
     "text": [
      "Plot saved to /home/michele/Desktop/Dottorato/active_source_implementation/experiments_Brava_2/s0176/images/example_of_filtered_waveform/1_run_in_sv1_sv2_286.eps\n"
     ]
    },
    {
     "name": "stderr",
     "output_type": "stream",
     "text": [
      "The PostScript backend does not support transparency; partially transparent artists will be rendered opaque.\n"
     ]
    },
    {
     "name": "stdout",
     "output_type": "stream",
     "text": [
      "Plot saved to /home/michele/Desktop/Dottorato/active_source_implementation/experiments_Brava_2/s0176/images/example_of_filtered_waveform/1_run_in_sv1_sv2_312.eps\n"
     ]
    },
    {
     "name": "stderr",
     "output_type": "stream",
     "text": [
      "The PostScript backend does not support transparency; partially transparent artists will be rendered opaque.\n"
     ]
    },
    {
     "name": "stdout",
     "output_type": "stream",
     "text": [
      "Plot saved to /home/michele/Desktop/Dottorato/active_source_implementation/experiments_Brava_2/s0176/images/example_of_filtered_waveform/1_run_in_sv1_sv2_338.eps\n"
     ]
    },
    {
     "name": "stderr",
     "output_type": "stream",
     "text": [
      "The PostScript backend does not support transparency; partially transparent artists will be rendered opaque.\n"
     ]
    },
    {
     "name": "stdout",
     "output_type": "stream",
     "text": [
      "Plot saved to /home/michele/Desktop/Dottorato/active_source_implementation/experiments_Brava_2/s0176/images/example_of_filtered_waveform/1_run_in_sv1_sv2_364.eps\n"
     ]
    },
    {
     "name": "stderr",
     "output_type": "stream",
     "text": [
      "The PostScript backend does not support transparency; partially transparent artists will be rendered opaque.\n"
     ]
    },
    {
     "name": "stdout",
     "output_type": "stream",
     "text": [
      "Plot saved to /home/michele/Desktop/Dottorato/active_source_implementation/experiments_Brava_2/s0176/images/example_of_filtered_waveform/1_run_in_sv1_sv2_390.eps\n"
     ]
    },
    {
     "name": "stderr",
     "output_type": "stream",
     "text": [
      "The PostScript backend does not support transparency; partially transparent artists will be rendered opaque.\n"
     ]
    },
    {
     "name": "stdout",
     "output_type": "stream",
     "text": [
      "Plot saved to /home/michele/Desktop/Dottorato/active_source_implementation/experiments_Brava_2/s0176/images/example_of_filtered_waveform/1_run_in_sv1_sv2_416.eps\n"
     ]
    },
    {
     "name": "stderr",
     "output_type": "stream",
     "text": [
      "The PostScript backend does not support transparency; partially transparent artists will be rendered opaque.\n"
     ]
    },
    {
     "name": "stdout",
     "output_type": "stream",
     "text": [
      "Plot saved to /home/michele/Desktop/Dottorato/active_source_implementation/experiments_Brava_2/s0176/images/example_of_filtered_waveform/1_run_in_sv1_sv2_442.eps\n"
     ]
    },
    {
     "name": "stderr",
     "output_type": "stream",
     "text": [
      "The PostScript backend does not support transparency; partially transparent artists will be rendered opaque.\n"
     ]
    },
    {
     "name": "stdout",
     "output_type": "stream",
     "text": [
      "Plot saved to /home/michele/Desktop/Dottorato/active_source_implementation/experiments_Brava_2/s0176/images/example_of_filtered_waveform/1_run_in_sv1_sv2_468.eps\n",
      "Plot saved to /home/michele/Desktop/Dottorato/active_source_implementation/experiments_Brava_2/s0176/images/example_of_filtered_waveform/1_run_in_sv1_sv2_494.eps\n"
     ]
    },
    {
     "name": "stderr",
     "output_type": "stream",
     "text": [
      "The PostScript backend does not support transparency; partially transparent artists will be rendered opaque.\n"
     ]
    },
    {
     "name": "stdout",
     "output_type": "stream",
     "text": [
      "Plot saved to /home/michele/Desktop/Dottorato/active_source_implementation/experiments_Brava_2/s0176/images/example_of_filtered_waveform/1_run_in_sv1_sv2_520.eps\n"
     ]
    },
    {
     "name": "stderr",
     "output_type": "stream",
     "text": [
      "The PostScript backend does not support transparency; partially transparent artists will be rendered opaque.\n"
     ]
    },
    {
     "name": "stdout",
     "output_type": "stream",
     "text": [
      "Plot saved to /home/michele/Desktop/Dottorato/active_source_implementation/experiments_Brava_2/s0176/images/example_of_filtered_waveform/1_run_in_sv1_sv2_546.eps\n"
     ]
    },
    {
     "name": "stderr",
     "output_type": "stream",
     "text": [
      "The PostScript backend does not support transparency; partially transparent artists will be rendered opaque.\n"
     ]
    },
    {
     "name": "stdout",
     "output_type": "stream",
     "text": [
      "Plot saved to /home/michele/Desktop/Dottorato/active_source_implementation/experiments_Brava_2/s0176/images/example_of_filtered_waveform/1_run_in_sv1_sv2_572.eps\n"
     ]
    },
    {
     "name": "stderr",
     "output_type": "stream",
     "text": [
      "The PostScript backend does not support transparency; partially transparent artists will be rendered opaque.\n"
     ]
    },
    {
     "name": "stdout",
     "output_type": "stream",
     "text": [
      "Plot saved to /home/michele/Desktop/Dottorato/active_source_implementation/experiments_Brava_2/s0176/images/example_of_filtered_waveform/1_run_in_sv1_sv2_598.eps\n"
     ]
    },
    {
     "name": "stderr",
     "output_type": "stream",
     "text": [
      "The PostScript backend does not support transparency; partially transparent artists will be rendered opaque.\n"
     ]
    },
    {
     "name": "stdout",
     "output_type": "stream",
     "text": [
      "Plot saved to /home/michele/Desktop/Dottorato/active_source_implementation/experiments_Brava_2/s0176/images/example_of_filtered_waveform/1_run_in_sv1_sv2_624.eps\n"
     ]
    },
    {
     "name": "stderr",
     "output_type": "stream",
     "text": [
      "The PostScript backend does not support transparency; partially transparent artists will be rendered opaque.\n",
      "The PostScript backend does not support transparency; partially transparent artists will be rendered opaque.\n"
     ]
    },
    {
     "name": "stdout",
     "output_type": "stream",
     "text": [
      "Plot saved to /home/michele/Desktop/Dottorato/active_source_implementation/experiments_Brava_2/s0176/images/example_of_filtered_waveform/1_run_in_sv1_sv2_650.eps\n",
      "Plot saved to /home/michele/Desktop/Dottorato/active_source_implementation/experiments_Brava_2/s0176/images/example_of_filtered_waveform/1_run_in_sv1_sv2_676.eps\n"
     ]
    },
    {
     "name": "stderr",
     "output_type": "stream",
     "text": [
      "The PostScript backend does not support transparency; partially transparent artists will be rendered opaque.\n"
     ]
    },
    {
     "name": "stdout",
     "output_type": "stream",
     "text": [
      "Plot saved to /home/michele/Desktop/Dottorato/active_source_implementation/experiments_Brava_2/s0176/images/example_of_filtered_waveform/1_run_in_sv1_sv2_702.eps\n"
     ]
    },
    {
     "name": "stderr",
     "output_type": "stream",
     "text": [
      "The PostScript backend does not support transparency; partially transparent artists will be rendered opaque.\n"
     ]
    },
    {
     "name": "stdout",
     "output_type": "stream",
     "text": [
      "Plot saved to /home/michele/Desktop/Dottorato/active_source_implementation/experiments_Brava_2/s0176/images/example_of_filtered_waveform/1_run_in_sv1_sv2_728.eps\n"
     ]
    },
    {
     "name": "stderr",
     "output_type": "stream",
     "text": [
      "The PostScript backend does not support transparency; partially transparent artists will be rendered opaque.\n"
     ]
    },
    {
     "name": "stdout",
     "output_type": "stream",
     "text": [
      "Plot saved to /home/michele/Desktop/Dottorato/active_source_implementation/experiments_Brava_2/s0176/images/example_of_filtered_waveform/1_run_in_sv1_sv2_754.eps\n"
     ]
    },
    {
     "name": "stderr",
     "output_type": "stream",
     "text": [
      "The PostScript backend does not support transparency; partially transparent artists will be rendered opaque.\n"
     ]
    },
    {
     "name": "stdout",
     "output_type": "stream",
     "text": [
      "Plot saved to /home/michele/Desktop/Dottorato/active_source_implementation/experiments_Brava_2/s0176/images/example_of_filtered_waveform/1_run_in_sv1_sv2_780.eps\n"
     ]
    },
    {
     "name": "stderr",
     "output_type": "stream",
     "text": [
      "The PostScript backend does not support transparency; partially transparent artists will be rendered opaque.\n"
     ]
    },
    {
     "name": "stdout",
     "output_type": "stream",
     "text": [
      "Plot saved to /home/michele/Desktop/Dottorato/active_source_implementation/experiments_Brava_2/s0176/images/example_of_filtered_waveform/1_run_in_sv1_sv2_806.eps\n",
      "--- 12.165818452835083 seconds for processing 1_run_in_sv1_sv2---\n",
      "PROCESSING UW DATA IN /home/michele/Desktop/Dottorato/active_source_implementation/experiments_Brava_2/s0176/data_tsv_files/2_rec_51to60_stick_slip_sv1_sh1.bscan.tsv: \n"
     ]
    }
   ],
   "source": [
    "###### INPUT #######\n",
    "\n",
    "machine_name = \"Brava_2\"\n",
    "experiment_name = \"s0176\"\n",
    "data_type = \"data_tsv_files\"\n",
    "\n",
    "### Some plot features ###\n",
    "image_types = (\"waveforms\",\"amplitude_maps\",\"amplitude_spectrum_maps\", \"example_of_filtered_spectrum\",\"example_of_filtered_waveform\")\n",
    "remove_initial_samples = 175    # number of samples to be removed at the beginning, to get rid of the noise burst.\n",
    "highlight_start = 0\n",
    "highlight_end = 0\n",
    "xlim_plot= 50\n",
    "ticks_steps_waveforms = 2 #[microseconds] plot ticks \n",
    "step_wf_to_plot = 100  # get one waveforms each step_wf_to_plot \n",
    "amp_scale = 300  #color map for amplitude scale\n",
    "freq_cut = 5   # [Hz] lowpass frequency threshold \n",
    "\n",
    "\n",
    "infile_path_list = make_infile_path_list(machine_name,experiment_name,  data_type = data_type)\n",
    "outdir_path_images = make_images_folders(machine_name, experiment_name, image_types)       \n",
    "\n",
    "for infile_path in sorted(infile_path_list):\n",
    "    try: \n",
    "        print('PROCESSING UW DATA IN %s: ' %infile_path)\n",
    "\n",
    "        data,metadata = make_UW_data(infile_path)\n",
    "        data,metadata = remove_starting_noise(data, metadata, remove_initial_samples)\n",
    "\n",
    "        #CHOOSE THE FILE PATH OF THE OUTPUT. Add here a line for each type of images you want and call the relative plot function with the choosen path\n",
    "        outfile_name = os.path.basename(infile_path).split('.')[0]    # remove extension\n",
    "\n",
    "        outfile_path_waveforms = os.path.join(outdir_path_images[0], outfile_name)\n",
    "        outfile_path_amp_map = os.path.join(outdir_path_images[1], outfile_name)\n",
    "        outfile_path_spectrum_map = os.path.join(outdir_path_images[2], outfile_name)\n",
    "        outfile_path_example_filtered_spectrum = os.path.join(outdir_path_images[3], outfile_name)\n",
    "        outfile_path_example_original_vs_filtered = os.path.join(outdir_path_images[4], outfile_name)\n",
    "\n",
    "\n",
    "        ## PLOT DATA ###\n",
    "        start_time = tm.time()\n",
    "        uw_all_plot(data, metadata, step_wf_to_plot, highlight_start, highlight_end, \n",
    "                    xlim_plot, ticks_steps_waveforms, outfile_path = outfile_path_waveforms)\n",
    "        amplitude_map(data,metadata, amp_scale, outfile_path=outfile_path_amp_map)\n",
    "\n",
    "        # FILTER WITH A LOWPASS AND PLOT THE AMPLITUDE MAP OF THE SPECTRUM\n",
    "        filtered_data, noise_recostructed = signal2noise_separation_lowpass(data, metadata, freq_cut=freq_cut, outfile_path= outfile_path_spectrum_map)\n",
    "\n",
    "        # PLOT THE FILTERED DATA IN THE SAME FOLDERS OF THE ORIGINAL DATA\n",
    "        uw_all_plot(filtered_data, metadata, step_wf_to_plot, highlight_start, highlight_end, \n",
    "                    xlim_plot, ticks_steps_waveforms, outfile_path = outfile_path_waveforms + \"_filtered\")\n",
    "        amplitude_map(filtered_data,metadata, amp_scale,outfile_path = outfile_path_amp_map + \"_filtered\")\n",
    "\n",
    "        # wave_chosed = randint(0,metadata['number_of_waveforms']-1)  # \"-1\" is there to avoid possible extraction of last sample that is \"out of bound\" cause python count from 0 \n",
    "        wave_chosed_list = range(0,metadata['number_of_waveforms'],int(metadata['number_of_waveforms']/30))\n",
    "        for wave_chosed in wave_chosed_list:\n",
    "            single_waveform = data[wave_chosed,:]\n",
    "            filtered_single_waveform, filtered_noise_recostructed = signal2noise_separation_lowpass(single_waveform, metadata, freq_cut=freq_cut, outfile_path=outfile_path_example_filtered_spectrum)\n",
    "            signal_vs_filtered_signal_plot(single_waveform, filtered_single_waveform, metadata, freq_cut=freq_cut, outfile_path = outfile_path_example_original_vs_filtered + f\"_{wave_chosed}\")\n",
    "\n",
    "        print(\"--- %s seconds for processing %s---\" % (tm.time() - start_time, outfile_name))\n",
    "\n",
    "    except:\n",
    "        pass\n",
    "        "
   ]
  },
  {
   "cell_type": "code",
   "execution_count": null,
   "metadata": {},
   "outputs": [],
   "source": []
  }
 ],
 "metadata": {
  "kernelspec": {
   "display_name": ".venv",
   "language": "python",
   "name": "python3"
  },
  "language_info": {
   "codemirror_mode": {
    "name": "ipython",
    "version": 3
   },
   "file_extension": ".py",
   "mimetype": "text/x-python",
   "name": "python",
   "nbconvert_exporter": "python",
   "pygments_lexer": "ipython3",
   "version": "3.10.12"
  }
 },
 "nbformat": 4,
 "nbformat_minor": 2
}
