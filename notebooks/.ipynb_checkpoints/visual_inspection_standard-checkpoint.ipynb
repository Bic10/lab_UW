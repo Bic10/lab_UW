{
 "cells": [
  {
   "cell_type": "code",
   "execution_count": 2,
   "metadata": {},
   "outputs": [
    {
     "ename": "ModuleNotFoundError",
     "evalue": "No module named 'src'",
     "output_type": "error",
     "traceback": [
      "\u001b[0;31m---------------------------------------------------------------------------\u001b[0m",
      "\u001b[0;31mModuleNotFoundError\u001b[0m                       Traceback (most recent call last)",
      "Cell \u001b[0;32mIn[2], line 5\u001b[0m\n\u001b[1;32m      3\u001b[0m \u001b[38;5;28;01mimport\u001b[39;00m \u001b[38;5;21;01mtime\u001b[39;00m \u001b[38;5;28;01mas\u001b[39;00m \u001b[38;5;21;01mtm\u001b[39;00m\n\u001b[1;32m      4\u001b[0m \u001b[38;5;28;01mimport\u001b[39;00m \u001b[38;5;21;01mmultiprocessing\u001b[39;00m \u001b[38;5;28;01mas\u001b[39;00m \u001b[38;5;21;01mmp\u001b[39;00m   \n\u001b[0;32m----> 5\u001b[0m \u001b[38;5;28;01mfrom\u001b[39;00m \u001b[38;5;21;01msrc\u001b[39;00m\u001b[38;5;21;01m.\u001b[39;00m\u001b[38;5;21;01mfile_io\u001b[39;00m \u001b[38;5;28;01mimport\u001b[39;00m \u001b[38;5;241m*\u001b[39m\n\u001b[1;32m      6\u001b[0m \u001b[38;5;28;01mfrom\u001b[39;00m \u001b[38;5;21;01msrc\u001b[39;00m\u001b[38;5;21;01m.\u001b[39;00m\u001b[38;5;21;01mplotting\u001b[39;00m \u001b[38;5;28;01mimport\u001b[39;00m \u001b[38;5;241m*\u001b[39m\n",
      "\u001b[0;31mModuleNotFoundError\u001b[0m: No module named 'src'"
     ]
    }
   ],
   "source": [
    "from random import randint\n",
    "import os\n",
    "import time as tm\n",
    "import multiprocessing as mp   \n",
    "from src.file_io import *\n",
    "from src.plotting import *"
   ]
  },
  {
   "cell_type": "code",
   "execution_count": null,
   "metadata": {},
   "outputs": [],
   "source": [
    "###### INPUT #######\n",
    "\n",
    "machine_name = \"Brava_2\"\n",
    "experiment_name = \"s0108\"\n",
    "data_type = \"data_tsv_files\"\n",
    "\n",
    "### Some plot features ###\n",
    "image_types = (\"waveforms\",\"amplitude_maps\",\"amplitude_spectrum_maps\", \"example_of_filtered_spectrum\",\"example_of_filtered_waveform\")\n",
    "FORMAT = '.png'\n",
    "remove_initial_samples = 200    # number of samples to be removed at the beginning, to get rid of the noise burst.\n",
    "highlight_start = 0\n",
    "highlight_end = 0\n",
    "xlim_plot= 50\n",
    "ticks_steps_waveforms = 2 #[microseconds] plot ticks \n",
    "step_wf_to_plot = 100  # get one waveforms each step_wf_to_plot \n",
    "amp_scale = 300  #color map for amplitude scale\n",
    "freq_cut = 5   # [Hz] lowpass frequency threshold \n",
    "\n",
    "\n",
    "infile_path_list = make_infile_path_list(machine_name,experiment_name,  data_type = data_type)\n",
    "outdir_path_images = make_images_folders(machine_name, experiment_name, image_types)       \n",
    "\n",
    "for infile_path in sorted(infile_path_list):\n",
    "    print('PROCESSING UW DATA IN %s: ' %infile_path)\n",
    "\n",
    "    data,metadata = make_UW_data(infile_path)\n",
    "    data,metadata = remove_starting_noise(data, metadata, remove_initial_samples)\n",
    "\n",
    "    #CHOOSE THE FILE PATH OF THE OUTPUT. Add here a line for each type of images you want and call the relative plot function with the choosen path\n",
    "    outfile_name = os.path.basename(infile_path).split('.')[0]    # remove extension\n",
    "\n",
    "    outfile_path_waveforms = os.path.join(outdir_path_images[0], outfile_name)\n",
    "    outfile_path_amp_map = os.path.join(outdir_path_images[1], outfile_name)\n",
    "    outfile_path_spectrum_map = os.path.join(outdir_path_images[2], outfile_name)\n",
    "    outfile_path_example_filtered_spectrum = os.path.join(outdir_path_images[3], outfile_name)\n",
    "    outfile_path_example_original_vs_filtered = os.path.join(outdir_path_images[4], outfile_name)\n",
    "\n",
    "\n",
    "    ## PLOT DATA ###\n",
    "    start_time = tm.time()\n",
    "    uw_all_plot(data, metadata, step_wf_to_plot, highlight_start, highlight_end, \n",
    "                xlim_plot, ticks_steps_waveforms, outfile_path = outfile_path_waveforms, format = FORMAT)\n",
    "    amplitude_map(data,metadata, amp_scale, outfile_path=outfile_path_amp_map, format = FORMAT)\n",
    "\n",
    "    # FILTER WITH A LOWPASS AND PLOT THE AMPLITUDE MAP OF THE SPECTRUM\n",
    "    filtered_data, noise_recostructed = signal2noise_separation_lowpass(data, metadata, freq_cut=freq_cut, outfile_path= outfile_path_spectrum_map, format=FORMAT )\n",
    "\n",
    "    # PLOT THE FILTERED DATA IN THE SAME FOLDERS OF THE ORIGINAL DATA\n",
    "    uw_all_plot(filtered_data, metadata, step_wf_to_plot, highlight_start, highlight_end, \n",
    "                xlim_plot, ticks_steps_waveforms, outfile_path = outfile_path_waveforms + \"_filtered\", format = FORMAT)\n",
    "    amplitude_map(filtered_data,metadata, amp_scale,outfile_path = outfile_path_amp_map + \"_filtered\", format = FORMAT)\n",
    "\n",
    "    wave_chosed = randint(0,metadata['number_of_waveforms']-1)  # \"-1\" is there to avoid possible extraction of last sample that is \"out of bound\" cause python count from 0 \n",
    "    single_waveform = data[wave_chosed,:]\n",
    "    filtered_single_waveform, filtered_noise_recostructed = signal2noise_separation_lowpass(single_waveform, metadata, freq_cut=freq_cut, outfile_path=outfile_path_example_filtered_spectrum)\n",
    "    signal_vs_filtered_signal_plot(single_waveform, filtered_single_waveform, metadata, freq_cut=freq_cut, outfile_path = outfile_path_example_original_vs_filtered, format = FORMAT)\n",
    "\n",
    "\n",
    "    print(\"--- %s seconds for processing %s---\" % (tm.time() - start_time, outfile_name))\n",
    "\n",
    "        "
   ]
  }
 ],
 "metadata": {
  "kernelspec": {
   "display_name": "friction",
   "language": "python",
   "name": "python3"
  },
  "language_info": {
   "codemirror_mode": {
    "name": "ipython",
    "version": 3
   },
   "file_extension": ".py",
   "mimetype": "text/x-python",
   "name": "python",
   "nbconvert_exporter": "python",
   "pygments_lexer": "ipython3",
   "version": "3.10.12"
  }
 },
 "nbformat": 4,
 "nbformat_minor": 2
}
