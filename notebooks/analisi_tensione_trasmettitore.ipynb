{
 "cells": [
  {
   "cell_type": "markdown",
   "metadata": {},
   "source": [
    "### Individuare, dagli esperimenti su materiali omogenei, la forma del fronte d'onda propagantesi. Sotto l'ulteriore ipotesi che in materiali come l'acciaio o il ferro l'attenuazione sia trascurabile, e' possibile prendere questo fronte d'onda come l'impulso immesso nel mezzo dal trasmettitore.\n",
    "\n",
    "### Uno step precedente a questo e' l'individuazione dello spettro di frequenza dell'energia immessa dalla tensione del generatore. Abbiamo acquisito le formde d'onda dell'impulso. Sono nella cartella \"oscilloscope_pulse\"."
   ]
  },
  {
   "cell_type": "code",
   "execution_count": null,
   "metadata": {},
   "outputs": [],
   "source": [
    "import os\n",
    "import random\n",
    "import numpy as np\n",
    "import matplotlib.pyplot as plt"
   ]
  },
  {
   "cell_type": "code",
   "execution_count": null,
   "metadata": {},
   "outputs": [],
   "source": [
    "code_path = os.getcwd()\n",
    "parent_folder = os.path.abspath(os.path.join(code_path, os.pardir))\n",
    "indir_path = os.path.join(parent_folder, \"oscilloscope_pulse\", \"data_oscilloscope\")\n"
   ]
  },
  {
   "cell_type": "code",
   "execution_count": null,
   "metadata": {},
   "outputs": [],
   "source": [
    "# VISUALIZE TENSION WAVEFORM\n",
    "infile_name = random.choice(os.listdir(indir_path))\n",
    "infile_path = os.path.join(indir_path,infile_name)\n",
    "with open(infile_path,\"r\") as infile:\n",
    "    metadata = dict()\n",
    "    data = list()\n",
    "    for line in infile:\n",
    "        line = line.split(\",\")[:-1]\n",
    "        try:\n",
    "            data.append(float(line[0]))\n",
    "        except ValueError:\n",
    "            try: \n",
    "                metadata[line[0]] = line[1]\n",
    "            except:\n",
    "                pass\n",
    "        \n",
    "plt.plot(data)"
   ]
  },
  {
   "cell_type": "markdown",
   "metadata": {},
   "source": [
    "### non si vede un cazzo. Chissa come minchia si registra st'impulso"
   ]
  }
 ],
 "metadata": {
  "kernelspec": {
   "display_name": "Python 3",
   "language": "python",
   "name": "python3"
  },
  "language_info": {
   "codemirror_mode": {
    "name": "ipython",
    "version": 3
   },
   "file_extension": ".py",
   "mimetype": "text/x-python",
   "name": "python",
   "nbconvert_exporter": "python",
   "pygments_lexer": "ipython3",
   "version": "3.10.12"
  }
 },
 "nbformat": 4,
 "nbformat_minor": 2
}
