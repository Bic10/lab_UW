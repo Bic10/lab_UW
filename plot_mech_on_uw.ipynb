{
 "cells": [
  {
   "cell_type": "code",
   "execution_count": 1,
   "metadata": {},
   "outputs": [],
   "source": [
    "import numpy as np\n",
    "import matplotlib.pyplot as plt\n",
    "import pandas as pd\n",
    "from LAB_UW_functions import *\n",
    "from scipy.signal import find_peaks"
   ]
  },
  {
   "cell_type": "code",
   "execution_count": 110,
   "metadata": {},
   "outputs": [],
   "source": [
    "machine_name = 'Brava_2'\n",
    "experiment_name = 's0108'\n",
    "data_type = 'data_tsv_files'\n",
    "mech_path = \"C:\\\\Users\\\\miche\\\\Documents\\\\Università\\\\PhD\\\\ACTIVE_SOURCE\\\\experiments_Brava_2\\\\s0108\\\\mechanical_data\\\\s0108sw06car102030_data_rp\"\n",
    "infile_path_list = make_infile_path_list(machine_name,experiment_name, data_type=data_type)\n",
    "\n",
    "uw_path = infile_path_list[9]\n"
   ]
  },
  {
   "cell_type": "code",
   "execution_count": 112,
   "metadata": {},
   "outputs": [],
   "source": [
    "data, metadata = make_UW_data(uw_path)"
   ]
  },
  {
   "cell_type": "code",
   "execution_count": 120,
   "metadata": {},
   "outputs": [],
   "source": [
    "time_ax_waveform = metadata['time_ax_waveform']\n",
    "start_time, end_time = time_ax_waveform[0], time_ax_waveform[-1]\n",
    "sampling_rate = metadata['sampling_rate']\n",
    "number_of_samples = metadata['number_of_samples']\n",
    "acquisition_frequency =  metadata['acquition_frequency']\n",
    "amp_scale = 120"
   ]
  },
  {
   "cell_type": "code",
   "execution_count": 121,
   "metadata": {},
   "outputs": [
    {
     "data": {
      "text/plain": [
       "(4254, 1750)"
      ]
     },
     "execution_count": 121,
     "metadata": {},
     "output_type": "execute_result"
    }
   ],
   "source": [
    "data.shape"
   ]
  },
  {
   "cell_type": "code",
   "execution_count": 122,
   "metadata": {},
   "outputs": [],
   "source": [
    "mech_data = pd.read_csv(mech_path, sep = ',', skiprows = [1])\n",
    "time_plot = mech_data.time_s[266238:270468]\n",
    "time_plot = time_plot-time_plot[266238]\n",
    "friction_plot = mech_data.friction_na[266238:270468]"
   ]
  },
  {
   "cell_type": "code",
   "execution_count": 123,
   "metadata": {},
   "outputs": [
    {
     "name": "stdout",
     "output_type": "stream",
     "text": [
      "(4230,)\n",
      "(4254, 1750)\n"
     ]
    }
   ],
   "source": [
    "print(time_plot.shape)\n",
    "print(data.shape)\n"
   ]
  },
  {
   "cell_type": "code",
   "execution_count": 142,
   "metadata": {},
   "outputs": [],
   "source": [
    "import matplotlib.pyplot as plt\n",
    "\n",
    "# Definisci la figura e gli assi\n",
    "fig, ax = plt.subplots(figsize=(15, 8))\n",
    "ax.plot(time_plot, friction_plot, color='k', label='Friction')\n",
    "\n",
    "# Codice per il plot con imshow\n",
    "cmap = plt.get_cmap('seismic')\n",
    "extent = [0, data.shape[0] * acquisition_frequency, 0, 2.5]\n",
    "im = ax.imshow(data.T[800:1000], aspect='auto', origin='lower', interpolation='none',\n",
    "               cmap=cmap, vmin=-amp_scale, vmax=amp_scale,\n",
    "               extent=extent)\n",
    "\n",
    "# Aggiungi la barra del colore\n",
    "cbar = fig.colorbar(im, ax=ax, pad=0.04)\n",
    "cbar.set_label(\"Relative Amplitude\", fontsize=14)\n",
    "# Personalizza etichette e titoli per l'asse\n",
    "ax.set_xlabel('Time [s]', fontsize=12)\n",
    "ax.set_ylabel('Wf_time [$\\mu s$]', fontsize=12)\n",
    "# Aggiungi il plot classico\n",
    "\n",
    "# Aggiungi legenda\n",
    "ax.legend()\n",
    "\n",
    "# Regola l'estensione dell'asse y per includere i dati del plot classico e l'intero intervallo di wf_time\n",
    "#ax.set_ylim([0, number_of_samples * sampling_rate])\n",
    "# Mostra il grafico\n",
    "plt.show()\n"
   ]
  },
  {
   "cell_type": "code",
   "execution_count": 66,
   "metadata": {},
   "outputs": [
    {
     "data": {
      "text/plain": [
       "array([ 0., -4., -2., ..., -8., -9., -6.])"
      ]
     },
     "execution_count": 66,
     "metadata": {},
     "output_type": "execute_result"
    }
   ],
   "source": []
  },
  {
   "cell_type": "code",
   "execution_count": null,
   "metadata": {},
   "outputs": [],
   "source": []
  }
 ],
 "metadata": {
  "kernelspec": {
   "display_name": "friction",
   "language": "python",
   "name": "python3"
  },
  "language_info": {
   "codemirror_mode": {
    "name": "ipython",
    "version": 3
   },
   "file_extension": ".py",
   "mimetype": "text/x-python",
   "name": "python",
   "nbconvert_exporter": "python",
   "pygments_lexer": "ipython3",
   "version": "3.11.3"
  }
 },
 "nbformat": 4,
 "nbformat_minor": 2
}
