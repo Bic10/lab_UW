{
 "cells": [
  {
   "cell_type": "code",
   "execution_count": 12,
   "metadata": {},
   "outputs": [],
   "source": [
    "import numpy as np\n",
    "import matplotlib.pyplot as plt\n",
    "import pandas as pd\n",
    "from LAb_UW_functions import *\n",
    "from scipy.signal import find_peaks\n",
    "import glob"
   ]
  },
  {
   "cell_type": "code",
   "execution_count": 13,
   "metadata": {},
   "outputs": [],
   "source": [
    "def find_mechanical_data(file_path_list, pattern):\n",
    "    \"\"\"\n",
    "    Trova un file specifico all'interno di una lista di percorsi dei file utilizzando un pattern.\n",
    "    \n",
    "    Args:\n",
    "        file_path_list (list): Lista di percorsi dei file in cui cercare il file.\n",
    "        pattern (str): Pattern per il nome del file da cercare.\n",
    "    \n",
    "    Returns:\n",
    "        str: Percorso completo del file trovato, o None se non viene trovato nessun file corrispondente.\n",
    "    \"\"\"\n",
    "    for file_path in file_path_list:\n",
    "        if glob.fnmatch.fnmatch(file_path, pattern):\n",
    "            print(\"MECHANICAL DATA CHOOSE:\", file_path)\n",
    "            return file_path\n",
    "    return None  # Nessun file trovato nella lista\n",
    "    \n",
    "\n",
    "def find_sync_values(mech_data_path):\n",
    "    \"\"\"\n",
    "    Trova i valori di picco sincronizzazione all'interno di un file di dati meccanici.\n",
    "\n",
    "    Questa funzione legge un file CSV contenente dati meccanici, estrae la colonna\n",
    "    relativa alla sincronizzazione e individua i picchi di sincronizzazione in base\n",
    "    ai parametri specificati.\n",
    "\n",
    "    Args:\n",
    "        mech_data_path (str): Percorso del file CSV contenente i dati meccanici.\n",
    "\n",
    "    Returns:\n",
    "        numpy.ndarray: Un array NumPy contenente gli indici dei picchi di sincronizzazione\n",
    "                       trovati nei dati meccanici.\n",
    "    \"\"\"\n",
    "    mech_data = pd.read_csv(mech_data_path, sep=',', skiprows=[1])\n",
    "    sync_data = mech_data.sync\n",
    "    \n",
    "    # Trova i picchi di sincronizzazione nei dati sincronizzazione\n",
    "    sync_peaks, _ = find_peaks(sync_data, prominence=4.2, height=4)\n",
    "    print(sync_peaks)\n",
    "    return mech_data, sync_data, sync_peaks"
   ]
  },
  {
   "cell_type": "code",
   "execution_count": 66,
   "metadata": {},
   "outputs": [
    {
     "name": "stdout",
     "output_type": "stream",
     "text": [
      "MECHANICAL DATA CHOOSE: c:\\Users\\miche\\Documents\\Università\\PhD\\ACTIVE_SOURCE\\experiments_Brava_2\\s0108\\mechanical_data\\s0108sw06car102030_data_rp\n"
     ]
    },
    {
     "data": {
      "text/plain": [
       "'c:\\\\Users\\\\miche\\\\Documents\\\\Università\\\\PhD\\\\ACTIVE_SOURCE\\\\experiments_Brava_2\\\\s0108\\\\data_tsv_files\\\\009_step_1_100_1_20MPa.bscan.tsv'"
      ]
     },
     "execution_count": 66,
     "metadata": {},
     "output_type": "execute_result"
    }
   ],
   "source": [
    "machine_name = 'Brava_2'\n",
    "experiment_name = 's0108'\n",
    "data_type_mech = 'mechanical_data'\n",
    "sync_file_pattern = '*s*_data_rp' #pattern to find specific experiment in mechanical data\n",
    "\n",
    "data_type_uw = 'data_tsv_files'\n",
    "remove_initial_samples = 50\n",
    "\n",
    "#MAKE MECHANICAL AND UW PATH LIST\n",
    "infile_path_list_mech = make_infile_path_list(machine_name, experiment_name, data_type=data_type_mech)\n",
    "infile_path_list_uw = sorted(make_infile_path_list(machine_name,experiment_name, data_type=data_type_uw))\n",
    "\n",
    "#LOAD MECHANICAL DATA\n",
    "mech_data_path= find_mechanical_data(infile_path_list_mech, sync_file_pattern)\n",
    "\n",
    "\n",
    "uw_path = infile_path_list_uw[8]\n",
    "uw_path\n"
   ]
  },
  {
   "cell_type": "code",
   "execution_count": 67,
   "metadata": {},
   "outputs": [
    {
     "name": "stdout",
     "output_type": "stream",
     "text": [
      "[  5582   8698  14897  20041  21539  25547  28955  65521  80497 116274\n",
      " 126306 128395 133717 135661 162041 198593 213558 249224 259432 261425\n",
      " 266238 270468 273597 309133 324191 359786 369610 374824]\n"
     ]
    }
   ],
   "source": [
    "mech_data, sync_data, sync_peaks = find_sync_values(mech_data_path)"
   ]
  },
  {
   "cell_type": "code",
   "execution_count": 68,
   "metadata": {},
   "outputs": [],
   "source": [
    "data_uw, metadata_uw = make_UW_data(uw_path)"
   ]
  },
  {
   "cell_type": "code",
   "execution_count": 69,
   "metadata": {},
   "outputs": [],
   "source": [
    "time_ax_waveform = metadata_uw['time_ax_waveform']\n",
    "start_time, end_time = time_ax_waveform[0], time_ax_waveform[-1]\n",
    "sampling_rate = metadata_uw['sampling_rate']\n",
    "number_of_samples = metadata_uw['number_of_samples']\n",
    "acquisition_frequency =  metadata_uw['acquition_frequency']\n",
    "amp_scale = 100"
   ]
  },
  {
   "cell_type": "code",
   "execution_count": 148,
   "metadata": {},
   "outputs": [],
   "source": [
    "time_plot = mech_data.time_s[sync_peaks[16]:sync_peaks[17]]\n",
    "time_plot = time_plot - time_plot[sync_peaks[16]]\n",
    "friction_plot = mech_data.friction_na[sync_peaks[16]:sync_peaks[17]]\n",
    "displacement_plot = mech_data.lp_disp_mm[sync_peaks[16]:sync_peaks[17]]\n",
    "\n",
    "time_figure= mech_data.time_s[220793:223192]\n",
    "#time_figure = time_figure - time_figure[220793]\n",
    "friction_figure = mech_data.friction_na[220793:223192]\n",
    "# Calcola il range attuale di friction_plot\n",
    "min_friction = np.min(friction_plot)\n",
    "max_friction = np.max(friction_plot)\n",
    "\n",
    "# Definisce il nuovo intervallo basato su 'Wf_time'\n",
    "min_wf_time = 29\n",
    "max_wf_time = 31\n",
    "\n",
    "# Scala friction_plot per adattarlo all'intervallo di Wf_time\n",
    "friction_scaled = ((friction_figure - min_friction) / (max_friction - min_friction)) * (max_wf_time - min_wf_time) + min_wf_time"
   ]
  },
  {
   "cell_type": "code",
   "execution_count": 152,
   "metadata": {},
   "outputs": [],
   "source": [
    "%matplotlib qt\n",
    "\n",
    "fig,ax1 = plt.subplots(ncols = 1,figsize=(15,8))\n",
    "ax1 = plt.subplot()\n",
    "ax1.set_title(\"Waveforms Amplitude map VS Friction data\" , fontsize = 16)\n",
    "cmap = plt.get_cmap('seismic')\n",
    "\n",
    "#ax1.plot(time_plot, friction_scaled)\n",
    "ax1.plot(time_figure, friction_scaled, linewidth = 1.5, c = 'k')\n",
    "im = ax1.imshow(data_uw[7235:9634].T, aspect='auto',origin='lower',interpolation='none',\n",
    "                cmap = cmap, vmin = -amp_scale, vmax = amp_scale,\n",
    "                extent = [0,23.98, 0 , number_of_samples*sampling_rate])\n",
    "\n",
    "cbar= fig.colorbar(im,pad=0.04)\n",
    "cbar.set_label(\"Relative Amplitude [a.u.]\", fontsize = 14)\n",
    "ax1.set_xlabel('Time [s]', fontsize = 14)\n",
    "ax1.set_ylabel('Wf_time [$\\mu s$] ', fontsize = 14)\n",
    "ax1.set_xscale\n",
    "ax1.set_ylim(28,32)\n",
    "ax1.tick_params(axis='x', labelsize=12)  \n",
    "ax1.tick_params(axis='y', labelsize=12)\n",
    "cbar.ax.tick_params(labelsize=12)\n",
    "#fig.tight_layout()\n",
    "\n",
    "#plt.savefig('amplitudemap_on_vstep_1.pdf', dpi = 300)\n"
   ]
  },
  {
   "cell_type": "code",
   "execution_count": 123,
   "metadata": {},
   "outputs": [
    {
     "data": {
      "text/plain": [
       "[<matplotlib.lines.Line2D at 0x18177010a10>]"
      ]
     },
     "execution_count": 123,
     "metadata": {},
     "output_type": "execute_result"
    }
   ],
   "source": [
    "plt.plot(mech_data.time_s[220793:223192],mech_data.friction_na[220793:223192])"
   ]
  },
  {
   "cell_type": "code",
   "execution_count": 150,
   "metadata": {},
   "outputs": [
    {
     "data": {
      "text/plain": [
       "220793    11483.655\n",
       "220794    11483.665\n",
       "220795    11483.675\n",
       "220796    11483.685\n",
       "220797    11483.695\n",
       "            ...    \n",
       "223187    11507.595\n",
       "223188    11507.605\n",
       "223189    11507.615\n",
       "223190    11507.625\n",
       "223191    11507.635\n",
       "Name: time_s, Length: 2399, dtype: float64"
      ]
     },
     "execution_count": 150,
     "metadata": {},
     "output_type": "execute_result"
    }
   ],
   "source": [
    "time_figure"
   ]
  },
  {
   "cell_type": "code",
   "execution_count": null,
   "metadata": {},
   "outputs": [],
   "source": []
  }
 ],
 "metadata": {
  "kernelspec": {
   "display_name": "friction",
   "language": "python",
   "name": "python3"
  },
  "language_info": {
   "codemirror_mode": {
    "name": "ipython",
    "version": 3
   },
   "file_extension": ".py",
   "mimetype": "text/x-python",
   "name": "python",
   "nbconvert_exporter": "python",
   "pygments_lexer": "ipython3",
   "version": "3.11.3"
  }
 },
 "nbformat": 4,
 "nbformat_minor": 2
}
