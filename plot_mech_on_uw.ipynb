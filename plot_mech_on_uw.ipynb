{
 "cells": [
  {
   "cell_type": "code",
   "execution_count": 1,
   "metadata": {},
   "outputs": [],
   "source": [
    "import numpy as np\n",
    "import matplotlib.pyplot as plt\n",
    "import pandas as pd\n",
    "from LAB_UW_functions import *\n",
    "from scipy.signal import find_peaks\n",
    "import glob"
   ]
  },
  {
   "cell_type": "markdown",
   "metadata": {},
   "source": [
    "### This code allows you to plot a specific part of the experiment (mechanical data) over the waveforms recorded in that interval through a amplitude map ###"
   ]
  },
  {
   "cell_type": "code",
   "execution_count": 2,
   "metadata": {},
   "outputs": [],
   "source": [
    "def find_mechanical_data(file_path_list, pattern):\n",
    "    \"\"\"\n",
    "    Trova un file specifico all'interno di una lista di percorsi dei file utilizzando un pattern.\n",
    "    \n",
    "    Args:\n",
    "        file_path_list (list): Lista di percorsi dei file in cui cercare il file.\n",
    "        pattern (str): Pattern per il nome del file da cercare.\n",
    "    \n",
    "    Returns:\n",
    "        str: Percorso completo del file trovato, o None se non viene trovato nessun file corrispondente.\n",
    "    \"\"\"\n",
    "    for file_path in file_path_list:\n",
    "        if glob.fnmatch.fnmatch(file_path, pattern):\n",
    "            print(\"MECHANICAL DATA CHOOSE:\", file_path)\n",
    "            return file_path\n",
    "    return None  # Nessun file trovato nella lista\n",
    "    \n",
    "\n",
    "def find_sync_values(mech_data_path):\n",
    "    \"\"\"\n",
    "    Trova i valori di picco sincronizzazione all'interno di un file di dati meccanici.\n",
    "\n",
    "    Questa funzione legge un file CSV contenente dati meccanici, estrae la colonna\n",
    "    relativa alla sincronizzazione e individua i picchi di sincronizzazione in base\n",
    "    ai parametri specificati.\n",
    "\n",
    "    Args:\n",
    "        mech_data_path (str): Percorso del file CSV contenente i dati meccanici.\n",
    "\n",
    "    Returns:\n",
    "        numpy.ndarray: Un array NumPy contenente gli indici dei picchi di sincronizzazione\n",
    "                       trovati nei dati meccanici.\n",
    "    \"\"\"\n",
    "    mech_data = pd.read_csv(mech_data_path, sep='\\t', skiprows=[1])\n",
    "    sync_data = mech_data.sync\n",
    "    \n",
    "    # Trova i picchi di sincronizzazione nei dati sincronizzazione\n",
    "    sync_peaks, _ = find_peaks(sync_data, prominence=0.4, height=0.4)\n",
    "    print(sync_peaks)\n",
    "    return mech_data, sync_data, sync_peaks\n",
    "\n",
    "def plot_sync_peaks(sync_data, sync_peaks, experiment_name):\n",
    "    \"\"\"\n",
    "    Visualizza i picchi di sincronizzazione su un grafico dei dati di sincronizzazione.\n",
    "\n",
    "    Questa funzione prende i dati di sincronizzazione e gli indici dei picchi di sincronizzazione,\n",
    "    quindi crea un grafico per visualizzare sia i dati di sincronizzazione che i picchi di sincronizzazione\n",
    "    evidenziati in rosso.\n",
    "\n",
    "    Args:\n",
    "        sync_data (numpy.ndarray): Array NumPy contenente i dati di sincronizzazione.\n",
    "        sync_peaks (numpy.ndarray): Array NumPy contenente gli indici dei picchi di sincronizzazione.\n",
    "        experiment_name (str): Nome dell'esperimento o della prova da visualizzare nel titolo del grafico.\n",
    "    \"\"\"\n",
    "    %matplotlib inline\n",
    "    \n",
    "    plt.figure(figsize=(10, 4))\n",
    "    plt.title(f'Sync Peaks {experiment_name}')\n",
    "    \n",
    "\n",
    "    # Plot dei picchi di sincronizzazione evidenziati in rosso\n",
    "    plt.scatter(np.arange(0, len(sync_data))[sync_peaks], sync_data[sync_peaks], c='r', s = 10, zorder = 2, alpha = 0.8)\n",
    "    \n",
    "    # Plot dei dati di sincronizzazione\n",
    "    plt.plot(sync_data, zorder = 1, c = 'k', linewidth = 0.8)\n",
    "    \n",
    "    plt.ylabel('Arduino voltage [V]', fontsize=12)\n",
    "    plt.xlabel('records #', fontsize=12)\n",
    "    \n",
    "    plt.show()"
   ]
  },
  {
   "cell_type": "markdown",
   "metadata": {},
   "source": [
    "### Set parameters ###"
   ]
  },
  {
   "cell_type": "code",
   "execution_count": 3,
   "metadata": {},
   "outputs": [
    {
     "name": "stdout",
     "output_type": "stream",
     "text": [
      "MECHANICAL DATA CHOOSE: c:\\Users\\miche\\Documents\\Università\\PhD\\ACTIVE_SOURCE\\experiments_Brava_2\\s0112\\mechanical_data\\s0112sa05ato_204060_data_rp\n"
     ]
    },
    {
     "data": {
      "text/plain": [
       "'c:\\\\Users\\\\miche\\\\Documents\\\\Università\\\\PhD\\\\ACTIVE_SOURCE\\\\experiments_Brava_2\\\\s0112\\\\data_tsv_files\\\\007_step_3_30_3_40MPa.bscan.tsv'"
      ]
     },
     "execution_count": 3,
     "metadata": {},
     "output_type": "execute_result"
    }
   ],
   "source": [
    "machine_name = 'Brava_2'   #machine name\n",
    "experiment_name = 's0112'   #experiment name\n",
    "data_type_mech = 'mechanical_data'  #choose data type\n",
    "sync_file_pattern = '*s*_data_rp' #pattern to find specific experiment in mechanical data\n",
    "uw_file_number = 5     #choose number of eaveform file\n",
    "\n",
    "data_type_uw = 'data_tsv_files'   #choose data type\n",
    "remove_initial_samples = 50    #remove initial samples of the wf to cut thje initial noise\n",
    "\n",
    "#MAKE MECHANICAL AND UW PATH LIST\n",
    "infile_path_list_mech = make_infile_path_list(machine_name, experiment_name, data_type=data_type_mech)   #make a list of the files inside mechanical data\n",
    "infile_path_list_uw = sorted(make_infile_path_list(machine_name,experiment_name, data_type=data_type_uw))  #make a list of the wf files\n",
    "\n",
    "#LOAD MECHANICAL DATA\n",
    "mech_data_path= find_mechanical_data(infile_path_list_mech, sync_file_pattern)   #find the path of the experiment selected\n",
    "\n",
    "\n",
    "uw_path = infile_path_list_uw[uw_file_number]\n",
    "uw_path"
   ]
  },
  {
   "cell_type": "markdown",
   "metadata": {},
   "source": [
    "### Import mechanical and acoustic data ###"
   ]
  },
  {
   "cell_type": "code",
   "execution_count": 4,
   "metadata": {},
   "outputs": [
    {
     "name": "stdout",
     "output_type": "stream",
     "text": [
      "[  6148   7848   9297  22904  27503  40128  51238 114608 122192 123707\n",
      " 125435 139123 143745 156318 168122 227608 232676 234123 235982 237682\n",
      " 239423 253077 257696 270171 290158 362818]\n"
     ]
    },
    {
     "data": {
      "image/png": "[encoded data removed]",
      "text/plain": [
       "<Figure size 1000x400 with 1 Axes>"
      ]
     },
     "metadata": {},
     "output_type": "display_data"
    }
   ],
   "source": [
    "mech_data, sync_data, sync_peaks = find_sync_values(mech_data_path) #import mechanical data and check peak values\n",
    "plot_sync_peaks(sync_data, sync_peaks, experiment_name)  #plot sync peaks, if you have some missing peaks fix the prominence and height in the function plot_sync_peaks"
   ]
  },
  {
   "cell_type": "markdown",
   "metadata": {},
   "source": [
    "### Import and extract metadata from waveforms files ###"
   ]
  },
  {
   "cell_type": "code",
   "execution_count": 5,
   "metadata": {},
   "outputs": [],
   "source": [
    "data_uw, metadata_uw = make_UW_data(uw_path)  #import acoustic data\n",
    "time_ax_waveform = metadata_uw['time_ax_waveform']\n",
    "start_time, end_time = time_ax_waveform[0], time_ax_waveform[-1]\n",
    "sampling_rate = metadata_uw['sampling_rate']\n",
    "number_of_samples = metadata_uw['number_of_samples']\n",
    "acquisition_frequency =  metadata_uw['acquition_frequency']\n",
    "amp_scale = 100"
   ]
  },
  {
   "cell_type": "markdown",
   "metadata": {},
   "source": [
    "### Initialize parameters, calculate maximum and minimum travel time for the amplitude map ###"
   ]
  },
  {
   "cell_type": "code",
   "execution_count": 6,
   "metadata": {},
   "outputs": [],
   "source": [
    "side_block_1 = 2               # [cm] width of first side block\n",
    "side_block_2 =2               # [cm] width of first gouge layer\n",
    "central_block = 4.8\n",
    "pzt_width = 0.1                                 # [cm] its important!\n",
    "pla_width = 0.1                                 # [cm] plate supporting the pzt\n",
    "csteel = 3250 * (1e2/1e6)       # [cm/mus]   steel s-velocity\n",
    "cpzt = 2000* (1e2/1e6)         # [cm/mus] s-velocity in piezo ceramic, beetween 1600 (bad coupling) and 2500 (good one). It matters!!!\n",
    "                                # according to https://www.intechopen.com/chapters/40134   \n",
    "cpla =  0.2*0.1392              # [cm/mus]   plate supporting the pzt\n",
    "\n",
    "x_trasmitter = 1    # [cm] position of the trasmitter from the beginning of the sample: the distance from the beginning of the block is fixed.\n",
    "\n",
    "cmin = 1000 * (1e2/1e6)        \n",
    "cmax = 2000 * (1e2/1e6)\n",
    "\n",
    "thickness_gouge_1 = mech_data.rgt_lt_mm[sync_peaks[uw_file_number*2]]/10\n",
    "\n",
    "max_wf_time = 2*(side_block_1-x_trasmitter)/csteel + thickness_gouge_1/cmin+ central_block/csteel + thickness_gouge_1/cmin \n",
    "min_wf_time = 2*(side_block_1-x_trasmitter)/csteel + thickness_gouge_1/cmax+ central_block/csteel + thickness_gouge_1/cmax\n",
    "\n",
    "time_plot = mech_data.time_s[sync_peaks[uw_file_number*2]:sync_peaks[uw_file_number*2+1]]  #index time between sync peaks\n",
    "time_plot = time_plot - time_plot[sync_peaks[uw_file_number*2]]\n",
    "friction_plot = mech_data.friction_na[sync_peaks[uw_file_number*2]:sync_peaks[uw_file_number*2+1]]  #index friction between sync peaks\n",
    "displacement_plot = mech_data.lp_disp_mm[sync_peaks[uw_file_number*2]:sync_peaks[uw_file_number*2+1]]  #index displacement between sync peaks\n",
    "\n",
    "#calculate minimum and maximum friction in the interval to normalize it and obtain a correct visualization on the amplitude map\n",
    "min_friction = np.min(friction_plot)  \n",
    "max_friction = np.max(friction_plot)\n",
    "\n",
    "# Normalize friction to wf time values to obtain a good visualization of the data over the amp map\n",
    "friction_scaled = ((friction_plot - min_friction) / (max_friction - min_friction)) * (max_wf_time - min_wf_time) + min_wf_time"
   ]
  },
  {
   "cell_type": "markdown",
   "metadata": {},
   "source": [
    "## Plot mechanical data on the amplitude map ##"
   ]
  },
  {
   "cell_type": "code",
   "execution_count": 21,
   "metadata": {},
   "outputs": [],
   "source": [
    "%matplotlib qt\n",
    "\n",
    "fig,ax1 = plt.subplots(ncols = 1,figsize=(19,8))\n",
    "ax1 = plt.subplot()\n",
    "ax1.set_title(\"Waveforms Amplitude map VS Friction data\" , fontsize = 18)\n",
    "cmap = plt.get_cmap('seismic')\n",
    "\n",
    "ax1.plot(time_plot, friction_scaled, linewidth = 1.5, c = 'k')\n",
    "im = ax1.imshow(data_uw.T, aspect='auto',origin='lower',interpolation='none',\n",
    "                cmap = cmap, vmin = -amp_scale, vmax = amp_scale,\n",
    "                extent = [0,time_plot.iloc[-1], 0 , number_of_samples*sampling_rate])\n",
    "\n",
    "cbar= fig.colorbar(im,pad=0.04)\n",
    "cbar.set_label(\"Relative Amplitude [a.u.]\", fontsize = 16)\n",
    "ax1.set_xlabel('Time [s]', fontsize = 16)\n",
    "ax1.set_ylabel('Wf_time [$\\mu s$] ', fontsize = 16)\n",
    "ax1.set_xscale\n",
    "ax1.set_ylim(min_wf_time-3, max_wf_time+3)\n",
    "ax1.tick_params(axis='x', labelsize=14)  \n",
    "ax1.tick_params(axis='y', labelsize=14)\n",
    "cbar.ax.tick_params(labelsize=14)\n",
    "#fig.tight_layout()\n",
    "\n",
    "#plt.savefig('amplitudemap_on_vstep_mont.pdf', dpi = 300)"
   ]
  },
  {
   "cell_type": "code",
   "execution_count": null,
   "metadata": {},
   "outputs": [],
   "source": []
  }
 ],
 "metadata": {
  "kernelspec": {
   "display_name": "friction",
   "language": "python",
   "name": "python3"
  },
  "language_info": {
   "codemirror_mode": {
    "name": "ipython",
    "version": 3
   },
   "file_extension": ".py",
   "mimetype": "text/x-python",
   "name": "python",
   "nbconvert_exporter": "python",
   "pygments_lexer": "ipython3",
   "version": "3.11.3"
  }
 },
 "nbformat": 4,
 "nbformat_minor": 2
}
